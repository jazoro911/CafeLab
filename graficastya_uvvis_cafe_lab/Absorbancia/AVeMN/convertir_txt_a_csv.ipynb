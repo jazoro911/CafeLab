{
 "cells": [
  {
   "cell_type": "markdown",
   "metadata": {},
   "source": [
    "# Conversión de AVeMN7_5g.txt a CSV\n",
    "Este notebook convierte el archivo original de absorbancia de Veracruz (molienda normal, 7.5g) de `.txt` a `.csv` sin pérdida de información.\n"
   ]
  },
  {
   "cell_type": "code",
   "execution_count": 1,
   "metadata": {},
   "outputs": [],
   "source": [
    "import pandas as pd\n"
   ]
  },
  {
   "cell_type": "code",
   "execution_count": 3,
   "metadata": {},
   "outputs": [],
   "source": [
    "ruta_txt = 'AVeMN7_5g.txt'\n",
    "ruta_csv = 'AVeMN7_5g.csv'\n"
   ]
  },
  {
   "cell_type": "code",
   "execution_count": 4,
   "metadata": {},
   "outputs": [
    {
     "name": "stdout",
     "output_type": "stream",
     "text": [
      "✅ Conversión completa. CSV guardado en: AVeMN7_5g.csv\n"
     ]
    }
   ],
   "source": [
    "try:\n",
    "    df = pd.read_csv(ruta_txt, sep='\\t', engine='python')  # sin skiprows\n",
    "    df.to_csv(ruta_csv, index=False)\n",
    "    print(f\"✅ Conversión completa. CSV guardado en: {ruta_csv}\")\n",
    "except Exception as e:\n",
    "    print(f\"❌ Error durante la conversión: {e}\")\n"
   ]
  },
  {
   "cell_type": "code",
   "execution_count": null,
   "metadata": {},
   "outputs": [],
   "source": []
  }
 ],
 "metadata": {
  "kernelspec": {
   "display_name": "Python 3",
   "language": "python",
   "name": "python3"
  },
  "language_info": {
   "codemirror_mode": {
    "name": "ipython",
    "version": 3
   },
   "file_extension": ".py",
   "mimetype": "text/x-python",
   "name": "python",
   "nbconvert_exporter": "python",
   "pygments_lexer": "ipython3",
   "version": "3.13.3"
  }
 },
 "nbformat": 4,
 "nbformat_minor": 2
}
