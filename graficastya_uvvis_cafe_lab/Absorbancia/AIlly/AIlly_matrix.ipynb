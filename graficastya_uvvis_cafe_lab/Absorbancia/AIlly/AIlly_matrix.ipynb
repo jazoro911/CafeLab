{
 "cells": [
  {
   "cell_type": "markdown",
   "metadata": {},
   "source": [
    "## limpiar datos de absorbancia – AIlly\n",
    "\n",
    "En esta celda limpiamos el archivo original en formato `.txt` con datos de absorbancia de café Illy - AIlly a una sola matriz `.csv` con datos limpios y lista para analizar.\n",
    "\n",
    "\n",
    "  - Las filas son longitudes de onda (`nm`)\n",
    "  - Las dos columnas corresponden a nm y absorbancia de la muestra, respectivamente.\n",
    "\n",
    "El resultado se guarda en un archivo llamado `AIlly_matrix.csv`"
   ]
  },
  {
   "cell_type": "code",
   "execution_count": 1,
   "metadata": {},
   "outputs": [
    {
     "name": "stdout",
     "output_type": "stream",
     "text": [
      "Archivo 'AIlly_matrix.csv' creado con éxito\n"
     ]
    }
   ],
   "source": [
    "import pandas as pd\n",
    "import os\n",
    "import re\n",
    "\n",
    "# Detectamos los archivos .txt válidos (los que tienen datos de absorbancia)\n",
    "archivos_txt = [f for f in os.listdir() if f.endswith('.txt') and f != 'AOxMM.csv']\n",
    "\n",
    "# Función para extraer gramaje del nombre del archivo\n",
    "def extraer_gramos(nombre):\n",
    "    match = re.search(r'(\\d+_?\\d*)g', nombre)\n",
    "    if match:\n",
    "        return float(match.group(1).replace('_', '.'))\n",
    "    return float('inf')\n",
    "\n",
    "# Ordenamos los archivos por gramaje (más limpio para visualizar después)\n",
    "archivos_ordenados = sorted(archivos_txt, key=extraer_gramos)\n",
    "\n",
    "# Leemos y procesamos los archivos\n",
    "dataframes = []\n",
    "for archivo in archivos_ordenados:\n",
    "    df = pd.read_csv(archivo, sep=None, engine='python')  # autodetecta separador\n",
    "    df = df[pd.to_numeric(df.iloc[:, 0], errors='coerce').notna()]\n",
    "    \n",
    "    nombre_columna = os.path.splitext(archivo)[0]\n",
    "    df.columns = ['nm', nombre_columna]\n",
    "    df[nombre_columna] = pd.to_numeric(df[nombre_columna], errors='coerce')\n",
    "    dataframes.append(df)\n",
    "\n",
    "# Unimos los datos por la columna de longitud de onda\n",
    "df_consolidado = dataframes[0]\n",
    "for df in dataframes[1:]:\n",
    "    df_consolidado = pd.merge(df_consolidado, df, on='nm', how='outer')\n",
    "\n",
    "# Guardamos el archivo final\n",
    "df_consolidado.to_csv('AIlly_matrix.csv', index=False)\n",
    "\n",
    "print(\"Archivo 'AIlly_matrix.csv' creado con éxito\")"
   ]
  },
  {
   "cell_type": "markdown",
   "metadata": {},
   "source": [
    "## verificamos la matriz de datos\n",
    "\n",
    "Usamos dos funciones de la librería `pandas`: \n",
    "\n",
    "- `head()` para ver las primeras filas y verificar que las columnas se hayan unido bien\n",
    "- `info()` para saber cuántos datos tiene cada muestra y cuántos valores faltantes hay (`NaN`)"
   ]
  },
  {
   "cell_type": "code",
   "execution_count": 2,
   "metadata": {},
   "outputs": [],
   "source": [
    "import pandas as pd\n",
    "datos=pd.read_csv(\"AIlly_matrix.csv\")"
   ]
  },
  {
   "cell_type": "code",
   "execution_count": 3,
   "metadata": {},
   "outputs": [
    {
     "data": {
      "text/html": [
       "<div>\n",
       "<style scoped>\n",
       "    .dataframe tbody tr th:only-of-type {\n",
       "        vertical-align: middle;\n",
       "    }\n",
       "\n",
       "    .dataframe tbody tr th {\n",
       "        vertical-align: top;\n",
       "    }\n",
       "\n",
       "    .dataframe thead th {\n",
       "        text-align: right;\n",
       "    }\n",
       "</style>\n",
       "<table border=\"1\" class=\"dataframe\">\n",
       "  <thead>\n",
       "    <tr style=\"text-align: right;\">\n",
       "      <th></th>\n",
       "      <th>nm</th>\n",
       "      <th>AIlly</th>\n",
       "    </tr>\n",
       "  </thead>\n",
       "  <tbody>\n",
       "    <tr>\n",
       "      <th>0</th>\n",
       "      <td>200.0</td>\n",
       "      <td>NaN</td>\n",
       "    </tr>\n",
       "    <tr>\n",
       "      <th>1</th>\n",
       "      <td>200.5</td>\n",
       "      <td>NaN</td>\n",
       "    </tr>\n",
       "    <tr>\n",
       "      <th>2</th>\n",
       "      <td>201.0</td>\n",
       "      <td>NaN</td>\n",
       "    </tr>\n",
       "    <tr>\n",
       "      <th>3</th>\n",
       "      <td>201.5</td>\n",
       "      <td>NaN</td>\n",
       "    </tr>\n",
       "    <tr>\n",
       "      <th>4</th>\n",
       "      <td>202.0</td>\n",
       "      <td>NaN</td>\n",
       "    </tr>\n",
       "  </tbody>\n",
       "</table>\n",
       "</div>"
      ],
      "text/plain": [
       "      nm  AIlly\n",
       "0  200.0    NaN\n",
       "1  200.5    NaN\n",
       "2  201.0    NaN\n",
       "3  201.5    NaN\n",
       "4  202.0    NaN"
      ]
     },
     "execution_count": 3,
     "metadata": {},
     "output_type": "execute_result"
    }
   ],
   "source": [
    "datos.head()"
   ]
  },
  {
   "cell_type": "markdown",
   "metadata": {},
   "source": [
    "Vemos que:\n",
    "\n",
    "\n",
    "- Donde no hay medición, aparece un `NaN`"
   ]
  },
  {
   "cell_type": "code",
   "execution_count": 4,
   "metadata": {},
   "outputs": [
    {
     "name": "stdout",
     "output_type": "stream",
     "text": [
      "<class 'pandas.core.frame.DataFrame'>\n",
      "RangeIndex: 421 entries, 0 to 420\n",
      "Data columns (total 2 columns):\n",
      " #   Column  Non-Null Count  Dtype  \n",
      "---  ------  --------------  -----  \n",
      " 0   nm      421 non-null    float64\n",
      " 1   AIlly   379 non-null    float64\n",
      "dtypes: float64(2)\n",
      "memory usage: 6.7 KB\n"
     ]
    }
   ],
   "source": [
    "datos.info()"
   ]
  },
  {
   "cell_type": "markdown",
   "metadata": {},
   "source": [
    "- Hay **421 longitudes de onda (filas)**"
   ]
  },
  {
   "cell_type": "markdown",
   "metadata": {},
   "source": [
    "## Graficamos la curva de absorbancia ordenadas por intensidad\n",
    "\n",
    "Ya con la matriz de datos limpia (valores NaN donde hubo saturación), graficamos la curva de absorbancia de la muestra de café Illy\n",
    "\n",
    "Pasos:\n",
    "- Limpiamos valores fuera de rango (absorbancias > 10)\n",
    "- Calculamos el valor máximo de absorbancia para cada muestra\n",
    "- Reordenamos las columnas según ese valor\n",
    "- Y finalmente, graficamos todas las curvas con `matplotlib`"
   ]
  },
  {
   "cell_type": "code",
   "execution_count": 6,
   "metadata": {},
   "outputs": [
    {
     "data": {
      "image/png": "[encoded data removed]",
      "text/plain": [
       "<Figure size 1200x600 with 1 Axes>"
      ]
     },
     "metadata": {},
     "output_type": "display_data"
    }
   ],
   "source": [
    "import pandas as pd\n",
    "import matplotlib.pyplot as plt\n",
    "import numpy as np\n",
    "\n",
    "# Cargamos el archivo con las mediciones de absorbancia unidas en una matriz de datos\n",
    "df = pd.read_csv(\"AIlly_matrix.csv\")\n",
    "\n",
    "# Limpiamos datos fuera de rango (>10)\n",
    "for columna in df.columns[1:]:\n",
    "    df[columna] = pd.to_numeric(df[columna], errors='coerce')\n",
    "    df.loc[df[columna] > 10, columna] = None\n",
    "\n",
    "# Obtenemos los valores máximos de cada curva\n",
    "maximos = {\n",
    "    columna: df[columna].max(skipna=True)\n",
    "    for columna in df.columns[1:]\n",
    "}\n",
    "\n",
    "# Ordenamos de mayor a menor para que la leyenda coincida con las curvas\n",
    "columnas_ordenadas = sorted(maximos, key=maximos.get, reverse=True)\n",
    "\n",
    "# Creamos figura\n",
    "plt.figure(figsize=(12, 6))\n",
    "\n",
    "# Dibujamos las curvas ya ordenadas\n",
    "for columna in columnas_ordenadas:\n",
    "    plt.plot(df['nm'], df[columna], label=columna)\n",
    "\n",
    "# Etiquetas y estilo\n",
    "plt.xlabel('Longitud de onda (nm)', fontsize=12)\n",
    "plt.ylabel('Absorbancia', fontsize=12)\n",
    "plt.title('Curva de absorbancia - Café Illy', fontsize=14)\n",
    "plt.legend(title='Muestra (gramos)', fontsize=10)\n",
    "plt.xticks(df['nm'][::50], rotation=45)\n",
    "plt.grid(True, linestyle='--', alpha=0.6)\n",
    "plt.tight_layout()\n",
    "plt.show()"
   ]
  },
  {
   "cell_type": "markdown",
   "metadata": {},
   "source": [
    "## Graficamos la curva suavizada y ordenada por intensidad\n",
    "\n",
    "A partir de la matriz de datos y limpia (NaN), ahora generamos una gráfica más estética y legible aplicando suavizado:\n",
    "\n",
    "- Usamos `savgol_filter` (filtro de savitzky-golay) para suavizar la curva\n",
    "- Calculamos el valor máximo de la curva suavizada\n",
    "- Finalmente, graficamos con `seaborn` y `matplotlib`, usando una paleta amigable y una cuadrícula `grid(True)` para facilitar la lectura"
   ]
  },
  {
   "cell_type": "code",
   "execution_count": 7,
   "metadata": {},
   "outputs": [
    {
     "data": {
      "image/png": "[encoded data removed]",
      "text/plain": [
       "<Figure size 1200x600 with 1 Axes>"
      ]
     },
     "metadata": {},
     "output_type": "display_data"
    }
   ],
   "source": [
    "import pandas as pd\n",
    "import matplotlib.pyplot as plt\n",
    "from scipy.signal import savgol_filter\n",
    "import seaborn as sb\n",
    "import numpy as np\n",
    "\n",
    "# Cargamos la matriz de datos con las mediciones de absorbancia unidas \n",
    "df = pd.read_csv(\"AIlly_matrix.csv\")\n",
    "\n",
    "# Convertimos valores y descartamos saturación\n",
    "for columna in df.columns[1:]:\n",
    "    df[columna] = pd.to_numeric(df[columna], errors='coerce')\n",
    "    df.loc[df[columna] > 10, columna] = None\n",
    "\n",
    "# Obtenemos máximos de las curvas suavizadas\n",
    "max_absorbancias = {}\n",
    "\n",
    "for columna in df.columns[1:]:\n",
    "    datos_validos = df[columna].dropna()\n",
    "    if len(datos_validos) >= 21:\n",
    "        y_suave = savgol_filter(datos_validos, window_length=21, polyorder=3)\n",
    "        max_absorbancias[columna] = np.max(y_suave)\n",
    "    else:\n",
    "        max_absorbancias[columna] = -np.inf  # Muy bajo para que quede al final\n",
    "\n",
    "# Ordenamos columnas por su valor máximo suavizado\n",
    "columnas_ordenadas = sorted(max_absorbancias, key=max_absorbancias.get, reverse=True)\n",
    "\n",
    "# Paleta de color amigable\n",
    "colores = sb.color_palette(\"husl\", len(columnas_ordenadas))\n",
    "\n",
    "# Figura\n",
    "plt.figure(figsize=(12, 6))\n",
    "\n",
    "# Graficamos suavizado por muestra, en orden \n",
    "for i, columna in enumerate(columnas_ordenadas):\n",
    "    datos_validos = df[columna].dropna()\n",
    "    if len(datos_validos) >= 21:\n",
    "        y_suave = savgol_filter(datos_validos, window_length=21, polyorder=3)\n",
    "        x_vals = df['nm'][datos_validos.index]\n",
    "        sb.scatterplot(x=x_vals, y=y_suave, s=15, label=columna, color=colores[i], linewidth=0)\n",
    "    else:\n",
    "        plt.plot(df['nm'], df[columna], label=columna, color=colores[i], linestyle='--')\n",
    "\n",
    "# Estética\n",
    "plt.xlabel('Longitud de onda (nm)', fontsize=12)\n",
    "plt.ylabel('Absorbancia', fontsize=12)\n",
    "plt.title('Curva de absorbancia - Café Illy', fontsize=14)\n",
    "plt.legend(title='Muestra (gramos)', fontsize=9)\n",
    "plt.xticks(df['nm'][::50], rotation=45)\n",
    "plt.grid(True, linestyle='--', alpha=0.6)\n",
    "plt.tight_layout()\n",
    "plt.show()"
   ]
  },
  {
   "cell_type": "markdown",
   "metadata": {},
   "source": [
    "## Suavizado de la curva con gradiente de color\n",
    "\n",
    "Usamos ahora en este caso un gradiente de color que refleja la intensidad\n",
    "\n",
    "- Quitamos valores saturados (>10)\n",
    "- Suavizamos la curva (si hay datos suficientes)\n",
    "- Ordenamos por intensidad máxima\n",
    "- Dibujamos: si la curva está completa, va con gradiente; si no, con línea punteada"
   ]
  },
  {
   "cell_type": "code",
   "execution_count": 8,
   "metadata": {},
   "outputs": [
    {
     "data": {
      "image/png": "[encoded data removed]",
      "text/plain": [
       "<Figure size 1200x600 with 1 Axes>"
      ]
     },
     "metadata": {},
     "output_type": "display_data"
    }
   ],
   "source": [
    "import pandas as pd\n",
    "import matplotlib.pyplot as plt\n",
    "from scipy.signal import savgol_filter\n",
    "from matplotlib.collections import LineCollection\n",
    "import matplotlib.colors as mcolors\n",
    "import seaborn as sb\n",
    "import numpy as np\n",
    "\n",
    "# Cargamos la matriz de datos con las mediciones de absorbancia unidas \n",
    "df = pd.read_csv(\"AIlly_matrix.csv\")\n",
    "\n",
    "# Procesamos columnas de absorbancia (excepto 'nm')\n",
    "for columna in df.columns[1:]:\n",
    "    df[columna] = pd.to_numeric(df[columna], errors='coerce')\n",
    "    df.loc[df[columna] > 10, columna] = None\n",
    "\n",
    "# Diccionario para guardar valores máximos de cada curva suavizada\n",
    "max_absorbancias = {}\n",
    "\n",
    "# Calculamos máximos de cada columna suavizable\n",
    "for columna in df.columns[1:]:\n",
    "    datos_validos = df[columna].dropna()\n",
    "    if len(datos_validos) >= 21:\n",
    "        y_suave = savgol_filter(datos_validos, window_length=21, polyorder=3)\n",
    "        max_absorbancias[columna] = np.max(y_suave)\n",
    "    else:\n",
    "        max_absorbancias[columna] = np.nan  # O podemos usar max original\n",
    "\n",
    "# Ordenamos columnas por valor máximo descendente\n",
    "columnas_ordenadas = sorted(max_absorbancias, key=max_absorbancias.get, reverse=True)\n",
    "\n",
    "# Figura principal\n",
    "plt.figure(figsize=(12, 6))\n",
    "plt.title(\"Curva de absorbancia - Café Illy\", fontsize=14)\n",
    "\n",
    "# Paleta para los colores\n",
    "colores_base = sb.color_palette(\"husl\", len(columnas_ordenadas))\n",
    "\n",
    "# Plot\n",
    "for i, columna in enumerate(columnas_ordenadas):\n",
    "    datos_validos = df[['nm', columna]].dropna()\n",
    "\n",
    "    if len(datos_validos) >= 21:\n",
    "        y_suave = savgol_filter(datos_validos[columna], window_length=21, polyorder=3)\n",
    "        x = datos_validos['nm'].values\n",
    "        y = y_suave\n",
    "\n",
    "        puntos = np.array([x, y]).T.reshape(-1, 1, 2)\n",
    "        segmentos = np.concatenate([puntos[:-1], puntos[1:]], axis=1)\n",
    "\n",
    "        norm = mcolors.Normalize(vmin=np.min(y), vmax=np.max(y))\n",
    "        lc = LineCollection(segmentos, cmap='coolwarm', norm=norm)\n",
    "        lc.set_array(y)\n",
    "        lc.set_linewidth(2.0)\n",
    "        plt.gca().add_collection(lc)\n",
    "\n",
    "        plt.plot([], [], color=colores_base[i], label=columna)\n",
    "    else:\n",
    "        plt.plot(df['nm'], df[columna], linestyle='--', color=colores_base[i], label=columna)\n",
    "\n",
    "# Ejes y estética\n",
    "plt.xlabel(\"Longitud de onda (nm)\", fontsize=12)\n",
    "plt.ylabel(\"Absorbancia\", fontsize=12)\n",
    "plt.legend(title=\"Muestra (gramos)\", fontsize=9)\n",
    "plt.grid(True, linestyle=\"--\", alpha=0.6)\n",
    "plt.xticks(df['nm'][::50], rotation=45)\n",
    "plt.tight_layout()\n",
    "plt.show()"
   ]
  },
  {
   "cell_type": "code",
   "execution_count": 8,
   "metadata": {},
   "outputs": [
    {
     "name": "stdout",
     "output_type": "stream",
     "text": [
      "✅ Reporte generado: reporte_absorbancia.html\n"
     ]
    },
    {
     "data": {
      "application/vnd.plotly.v1+json": {
       "config": {
        "plotlyServerURL": "https://plot.ly"
       },
       "data": [
        {
         "mode": "lines",
         "name": "AIlly",
         "type": "scatter",
         "x": {
          "bdata": "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",
          "dtype": "f8"
         },
         "y": {
          "bdata": "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",
          "dtype": "f8"
         }
        }
       ],
       "layout": {
        "legend": {
         "title": {
          "text": "Muestra (gramos)"
         }
        },
        "margin": {
         "b": 40,
         "l": 40,
         "r": 40,
         "t": 80
        },
        "template": {
         "data": {
          "bar": [
           {
            "error_x": {
             "color": "#2a3f5f"
            },
            "error_y": {
             "color": "#2a3f5f"
            },
            "marker": {
             "line": {
              "color": "white",
              "width": 0.5
             },
             "pattern": {
              "fillmode": "overlay",
              "size": 10,
              "solidity": 0.2
             }
            },
            "type": "bar"
           }
          ],
          "barpolar": [
           {
            "marker": {
             "line": {
              "color": "white",
              "width": 0.5
             },
             "pattern": {
              "fillmode": "overlay",
              "size": 10,
              "solidity": 0.2
             }
            },
            "type": "barpolar"
           }
          ],
          "carpet": [
           {
            "aaxis": {
             "endlinecolor": "#2a3f5f",
             "gridcolor": "#C8D4E3",
             "linecolor": "#C8D4E3",
             "minorgridcolor": "#C8D4E3",
             "startlinecolor": "#2a3f5f"
            },
            "baxis": {
             "endlinecolor": "#2a3f5f",
             "gridcolor": "#C8D4E3",
             "linecolor": "#C8D4E3",
             "minorgridcolor": "#C8D4E3",
             "startlinecolor": "#2a3f5f"
            },
            "type": "carpet"
           }
          ],
          "choropleth": [
           {
            "colorbar": {
             "outlinewidth": 0,
             "ticks": ""
            },
            "type": "choropleth"
           }
          ],
          "contour": [
           {
            "colorbar": {
             "outlinewidth": 0,
             "ticks": ""
            },
            "colorscale": [
             [
              0,
              "#0d0887"
             ],
             [
              0.1111111111111111,
              "#46039f"
             ],
             [
              0.2222222222222222,
              "#7201a8"
             ],
             [
              0.3333333333333333,
              "#9c179e"
             ],
             [
              0.4444444444444444,
              "#bd3786"
             ],
             [
              0.5555555555555556,
              "#d8576b"
             ],
             [
              0.6666666666666666,
              "#ed7953"
             ],
             [
              0.7777777777777778,
              "#fb9f3a"
             ],
             [
              0.8888888888888888,
              "#fdca26"
             ],
             [
              1,
              "#f0f921"
             ]
            ],
            "type": "contour"
           }
          ],
          "contourcarpet": [
           {
            "colorbar": {
             "outlinewidth": 0,
             "ticks": ""
            },
            "type": "contourcarpet"
           }
          ],
          "heatmap": [
           {
            "colorbar": {
             "outlinewidth": 0,
             "ticks": ""
            },
            "colorscale": [
             [
              0,
              "#0d0887"
             ],
             [
              0.1111111111111111,
              "#46039f"
             ],
             [
              0.2222222222222222,
              "#7201a8"
             ],
             [
              0.3333333333333333,
              "#9c179e"
             ],
             [
              0.4444444444444444,
              "#bd3786"
             ],
             [
              0.5555555555555556,
              "#d8576b"
             ],
             [
              0.6666666666666666,
              "#ed7953"
             ],
             [
              0.7777777777777778,
              "#fb9f3a"
             ],
             [
              0.8888888888888888,
              "#fdca26"
             ],
             [
              1,
              "#f0f921"
             ]
            ],
            "type": "heatmap"
           }
          ],
          "histogram": [
           {
            "marker": {
             "pattern": {
              "fillmode": "overlay",
              "size": 10,
              "solidity": 0.2
             }
            },
            "type": "histogram"
           }
          ],
          "histogram2d": [
           {
            "colorbar": {
             "outlinewidth": 0,
             "ticks": ""
            },
            "colorscale": [
             [
              0,
              "#0d0887"
             ],
             [
              0.1111111111111111,
              "#46039f"
             ],
             [
              0.2222222222222222,
              "#7201a8"
             ],
             [
              0.3333333333333333,
              "#9c179e"
             ],
             [
              0.4444444444444444,
              "#bd3786"
             ],
             [
              0.5555555555555556,
              "#d8576b"
             ],
             [
              0.6666666666666666,
              "#ed7953"
             ],
             [
              0.7777777777777778,
              "#fb9f3a"
             ],
             [
              0.8888888888888888,
              "#fdca26"
             ],
             [
              1,
              "#f0f921"
             ]
            ],
            "type": "histogram2d"
           }
          ],
          "histogram2dcontour": [
           {
            "colorbar": {
             "outlinewidth": 0,
             "ticks": ""
            },
            "colorscale": [
             [
              0,
              "#0d0887"
             ],
             [
              0.1111111111111111,
              "#46039f"
             ],
             [
              0.2222222222222222,
              "#7201a8"
             ],
             [
              0.3333333333333333,
              "#9c179e"
             ],
             [
              0.4444444444444444,
              "#bd3786"
             ],
             [
              0.5555555555555556,
              "#d8576b"
             ],
             [
              0.6666666666666666,
              "#ed7953"
             ],
             [
              0.7777777777777778,
              "#fb9f3a"
             ],
             [
              0.8888888888888888,
              "#fdca26"
             ],
             [
              1,
              "#f0f921"
             ]
            ],
            "type": "histogram2dcontour"
           }
          ],
          "mesh3d": [
           {
            "colorbar": {
             "outlinewidth": 0,
             "ticks": ""
            },
            "type": "mesh3d"
           }
          ],
          "parcoords": [
           {
            "line": {
             "colorbar": {
              "outlinewidth": 0,
              "ticks": ""
             }
            },
            "type": "parcoords"
           }
          ],
          "pie": [
           {
            "automargin": true,
            "type": "pie"
           }
          ],
          "scatter": [
           {
            "fillpattern": {
             "fillmode": "overlay",
             "size": 10,
             "solidity": 0.2
            },
            "type": "scatter"
           }
          ],
          "scatter3d": [
           {
            "line": {
             "colorbar": {
              "outlinewidth": 0,
              "ticks": ""
             }
            },
            "marker": {
             "colorbar": {
              "outlinewidth": 0,
              "ticks": ""
             }
            },
            "type": "scatter3d"
           }
          ],
          "scattercarpet": [
           {
            "marker": {
             "colorbar": {
              "outlinewidth": 0,
              "ticks": ""
             }
            },
            "type": "scattercarpet"
           }
          ],
          "scattergeo": [
           {
            "marker": {
             "colorbar": {
              "outlinewidth": 0,
              "ticks": ""
             }
            },
            "type": "scattergeo"
           }
          ],
          "scattergl": [
           {
            "marker": {
             "colorbar": {
              "outlinewidth": 0,
              "ticks": ""
             }
            },
            "type": "scattergl"
           }
          ],
          "scattermap": [
           {
            "marker": {
             "colorbar": {
              "outlinewidth": 0,
              "ticks": ""
             }
            },
            "type": "scattermap"
           }
          ],
          "scattermapbox": [
           {
            "marker": {
             "colorbar": {
              "outlinewidth": 0,
              "ticks": ""
             }
            },
            "type": "scattermapbox"
           }
          ],
          "scatterpolar": [
           {
            "marker": {
             "colorbar": {
              "outlinewidth": 0,
              "ticks": ""
             }
            },
            "type": "scatterpolar"
           }
          ],
          "scatterpolargl": [
           {
            "marker": {
             "colorbar": {
              "outlinewidth": 0,
              "ticks": ""
             }
            },
            "type": "scatterpolargl"
           }
          ],
          "scatterternary": [
           {
            "marker": {
             "colorbar": {
              "outlinewidth": 0,
              "ticks": ""
             }
            },
            "type": "scatterternary"
           }
          ],
          "surface": [
           {
            "colorbar": {
             "outlinewidth": 0,
             "ticks": ""
            },
            "colorscale": [
             [
              0,
              "#0d0887"
             ],
             [
              0.1111111111111111,
              "#46039f"
             ],
             [
              0.2222222222222222,
              "#7201a8"
             ],
             [
              0.3333333333333333,
              "#9c179e"
             ],
             [
              0.4444444444444444,
              "#bd3786"
             ],
             [
              0.5555555555555556,
              "#d8576b"
             ],
             [
              0.6666666666666666,
              "#ed7953"
             ],
             [
              0.7777777777777778,
              "#fb9f3a"
             ],
             [
              0.8888888888888888,
              "#fdca26"
             ],
             [
              1,
              "#f0f921"
             ]
            ],
            "type": "surface"
           }
          ],
          "table": [
           {
            "cells": {
             "fill": {
              "color": "#EBF0F8"
             },
             "line": {
              "color": "white"
             }
            },
            "header": {
             "fill": {
              "color": "#C8D4E3"
             },
             "line": {
              "color": "white"
             }
            },
            "type": "table"
           }
          ]
         },
         "layout": {
          "annotationdefaults": {
           "arrowcolor": "#2a3f5f",
           "arrowhead": 0,
           "arrowwidth": 1
          },
          "autotypenumbers": "strict",
          "coloraxis": {
           "colorbar": {
            "outlinewidth": 0,
            "ticks": ""
           }
          },
          "colorscale": {
           "diverging": [
            [
             0,
             "#8e0152"
            ],
            [
             0.1,
             "#c51b7d"
            ],
            [
             0.2,
             "#de77ae"
            ],
            [
             0.3,
             "#f1b6da"
            ],
            [
             0.4,
             "#fde0ef"
            ],
            [
             0.5,
             "#f7f7f7"
            ],
            [
             0.6,
             "#e6f5d0"
            ],
            [
             0.7,
             "#b8e186"
            ],
            [
             0.8,
             "#7fbc41"
            ],
            [
             0.9,
             "#4d9221"
            ],
            [
             1,
             "#276419"
            ]
           ],
           "sequential": [
            [
             0,
             "#0d0887"
            ],
            [
             0.1111111111111111,
             "#46039f"
            ],
            [
             0.2222222222222222,
             "#7201a8"
            ],
            [
             0.3333333333333333,
             "#9c179e"
            ],
            [
             0.4444444444444444,
             "#bd3786"
            ],
            [
             0.5555555555555556,
             "#d8576b"
            ],
            [
             0.6666666666666666,
             "#ed7953"
            ],
            [
             0.7777777777777778,
             "#fb9f3a"
            ],
            [
             0.8888888888888888,
             "#fdca26"
            ],
            [
             1,
             "#f0f921"
            ]
           ],
           "sequentialminus": [
            [
             0,
             "#0d0887"
            ],
            [
             0.1111111111111111,
             "#46039f"
            ],
            [
             0.2222222222222222,
             "#7201a8"
            ],
            [
             0.3333333333333333,
             "#9c179e"
            ],
            [
             0.4444444444444444,
             "#bd3786"
            ],
            [
             0.5555555555555556,
             "#d8576b"
            ],
            [
             0.6666666666666666,
             "#ed7953"
            ],
            [
             0.7777777777777778,
             "#fb9f3a"
            ],
            [
             0.8888888888888888,
             "#fdca26"
            ],
            [
             1,
             "#f0f921"
            ]
           ]
          },
          "colorway": [
           "#636efa",
           "#EF553B",
           "#00cc96",
           "#ab63fa",
           "#FFA15A",
           "#19d3f3",
           "#FF6692",
           "#B6E880",
           "#FF97FF",
           "#FECB52"
          ],
          "font": {
           "color": "#2a3f5f"
          },
          "geo": {
           "bgcolor": "white",
           "lakecolor": "white",
           "landcolor": "white",
           "showlakes": true,
           "showland": true,
           "subunitcolor": "#C8D4E3"
          },
          "hoverlabel": {
           "align": "left"
          },
          "hovermode": "closest",
          "mapbox": {
           "style": "light"
          },
          "paper_bgcolor": "white",
          "plot_bgcolor": "white",
          "polar": {
           "angularaxis": {
            "gridcolor": "#EBF0F8",
            "linecolor": "#EBF0F8",
            "ticks": ""
           },
           "bgcolor": "white",
           "radialaxis": {
            "gridcolor": "#EBF0F8",
            "linecolor": "#EBF0F8",
            "ticks": ""
           }
          },
          "scene": {
           "xaxis": {
            "backgroundcolor": "white",
            "gridcolor": "#DFE8F3",
            "gridwidth": 2,
            "linecolor": "#EBF0F8",
            "showbackground": true,
            "ticks": "",
            "zerolinecolor": "#EBF0F8"
           },
           "yaxis": {
            "backgroundcolor": "white",
            "gridcolor": "#DFE8F3",
            "gridwidth": 2,
            "linecolor": "#EBF0F8",
            "showbackground": true,
            "ticks": "",
            "zerolinecolor": "#EBF0F8"
           },
           "zaxis": {
            "backgroundcolor": "white",
            "gridcolor": "#DFE8F3",
            "gridwidth": 2,
            "linecolor": "#EBF0F8",
            "showbackground": true,
            "ticks": "",
            "zerolinecolor": "#EBF0F8"
           }
          },
          "shapedefaults": {
           "line": {
            "color": "#2a3f5f"
           }
          },
          "ternary": {
           "aaxis": {
            "gridcolor": "#DFE8F3",
            "linecolor": "#A2B1C6",
            "ticks": ""
           },
           "baxis": {
            "gridcolor": "#DFE8F3",
            "linecolor": "#A2B1C6",
            "ticks": ""
           },
           "bgcolor": "white",
           "caxis": {
            "gridcolor": "#DFE8F3",
            "linecolor": "#A2B1C6",
            "ticks": ""
           }
          },
          "title": {
           "x": 0.05
          },
          "xaxis": {
           "automargin": true,
           "gridcolor": "#EBF0F8",
           "linecolor": "#EBF0F8",
           "ticks": "",
           "title": {
            "standoff": 15
           },
           "zerolinecolor": "#EBF0F8",
           "zerolinewidth": 2
          },
          "yaxis": {
           "automargin": true,
           "gridcolor": "#EBF0F8",
           "linecolor": "#EBF0F8",
           "ticks": "",
           "title": {
            "standoff": 15
           },
           "zerolinecolor": "#EBF0F8",
           "zerolinewidth": 2
          }
         }
        },
        "title": {
         "text": "Curva de absorbancia - Café Illy"
        },
        "xaxis": {
         "title": {
          "text": "Longitud de onda (nm)"
         }
        },
        "yaxis": {
         "title": {
          "text": "Absorbancia"
         }
        }
       }
      }
     },
     "metadata": {},
     "output_type": "display_data"
    },
    {
     "name": "stdout",
     "output_type": "stream",
     "text": [
      "Rango de longitudes de onda: 200.0 a 410.0\n"
     ]
    }
   ],
   "source": [
    "import pandas as pd\n",
    "import numpy as np\n",
    "import plotly.graph_objects as go\n",
    "from datetime import datetime\n",
    "\n",
    "# === Cargar datos ===\n",
    "df = pd.read_csv(\"AIlly_matrix.csv\")\n",
    "\n",
    "# === Limpiar valores atípicos ===\n",
    "for col in df.columns[1:]:\n",
    "    df[col] = pd.to_numeric(df[col], errors='coerce')\n",
    "    df[col] = df[col].where(df[col] <= 10)\n",
    "\n",
    "df_clean = df.copy()\n",
    "\n",
    "# === Definir regiones espectrales ===\n",
    "regiones = {\n",
    "    '100–200 nm': (100, 200),\n",
    "    '200–300 nm': (200, 300),\n",
    "    '300–400 nm': (300, 400),\n",
    "    '400–500 nm': (400, 500),\n",
    "    '500–600 nm': (500, 600)\n",
    "}\n",
    "\n",
    "# === Calcular métricas ===\n",
    "resultados = []\n",
    "\n",
    "# Iteramos sobre cada columna de absorbancia (excluyendo la primera columna 'nm')\n",
    "for col in df_clean.columns[1:]:\n",
    "    \n",
    "    # Seleccionamos las columnas 'nm' y la muestra actual, y eliminamos filas con valores faltantes\n",
    "    datos = df_clean[['nm', col]].dropna()\n",
    "    \n",
    "    # Extraemos el arreglo de longitudes de onda (nm)\n",
    "    nm = datos['nm'].values\n",
    "    \n",
    "    # Extraemos el arreglo de absorbancia correspondiente a la muestra actual\n",
    "    absorbancia = datos[col].values\n",
    "\n",
    "    # Calculamos el valor máximo de absorbancia\n",
    "    max_val = np.max(absorbancia)\n",
    "    \n",
    "    # Calculamos el valor mínimo de absorbancia\n",
    "    min_val = np.min(absorbancia)\n",
    "    \n",
    "    # Calculamos el promedio de absorbancia\n",
    "    avg = np.mean(absorbancia)\n",
    "    \n",
    "    # Calculamos la desviación estándar de absorbancia\n",
    "    std = np.std(absorbancia)\n",
    "    \n",
    "    # Calculamos el área bajo la curva (AUC) mediante la regla del trapecio\n",
    "    auc = np.trapezoid(absorbancia, nm)\n",
    "    \n",
    "    # Identificamos el valor de λ (nm) donde ocurre la máxima absorbancia\n",
    "    lambda_max = nm[np.argmax(absorbancia)]\n",
    "    \n",
    "    # Identificamos el valor de λ (nm) donde ocurre la mínima absorbancia\n",
    "    lambda_min = nm[np.argmin(absorbancia)]\n",
    "\n",
    "\n",
    "    promedios_regiones = {}\n",
    "    for nombre, (a, b) in regiones.items():\n",
    "        datos_region = datos[(datos['nm'] >= a) & (datos['nm'] <= b)][col]\n",
    "        promedio = np.mean(datos_region) if not datos_region.empty else np.nan\n",
    "        promedios_regiones[nombre] = (\n",
    "            f\"{promedio:.6f}\" if not np.isnan(promedio) else \"—\"\n",
    "        )\n",
    "\n",
    "    resultados.append({\n",
    "        \"Muestra\": col,\n",
    "        \"Máx. Abs.\": f\"{max_val:.3f}\",\n",
    "        \"Mín. Abs.\": f\"{min_val:.3f}\",\n",
    "        \"Promedio\": f\"{avg:.3f}\",\n",
    "        \"Desv. Estándar\": f\"{std:.3f}\",\n",
    "        \"AUC\": f\"{auc:.2f}\",\n",
    "        \"λ máx (nm)\": f\"{lambda_max:.1f}\",\n",
    "        \"λ mín (nm)\": f\"{lambda_min:.1f}\",\n",
    "        **promedios_regiones\n",
    "    })\n",
    "\n",
    "tabla = pd.DataFrame(resultados)\n",
    "\n",
    "# === Asegurar orden correcto usando columna numérica auxiliar ===\n",
    "tabla[\"Máx. Abs. (num)\"] = pd.to_numeric(tabla[\"Máx. Abs.\"], errors='coerce')\n",
    "columnas_ordenadas = tabla.sort_values(\"Máx. Abs. (num)\", ascending=False)[\"Muestra\"]\n",
    "\n",
    "# === Gráfica interactiva con Plotly ===\n",
    "fig = go.Figure()\n",
    "for col in columnas_ordenadas:\n",
    "    datos_validos = df_clean[['nm', col]].dropna()\n",
    "    fig.add_trace(go.Scatter(\n",
    "        x=datos_validos['nm'],\n",
    "        y=datos_validos[col],\n",
    "        mode='lines',\n",
    "        name=col\n",
    "    ))\n",
    "\n",
    "fig.update_layout(\n",
    "    title=\"Curva de absorbancia - Café Illy\",\n",
    "    xaxis_title=\"Longitud de onda (nm)\",\n",
    "    yaxis_title=\"Absorbancia\",\n",
    "    legend_title=\"Muestra (gramos)\",\n",
    "    template=\"plotly_white\",\n",
    "    margin=dict(l=40, r=40, t=80, b=40),\n",
    ")\n",
    "\n",
    "# === Exportar HTML ===\n",
    "fecha = datetime.now().strftime(\"%d-%m-%Y %H:%M:%S\")\n",
    "grafica_html = fig.to_html(full_html=False, include_plotlyjs='cdn', config={\"responsive\": True})\n",
    "tabla_html = tabla.drop(columns=[\"Máx. Abs. (num)\"]).to_html(index=False, classes=\"styled-table\", border=0)\n",
    "\n",
    "html_final = f\"\"\"\n",
    "<!DOCTYPE html>\n",
    "<html lang=\"es\">\n",
    "<head>\n",
    "  <meta charset=\"UTF-8\">\n",
    "  <title>Reporte de Absorbancia UV-Vis</title>\n",
    "  <meta name=\"viewport\" content=\"width=device-width, initial-scale=1.0\">\n",
    "  <style>\n",
    "    body {{\n",
    "      font-family: 'Segoe UI', Tahoma, sans-serif;\n",
    "      margin: 40px;\n",
    "      background-color: #fdfdfd;\n",
    "      color: #222;\n",
    "    }}\n",
    "    h1 {{\n",
    "      color: #111;\n",
    "    }}\n",
    "    h2 {{\n",
    "      margin-top: 40px;\n",
    "    }}\n",
    "    .info {{\n",
    "      margin-bottom: 20px;\n",
    "    }}\n",
    "    .lab {{\n",
    "      margin-top: 40px;\n",
    "      font-size: 0.95em;\n",
    "      background-color: #f0f8ff;\n",
    "      padding: 15px;\n",
    "      border-left: 6px solid #009879;\n",
    "    }}\n",
    "    .styled-table {{\n",
    "      border-collapse: collapse;\n",
    "      margin-top: 20px;\n",
    "      font-size: 1em;\n",
    "      width: 100%;\n",
    "      box-shadow: 0 0 10px rgba(0, 0, 0, 0.05);\n",
    "    }}\n",
    "    .styled-table thead tr {{\n",
    "      background-color: #009879;\n",
    "      color: #ffffff;\n",
    "      text-align: left;\n",
    "    }}\n",
    "    .styled-table th, .styled-table td {{\n",
    "      padding: 12px 15px;\n",
    "      border: 1px solid #ddd;\n",
    "    }}\n",
    "    .styled-table tbody tr:nth-child(even) {{\n",
    "      background-color: #f3f3f3;\n",
    "    }}\n",
    "    .conclusion {{\n",
    "      margin-top: 40px;\n",
    "    }}\n",
    "    .plotly-graph-div {{\n",
    "      width: 100% !important;\n",
    "      height: auto !important;\n",
    "    }}\n",
    "  </style>\n",
    "</head>\n",
    "<body>\n",
    "\n",
    "  <h1>Reporte de Absorbancia UV-Vis - Café Illy</h1>\n",
    "\n",
    "  <div class=\"info\">\n",
    "    <p><strong>Fecha:</strong> {fecha}</p>\n",
    "  </div>\n",
    "\n",
    "  {grafica_html}\n",
    "\n",
    "  <h2>Métrica espectral de la muestra</h2>\n",
    "  {tabla_html}\n",
    "\n",
    "  <div>\n",
    "    <p>Los espectros obtenidos muestran perfiles característicos en función del gramaje y tipo de muestra. La evaluación de zonas espectrales permite correlacionar la respuesta óptica con la presencia de compuestos activos del café.</p>\n",
    "  </div>\n",
    "\n",
    "  <div class=\"lab\">\n",
    "    <strong>Nombre del proyecto: CafeLab</strong><br><br>\n",
    "    <strong>Colaboradores:</strong><br>\n",
    "    Martín Rodolfo Palomino Merino – Profesor investigador, jefe responsable del laboratorio de caracterización de materiales (FCFM-BUAP).<br>\n",
    "    Lizeth Jazmín Orozco García – Colaborador principal.<br>\n",
    "    Julio Alfredo Ballinas García – Colaborador del proyecto.\n",
    "  </div>\n",
    "\n",
    "</body>\n",
    "</html>\n",
    "\"\"\"\n",
    "\n",
    "with open(\"reporte_absorbancia.html\", \"w\", encoding=\"utf-8\") as f:\n",
    "    f.write(html_final)\n",
    "\n",
    "print(\"✅ Reporte generado: reporte_absorbancia.html\")\n",
    "\n",
    "# Mostrar gráfico si estás en Jupyter o interactivo\n",
    "fig.show()\n",
    "\n",
    "print(\"Rango de longitudes de onda:\", df['nm'].min(), \"a\", df['nm'].max())"
   ]
  },
  {
   "cell_type": "code",
   "execution_count": null,
   "metadata": {},
   "outputs": [],
   "source": []
  }
 ],
 "metadata": {
  "kernelspec": {
   "display_name": "ydata-env",
   "language": "python",
   "name": "python3"
  },
  "language_info": {
   "codemirror_mode": {
    "name": "ipython",
    "version": 3
   },
   "file_extension": ".py",
   "mimetype": "text/x-python",
   "name": "python",
   "nbconvert_exporter": "python",
   "pygments_lexer": "ipython3",
   "version": "3.11.8"
  }
 },
 "nbformat": 4,
 "nbformat_minor": 2
}
