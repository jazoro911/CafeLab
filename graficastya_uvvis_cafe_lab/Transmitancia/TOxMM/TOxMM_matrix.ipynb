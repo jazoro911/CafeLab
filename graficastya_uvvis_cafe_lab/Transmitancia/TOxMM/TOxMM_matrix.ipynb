{
 "cells": [
  {
   "cell_type": "code",
   "execution_count": 1,
   "metadata": {},
   "outputs": [
    {
     "name": "stdout",
     "output_type": "stream",
     "text": [
      "Archivo 'TOxMM_matrix.csv' creado con éxito\n"
     ]
    }
   ],
   "source": [
    "import pandas as pd\n",
    "import os\n",
    "import re\n",
    "\n",
    "# Detectamos los archivos .txt válidos (los que tienen datos de absorbancia)\n",
    "archivos_txt = [f for f in os.listdir() if f.endswith('.txt') and f != 'AOxMM.csv']\n",
    "\n",
    "# Función para extraer gramaje del nombre del archivo\n",
    "def extraer_gramos(nombre):\n",
    "    match = re.search(r'(\\d+_?\\d*)g', nombre)\n",
    "    if match:\n",
    "        return float(match.group(1).replace('_', '.'))\n",
    "    return float('inf')\n",
    "\n",
    "# Ordenamos los archivos por gramaje (más limpio para visualizar después)\n",
    "archivos_ordenados = sorted(archivos_txt, key=extraer_gramos)\n",
    "\n",
    "# Leemos y procesamos los archivos\n",
    "dataframes = []\n",
    "for archivo in archivos_ordenados:\n",
    "    df = pd.read_csv(archivo, sep=None, engine='python')  # autodetecta separador\n",
    "    df = df[pd.to_numeric(df.iloc[:, 0], errors='coerce').notna()]\n",
    "    \n",
    "    nombre_columna = os.path.splitext(archivo)[0]\n",
    "    df.columns = ['nm', nombre_columna]\n",
    "    df[nombre_columna] = pd.to_numeric(df[nombre_columna], errors='coerce')\n",
    "    dataframes.append(df)\n",
    "\n",
    "# Unimos los datos por la columna de longitud de onda\n",
    "df_consolidado = dataframes[0]\n",
    "for df in dataframes[1:]:\n",
    "    df_consolidado = pd.merge(df_consolidado, df, on='nm', how='outer')\n",
    "\n",
    "# Guardamos el archivo final\n",
    "df_consolidado.to_csv('TOxMM_matrix.csv', index=False)\n",
    "\n",
    "print(\"Archivo 'TOxMM_matrix.csv' creado con éxito\")"
   ]
  },
  {
   "cell_type": "code",
   "execution_count": 2,
   "metadata": {},
   "outputs": [],
   "source": [
    "import pandas as pd\n",
    "datos=pd.read_csv(\"TOxMM_matrix.csv\")"
   ]
  },
  {
   "cell_type": "code",
   "execution_count": 3,
   "metadata": {},
   "outputs": [
    {
     "data": {
      "text/html": [
       "<div>\n",
       "<style scoped>\n",
       "    .dataframe tbody tr th:only-of-type {\n",
       "        vertical-align: middle;\n",
       "    }\n",
       "\n",
       "    .dataframe tbody tr th {\n",
       "        vertical-align: top;\n",
       "    }\n",
       "\n",
       "    .dataframe thead th {\n",
       "        text-align: right;\n",
       "    }\n",
       "</style>\n",
       "<table border=\"1\" class=\"dataframe\">\n",
       "  <thead>\n",
       "    <tr style=\"text-align: right;\">\n",
       "      <th></th>\n",
       "      <th>nm</th>\n",
       "      <th>TOxMM20</th>\n",
       "      <th>TOxMM05</th>\n",
       "      <th>TOxMM50</th>\n",
       "      <th>TOxMM</th>\n",
       "    </tr>\n",
       "  </thead>\n",
       "  <tbody>\n",
       "    <tr>\n",
       "      <th>0</th>\n",
       "      <td>390.0</td>\n",
       "      <td>NaN</td>\n",
       "      <td>NaN</td>\n",
       "      <td>NaN</td>\n",
       "      <td>NaN</td>\n",
       "    </tr>\n",
       "    <tr>\n",
       "      <th>1</th>\n",
       "      <td>391.0</td>\n",
       "      <td>NaN</td>\n",
       "      <td>NaN</td>\n",
       "      <td>NaN</td>\n",
       "      <td>NaN</td>\n",
       "    </tr>\n",
       "    <tr>\n",
       "      <th>2</th>\n",
       "      <td>392.0</td>\n",
       "      <td>NaN</td>\n",
       "      <td>NaN</td>\n",
       "      <td>NaN</td>\n",
       "      <td>NaN</td>\n",
       "    </tr>\n",
       "    <tr>\n",
       "      <th>3</th>\n",
       "      <td>393.0</td>\n",
       "      <td>NaN</td>\n",
       "      <td>NaN</td>\n",
       "      <td>NaN</td>\n",
       "      <td>NaN</td>\n",
       "    </tr>\n",
       "    <tr>\n",
       "      <th>4</th>\n",
       "      <td>394.0</td>\n",
       "      <td>31.186</td>\n",
       "      <td>48.866</td>\n",
       "      <td>28.14</td>\n",
       "      <td>39.213</td>\n",
       "    </tr>\n",
       "  </tbody>\n",
       "</table>\n",
       "</div>"
      ],
      "text/plain": [
       "      nm  TOxMM20  TOxMM05  TOxMM50   TOxMM\n",
       "0  390.0      NaN      NaN      NaN     NaN\n",
       "1  391.0      NaN      NaN      NaN     NaN\n",
       "2  392.0      NaN      NaN      NaN     NaN\n",
       "3  393.0      NaN      NaN      NaN     NaN\n",
       "4  394.0   31.186   48.866    28.14  39.213"
      ]
     },
     "execution_count": 3,
     "metadata": {},
     "output_type": "execute_result"
    }
   ],
   "source": [
    "datos.head()"
   ]
  },
  {
   "cell_type": "code",
   "execution_count": 4,
   "metadata": {},
   "outputs": [
    {
     "name": "stdout",
     "output_type": "stream",
     "text": [
      "<class 'pandas.core.frame.DataFrame'>\n",
      "RangeIndex: 361 entries, 0 to 360\n",
      "Data columns (total 5 columns):\n",
      " #   Column   Non-Null Count  Dtype  \n",
      "---  ------   --------------  -----  \n",
      " 0   nm       361 non-null    float64\n",
      " 1   TOxMM20  353 non-null    float64\n",
      " 2   TOxMM05  353 non-null    float64\n",
      " 3   TOxMM50  353 non-null    float64\n",
      " 4   TOxMM    353 non-null    float64\n",
      "dtypes: float64(5)\n",
      "memory usage: 14.2 KB\n"
     ]
    }
   ],
   "source": [
    "datos.info()"
   ]
  },
  {
   "cell_type": "code",
   "execution_count": 5,
   "metadata": {},
   "outputs": [
    {
     "data": {
      "image/png": "[encoded data removed]",
      "text/plain": [
       "<Figure size 1200x600 with 1 Axes>"
      ]
     },
     "metadata": {},
     "output_type": "display_data"
    }
   ],
   "source": [
    "import pandas as pd\n",
    "import matplotlib.pyplot as plt\n",
    "import numpy as np\n",
    "\n",
    "# Cargamos el archivo con las mediciones de transmitancia almacenados en una matriz de datos\n",
    "df = pd.read_csv(\"TOxMM_matrix.csv\")\n",
    "\n",
    "# Limpiamos datos fuera del rango de %T [0, 100]\n",
    "for columna in df.columns[1:]:\n",
    "    df[columna] = pd.to_numeric(df[columna], errors='coerce')\n",
    "    df.loc[(df[columna] < 0) | (df[columna] > 100), columna] = None\n",
    "\n",
    "# Copiamos el DataFrame limpio\n",
    "df_clean = df.copy()\n",
    "\n",
    "# Obtenemos los valores máximos de cada curva\n",
    "maximos = {\n",
    "    columna: df_clean[columna].max(skipna=True)\n",
    "    for columna in df_clean.columns[1:]\n",
    "}\n",
    "\n",
    "# Ordenamos de mayor a menor para que la leyenda coincida con las curvas\n",
    "columnas_ordenadas = sorted(maximos, key=maximos.get, reverse=True)\n",
    "\n",
    "# Creamos figura\n",
    "plt.figure(figsize=(12, 6))\n",
    "\n",
    "# Dibujamos las curvas solo con valores válidos (sin NaNs)\n",
    "for columna in columnas_ordenadas:\n",
    "    datos_validos = df_clean[['nm', columna]].dropna()\n",
    "    plt.plot(datos_validos['nm'], datos_validos[columna], label=columna)\n",
    "\n",
    "# Etiquetas y estilo (estética de los ejes)\n",
    "plt.xlabel('Longitud de onda (nm)', fontsize=12)\n",
    "plt.ylabel('Transmitancia (%T)', fontsize=12)\n",
    "plt.title('Curvas de transmitancia - Café de Oaxaca MM (Molienda mini)', fontsize=14)\n",
    "plt.legend(title='Muestras (gramos)', fontsize=10)\n",
    "plt.xticks(df['nm'][::50], rotation=45)\n",
    "plt.grid(True, linestyle='--', alpha=0.6)\n",
    "plt.tight_layout()\n",
    "plt.show()\n"
   ]
  },
  {
   "cell_type": "code",
   "execution_count": 3,
   "metadata": {},
   "outputs": [
    {
     "name": "stdout",
     "output_type": "stream",
     "text": [
      "✅ HTML generado: Comparativa_muestras_transmitancia.html\n",
      "Rango de longitudes de onda: 390.0 a 750.0\n"
     ]
    },
    {
     "data": {
      "application/vnd.plotly.v1+json": {
       "config": {
        "plotlyServerURL": "https://plot.ly"
       },
       "data": [
        {
         "line": {
          "color": "#1f77b4"
         },
         "mode": "lines",
         "name": "TOxMM20",
         "type": "scatter",
         "x": {
          "bdata": "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",
          "dtype": "f8"
         },
         "y": {
          "bdata": "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",
          "dtype": "f8"
         }
        },
        {
         "line": {
          "color": "#d62728"
         },
         "mode": "lines",
         "name": "TOxMM05",
         "type": "scatter",
         "x": {
          "bdata": "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",
          "dtype": "f8"
         },
         "y": {
          "bdata": "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",
          "dtype": "f8"
         }
        },
        {
         "line": {
          "color": "#e377c2"
         },
         "mode": "lines",
         "name": "TOxMM50",
         "type": "scatter",
         "x": {
          "bdata": "AAAAAACgeEAAAAAAALB4QAAAAAAAwHhAAAAAAADQeEAAAAAAAOB4QAAAAAAA8HhAAAAAAAAAeUAAAAAAABB5QAAAAAAAIHlAAAAAAAAweUAAAAAAAEB5QAAAAAAAUHlAAAAAAABgeUAAAAAAAHB5QAAAAAAAgHlAAAAAAACQeUAAAAAAAKB5QAAAAAAAsHlAAAAAAADAeUAAAAAAANB5QAAAAAAA4HlAAAAAAADweUAAAAAAAAB6QAAAAAAAEHpAAAAAAAAgekAAAAAAADB6QAAAAAAAQHpAAAAAAABQekAAAAAAAGB6QAAAAAAAcHpAAAAAAACAekAAAAAAAJB6QAAAAAAAoHpAAAAAAACwekAAAAAAAMB6QAAAAAAA0HpAAAAAAADgekAAAAAAAPB6QAAAAAAAAHtAAAAAAAAQe0AAAAAAACB7QAAAAAAAMHtAAAAAAABAe0AAAAAAAFB7QAAAAAAAYHtAAAAAAABwe0AAAAAAAIB7QAAAAAAAkHtAAAAAAACge0AAAAAAALB7QAAAAAAAwHtAAAAAAADQe0AAAAAAAOB7QAAAAAAA8HtAAAAAAAAAfEAAAAAAABB8QAAAAAAAIHxAAAAAAAAwfEAAAAAAAEB8QAAAAAAAUHxAAAAAAABgfEAAAAAAAHB8QAAAAAAAgHxAAAAAAACQfEAAAAAAAKB8QAAAAAAAsHxAAAAAAADAfEAAAAAAANB8QAAAAAAA4HxAAAAAAADwfEAAAAAAAAB9QAAAAAAAEH1AAAAAAAAgfUAAAAAAADB9QAAAAAAAQH1AAAAAAABQfUAAAAAAAGB9QAAAAAAAcH1AAAAAAACAfUAAAAAAAJB9QAAAAAAAoH1AAAAAAACwfUAAAAAAAMB9QAAAAAAA0H1AAAAAAADgfUAAAAAAAPB9QAAAAAAAAH5AAAAAAAAQfkAAAAAAACB+QAAAAAAAMH5AAAAAAABAfkAAAAAAAFB+QAAAAAAAYH5AAAAAAABwfkAAAAAAAIB+QAAAAAAAkH5AAAAAAACgfkAAAAAAALB+QAAAAAAAwH5AAAAAAADQfkAAAAAAAOB+QAAAAAAA8H5AAAAAAAAAf0AAAAAAABB/QAAAAAAAIH9AAAAAAAAwf0AAAAAAAEB/QAAAAAAAUH9AAAAAAABgf0AAAAAAAHB/QAAAAAAAgH9AAAAAAACQf0AAAAAAAKB/QAAAAAAAsH9AAAAAAADAf0AAAAAAANB/QAAAAAAA4H9AAAAAAADwf0AAAAAAAACAQAAAAAAACIBAAAAAAAAQgEAAAAAAABiAQAAAAAAAIIBAAAAAAAAogEAAAAAAADCAQAAAAAAAOIBAAAAAAABAgEAAAAAAAEiAQAAAAAAAUIBAAAAAAABYgEAAAAAAAGCAQAAAAAAAaIBAAAAAAABwgEAAAAAAAHiAQAAAAAAAgIBAAAAAAACIgEAAAAAAAJCAQAAAAAAAmIBAAAAAAACggEAAAAAAAKiAQAAAAAAAsIBAAAAAAAC4gEAAAAAAAMCAQAAAAAAAyIBAAAAAAADQgEAAAAAAANiAQAAAAAAA4IBAAAAAAADogEAAAAAAAPCAQAAAAAAA+IBAAAAAAAAAgUAAAAAAAAiBQAAAAAAAEIFAAAAAAAAYgUAAAAAAACCBQAAAAAAAKIFAAAAAAAAwgUAAAAAAADiBQAAAAAAAQIFAAAAAAABIgUAAAAAAAFCBQAAAAAAAWIFAAAAAAABggUAAAAAAAGiBQAAAAAAAcIFAAAAAAAB4gUAAAAAAAICBQAAAAAAAiIFAAAAAAACQgUAAAAAAAJiBQAAAAAAAoIFAAAAAAACogUAAAAAAALCBQAAAAAAAuIFAAAAAAADAgUAAAAAAAMiBQAAAAAAA0IFAAAAAAADYgUAAAAAAAOCBQAAAAAAA6IFAAAAAAADwgUAAAAAAAPiBQAAAAAAAAIJAAAAAAAAIgkAAAAAAABCCQAAAAAAAGIJAAAAAAAAggkAAAAAAACiCQAAAAAAAMIJAAAAAAAA4gkAAAAAAAECCQAAAAAAASIJAAAAAAABQgkAAAAAAAFiCQAAAAAAAYIJAAAAAAABogkAAAAAAAHCCQAAAAAAAeIJAAAAAAACAgkAAAAAAAIiCQAAAAAAAkIJAAAAAAACYgkAAAAAAAKCCQAAAAAAAqIJAAAAAAACwgkAAAAAAALiCQAAAAAAAwIJAAAAAAADIgkAAAAAAANCCQAAAAAAA2IJAAAAAAADggkAAAAAAAOiCQAAAAAAA8IJAAAAAAAD4gkAAAAAAAACDQAAAAAAACINAAAAAAAAQg0AAAAAAABiDQAAAAAAAIINAAAAAAAAog0AAAAAAADCDQAAAAAAAOINAAAAAAABAg0AAAAAAAEiDQAAAAAAAUINAAAAAAABYg0AAAAAAAGCDQAAAAAAAaINAAAAAAABwg0AAAAAAAHiDQAAAAAAAgINAAAAAAACIg0AAAAAAAJCDQAAAAAAAmINAAAAAAACgg0AAAAAAAKiDQAAAAAAAsINAAAAAAAC4g0AAAAAAAMCDQAAAAAAAyINAAAAAAADQg0AAAAAAANiDQAAAAAAA4INAAAAAAADog0AAAAAAAPCDQAAAAAAA+INAAAAAAAAAhEAAAAAAAAiEQAAAAAAAEIRAAAAAAAAYhEAAAAAAACCEQAAAAAAAKIRAAAAAAAAwhEAAAAAAADiEQAAAAAAAQIRAAAAAAABIhEAAAAAAAFCEQAAAAAAAWIRAAAAAAABghEAAAAAAAGiEQAAAAAAAcIRAAAAAAAB4hEAAAAAAAICEQAAAAAAAiIRAAAAAAACQhEAAAAAAAJiEQAAAAAAAoIRAAAAAAACohEAAAAAAALCEQAAAAAAAuIRAAAAAAADAhEAAAAAAAMiEQAAAAAAA0IRAAAAAAADYhEAAAAAAAOCEQAAAAAAA6IRAAAAAAADwhEAAAAAAAPiEQAAAAAAAAIVAAAAAAAAIhUAAAAAAABCFQAAAAAAAGIVAAAAAAAAghUAAAAAAACiFQAAAAAAAMIVAAAAAAAA4hUAAAAAAAECFQAAAAAAASIVAAAAAAABQhUAAAAAAAFiFQAAAAAAAYIVAAAAAAABohUAAAAAAAHCFQAAAAAAAeIVAAAAAAACAhUAAAAAAAIiFQAAAAAAAkIVAAAAAAACYhUAAAAAAAKCFQAAAAAAAqIVAAAAAAACwhUAAAAAAALiFQAAAAAAAwIVAAAAAAADIhUAAAAAAANCFQAAAAAAA2IVAAAAAAADghUAAAAAAAOiFQAAAAAAA8IVAAAAAAAD4hUAAAAAAAACGQAAAAAAACIZAAAAAAAAQhkAAAAAAABiGQAAAAAAAIIZAAAAAAAAohkAAAAAAADCGQAAAAAAAOIZAAAAAAABAhkAAAAAAAEiGQAAAAAAAUIZAAAAAAABYhkAAAAAAAGCGQAAAAAAAaIZAAAAAAABwhkAAAAAAAHiGQAAAAAAAgIZAAAAAAACIhkAAAAAAAJCGQAAAAAAAmIZAAAAAAACghkAAAAAAAKiGQAAAAAAAsIZAAAAAAAC4hkAAAAAAAMCGQAAAAAAAyIZAAAAAAADQhkAAAAAAANiGQAAAAAAA4IZAAAAAAADohkAAAAAAAPCGQAAAAAAA+IZAAAAAAAAAh0AAAAAAAAiHQAAAAAAAEIdAAAAAAAAYh0AAAAAAACCHQAAAAAAAKIdAAAAAAAAwh0AAAAAAADiHQAAAAAAAQIdAAAAAAABIh0AAAAAAAFCHQA==",
          "dtype": "f8"
         },
         "y": {
          "bdata": "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",
          "dtype": "f8"
         }
        },
        {
         "line": {
          "color": "#17becf"
         },
         "mode": "lines",
         "name": "TOxMM",
         "type": "scatter",
         "x": {
          "bdata": "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",
          "dtype": "f8"
         },
         "y": {
          "bdata": "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",
          "dtype": "f8"
         }
        }
       ],
       "layout": {
        "legend": {
         "title": {
          "text": "Curva"
         }
        },
        "margin": {
         "b": 40,
         "l": 40,
         "r": 40,
         "t": 80
        },
        "template": {
         "data": {
          "bar": [
           {
            "error_x": {
             "color": "#2a3f5f"
            },
            "error_y": {
             "color": "#2a3f5f"
            },
            "marker": {
             "line": {
              "color": "white",
              "width": 0.5
             },
             "pattern": {
              "fillmode": "overlay",
              "size": 10,
              "solidity": 0.2
             }
            },
            "type": "bar"
           }
          ],
          "barpolar": [
           {
            "marker": {
             "line": {
              "color": "white",
              "width": 0.5
             },
             "pattern": {
              "fillmode": "overlay",
              "size": 10,
              "solidity": 0.2
             }
            },
            "type": "barpolar"
           }
          ],
          "carpet": [
           {
            "aaxis": {
             "endlinecolor": "#2a3f5f",
             "gridcolor": "#C8D4E3",
             "linecolor": "#C8D4E3",
             "minorgridcolor": "#C8D4E3",
             "startlinecolor": "#2a3f5f"
            },
            "baxis": {
             "endlinecolor": "#2a3f5f",
             "gridcolor": "#C8D4E3",
             "linecolor": "#C8D4E3",
             "minorgridcolor": "#C8D4E3",
             "startlinecolor": "#2a3f5f"
            },
            "type": "carpet"
           }
          ],
          "choropleth": [
           {
            "colorbar": {
             "outlinewidth": 0,
             "ticks": ""
            },
            "type": "choropleth"
           }
          ],
          "contour": [
           {
            "colorbar": {
             "outlinewidth": 0,
             "ticks": ""
            },
            "colorscale": [
             [
              0,
              "#0d0887"
             ],
             [
              0.1111111111111111,
              "#46039f"
             ],
             [
              0.2222222222222222,
              "#7201a8"
             ],
             [
              0.3333333333333333,
              "#9c179e"
             ],
             [
              0.4444444444444444,
              "#bd3786"
             ],
             [
              0.5555555555555556,
              "#d8576b"
             ],
             [
              0.6666666666666666,
              "#ed7953"
             ],
             [
              0.7777777777777778,
              "#fb9f3a"
             ],
             [
              0.8888888888888888,
              "#fdca26"
             ],
             [
              1,
              "#f0f921"
             ]
            ],
            "type": "contour"
           }
          ],
          "contourcarpet": [
           {
            "colorbar": {
             "outlinewidth": 0,
             "ticks": ""
            },
            "type": "contourcarpet"
           }
          ],
          "heatmap": [
           {
            "colorbar": {
             "outlinewidth": 0,
             "ticks": ""
            },
            "colorscale": [
             [
              0,
              "#0d0887"
             ],
             [
              0.1111111111111111,
              "#46039f"
             ],
             [
              0.2222222222222222,
              "#7201a8"
             ],
             [
              0.3333333333333333,
              "#9c179e"
             ],
             [
              0.4444444444444444,
              "#bd3786"
             ],
             [
              0.5555555555555556,
              "#d8576b"
             ],
             [
              0.6666666666666666,
              "#ed7953"
             ],
             [
              0.7777777777777778,
              "#fb9f3a"
             ],
             [
              0.8888888888888888,
              "#fdca26"
             ],
             [
              1,
              "#f0f921"
             ]
            ],
            "type": "heatmap"
           }
          ],
          "histogram": [
           {
            "marker": {
             "pattern": {
              "fillmode": "overlay",
              "size": 10,
              "solidity": 0.2
             }
            },
            "type": "histogram"
           }
          ],
          "histogram2d": [
           {
            "colorbar": {
             "outlinewidth": 0,
             "ticks": ""
            },
            "colorscale": [
             [
              0,
              "#0d0887"
             ],
             [
              0.1111111111111111,
              "#46039f"
             ],
             [
              0.2222222222222222,
              "#7201a8"
             ],
             [
              0.3333333333333333,
              "#9c179e"
             ],
             [
              0.4444444444444444,
              "#bd3786"
             ],
             [
              0.5555555555555556,
              "#d8576b"
             ],
             [
              0.6666666666666666,
              "#ed7953"
             ],
             [
              0.7777777777777778,
              "#fb9f3a"
             ],
             [
              0.8888888888888888,
              "#fdca26"
             ],
             [
              1,
              "#f0f921"
             ]
            ],
            "type": "histogram2d"
           }
          ],
          "histogram2dcontour": [
           {
            "colorbar": {
             "outlinewidth": 0,
             "ticks": ""
            },
            "colorscale": [
             [
              0,
              "#0d0887"
             ],
             [
              0.1111111111111111,
              "#46039f"
             ],
             [
              0.2222222222222222,
              "#7201a8"
             ],
             [
              0.3333333333333333,
              "#9c179e"
             ],
             [
              0.4444444444444444,
              "#bd3786"
             ],
             [
              0.5555555555555556,
              "#d8576b"
             ],
             [
              0.6666666666666666,
              "#ed7953"
             ],
             [
              0.7777777777777778,
              "#fb9f3a"
             ],
             [
              0.8888888888888888,
              "#fdca26"
             ],
             [
              1,
              "#f0f921"
             ]
            ],
            "type": "histogram2dcontour"
           }
          ],
          "mesh3d": [
           {
            "colorbar": {
             "outlinewidth": 0,
             "ticks": ""
            },
            "type": "mesh3d"
           }
          ],
          "parcoords": [
           {
            "line": {
             "colorbar": {
              "outlinewidth": 0,
              "ticks": ""
             }
            },
            "type": "parcoords"
           }
          ],
          "pie": [
           {
            "automargin": true,
            "type": "pie"
           }
          ],
          "scatter": [
           {
            "fillpattern": {
             "fillmode": "overlay",
             "size": 10,
             "solidity": 0.2
            },
            "type": "scatter"
           }
          ],
          "scatter3d": [
           {
            "line": {
             "colorbar": {
              "outlinewidth": 0,
              "ticks": ""
             }
            },
            "marker": {
             "colorbar": {
              "outlinewidth": 0,
              "ticks": ""
             }
            },
            "type": "scatter3d"
           }
          ],
          "scattercarpet": [
           {
            "marker": {
             "colorbar": {
              "outlinewidth": 0,
              "ticks": ""
             }
            },
            "type": "scattercarpet"
           }
          ],
          "scattergeo": [
           {
            "marker": {
             "colorbar": {
              "outlinewidth": 0,
              "ticks": ""
             }
            },
            "type": "scattergeo"
           }
          ],
          "scattergl": [
           {
            "marker": {
             "colorbar": {
              "outlinewidth": 0,
              "ticks": ""
             }
            },
            "type": "scattergl"
           }
          ],
          "scattermap": [
           {
            "marker": {
             "colorbar": {
              "outlinewidth": 0,
              "ticks": ""
             }
            },
            "type": "scattermap"
           }
          ],
          "scattermapbox": [
           {
            "marker": {
             "colorbar": {
              "outlinewidth": 0,
              "ticks": ""
             }
            },
            "type": "scattermapbox"
           }
          ],
          "scatterpolar": [
           {
            "marker": {
             "colorbar": {
              "outlinewidth": 0,
              "ticks": ""
             }
            },
            "type": "scatterpolar"
           }
          ],
          "scatterpolargl": [
           {
            "marker": {
             "colorbar": {
              "outlinewidth": 0,
              "ticks": ""
             }
            },
            "type": "scatterpolargl"
           }
          ],
          "scatterternary": [
           {
            "marker": {
             "colorbar": {
              "outlinewidth": 0,
              "ticks": ""
             }
            },
            "type": "scatterternary"
           }
          ],
          "surface": [
           {
            "colorbar": {
             "outlinewidth": 0,
             "ticks": ""
            },
            "colorscale": [
             [
              0,
              "#0d0887"
             ],
             [
              0.1111111111111111,
              "#46039f"
             ],
             [
              0.2222222222222222,
              "#7201a8"
             ],
             [
              0.3333333333333333,
              "#9c179e"
             ],
             [
              0.4444444444444444,
              "#bd3786"
             ],
             [
              0.5555555555555556,
              "#d8576b"
             ],
             [
              0.6666666666666666,
              "#ed7953"
             ],
             [
              0.7777777777777778,
              "#fb9f3a"
             ],
             [
              0.8888888888888888,
              "#fdca26"
             ],
             [
              1,
              "#f0f921"
             ]
            ],
            "type": "surface"
           }
          ],
          "table": [
           {
            "cells": {
             "fill": {
              "color": "#EBF0F8"
             },
             "line": {
              "color": "white"
             }
            },
            "header": {
             "fill": {
              "color": "#C8D4E3"
             },
             "line": {
              "color": "white"
             }
            },
            "type": "table"
           }
          ]
         },
         "layout": {
          "annotationdefaults": {
           "arrowcolor": "#2a3f5f",
           "arrowhead": 0,
           "arrowwidth": 1
          },
          "autotypenumbers": "strict",
          "coloraxis": {
           "colorbar": {
            "outlinewidth": 0,
            "ticks": ""
           }
          },
          "colorscale": {
           "diverging": [
            [
             0,
             "#8e0152"
            ],
            [
             0.1,
             "#c51b7d"
            ],
            [
             0.2,
             "#de77ae"
            ],
            [
             0.3,
             "#f1b6da"
            ],
            [
             0.4,
             "#fde0ef"
            ],
            [
             0.5,
             "#f7f7f7"
            ],
            [
             0.6,
             "#e6f5d0"
            ],
            [
             0.7,
             "#b8e186"
            ],
            [
             0.8,
             "#7fbc41"
            ],
            [
             0.9,
             "#4d9221"
            ],
            [
             1,
             "#276419"
            ]
           ],
           "sequential": [
            [
             0,
             "#0d0887"
            ],
            [
             0.1111111111111111,
             "#46039f"
            ],
            [
             0.2222222222222222,
             "#7201a8"
            ],
            [
             0.3333333333333333,
             "#9c179e"
            ],
            [
             0.4444444444444444,
             "#bd3786"
            ],
            [
             0.5555555555555556,
             "#d8576b"
            ],
            [
             0.6666666666666666,
             "#ed7953"
            ],
            [
             0.7777777777777778,
             "#fb9f3a"
            ],
            [
             0.8888888888888888,
             "#fdca26"
            ],
            [
             1,
             "#f0f921"
            ]
           ],
           "sequentialminus": [
            [
             0,
             "#0d0887"
            ],
            [
             0.1111111111111111,
             "#46039f"
            ],
            [
             0.2222222222222222,
             "#7201a8"
            ],
            [
             0.3333333333333333,
             "#9c179e"
            ],
            [
             0.4444444444444444,
             "#bd3786"
            ],
            [
             0.5555555555555556,
             "#d8576b"
            ],
            [
             0.6666666666666666,
             "#ed7953"
            ],
            [
             0.7777777777777778,
             "#fb9f3a"
            ],
            [
             0.8888888888888888,
             "#fdca26"
            ],
            [
             1,
             "#f0f921"
            ]
           ]
          },
          "colorway": [
           "#636efa",
           "#EF553B",
           "#00cc96",
           "#ab63fa",
           "#FFA15A",
           "#19d3f3",
           "#FF6692",
           "#B6E880",
           "#FF97FF",
           "#FECB52"
          ],
          "font": {
           "color": "#2a3f5f"
          },
          "geo": {
           "bgcolor": "white",
           "lakecolor": "white",
           "landcolor": "white",
           "showlakes": true,
           "showland": true,
           "subunitcolor": "#C8D4E3"
          },
          "hoverlabel": {
           "align": "left"
          },
          "hovermode": "closest",
          "mapbox": {
           "style": "light"
          },
          "paper_bgcolor": "white",
          "plot_bgcolor": "white",
          "polar": {
           "angularaxis": {
            "gridcolor": "#EBF0F8",
            "linecolor": "#EBF0F8",
            "ticks": ""
           },
           "bgcolor": "white",
           "radialaxis": {
            "gridcolor": "#EBF0F8",
            "linecolor": "#EBF0F8",
            "ticks": ""
           }
          },
          "scene": {
           "xaxis": {
            "backgroundcolor": "white",
            "gridcolor": "#DFE8F3",
            "gridwidth": 2,
            "linecolor": "#EBF0F8",
            "showbackground": true,
            "ticks": "",
            "zerolinecolor": "#EBF0F8"
           },
           "yaxis": {
            "backgroundcolor": "white",
            "gridcolor": "#DFE8F3",
            "gridwidth": 2,
            "linecolor": "#EBF0F8",
            "showbackground": true,
            "ticks": "",
            "zerolinecolor": "#EBF0F8"
           },
           "zaxis": {
            "backgroundcolor": "white",
            "gridcolor": "#DFE8F3",
            "gridwidth": 2,
            "linecolor": "#EBF0F8",
            "showbackground": true,
            "ticks": "",
            "zerolinecolor": "#EBF0F8"
           }
          },
          "shapedefaults": {
           "line": {
            "color": "#2a3f5f"
           }
          },
          "ternary": {
           "aaxis": {
            "gridcolor": "#DFE8F3",
            "linecolor": "#A2B1C6",
            "ticks": ""
           },
           "baxis": {
            "gridcolor": "#DFE8F3",
            "linecolor": "#A2B1C6",
            "ticks": ""
           },
           "bgcolor": "white",
           "caxis": {
            "gridcolor": "#DFE8F3",
            "linecolor": "#A2B1C6",
            "ticks": ""
           }
          },
          "title": {
           "x": 0.05
          },
          "xaxis": {
           "automargin": true,
           "gridcolor": "#EBF0F8",
           "linecolor": "#EBF0F8",
           "ticks": "",
           "title": {
            "standoff": 15
           },
           "zerolinecolor": "#EBF0F8",
           "zerolinewidth": 2
          },
          "yaxis": {
           "automargin": true,
           "gridcolor": "#EBF0F8",
           "linecolor": "#EBF0F8",
           "ticks": "",
           "title": {
            "standoff": 15
           },
           "zerolinecolor": "#EBF0F8",
           "zerolinewidth": 2
          }
         }
        },
        "title": {
         "text": "Curvas de transmitancia - Café de Oaxaca MM (Molienda mini)"
        },
        "xaxis": {
         "title": {
          "text": "Longitud de onda (nm)"
         }
        },
        "yaxis": {
         "title": {
          "text": "Transmitancia (%)"
         }
        }
       }
      }
     },
     "metadata": {},
     "output_type": "display_data"
    }
   ],
   "source": [
    "import pandas as pd\n",
    "import numpy as np\n",
    "import plotly.graph_objects as go\n",
    "from datetime import datetime\n",
    "import matplotlib.pyplot as plt\n",
    "import matplotlib.colors as mcolors\n",
    "\n",
    "# === Cargar archivo de transmitancia ===\n",
    "ruta = \"TOxMM_matrix.csv\"\n",
    "df = pd.read_csv(ruta)\n",
    "\n",
    "# === Columnas\n",
    "col_nm = [c for c in df.columns if 'nm' in c.lower()][0]\n",
    "col_transmitancia = [c for c in df.columns if c != col_nm]\n",
    "\n",
    "# === Regiones espectrales\n",
    "regiones = {\n",
    "    '100–200 nm': (100, 200),\n",
    "    '200–300 nm': (200, 300),\n",
    "    '300–400 nm': (300, 400),\n",
    "    '400–500 nm': (400, 500),\n",
    "    '500–600 nm': (500, 600),\n",
    "    '600–700 nm': (600, 700),\n",
    "    '700–800 nm': (700, 800)\n",
    "}\n",
    "\n",
    "# === Colores\n",
    "colormap_base = plt.get_cmap('tab10')\n",
    "colormap = colormap_base(np.linspace(0, 1, len(col_transmitancia)))\n",
    "colores_hex = [mcolors.to_hex(c) for c in colormap]\n",
    "\n",
    "# === Figura\n",
    "fig = go.Figure()\n",
    "fig.update_layout(\n",
    "    title=\"Curvas de transmitancia - Café de Oaxaca MM (Molienda mini)\",\n",
    "    xaxis_title=\"Longitud de onda (nm)\",\n",
    "    yaxis_title=\"Transmitancia (%)\",\n",
    "    legend_title=\"Curva\",\n",
    "    template=\"plotly_white\",\n",
    "    margin=dict(l=40, r=40, t=80, b=40),\n",
    ")\n",
    "\n",
    "# === Métricas\n",
    "metricas = []\n",
    "for i, col in enumerate(col_transmitancia):\n",
    "    datos = df[[col_nm, col]].dropna().rename(columns={col_nm: 'nm', col: 'transmitancia'})\n",
    "    datos['transmitancia'] = pd.to_numeric(datos['transmitancia'], errors='coerce')\n",
    "    datos = datos.dropna()\n",
    "    if datos.empty:\n",
    "        continue\n",
    "\n",
    "    fig.add_trace(go.Scatter(\n",
    "        x=datos['nm'],\n",
    "        y=datos['transmitancia'],\n",
    "        mode='lines',\n",
    "        name=col,\n",
    "        line=dict(color=colores_hex[i])\n",
    "    ))\n",
    "\n",
    "    max_val = datos['transmitancia'].max()\n",
    "    min_val = datos['transmitancia'].min()\n",
    "    avg = datos['transmitancia'].mean()\n",
    "    std = datos['transmitancia'].std()\n",
    "    auc = np.trapezoid(datos['transmitancia'], datos['nm'])\n",
    "    lambda_max = datos['nm'][datos['transmitancia'].idxmax()]\n",
    "    lambda_min = datos['nm'][datos['transmitancia'].idxmin()]\n",
    "\n",
    "    proms_reg = {}\n",
    "    for region, (a, b) in regiones.items():\n",
    "        reg_vals = datos.loc[(datos['nm'] >= a) & (datos['nm'] <= b), 'transmitancia']\n",
    "        proms_reg[region] = f\"{reg_vals.mean():.2f}\" if not reg_vals.empty else \"—\"\n",
    "\n",
    "    metricas.append({\n",
    "        'Color de curva': colores_hex[i],\n",
    "        'Curva': col,\n",
    "        'Máx (%T)': round(max_val, 2),\n",
    "        'Mín (%T)': round(min_val, 2),\n",
    "        'Promedio (%)': round(avg, 2),\n",
    "        'Desv. Std': round(std, 2),\n",
    "        'AUC': round(auc, 2),\n",
    "        'λ máx (nm)': round(lambda_max, 2),\n",
    "        'λ mín (nm)': round(lambda_min, 2),\n",
    "        **proms_reg\n",
    "    })\n",
    "\n",
    "# === Tabla HTML\n",
    "df_metricas = pd.DataFrame(metricas)\n",
    "tabla_html = \"<table class='styled-table'><thead><tr>\"\n",
    "for col in df_metricas.columns:\n",
    "    tabla_html += f\"<th>{col}</th>\"\n",
    "tabla_html += \"</tr></thead><tbody>\"\n",
    "for _, row in df_metricas.iterrows():\n",
    "    tabla_html += \"<tr>\"\n",
    "    for col in df_metricas.columns:\n",
    "        if col == \"Color de curva\":\n",
    "            tabla_html += f\"<td style='background-color:{row[col]};'></td>\"\n",
    "        else:\n",
    "            tabla_html += f\"<td>{row[col]}</td>\"\n",
    "    tabla_html += \"</tr>\"\n",
    "tabla_html += \"</tbody></table>\"\n",
    "\n",
    "# === HTML Final\n",
    "fecha = datetime.now().strftime('%d-%m-%Y %H:%M:%S')\n",
    "grafica_html = fig.to_html(full_html=False, include_plotlyjs='cdn')\n",
    "\n",
    "html_final = f\"\"\"\n",
    "<!DOCTYPE html>\n",
    "<html lang=\"es\">\n",
    "<head>\n",
    "  <meta charset=\"UTF-8\">\n",
    "  <title>Reporte de Transmitancia UV-Vis</title>\n",
    "  <meta name=\"viewport\" content=\"width=device-width, initial-scale=1.0\">\n",
    "  <style>\n",
    "    body {{\n",
    "      font-family: 'Segoe UI', Tahoma, sans-serif;\n",
    "      margin: 40px;\n",
    "      background-color: #fdfdfd;\n",
    "      color: #222;\n",
    "    }}\n",
    "    h1 {{\n",
    "      color: #111;\n",
    "    }}\n",
    "    h2 {{\n",
    "      margin-top: 40px;\n",
    "    }}\n",
    "    .info {{\n",
    "      margin-bottom: 20px;\n",
    "    }}\n",
    "    .lab {{\n",
    "      margin-top: 40px;\n",
    "      font-size: 0.95em;\n",
    "      background-color: #f0f8ff;\n",
    "      padding: 15px;\n",
    "      border-left: 6px solid #009879;\n",
    "    }}\n",
    "    .styled-table {{\n",
    "      border-collapse: collapse;\n",
    "      margin-top: 20px;\n",
    "      font-size: 1em;\n",
    "      width: 100%;\n",
    "      box-shadow: 0 0 10px rgba(0, 0, 0, 0.05);\n",
    "    }}\n",
    "    .styled-table thead tr {{\n",
    "      background-color: #009879;\n",
    "      color: #ffffff;\n",
    "      text-align: left;\n",
    "    }}\n",
    "    .styled-table th, .styled-table td {{\n",
    "      padding: 12px 15px;\n",
    "      border: 1px solid #ddd;\n",
    "      text-align: center;\n",
    "    }}\n",
    "    .styled-table tbody tr:nth-child(even) {{\n",
    "      background-color: #f3f3f3;\n",
    "    }}\n",
    "    .plotly-graph-div {{\n",
    "      width: 100% !important;\n",
    "      height: auto !important;\n",
    "    }}\n",
    "  </style>\n",
    "</head>\n",
    "<body>\n",
    "\n",
    "  <h1>Curvas de transmitancia - Café de Oaxaca MM (Molienda Mini)</h1> \n",
    "\n",
    "  <div class=\"info\">\n",
    "    <p><strong>Fecha:</strong> {fecha}</p>\n",
    "  </div>\n",
    "\n",
    "  {grafica_html}\n",
    "\n",
    "  <h2>Métricas espectrales por curva</h2>\n",
    "  {tabla_html}\n",
    "\n",
    "  <div>\n",
    "    <p>Las curvas de transmitancia permiten identificar la transparencia relativa de la muestra a lo largo del espectro. Una menor transmitancia puede sugerir absorción fuerte en ciertas regiones, lo cual es útil para análisis de compuestos activos presentes en el café.</p>\n",
    "  </div>\n",
    "\n",
    "  <div class=\"lab\">\n",
    "    <strong>Nombre del proyecto: CafeLab</strong><br><br>\n",
    "    <strong>Colaboradores:</strong><br>\n",
    "    Martín Rodolfo Palomino Merino – Profesor investigador, jefe responsable del laboratorio de caracterización de materiales (FCFM-BUAP).<br>\n",
    "    Lizeth Jazmín Orozco García – Colaborador principal.<br>\n",
    "    Julio Alfredo Ballinas García – Colaborador del proyecto.\n",
    "  </div>\n",
    "\n",
    "</body>\n",
    "</html>\n",
    "\"\"\"\n",
    "\n",
    "# === Guardar archivo\n",
    "with open(\"Comparativa_muestras_transmitancia.html\", \"w\", encoding=\"utf-8\") as f:\n",
    "    f.write(html_final)\n",
    "\n",
    "print(\"✅ HTML generado: Comparativa_muestras_transmitancia.html\")\n",
    "print(\"Rango de longitudes de onda:\", df['nm'].min(), \"a\", df['nm'].max())\n",
    "fig.show()"
   ]
  }
 ],
 "metadata": {
  "kernelspec": {
   "display_name": "ydata-env",
   "language": "python",
   "name": "python3"
  },
  "language_info": {
   "codemirror_mode": {
    "name": "ipython",
    "version": 3
   },
   "file_extension": ".py",
   "mimetype": "text/x-python",
   "name": "python",
   "nbconvert_exporter": "python",
   "pygments_lexer": "ipython3",
   "version": "3.11.8"
  }
 },
 "nbformat": 4,
 "nbformat_minor": 2
}
