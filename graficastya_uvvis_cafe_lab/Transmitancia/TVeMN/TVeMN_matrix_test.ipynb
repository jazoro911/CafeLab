{
 "cells": [
  {
   "cell_type": "code",
   "execution_count": 24,
   "metadata": {},
   "outputs": [
    {
     "name": "stdout",
     "output_type": "stream",
     "text": [
      "Archivo 'TVeMN_matrix.csv' creado con éxito\n"
     ]
    }
   ],
   "source": [
    "import pandas as pd\n",
    "import os\n",
    "import re\n",
    "\n",
    "# Detectamos los archivos csv válidos (los que tienen datos de absorbancia)\n",
    "archivos_csv = [f for f in os.listdir() if f.endswith('.csv') and f != 'TVeMN.csv']\n",
    "\n",
    "# Función para extraer gramaje del nombre del archivo\n",
    "def extraer_gramos(nombre):\n",
    "    match = re.search(r'(\\d+_?\\d*)g', nombre)\n",
    "    if match:\n",
    "        return float(match.group(1).replace('_', '.'))\n",
    "    return float('inf')\n",
    "\n",
    "# Ordenamos los archivos por gramaje (más limpio para visualizar después)\n",
    "archivos_ordenados = sorted(archivos_csv, key=extraer_gramos)\n",
    "\n",
    "# Leemos y procesamos los archivos\n",
    "dataframes = []\n",
    "for archivo in archivos_ordenados:\n",
    "    df = pd.read_csv(archivo, sep=None, engine='python')  # autodetecta separador\n",
    "    df = df[pd.to_numeric(df.iloc[:, 0], errors='coerce').notna()]\n",
    "    \n",
    "    nombre_columna = os.path.splitext(archivo)[0]\n",
    "    df.columns = ['nm', nombre_columna]\n",
    "    df[nombre_columna] = pd.to_numeric(df[nombre_columna], errors='coerce')\n",
    "    dataframes.append(df)\n",
    "\n",
    "# Unimos los datos por la columna de longitud de onda\n",
    "df_consolidado = dataframes[0]\n",
    "for df in dataframes[1:]:\n",
    "    df_consolidado = pd.merge(df_consolidado, df, on='nm', how='outer')\n",
    "\n",
    "# Guardamos el archivo final\n",
    "df_consolidado.to_csv('TVeMN_matrix.csv', index=False)\n",
    "\n",
    "print(\"Archivo 'TVeMN_matrix.csv' creado con éxito\")"
   ]
  },
  {
   "cell_type": "code",
   "execution_count": 25,
   "metadata": {},
   "outputs": [],
   "source": [
    "import pandas as pd\n",
    "datos=pd.read_csv(\"TVeMN_matrix.csv\")"
   ]
  },
  {
   "cell_type": "code",
   "execution_count": 26,
   "metadata": {},
   "outputs": [
    {
     "data": {
      "text/html": [
       "<div>\n",
       "<style scoped>\n",
       "    .dataframe tbody tr th:only-of-type {\n",
       "        vertical-align: middle;\n",
       "    }\n",
       "\n",
       "    .dataframe tbody tr th {\n",
       "        vertical-align: top;\n",
       "    }\n",
       "\n",
       "    .dataframe thead th {\n",
       "        text-align: right;\n",
       "    }\n",
       "</style>\n",
       "<table border=\"1\" class=\"dataframe\">\n",
       "  <thead>\n",
       "    <tr style=\"text-align: right;\">\n",
       "      <th></th>\n",
       "      <th>nm</th>\n",
       "      <th>TVeMN7_5g</th>\n",
       "      <th>TVeMN15g</th>\n",
       "      <th>TVeMN18g</th>\n",
       "      <th>TVeMN22_5g</th>\n",
       "    </tr>\n",
       "  </thead>\n",
       "  <tbody>\n",
       "    <tr>\n",
       "      <th>0</th>\n",
       "      <td>390.0</td>\n",
       "      <td>NaN</td>\n",
       "      <td>NaN</td>\n",
       "      <td>NaN</td>\n",
       "      <td>NaN</td>\n",
       "    </tr>\n",
       "    <tr>\n",
       "      <th>1</th>\n",
       "      <td>390.5</td>\n",
       "      <td>NaN</td>\n",
       "      <td>NaN</td>\n",
       "      <td>NaN</td>\n",
       "      <td>NaN</td>\n",
       "    </tr>\n",
       "    <tr>\n",
       "      <th>2</th>\n",
       "      <td>391.0</td>\n",
       "      <td>NaN</td>\n",
       "      <td>NaN</td>\n",
       "      <td>NaN</td>\n",
       "      <td>NaN</td>\n",
       "    </tr>\n",
       "    <tr>\n",
       "      <th>3</th>\n",
       "      <td>391.5</td>\n",
       "      <td>NaN</td>\n",
       "      <td>NaN</td>\n",
       "      <td>NaN</td>\n",
       "      <td>NaN</td>\n",
       "    </tr>\n",
       "    <tr>\n",
       "      <th>4</th>\n",
       "      <td>392.0</td>\n",
       "      <td>NaN</td>\n",
       "      <td>NaN</td>\n",
       "      <td>NaN</td>\n",
       "      <td>NaN</td>\n",
       "    </tr>\n",
       "  </tbody>\n",
       "</table>\n",
       "</div>"
      ],
      "text/plain": [
       "      nm  TVeMN7_5g  TVeMN15g  TVeMN18g  TVeMN22_5g\n",
       "0  390.0        NaN       NaN       NaN         NaN\n",
       "1  390.5        NaN       NaN       NaN         NaN\n",
       "2  391.0        NaN       NaN       NaN         NaN\n",
       "3  391.5        NaN       NaN       NaN         NaN\n",
       "4  392.0        NaN       NaN       NaN         NaN"
      ]
     },
     "execution_count": 26,
     "metadata": {},
     "output_type": "execute_result"
    }
   ],
   "source": [
    "datos.head()"
   ]
  },
  {
   "cell_type": "code",
   "execution_count": 27,
   "metadata": {},
   "outputs": [
    {
     "name": "stdout",
     "output_type": "stream",
     "text": [
      "<class 'pandas.core.frame.DataFrame'>\n",
      "RangeIndex: 821 entries, 0 to 820\n",
      "Data columns (total 5 columns):\n",
      " #   Column      Non-Null Count  Dtype  \n",
      "---  ------      --------------  -----  \n",
      " 0   nm          821 non-null    float64\n",
      " 1   TVeMN7_5g   353 non-null    float64\n",
      " 2   TVeMN15g    805 non-null    float64\n",
      " 3   TVeMN18g    353 non-null    float64\n",
      " 4   TVeMN22_5g  353 non-null    float64\n",
      "dtypes: float64(5)\n",
      "memory usage: 32.2 KB\n"
     ]
    }
   ],
   "source": [
    "datos.info()"
   ]
  },
  {
   "cell_type": "code",
   "execution_count": 28,
   "metadata": {},
   "outputs": [
    {
     "data": {
      "image/png": "[encoded data removed]",
      "text/plain": [
       "<Figure size 1200x600 with 1 Axes>"
      ]
     },
     "metadata": {},
     "output_type": "display_data"
    }
   ],
   "source": [
    "import pandas as pd\n",
    "import matplotlib.pyplot as plt\n",
    "import numpy as np\n",
    "\n",
    "# Cargamos el archivo con las mediciones de transmitancia almacenados en una matriz de datos\n",
    "df = pd.read_csv(\"TVeMN_matrix.csv\")\n",
    "\n",
    "# Limpiamos datos fuera del rango de %T [0, 100]\n",
    "for columna in df.columns[1:]:\n",
    "    df[columna] = pd.to_numeric(df[columna], errors='coerce')\n",
    "    df.loc[(df[columna] < 0) | (df[columna] > 100), columna] = None\n",
    "\n",
    "# Copiamos el DataFrame limpio\n",
    "df_clean = df.copy()\n",
    "\n",
    "# Obtenemos los valores máximos de cada curva\n",
    "maximos = {\n",
    "    columna: df_clean[columna].max(skipna=True)\n",
    "    for columna in df_clean.columns[1:]\n",
    "}\n",
    "\n",
    "# Ordenamos de mayor a menor para que la leyenda coincida con las curvas\n",
    "columnas_ordenadas = sorted(maximos, key=maximos.get, reverse=True)\n",
    "\n",
    "# Creamos figura\n",
    "plt.figure(figsize=(12, 6))\n",
    "\n",
    "# Dibujamos las curvas solo con valores válidos (sin NaNs)\n",
    "for columna in columnas_ordenadas:\n",
    "    datos_validos = df_clean[['nm', columna]].dropna()\n",
    "    plt.plot(datos_validos['nm'], datos_validos[columna], label=columna)\n",
    "\n",
    "# Etiquetas y estilo (estética de los ejes)\n",
    "plt.xlabel('Longitud de onda (nm)', fontsize=12)\n",
    "plt.ylabel('Transmitancia (%T)', fontsize=12)\n",
    "plt.title('Curvas de transmitancia - Café de Veracruz (Molienda normal)', fontsize=14)\n",
    "plt.legend(title='Muestras (gramos)', fontsize=10)\n",
    "plt.xticks(df['nm'][::50], rotation=45)\n",
    "plt.grid(True, linestyle='--', alpha=0.6)\n",
    "plt.tight_layout()\n",
    "plt.show()\n"
   ]
  },
  {
   "cell_type": "code",
   "execution_count": 29,
   "metadata": {},
   "outputs": [
    {
     "data": {
      "application/vnd.plotly.v1+json": {
       "config": {
        "plotlyServerURL": "https://plot.ly"
       },
       "data": [
        {
         "mode": "lines",
         "name": "TVeMN15g",
         "type": "scatter",
         "x": {
          "bdata": "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",
          "dtype": "f8"
         },
         "y": {
          "bdata": "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",
          "dtype": "f8"
         }
        },
        {
         "mode": "lines",
         "name": "TVeMN7_5g",
         "type": "scatter",
         "x": {
          "bdata": "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",
          "dtype": "f8"
         },
         "y": {
          "bdata": "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",
          "dtype": "f8"
         }
        },
        {
         "mode": "lines",
         "name": "TVeMN22_5g",
         "type": "scatter",
         "x": {
          "bdata": "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",
          "dtype": "f8"
         },
         "y": {
          "bdata": "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",
          "dtype": "f8"
         }
        },
        {
         "mode": "lines",
         "name": "TVeMN18g",
         "type": "scatter",
         "x": {
          "bdata": "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",
          "dtype": "f8"
         },
         "y": {
          "bdata": "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",
          "dtype": "f8"
         }
        }
       ],
       "layout": {
        "height": 500,
        "legend": {
         "title": {
          "text": "Muestras (gramos)"
         }
        },
        "template": {
         "data": {
          "bar": [
           {
            "error_x": {
             "color": "#2a3f5f"
            },
            "error_y": {
             "color": "#2a3f5f"
            },
            "marker": {
             "line": {
              "color": "white",
              "width": 0.5
             },
             "pattern": {
              "fillmode": "overlay",
              "size": 10,
              "solidity": 0.2
             }
            },
            "type": "bar"
           }
          ],
          "barpolar": [
           {
            "marker": {
             "line": {
              "color": "white",
              "width": 0.5
             },
             "pattern": {
              "fillmode": "overlay",
              "size": 10,
              "solidity": 0.2
             }
            },
            "type": "barpolar"
           }
          ],
          "carpet": [
           {
            "aaxis": {
             "endlinecolor": "#2a3f5f",
             "gridcolor": "#C8D4E3",
             "linecolor": "#C8D4E3",
             "minorgridcolor": "#C8D4E3",
             "startlinecolor": "#2a3f5f"
            },
            "baxis": {
             "endlinecolor": "#2a3f5f",
             "gridcolor": "#C8D4E3",
             "linecolor": "#C8D4E3",
             "minorgridcolor": "#C8D4E3",
             "startlinecolor": "#2a3f5f"
            },
            "type": "carpet"
           }
          ],
          "choropleth": [
           {
            "colorbar": {
             "outlinewidth": 0,
             "ticks": ""
            },
            "type": "choropleth"
           }
          ],
          "contour": [
           {
            "colorbar": {
             "outlinewidth": 0,
             "ticks": ""
            },
            "colorscale": [
             [
              0,
              "#0d0887"
             ],
             [
              0.1111111111111111,
              "#46039f"
             ],
             [
              0.2222222222222222,
              "#7201a8"
             ],
             [
              0.3333333333333333,
              "#9c179e"
             ],
             [
              0.4444444444444444,
              "#bd3786"
             ],
             [
              0.5555555555555556,
              "#d8576b"
             ],
             [
              0.6666666666666666,
              "#ed7953"
             ],
             [
              0.7777777777777778,
              "#fb9f3a"
             ],
             [
              0.8888888888888888,
              "#fdca26"
             ],
             [
              1,
              "#f0f921"
             ]
            ],
            "type": "contour"
           }
          ],
          "contourcarpet": [
           {
            "colorbar": {
             "outlinewidth": 0,
             "ticks": ""
            },
            "type": "contourcarpet"
           }
          ],
          "heatmap": [
           {
            "colorbar": {
             "outlinewidth": 0,
             "ticks": ""
            },
            "colorscale": [
             [
              0,
              "#0d0887"
             ],
             [
              0.1111111111111111,
              "#46039f"
             ],
             [
              0.2222222222222222,
              "#7201a8"
             ],
             [
              0.3333333333333333,
              "#9c179e"
             ],
             [
              0.4444444444444444,
              "#bd3786"
             ],
             [
              0.5555555555555556,
              "#d8576b"
             ],
             [
              0.6666666666666666,
              "#ed7953"
             ],
             [
              0.7777777777777778,
              "#fb9f3a"
             ],
             [
              0.8888888888888888,
              "#fdca26"
             ],
             [
              1,
              "#f0f921"
             ]
            ],
            "type": "heatmap"
           }
          ],
          "histogram": [
           {
            "marker": {
             "pattern": {
              "fillmode": "overlay",
              "size": 10,
              "solidity": 0.2
             }
            },
            "type": "histogram"
           }
          ],
          "histogram2d": [
           {
            "colorbar": {
             "outlinewidth": 0,
             "ticks": ""
            },
            "colorscale": [
             [
              0,
              "#0d0887"
             ],
             [
              0.1111111111111111,
              "#46039f"
             ],
             [
              0.2222222222222222,
              "#7201a8"
             ],
             [
              0.3333333333333333,
              "#9c179e"
             ],
             [
              0.4444444444444444,
              "#bd3786"
             ],
             [
              0.5555555555555556,
              "#d8576b"
             ],
             [
              0.6666666666666666,
              "#ed7953"
             ],
             [
              0.7777777777777778,
              "#fb9f3a"
             ],
             [
              0.8888888888888888,
              "#fdca26"
             ],
             [
              1,
              "#f0f921"
             ]
            ],
            "type": "histogram2d"
           }
          ],
          "histogram2dcontour": [
           {
            "colorbar": {
             "outlinewidth": 0,
             "ticks": ""
            },
            "colorscale": [
             [
              0,
              "#0d0887"
             ],
             [
              0.1111111111111111,
              "#46039f"
             ],
             [
              0.2222222222222222,
              "#7201a8"
             ],
             [
              0.3333333333333333,
              "#9c179e"
             ],
             [
              0.4444444444444444,
              "#bd3786"
             ],
             [
              0.5555555555555556,
              "#d8576b"
             ],
             [
              0.6666666666666666,
              "#ed7953"
             ],
             [
              0.7777777777777778,
              "#fb9f3a"
             ],
             [
              0.8888888888888888,
              "#fdca26"
             ],
             [
              1,
              "#f0f921"
             ]
            ],
            "type": "histogram2dcontour"
           }
          ],
          "mesh3d": [
           {
            "colorbar": {
             "outlinewidth": 0,
             "ticks": ""
            },
            "type": "mesh3d"
           }
          ],
          "parcoords": [
           {
            "line": {
             "colorbar": {
              "outlinewidth": 0,
              "ticks": ""
             }
            },
            "type": "parcoords"
           }
          ],
          "pie": [
           {
            "automargin": true,
            "type": "pie"
           }
          ],
          "scatter": [
           {
            "fillpattern": {
             "fillmode": "overlay",
             "size": 10,
             "solidity": 0.2
            },
            "type": "scatter"
           }
          ],
          "scatter3d": [
           {
            "line": {
             "colorbar": {
              "outlinewidth": 0,
              "ticks": ""
             }
            },
            "marker": {
             "colorbar": {
              "outlinewidth": 0,
              "ticks": ""
             }
            },
            "type": "scatter3d"
           }
          ],
          "scattercarpet": [
           {
            "marker": {
             "colorbar": {
              "outlinewidth": 0,
              "ticks": ""
             }
            },
            "type": "scattercarpet"
           }
          ],
          "scattergeo": [
           {
            "marker": {
             "colorbar": {
              "outlinewidth": 0,
              "ticks": ""
             }
            },
            "type": "scattergeo"
           }
          ],
          "scattergl": [
           {
            "marker": {
             "colorbar": {
              "outlinewidth": 0,
              "ticks": ""
             }
            },
            "type": "scattergl"
           }
          ],
          "scattermap": [
           {
            "marker": {
             "colorbar": {
              "outlinewidth": 0,
              "ticks": ""
             }
            },
            "type": "scattermap"
           }
          ],
          "scattermapbox": [
           {
            "marker": {
             "colorbar": {
              "outlinewidth": 0,
              "ticks": ""
             }
            },
            "type": "scattermapbox"
           }
          ],
          "scatterpolar": [
           {
            "marker": {
             "colorbar": {
              "outlinewidth": 0,
              "ticks": ""
             }
            },
            "type": "scatterpolar"
           }
          ],
          "scatterpolargl": [
           {
            "marker": {
             "colorbar": {
              "outlinewidth": 0,
              "ticks": ""
             }
            },
            "type": "scatterpolargl"
           }
          ],
          "scatterternary": [
           {
            "marker": {
             "colorbar": {
              "outlinewidth": 0,
              "ticks": ""
             }
            },
            "type": "scatterternary"
           }
          ],
          "surface": [
           {
            "colorbar": {
             "outlinewidth": 0,
             "ticks": ""
            },
            "colorscale": [
             [
              0,
              "#0d0887"
             ],
             [
              0.1111111111111111,
              "#46039f"
             ],
             [
              0.2222222222222222,
              "#7201a8"
             ],
             [
              0.3333333333333333,
              "#9c179e"
             ],
             [
              0.4444444444444444,
              "#bd3786"
             ],
             [
              0.5555555555555556,
              "#d8576b"
             ],
             [
              0.6666666666666666,
              "#ed7953"
             ],
             [
              0.7777777777777778,
              "#fb9f3a"
             ],
             [
              0.8888888888888888,
              "#fdca26"
             ],
             [
              1,
              "#f0f921"
             ]
            ],
            "type": "surface"
           }
          ],
          "table": [
           {
            "cells": {
             "fill": {
              "color": "#EBF0F8"
             },
             "line": {
              "color": "white"
             }
            },
            "header": {
             "fill": {
              "color": "#C8D4E3"
             },
             "line": {
              "color": "white"
             }
            },
            "type": "table"
           }
          ]
         },
         "layout": {
          "annotationdefaults": {
           "arrowcolor": "#2a3f5f",
           "arrowhead": 0,
           "arrowwidth": 1
          },
          "autotypenumbers": "strict",
          "coloraxis": {
           "colorbar": {
            "outlinewidth": 0,
            "ticks": ""
           }
          },
          "colorscale": {
           "diverging": [
            [
             0,
             "#8e0152"
            ],
            [
             0.1,
             "#c51b7d"
            ],
            [
             0.2,
             "#de77ae"
            ],
            [
             0.3,
             "#f1b6da"
            ],
            [
             0.4,
             "#fde0ef"
            ],
            [
             0.5,
             "#f7f7f7"
            ],
            [
             0.6,
             "#e6f5d0"
            ],
            [
             0.7,
             "#b8e186"
            ],
            [
             0.8,
             "#7fbc41"
            ],
            [
             0.9,
             "#4d9221"
            ],
            [
             1,
             "#276419"
            ]
           ],
           "sequential": [
            [
             0,
             "#0d0887"
            ],
            [
             0.1111111111111111,
             "#46039f"
            ],
            [
             0.2222222222222222,
             "#7201a8"
            ],
            [
             0.3333333333333333,
             "#9c179e"
            ],
            [
             0.4444444444444444,
             "#bd3786"
            ],
            [
             0.5555555555555556,
             "#d8576b"
            ],
            [
             0.6666666666666666,
             "#ed7953"
            ],
            [
             0.7777777777777778,
             "#fb9f3a"
            ],
            [
             0.8888888888888888,
             "#fdca26"
            ],
            [
             1,
             "#f0f921"
            ]
           ],
           "sequentialminus": [
            [
             0,
             "#0d0887"
            ],
            [
             0.1111111111111111,
             "#46039f"
            ],
            [
             0.2222222222222222,
             "#7201a8"
            ],
            [
             0.3333333333333333,
             "#9c179e"
            ],
            [
             0.4444444444444444,
             "#bd3786"
            ],
            [
             0.5555555555555556,
             "#d8576b"
            ],
            [
             0.6666666666666666,
             "#ed7953"
            ],
            [
             0.7777777777777778,
             "#fb9f3a"
            ],
            [
             0.8888888888888888,
             "#fdca26"
            ],
            [
             1,
             "#f0f921"
            ]
           ]
          },
          "colorway": [
           "#636efa",
           "#EF553B",
           "#00cc96",
           "#ab63fa",
           "#FFA15A",
           "#19d3f3",
           "#FF6692",
           "#B6E880",
           "#FF97FF",
           "#FECB52"
          ],
          "font": {
           "color": "#2a3f5f"
          },
          "geo": {
           "bgcolor": "white",
           "lakecolor": "white",
           "landcolor": "white",
           "showlakes": true,
           "showland": true,
           "subunitcolor": "#C8D4E3"
          },
          "hoverlabel": {
           "align": "left"
          },
          "hovermode": "closest",
          "mapbox": {
           "style": "light"
          },
          "paper_bgcolor": "white",
          "plot_bgcolor": "white",
          "polar": {
           "angularaxis": {
            "gridcolor": "#EBF0F8",
            "linecolor": "#EBF0F8",
            "ticks": ""
           },
           "bgcolor": "white",
           "radialaxis": {
            "gridcolor": "#EBF0F8",
            "linecolor": "#EBF0F8",
            "ticks": ""
           }
          },
          "scene": {
           "xaxis": {
            "backgroundcolor": "white",
            "gridcolor": "#DFE8F3",
            "gridwidth": 2,
            "linecolor": "#EBF0F8",
            "showbackground": true,
            "ticks": "",
            "zerolinecolor": "#EBF0F8"
           },
           "yaxis": {
            "backgroundcolor": "white",
            "gridcolor": "#DFE8F3",
            "gridwidth": 2,
            "linecolor": "#EBF0F8",
            "showbackground": true,
            "ticks": "",
            "zerolinecolor": "#EBF0F8"
           },
           "zaxis": {
            "backgroundcolor": "white",
            "gridcolor": "#DFE8F3",
            "gridwidth": 2,
            "linecolor": "#EBF0F8",
            "showbackground": true,
            "ticks": "",
            "zerolinecolor": "#EBF0F8"
           }
          },
          "shapedefaults": {
           "line": {
            "color": "#2a3f5f"
           }
          },
          "ternary": {
           "aaxis": {
            "gridcolor": "#DFE8F3",
            "linecolor": "#A2B1C6",
            "ticks": ""
           },
           "baxis": {
            "gridcolor": "#DFE8F3",
            "linecolor": "#A2B1C6",
            "ticks": ""
           },
           "bgcolor": "white",
           "caxis": {
            "gridcolor": "#DFE8F3",
            "linecolor": "#A2B1C6",
            "ticks": ""
           }
          },
          "title": {
           "x": 0.05
          },
          "xaxis": {
           "automargin": true,
           "gridcolor": "#EBF0F8",
           "linecolor": "#EBF0F8",
           "ticks": "",
           "title": {
            "standoff": 15
           },
           "zerolinecolor": "#EBF0F8",
           "zerolinewidth": 2
          },
          "yaxis": {
           "automargin": true,
           "gridcolor": "#EBF0F8",
           "linecolor": "#EBF0F8",
           "ticks": "",
           "title": {
            "standoff": 15
           },
           "zerolinecolor": "#EBF0F8",
           "zerolinewidth": 2
          }
         }
        },
        "title": {
         "text": "Curvas de transmitancia - Café de Veracruz (Molienda normal)"
        },
        "width": 1000,
        "xaxis": {
         "title": {
          "text": "Longitud de onda (nm)"
         }
        },
        "yaxis": {
         "title": {
          "text": "Transmitancia (%T)"
         }
        }
       }
      }
     },
     "metadata": {},
     "output_type": "display_data"
    }
   ],
   "source": [
    "import pandas as pd\n",
    "import plotly.graph_objects as go\n",
    "\n",
    "# Cargar el archivo CSV\n",
    "df = pd.read_csv(\"TVeMN_matrix.csv\")\n",
    "\n",
    "# Limpiar datos: convertir a numérico y limitar entre 0 y 100\n",
    "for col in df.columns[1:]:\n",
    "    df[col] = pd.to_numeric(df[col], errors='coerce')\n",
    "    df[col] = df[col].where((df[col] >= 0) & (df[col] <= 100))\n",
    "\n",
    "# Copia para procesar\n",
    "df_clean = df.copy()\n",
    "\n",
    "# Calcular máximos válidos por columna\n",
    "maximos = {\n",
    "    col: df_clean[col].max(skipna=True)\n",
    "    for col in df_clean.columns[1:]\n",
    "}\n",
    "\n",
    "# Ordenar de mayor a menor según valor máximo\n",
    "columnas_ordenadas = sorted(maximos, key=maximos.get, reverse=True)\n",
    "\n",
    "# Crear figura de Plotly\n",
    "fig = go.Figure()\n",
    "\n",
    "# Agregar cada curva a la figura\n",
    "for col in columnas_ordenadas:\n",
    "    datos_validos = df_clean[['nm', col]].dropna()\n",
    "    fig.add_trace(go.Scatter(\n",
    "        x=datos_validos['nm'],\n",
    "        y=datos_validos[col],\n",
    "        mode='lines',\n",
    "        name=col\n",
    "    ))\n",
    "\n",
    "# Estilo general de la gráfica\n",
    "fig.update_layout(\n",
    "    title=\"Curvas de transmitancia - Café de Veracruz (Molienda normal)\",\n",
    "    xaxis_title=\"Longitud de onda (nm)\",\n",
    "    yaxis_title=\"Transmitancia (%T)\",\n",
    "    legend_title=\"Muestras (gramos)\",\n",
    "    template=\"plotly_white\",\n",
    "    width=1000,\n",
    "    height=500\n",
    ")\n",
    "\n",
    "# Mostrar en notebook/editor\n",
    "fig.show()\n",
    "\n",
    "# Guardar como archivo interactivo HTML\n",
    "fig.write_html(\"grafica_transmitancia.html\")\n",
    "\n",
    "\n",
    "\n",
    "\n"
   ]
  },
  {
   "cell_type": "code",
   "execution_count": 30,
   "metadata": {},
   "outputs": [
    {
     "data": {
      "application/vnd.plotly.v1+json": {
       "config": {
        "plotlyServerURL": "https://plot.ly"
       },
       "data": [
        {
         "mode": "lines",
         "name": "TVeMN15g",
         "type": "scatter",
         "x": {
          "bdata": "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",
          "dtype": "f8"
         },
         "y": {
          "bdata": "iUFg5dBCP0AZBFYOLRI/QPCnxks3aT9AsHJoke0MQEDufD81XmpAQHe+nxovvUBAXI/C9SgMQUCe76fGS1dBQAAAAAAAkEFAYhBYObSoQUAtsp3vp6ZBQFK4HoXroUFAc2iR7XyvQUAEVg4tss1BQI2XbhKD8EFACKwcWmQbQkBcj8L1KFxCQP7UeOkmsUJAx0s3iUEAQ0B7FK5H4SpDQNNNYhBYKUNAnMQgsHIYQ0AxCKwcWiRDQFTjpZvEYENAmpmZmZm5Q0CsHFpkOw9EQBBYObTIVkRAYOXQItuZRECoxks3ieFEQEJg5dAiK0VAsHJoke1sRUB7FK5H4ZpFQLTIdr6fqkVAyXa+nxqfRUA1XrpJDJJFQDEIrBxapEVAWmQ730/dRUBqvHSTGCRGQHsUrkfhWkZAtMh2vp96RkD+1HjpJpFGQO58PzVeqkZAUI2XbhLDRkDVeOkmMdhGQNv5fmq89EZAqMZLN4khR0CR7Xw/NU5HQAIrhxbZXkdA+FPjpZtUR0C4HoXrUVhHQCGwcmiRjUdAEFg5tMjmR0B/arx0kzhIQARWDi2ybUhAyXa+nxqPSEDByqFFtqNIQHnpJjEIrEhACtejcD26SECamZmZmelIQC2yne+nNklAKVyPwvV4SUAZBFYOLZJJQL6fGi/dlElADAIrhxapSUDByqFFttNJQKRwPQrX80lArBxaZDv/SUC6SQwCKydKQGQ730+Np0pA16NwPQp3S0CsHFpkOy9MQJhuEoPAOkxATDeJQWA1S0CHFtnO92NJQAIrhxbZzkdAVOOlm8SAR0AX2c73U4NIQEjhehSu10lAgZVDi2x3SkBaZDvfTy1KQFpkO99PjUlACtejcD1aSUBvEoPAyvFJQPyp8dJNEktAQmDl0CILTEDNzMzMzDxMQB1aZDvfn0tAN4lBYOXQSkBeukkMAntKQDm0yHa+v0pA1XjpJjFIS0Av3SQGgcVLQI/C9ShcL0xAtvP91HiZTECHFtnO9wNNQHsUrkfhWk1AZDvfT42HTUBU46WbxIBNQNNNYhBYWU1AXI/C9Sg8TUC28/3UeElNQCcxCKwcek1A46WbxCCwTUDsUbgehdtNQDMzMzMzA05AbxKDwMoxTkBGtvP91GhOQMHKoUW2o05A1XjpJjHYTkBMN4lBYPVOQARWDi2y7U5A16NwPQrHTkA730+Nl55OQKJFtvP9lE5AN4lBYOWwTkC28/3UeNlOQGQ730+N905AaJHtfD8VT0Cyne+nxktPQAwCK4cWmU9A001iEFjZT0Bcj8L1KOxPQNejcD0K109Ax0s3iUHAT0AIrBxaZMtPQJ7vp8ZL909AYOXQItsRUEDRItv5fhpQQLx0kxgEFlBABFYOLbINUECLbOf7qQlQQI/C9ShcD1BA30+Nl24iUEDLoUW28z1QQJqZmZmZUVBAAiuHFtlOUEDD9ShcjzpQQH9qvHSTKFBA5dAi2/kmUEAhsHJokTVQQOXQItv5TlBAyXa+nxpvUEBI4XoUro9QQAAAAAAAqFBA+n5qvHSzUEAtsp3vp7ZQQCUGgZVDu1BATmIQWDnEUEDsUbgehctQQNnO91PjzVBAtvP91HjRUEA/NV66SdxQQArXo3A96lBA3SQGgZXzUEACK4cW2fZQQH9qvHST+FBAlkOLbOf7UEBxPQrXowBRQGQ730+NB1FAL90kBoEVUUBcj8L1KCxRQIlBYOXQQlFASgwCK4dOUUDTTWIQWFFRQBsv3SQGWVFA+FPjpZtsUUAUrkfheoRRQHNoke18l1FAEFg5tMimUUArhxbZzrdRQO58PzVeylFAx0s3iUHYUUCTGARWDt1RQF66SQwC21FAqMZLN4nZUUDn+6nx0t1RQGZmZmZm5lFAyXa+nxrvUUDLoUW28/VRQLbz/dR4+VFADi2yne/3UUAxCKwcWvRRQD0K16Nw9VFAke18PzX+UUDD9ShcjwpSQARWDi2yFVJAAiuHFtkeUkDwp8ZLNylSQOXQItv5NlJABFYOLbJFUkBzaJHtfE9SQFK4HoXrUVJAJzEIrBxSUkACK4cW2VZSQPLSTWIQYFJADi2yne9nUkCyne+nxmtSQPLSTWIQcFJA/tR46SZ5UkBOYhBYOYRSQMP1KFyPilJAmpmZmZmJUkAv3SQGgYVSQE5iEFg5hFJARIts5/uJUkAMAiuHFplSQKrx0k1isFJAmG4Sg8DKUkBEi2zn++FSQJhuEoPA8lJACKwcWmT7UkDhehSuR/lSQPYoXI/C7VJA0SLb+X7iUkBt5/up8eJSQBsv3SQG8VJAQmDl0CIDU0DLoUW28w1TQIXrUbgeDVNAsHJoke0EU0CsHFpkO/9SQL6fGi/dBFNAoBov3SQWU0Dwp8ZLNylTQHsUrkfhMlNA30+Nl24yU0DRItv5fjJTQMHKoUW2O1NAi2zn+6lJU0DFILByaFFTQH0/NV66UVNA6SYxCKxUU0DTTWIQWGFTQG3n+6nxclNAZDvfT41/U0CYbhKDwIJTQMl2vp8af1NAfT81Xrp5U0CsHFpkO3dTQPCnxks3eVNAukkMAit/U0BU46WbxIhTQIGVQ4tsl1NAGQRWDi2qU0DdJAaBlbtTQGZmZmZmxlNA30+Nl27KU0BQjZduEstTQCUGgZVDy1NABFYOLbLNU0CR7Xw/NdZTQEoMAiuH5lNAVOOlm8T4U0DfT42XbgJUQPLSTWIQAFRAUI2XbhL7U0CsHFpkO/9TQGq8dJMYDFRAEoPAyqEVVEDsUbgehRNUQH0/NV66CVRAJQaBlUMDVEAdWmQ73wdUQHNoke18F1RAhxbZzvcrVEB1kxgEVj5UQIlBYOXQSlRAVOOlm8RQVEDwp8ZLN1FUQPLSTWIQUFRAiUFg5dBSVEBcj8L1KFxUQPT91HjpZlRA7nw/NV5qVEAlBoGVQ2NUQGIQWDm0WFRASgwCK4dWVEDsUbgehWNUQEJg5dAie1RAYOXQItuRVEAtsp3vp55UQI2XbhKDoFRAeekmMQicVED0/dR46ZZUQCPb+X5qlFRAvp8aL92UVEArhxbZzpdUQCGwcmiRnVRAEoPAyqGlVECiRbbz/axUQAwCK4cWsVRAXI/C9Si0VEAK16NwPbpUQLTIdr6fwlRA8tJNYhDIVEBI4XoUrsdUQIXrUbgexVRASgwCK4fGVEBMN4lBYM1UQNv5fmq81FRAHVpkO9/XVEDFILByaNlUQNNNYhBY4VRARrbz/dTwVEBYObTIdv5UQAwCK4cWAVVA0SLb+X76VECTGARWDvVUQH9qvHST+FRABoGVQ4sEVUBQjZduEhNVQC2yne+nHlVAL90kBoElVUAOLbKd7ydVQK5H4XoUJlVAf2q8dJMgVUBCYOXQIhtVQF66SQwCG1VA4XoUrkchVUBg5dAi2ylVQHE9CtejMFVAPzVeukk0VUB3vp8aLzVVQLByaJHtNFVAWDm0yHY2VUAUrkfhejxVQJ7vp8ZLR1VAokW28/1UVUBSuB6F62FVQLTIdr6falVAdZMYBFZuVUCBlUOLbG9VQLgehetRcFVA30+Nl25yVUBzaJHtfHdVQPLSTWIQgFVAH4XrUbiGVUBt5/up8YJVQAisHFpkc1VA0SLb+X5iVUC+nxov3VxVQAaBlUOLZFVAxSCwcmhxVUDsUbgehXtVQCcxCKwcglVAj8L1KFyHVUAX2c73U4tVQNv5fmq8jFVAmG4Sg8CKVUBoke18P4VVQBKDwMqhfVVAGy/dJAZ5VUAhsHJokX1VQKRwPQrXi1VAIbByaJGdVUAGgZVDi6xVQFYOLbKdt1VAEFg5tMi+VUAQWDm0yL5VQMuhRbbztVVAexSuR+GqVUApXI/C9ahVQHe+nxovtVVAj8L1KFzHVUAZBFYOLdJVQLgehetR0FVAZmZmZmbGVUBEi2zn+7lVQIcW2c73q1VASgwCK4eeVUB9PzVeuplVQKJFtvP9pFVAke18PzW+VUBt5/up8dpVQPyp8dJN8lVARIts5/sBVkDByqFFtgtWQHE9CtejEFZAN4lBYOUQVkDn+6nx0g1WQHnpJjEIDFZArBxaZDsPVkBMN4lBYBVWQEa28/3UGFZAVg4tsp0XVkASg8DKoRVWQMl2vp8aF1ZApHA9CtcbVkBkO99PjR9WQOXQItv5HlZAsp3vp8YbVkBcj8L1KBxWQD81XrpJJFZA46WbxCAwVkD0/dR46TZWQFpkO99PNVZADAIrhxYxVkDFILByaDFWQKwcWmQ7N1ZA9ihcj8I9VkDTTWIQWEFWQBkEVg4tQlZAi2zn+6lBVkB/arx0k0BWQH9qvHSTQFZA2/l+arxEVkAhsHJokU1WQIPAyqFFVlZA1XjpJjFYVkB9PzVeulFWQI2XbhKDSFZAMQisHFpEVkA5tMh2vkdWQKAaL90kTlZA30+Nl25SVkBqvHSTGFRWQGiR7Xw/VVZAAiuHFtlWVkA5tMh2vldWQHNoke18V1ZA46WbxCBYVkDdJAaBlVtWQP7UeOkmYVZAke18PzVmVkDTTWIQWGlWQN0kBoGVa1ZA2c73U+NtVkCq8dJNYnBWQO58PzVeclZAexSuR+FyVkDTTWIQWHFWQIPAyqFFblZA0SLb+X5qVkCgGi/dJGZWQArXo3A9YlZA7nw/NV5iVkD+1HjpJmlWQLKd76fGc1ZAMQisHFp8VkC4HoXrUYBWQDVeukkMglZAFK5H4XqEVkBkO99PjYdWQMUgsHJoiVZAfT81XrqJVkDufD81XopWQJMYBFYOjVZAUrgeheuRVkCBlUOLbJdWQCPb+X5qnFZAuB6F61GgVkBSuB6F66FWQMdLN4lBoFZAokW28/2cVkDByqFFtptWQK5H4XoUnlZAiUFg5dCiVkBzaJHtfKdWQBkEVg4tqlZAYOXQItupVkAQWDm0yKZWQF66SQwCo1ZAGy/dJAahVkBvEoPAyqFWQKJFtvP9pFZA8KfGSzepVkB3vp8aL61WQH9qvHSTsFZApHA9CtezVkBWDi2ynbdWQPp+arx0u1ZAWDm0yHa+VkB/arx0k8BWQH0/NV66wVZAbxKDwMrBVkC28/3UeMFWQF66SQwCw1ZAgZVDi2zHVkB56SYxCMxWQCGwcmiRzVZAwcqhRbbLVkBiEFg5tMhWQEoMAiuHxlZABFYOLbLFVkCwcmiR7cRWQKabxCCwwlZAAAAAAADAVkApXI/C9cBWQLgehetRyFZAMzMzMzPTVkDsUbgehdtWQK5H4XoU3lZApHA9CtfbVkDJdr6fGtdWQPyp8dJN0lZAuB6F61HQVkAzMzMzM9NWQGDl0CLb2VZAHVpkO9/fVkDFILByaOFWQIPAyqFF3lZACtejcD3aVkDhehSuR9lWQEJg5dAi21ZAJQaBlUPbVkCe76fGS9dWQMHKoUW201ZA16NwPQrXVkApXI/C9eBWQCcxCKwc6lZAhxbZzvfrVkCDwMqhReZWQCGwcmiR3VZAO99PjZfWVkDP91PjpdNWQLByaJHt1FZA8KfGSzfZVkB1kxgEVt5WQPyp8dJN4lZAFK5H4XrkVkCuR+F6FOZWQClcj8L16FZAPQrXo3DtVkAnMQisHPJWQIXrUbge9VZABFYOLbL1VkD6fmq8dPNWQIGVQ4ts71ZAXI/C9SjsVkCyne+nxutWQHWTGARW7lZAbxKDwMrxVkAGgZVDi/RWQBBYObTI9lZANV66SQz6VkC8dJMYBP5WQI/C9Shc/1ZAsp3vp8b7VkCDwMqhRfZWQHnpJjEI9FZA9ihcj8L1VkBzaJHtfPdWQAIrhxbZ9lZAdZMYBFb2VkC28/3UePlWQA4tsp3v/1ZAdZMYBFYGV0BvEoPAyglXQDVeukkMCldAKVyPwvUIV0AbL90kBglXQAisHFpkC1dArkfhehQOV0Dn+6nx0g1XQMUgsHJoCVdA30+Nl24CV0DP91PjpftWQNV46SYx+FZAiUFg5dD6VkBeukkMAgNXQBfZzvdTC1dAPQrXo3ANV0DTTWIQWAlXQC/dJAaBBVdASgwCK4cGV0BeukkMAgtXQNejcD0KD1dAYOXQItsRV0CgGi/dJBZXQL6fGi/dHFdAmG4Sg8AiV0DP91PjpSNXQHNoke18H1dAbxKDwMoZV0B56SYxCBRXQJMYBFYODVdAEoPAyqEFV0B9PzVeugFXQGq8dJMYBFdAF9nO91MLV0Cyne+nxhNXQLTIdr6fGldAZDvfT40fV0DdJAaBlSNXQHWTGARWJldAvHSTGAQmV0DufD81XiJXQEoMAiuHHldA5/up8dIdV0DVeOkmMSBXQKabxCCwIldAw/UoXI8iV0DVeOkmMSBXQPYoXI/CHVdAvp8aL90cV0D2KFyPwh1XQMdLN4lBIFdAF9nO91MjV0Boke18PyVXQIXrUbgeJVdAXI/C9SgkV0B56SYxCCRXQIXrUbgeJVdA9P3UeOkmV0BvEoPAyilXQKAaL90kLldAMzMzMzMzV0AQWDm0yDZXQEoMAiuHNldA30+Nl24yV0B3vp8aLy1XQMP1KFyPKldAz/dT46UrV0BKDAIrhy5XQH9qvHSTMFdANV66SQwyV0D4U+OlmzRXQA4tsp3vN1dA4XoUrkc5V0A5tMh2vjdXQEoMAiuHNldA8tJNYhA4V0D8qfHSTTpXQGDl0CLbOVdASgwCK4c2V0AK16NwPTJXQHWTGARWLldAF9nO91MrV0CLbOf7qSlXQKjGSzeJKVdAw/UoXI8qV0C+nxov3SxXQA4tsp3vL1dAUI2XbhIzV0CDwMqhRTZXQKjGSzeJOVdAQmDl0CI7V0Dwp8ZLNzlXQK5H4XoUNldAWDm0yHY2V0CkcD0K1ztXQFK4HoXrQVdAhxbZzvdDV0AZBFYOLUJXQB1aZDvfP1dA5/up8dI9V0C0yHa+nzpXQHWTGARWNldAMzMzMzMzV0B7FK5H4TJXQL6fGi/dNFdAgZVDi2w3V0ApXI/C9ThXQGIQWDm0OFdArBxaZDs3V0D2KFyPwjVXQEw3iUFgNVdAAiuHFtk2V0C0yHa+nzpXQBsv3SQGQVdAqMZLN4lJV0Dwp8ZLN1FXQDMzMzMzU1dAhxbZzvdLV0BaZDvfTz1XQI/C9ShcL1dAexSuR+EqV0BvEoPAyjFXQBSuR+F6PFdAbxKDwMpBV0C4HoXrUUBXQKAaL90kPldAukkMAis/V0DhehSuR0FXQFK4HoXrQVdAexSuR+FCV0CwcmiR7URXQL6fGi/dRFdAqvHSTWJAV0BeukkMAjtXQESLbOf7OVdAkxgEVg49V0D0/dR46T5XQE5iEFg5PFdADi2yne83V0Dl0CLb+TZXQMP1KFyPOldASgwCK4c+V0CgGi/dJD5XQBsv3SQGOVdAPzVeukk0V0ASg8DKoTVXQK5H4XoUPldAVOOlm8RIV0BWDi2ynU9XQPLSTWIQUFdAsp3vp8ZLV0BmZmZmZkZXQDMzMzMzQ1dAarx0kxhEV0DhehSuR0lXQOF6FK5HUVdAnMQgsHJYV0CJQWDl0FpXQOOlm8QgWFdABoGVQ4tUV0BOYhBYOVRXQI/C9ShcV1dAF9nO91NbV0DNzMzMzFxXQBkEVg4tWldAEoPAyqFVV0AzMzMzM1NXQJZDi2znU1dAlkOLbOdTV0DVeOkmMVBXQOxRuB6FS1dAbef7qfFKV0BmZmZmZk5XQMUgsHJoUVdA4XoUrkdRV0A730+Nl05XQESLbOf7SVdAMzMzMzNDV0AxCKwcWjxXQLTIdr6fOldAN4lBYOVAV0BQjZduEktXQGDl0CLbUVdAbef7qfFSV0DufD81XlJXQCPb+X5qVFdAfT81XrpZV0Cq8dJNYmBXQPYoXI/CZVdAObTIdr5nV0BmZmZmZmZXQE5iEFg5ZFdAbef7qfFiV0AbL90kBmFXQKJFtvP9XFdAHVpkO99XV0BQjZduElNXQOf7qfHSTVdARrbz/dRIV0DVeOkmMUhXQDm0yHa+T1dAIbByaJFdV0D6fmq8dGtXQHnpJjEIdFdAZDvfT413V0B9PzVeunlXQD81XrpJfFdAPzVeukl8V0Dn+6nx0nVXQIts5/upaVdAL90kBoFdV0Atsp3vp1ZXQJHtfD81VldAbxKDwMpZV0AfhetRuF5XQCUGgZVDY1dA9P3UeOlmV0DfT42XbmpXQMuhRbbzbVdASOF6FK5vV0C8dJMYBG5XQDMzMzMza1dAlkOLbOdrV0CLbOf7qXFXQKrx0k1ieFdAtMh2vp96V0B1kxgEVnZXQAIrhxbZbldAi2zn+6lpV0BvEoPAymlXQAaBlUOLbFdAI9v5fmpsV0BmZmZmZmZXQLByaJHtXFdAkxgEVg5VV0AX2c73U1NXQBsv3SQGWVdAF9nO91NjV0DNzMzMzGxXQKjGSzeJcVdAN4lBYOVwV0DsUbgehWtXQHsUrkfhYldAtMh2vp9aV0Dl0CLb+VZXQJzEILByWFdApHA9CtdbV0CR7Xw/NV5XQI/C9ShcX1dAObTIdr5fV0AfhetRuF5XQHnpJjEIXFdAfT81XrpZV0D8qfHSTVpXQDvfT42XXldAy6FFtvNlV0DXo3A9Cm9XQNnO91PjdVdAd76fGi91V0A=",
          "dtype": "f8"
         }
        },
        {
         "mode": "lines",
         "name": "TVeMN7_5g",
         "type": "scatter",
         "x": {
          "bdata": "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",
          "dtype": "f8"
         },
         "y": {
          "bdata": "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",
          "dtype": "f8"
         }
        },
        {
         "mode": "lines",
         "name": "TVeMN22_5g",
         "type": "scatter",
         "x": {
          "bdata": "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",
          "dtype": "f8"
         },
         "y": {
          "bdata": "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",
          "dtype": "f8"
         }
        },
        {
         "mode": "lines",
         "name": "TVeMN18g",
         "type": "scatter",
         "x": {
          "bdata": "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",
          "dtype": "f8"
         },
         "y": {
          "bdata": "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",
          "dtype": "f8"
         }
        }
       ],
       "layout": {
        "autosize": true,
        "height": 500,
        "legend": {
         "title": {
          "text": "Muestras (gramos)"
         }
        },
        "margin": {
         "b": 60,
         "l": 60,
         "r": 40,
         "t": 60
        },
        "template": {
         "data": {
          "bar": [
           {
            "error_x": {
             "color": "#2a3f5f"
            },
            "error_y": {
             "color": "#2a3f5f"
            },
            "marker": {
             "line": {
              "color": "white",
              "width": 0.5
             },
             "pattern": {
              "fillmode": "overlay",
              "size": 10,
              "solidity": 0.2
             }
            },
            "type": "bar"
           }
          ],
          "barpolar": [
           {
            "marker": {
             "line": {
              "color": "white",
              "width": 0.5
             },
             "pattern": {
              "fillmode": "overlay",
              "size": 10,
              "solidity": 0.2
             }
            },
            "type": "barpolar"
           }
          ],
          "carpet": [
           {
            "aaxis": {
             "endlinecolor": "#2a3f5f",
             "gridcolor": "#C8D4E3",
             "linecolor": "#C8D4E3",
             "minorgridcolor": "#C8D4E3",
             "startlinecolor": "#2a3f5f"
            },
            "baxis": {
             "endlinecolor": "#2a3f5f",
             "gridcolor": "#C8D4E3",
             "linecolor": "#C8D4E3",
             "minorgridcolor": "#C8D4E3",
             "startlinecolor": "#2a3f5f"
            },
            "type": "carpet"
           }
          ],
          "choropleth": [
           {
            "colorbar": {
             "outlinewidth": 0,
             "ticks": ""
            },
            "type": "choropleth"
           }
          ],
          "contour": [
           {
            "colorbar": {
             "outlinewidth": 0,
             "ticks": ""
            },
            "colorscale": [
             [
              0,
              "#0d0887"
             ],
             [
              0.1111111111111111,
              "#46039f"
             ],
             [
              0.2222222222222222,
              "#7201a8"
             ],
             [
              0.3333333333333333,
              "#9c179e"
             ],
             [
              0.4444444444444444,
              "#bd3786"
             ],
             [
              0.5555555555555556,
              "#d8576b"
             ],
             [
              0.6666666666666666,
              "#ed7953"
             ],
             [
              0.7777777777777778,
              "#fb9f3a"
             ],
             [
              0.8888888888888888,
              "#fdca26"
             ],
             [
              1,
              "#f0f921"
             ]
            ],
            "type": "contour"
           }
          ],
          "contourcarpet": [
           {
            "colorbar": {
             "outlinewidth": 0,
             "ticks": ""
            },
            "type": "contourcarpet"
           }
          ],
          "heatmap": [
           {
            "colorbar": {
             "outlinewidth": 0,
             "ticks": ""
            },
            "colorscale": [
             [
              0,
              "#0d0887"
             ],
             [
              0.1111111111111111,
              "#46039f"
             ],
             [
              0.2222222222222222,
              "#7201a8"
             ],
             [
              0.3333333333333333,
              "#9c179e"
             ],
             [
              0.4444444444444444,
              "#bd3786"
             ],
             [
              0.5555555555555556,
              "#d8576b"
             ],
             [
              0.6666666666666666,
              "#ed7953"
             ],
             [
              0.7777777777777778,
              "#fb9f3a"
             ],
             [
              0.8888888888888888,
              "#fdca26"
             ],
             [
              1,
              "#f0f921"
             ]
            ],
            "type": "heatmap"
           }
          ],
          "histogram": [
           {
            "marker": {
             "pattern": {
              "fillmode": "overlay",
              "size": 10,
              "solidity": 0.2
             }
            },
            "type": "histogram"
           }
          ],
          "histogram2d": [
           {
            "colorbar": {
             "outlinewidth": 0,
             "ticks": ""
            },
            "colorscale": [
             [
              0,
              "#0d0887"
             ],
             [
              0.1111111111111111,
              "#46039f"
             ],
             [
              0.2222222222222222,
              "#7201a8"
             ],
             [
              0.3333333333333333,
              "#9c179e"
             ],
             [
              0.4444444444444444,
              "#bd3786"
             ],
             [
              0.5555555555555556,
              "#d8576b"
             ],
             [
              0.6666666666666666,
              "#ed7953"
             ],
             [
              0.7777777777777778,
              "#fb9f3a"
             ],
             [
              0.8888888888888888,
              "#fdca26"
             ],
             [
              1,
              "#f0f921"
             ]
            ],
            "type": "histogram2d"
           }
          ],
          "histogram2dcontour": [
           {
            "colorbar": {
             "outlinewidth": 0,
             "ticks": ""
            },
            "colorscale": [
             [
              0,
              "#0d0887"
             ],
             [
              0.1111111111111111,
              "#46039f"
             ],
             [
              0.2222222222222222,
              "#7201a8"
             ],
             [
              0.3333333333333333,
              "#9c179e"
             ],
             [
              0.4444444444444444,
              "#bd3786"
             ],
             [
              0.5555555555555556,
              "#d8576b"
             ],
             [
              0.6666666666666666,
              "#ed7953"
             ],
             [
              0.7777777777777778,
              "#fb9f3a"
             ],
             [
              0.8888888888888888,
              "#fdca26"
             ],
             [
              1,
              "#f0f921"
             ]
            ],
            "type": "histogram2dcontour"
           }
          ],
          "mesh3d": [
           {
            "colorbar": {
             "outlinewidth": 0,
             "ticks": ""
            },
            "type": "mesh3d"
           }
          ],
          "parcoords": [
           {
            "line": {
             "colorbar": {
              "outlinewidth": 0,
              "ticks": ""
             }
            },
            "type": "parcoords"
           }
          ],
          "pie": [
           {
            "automargin": true,
            "type": "pie"
           }
          ],
          "scatter": [
           {
            "fillpattern": {
             "fillmode": "overlay",
             "size": 10,
             "solidity": 0.2
            },
            "type": "scatter"
           }
          ],
          "scatter3d": [
           {
            "line": {
             "colorbar": {
              "outlinewidth": 0,
              "ticks": ""
             }
            },
            "marker": {
             "colorbar": {
              "outlinewidth": 0,
              "ticks": ""
             }
            },
            "type": "scatter3d"
           }
          ],
          "scattercarpet": [
           {
            "marker": {
             "colorbar": {
              "outlinewidth": 0,
              "ticks": ""
             }
            },
            "type": "scattercarpet"
           }
          ],
          "scattergeo": [
           {
            "marker": {
             "colorbar": {
              "outlinewidth": 0,
              "ticks": ""
             }
            },
            "type": "scattergeo"
           }
          ],
          "scattergl": [
           {
            "marker": {
             "colorbar": {
              "outlinewidth": 0,
              "ticks": ""
             }
            },
            "type": "scattergl"
           }
          ],
          "scattermap": [
           {
            "marker": {
             "colorbar": {
              "outlinewidth": 0,
              "ticks": ""
             }
            },
            "type": "scattermap"
           }
          ],
          "scattermapbox": [
           {
            "marker": {
             "colorbar": {
              "outlinewidth": 0,
              "ticks": ""
             }
            },
            "type": "scattermapbox"
           }
          ],
          "scatterpolar": [
           {
            "marker": {
             "colorbar": {
              "outlinewidth": 0,
              "ticks": ""
             }
            },
            "type": "scatterpolar"
           }
          ],
          "scatterpolargl": [
           {
            "marker": {
             "colorbar": {
              "outlinewidth": 0,
              "ticks": ""
             }
            },
            "type": "scatterpolargl"
           }
          ],
          "scatterternary": [
           {
            "marker": {
             "colorbar": {
              "outlinewidth": 0,
              "ticks": ""
             }
            },
            "type": "scatterternary"
           }
          ],
          "surface": [
           {
            "colorbar": {
             "outlinewidth": 0,
             "ticks": ""
            },
            "colorscale": [
             [
              0,
              "#0d0887"
             ],
             [
              0.1111111111111111,
              "#46039f"
             ],
             [
              0.2222222222222222,
              "#7201a8"
             ],
             [
              0.3333333333333333,
              "#9c179e"
             ],
             [
              0.4444444444444444,
              "#bd3786"
             ],
             [
              0.5555555555555556,
              "#d8576b"
             ],
             [
              0.6666666666666666,
              "#ed7953"
             ],
             [
              0.7777777777777778,
              "#fb9f3a"
             ],
             [
              0.8888888888888888,
              "#fdca26"
             ],
             [
              1,
              "#f0f921"
             ]
            ],
            "type": "surface"
           }
          ],
          "table": [
           {
            "cells": {
             "fill": {
              "color": "#EBF0F8"
             },
             "line": {
              "color": "white"
             }
            },
            "header": {
             "fill": {
              "color": "#C8D4E3"
             },
             "line": {
              "color": "white"
             }
            },
            "type": "table"
           }
          ]
         },
         "layout": {
          "annotationdefaults": {
           "arrowcolor": "#2a3f5f",
           "arrowhead": 0,
           "arrowwidth": 1
          },
          "autotypenumbers": "strict",
          "coloraxis": {
           "colorbar": {
            "outlinewidth": 0,
            "ticks": ""
           }
          },
          "colorscale": {
           "diverging": [
            [
             0,
             "#8e0152"
            ],
            [
             0.1,
             "#c51b7d"
            ],
            [
             0.2,
             "#de77ae"
            ],
            [
             0.3,
             "#f1b6da"
            ],
            [
             0.4,
             "#fde0ef"
            ],
            [
             0.5,
             "#f7f7f7"
            ],
            [
             0.6,
             "#e6f5d0"
            ],
            [
             0.7,
             "#b8e186"
            ],
            [
             0.8,
             "#7fbc41"
            ],
            [
             0.9,
             "#4d9221"
            ],
            [
             1,
             "#276419"
            ]
           ],
           "sequential": [
            [
             0,
             "#0d0887"
            ],
            [
             0.1111111111111111,
             "#46039f"
            ],
            [
             0.2222222222222222,
             "#7201a8"
            ],
            [
             0.3333333333333333,
             "#9c179e"
            ],
            [
             0.4444444444444444,
             "#bd3786"
            ],
            [
             0.5555555555555556,
             "#d8576b"
            ],
            [
             0.6666666666666666,
             "#ed7953"
            ],
            [
             0.7777777777777778,
             "#fb9f3a"
            ],
            [
             0.8888888888888888,
             "#fdca26"
            ],
            [
             1,
             "#f0f921"
            ]
           ],
           "sequentialminus": [
            [
             0,
             "#0d0887"
            ],
            [
             0.1111111111111111,
             "#46039f"
            ],
            [
             0.2222222222222222,
             "#7201a8"
            ],
            [
             0.3333333333333333,
             "#9c179e"
            ],
            [
             0.4444444444444444,
             "#bd3786"
            ],
            [
             0.5555555555555556,
             "#d8576b"
            ],
            [
             0.6666666666666666,
             "#ed7953"
            ],
            [
             0.7777777777777778,
             "#fb9f3a"
            ],
            [
             0.8888888888888888,
             "#fdca26"
            ],
            [
             1,
             "#f0f921"
            ]
           ]
          },
          "colorway": [
           "#636efa",
           "#EF553B",
           "#00cc96",
           "#ab63fa",
           "#FFA15A",
           "#19d3f3",
           "#FF6692",
           "#B6E880",
           "#FF97FF",
           "#FECB52"
          ],
          "font": {
           "color": "#2a3f5f"
          },
          "geo": {
           "bgcolor": "white",
           "lakecolor": "white",
           "landcolor": "white",
           "showlakes": true,
           "showland": true,
           "subunitcolor": "#C8D4E3"
          },
          "hoverlabel": {
           "align": "left"
          },
          "hovermode": "closest",
          "mapbox": {
           "style": "light"
          },
          "paper_bgcolor": "white",
          "plot_bgcolor": "white",
          "polar": {
           "angularaxis": {
            "gridcolor": "#EBF0F8",
            "linecolor": "#EBF0F8",
            "ticks": ""
           },
           "bgcolor": "white",
           "radialaxis": {
            "gridcolor": "#EBF0F8",
            "linecolor": "#EBF0F8",
            "ticks": ""
           }
          },
          "scene": {
           "xaxis": {
            "backgroundcolor": "white",
            "gridcolor": "#DFE8F3",
            "gridwidth": 2,
            "linecolor": "#EBF0F8",
            "showbackground": true,
            "ticks": "",
            "zerolinecolor": "#EBF0F8"
           },
           "yaxis": {
            "backgroundcolor": "white",
            "gridcolor": "#DFE8F3",
            "gridwidth": 2,
            "linecolor": "#EBF0F8",
            "showbackground": true,
            "ticks": "",
            "zerolinecolor": "#EBF0F8"
           },
           "zaxis": {
            "backgroundcolor": "white",
            "gridcolor": "#DFE8F3",
            "gridwidth": 2,
            "linecolor": "#EBF0F8",
            "showbackground": true,
            "ticks": "",
            "zerolinecolor": "#EBF0F8"
           }
          },
          "shapedefaults": {
           "line": {
            "color": "#2a3f5f"
           }
          },
          "ternary": {
           "aaxis": {
            "gridcolor": "#DFE8F3",
            "linecolor": "#A2B1C6",
            "ticks": ""
           },
           "baxis": {
            "gridcolor": "#DFE8F3",
            "linecolor": "#A2B1C6",
            "ticks": ""
           },
           "bgcolor": "white",
           "caxis": {
            "gridcolor": "#DFE8F3",
            "linecolor": "#A2B1C6",
            "ticks": ""
           }
          },
          "title": {
           "x": 0.05
          },
          "xaxis": {
           "automargin": true,
           "gridcolor": "#EBF0F8",
           "linecolor": "#EBF0F8",
           "ticks": "",
           "title": {
            "standoff": 15
           },
           "zerolinecolor": "#EBF0F8",
           "zerolinewidth": 2
          },
          "yaxis": {
           "automargin": true,
           "gridcolor": "#EBF0F8",
           "linecolor": "#EBF0F8",
           "ticks": "",
           "title": {
            "standoff": 15
           },
           "zerolinecolor": "#EBF0F8",
           "zerolinewidth": 2
          }
         }
        },
        "title": {
         "text": "Curvas de transmitancia - Café de Veracruz (Molienda normal)"
        },
        "xaxis": {
         "title": {
          "text": "Longitud de onda (nm)"
         }
        },
        "yaxis": {
         "title": {
          "text": "Transmitancia (%T)"
         }
        }
       }
      }
     },
     "metadata": {},
     "output_type": "display_data"
    }
   ],
   "source": [
    "import pandas as pd\n",
    "import plotly.graph_objects as go\n",
    "\n",
    "# Cargar el archivo CSV\n",
    "df = pd.read_csv(\"TVeMN_matrix.csv\")\n",
    "\n",
    "# Limpiar datos: convertir a numérico y limitar entre 0 y 100\n",
    "for col in df.columns[1:]:\n",
    "    df[col] = pd.to_numeric(df[col], errors='coerce')\n",
    "    df[col] = df[col].where((df[col] >= 0) & (df[col] <= 100))\n",
    "\n",
    "# Copia para procesar\n",
    "df_clean = df.copy()\n",
    "\n",
    "# Calcular máximos válidos por columna\n",
    "maximos = {\n",
    "    col: df_clean[col].max(skipna=True)\n",
    "    for col in df_clean.columns[1:]\n",
    "}\n",
    "\n",
    "# Ordenar de mayor a menor según valor máximo\n",
    "columnas_ordenadas = sorted(maximos, key=maximos.get, reverse=True)\n",
    "\n",
    "# Crear figura de Plotly\n",
    "fig = go.Figure()\n",
    "\n",
    "# Agregar cada curva a la figura\n",
    "for col in columnas_ordenadas:\n",
    "    datos_validos = df_clean[['nm', col]].dropna()\n",
    "    fig.add_trace(go.Scatter(\n",
    "        x=datos_validos['nm'],\n",
    "        y=datos_validos[col],\n",
    "        mode='lines',\n",
    "        name=col\n",
    "    ))\n",
    "\n",
    "# Estilo general de la gráfica con autosize\n",
    "fig.update_layout(\n",
    "    title=\"Curvas de transmitancia - Café de Veracruz (Molienda normal)\",\n",
    "    xaxis_title=\"Longitud de onda (nm)\",\n",
    "    yaxis_title=\"Transmitancia (%T)\",\n",
    "    legend_title=\"Muestras (gramos)\",\n",
    "    template=\"plotly_white\",\n",
    "    autosize=True,\n",
    "    height=500,\n",
    "    margin=dict(l=60, r=40, t=60, b=60)\n",
    ")\n",
    "\n",
    "# Guardar como archivo HTML interactivo\n",
    "fig.write_html(\"grafica_transmitancia.html\")\n",
    "\n",
    "# Mostrar en Jupyter/VSCode\n",
    "fig.show()\n",
    "\n"
   ]
  },
  {
   "cell_type": "code",
   "execution_count": 31,
   "metadata": {},
   "outputs": [
    {
     "name": "stdout",
     "output_type": "stream",
     "text": [
      "✅ Reporte HTML enriquecido guardado como 'reporte_transmitancia.html'\n"
     ]
    }
   ],
   "source": [
    "import pandas as pd\n",
    "import plotly.graph_objects as go\n",
    "from datetime import datetime\n",
    "\n",
    "# Cargar el archivo CSV\n",
    "df = pd.read_csv(\"TVeMN_matrix.csv\")\n",
    "\n",
    "# Limpiar datos: convertir a numérico y limitar entre 0 y 100\n",
    "for col in df.columns[1:]:\n",
    "    df[col] = pd.to_numeric(df[col], errors='coerce')\n",
    "    df[col] = df[col].where((df[col] >= 0) & (df[col] <= 100))\n",
    "\n",
    "df_clean = df.copy()\n",
    "\n",
    "# Calcular máximos válidos por columna\n",
    "maximos = {\n",
    "    col: df_clean[col].max(skipna=True)\n",
    "    for col in df_clean.columns[1:]\n",
    "}\n",
    "columnas_ordenadas = sorted(maximos, key=maximos.get, reverse=True)\n",
    "\n",
    "# Crear gráfica con Plotly\n",
    "fig = go.Figure()\n",
    "for col in columnas_ordenadas:\n",
    "    datos_validos = df_clean[['nm', col]].dropna()\n",
    "    fig.add_trace(go.Scatter(x=datos_validos['nm'], y=datos_validos[col],\n",
    "                             mode='lines', name=col))\n",
    "\n",
    "fig.update_layout(\n",
    "    title=\"Curvas de transmitancia - Café de Veracruz (Molienda normal)\",\n",
    "    xaxis_title=\"Longitud de onda (nm)\",\n",
    "    yaxis_title=\"Transmitancia (%T)\",\n",
    "    legend_title=\"Muestras (gramos)\",\n",
    "    template=\"plotly_white\",\n",
    "    autosize=True,\n",
    "    height=500,\n",
    "    margin=dict(l=60, r=40, t=60, b=60)\n",
    ")\n",
    "\n",
    "# Exportar la gráfica como HTML en string\n",
    "graph_html = fig.to_html(full_html=False, include_plotlyjs='cdn')\n",
    "\n",
    "# Crear tabla de máximos como HTML\n",
    "tabla_maximos = pd.DataFrame({\n",
    "    \"Muestra (g)\": list(maximos.keys()),\n",
    "    \"Transmitancia Máxima (%)\": list(maximos.values())\n",
    "}).sort_values(by=\"Transmitancia Máxima (%)\", ascending=False)\n",
    "\n",
    "tabla_html = tabla_maximos.to_html(index=False, border=0, classes=\"tabla-datos\")\n",
    "\n",
    "# HTML completo enriquecido\n",
    "html_completo = f\"\"\"\n",
    "<!DOCTYPE html>\n",
    "<html>\n",
    "<head>\n",
    "    <meta charset=\"utf-8\">\n",
    "    <title>Reporte UV-Vis - Café de Veracruz</title>\n",
    "    <style>\n",
    "        body {{\n",
    "            font-family: \"Segoe UI\", sans-serif;\n",
    "            margin: 40px;\n",
    "            background-color: #fdfdfd;\n",
    "        }}\n",
    "        h1 {{\n",
    "            color: #2c3e50;\n",
    "        }}\n",
    "        .tabla-datos {{\n",
    "            border-collapse: collapse;\n",
    "            width: 50%;\n",
    "            margin-top: 20px;\n",
    "        }}\n",
    "        .tabla-datos th, .tabla-datos td {{\n",
    "            border: 1px solid #ccc;\n",
    "            padding: 8px;\n",
    "            text-align: center;\n",
    "        }}\n",
    "        .tabla-datos th {{\n",
    "            background-color: #e0e0e0;\n",
    "        }}\n",
    "    </style>\n",
    "</head>\n",
    "<body>\n",
    "    <h1>Reporte de Transmitancia UV-Vis</h1>\n",
    "    <p><strong>Origen:</strong> Café de Veracruz (Molienda normal)</p>\n",
    "    <p><strong>Fecha:</strong> {datetime.now().strftime('%d-%m-%Y %H:%M:%S')}</p>\n",
    "\n",
    "    <!-- Gráfica interactiva -->\n",
    "    {graph_html}\n",
    "\n",
    "    <!-- Tabla resumen -->\n",
    "    <h2>Transmitancia máxima por muestra</h2>\n",
    "    {tabla_html}\n",
    "\n",
    "</body>\n",
    "</html>\n",
    "\"\"\"\n",
    "\n",
    "# Guardar HTML completo\n",
    "with open(\"reporte_transmitancia.html\", \"w\", encoding=\"utf-8\") as f:\n",
    "    f.write(html_completo)\n",
    "\n",
    "print(\"✅ Reporte HTML enriquecido guardado como 'reporte_transmitancia.html'\")\n"
   ]
  },
  {
   "cell_type": "code",
   "execution_count": 32,
   "metadata": {},
   "outputs": [
    {
     "name": "stdout",
     "output_type": "stream",
     "text": [
      "✅ Reporte generado: reporte_transmitancia.html\n"
     ]
    }
   ],
   "source": [
    "import pandas as pd\n",
    "import plotly.graph_objects as go\n",
    "from datetime import datetime\n",
    "\n",
    "# === Cargar datos ===\n",
    "df = pd.read_csv(\"TVeMN_matrix.csv\")\n",
    "\n",
    "# === Limpiar datos ===\n",
    "for col in df.columns[1:]:\n",
    "    df[col] = pd.to_numeric(df[col], errors='coerce')\n",
    "    df[col] = df[col].where((df[col] >= 0) & (df[col] <= 100))\n",
    "\n",
    "df_clean = df.copy()\n",
    "\n",
    "# === Obtener máximos ===\n",
    "maximos = {\n",
    "    col: df_clean[col].max(skipna=True)\n",
    "    for col in df_clean.columns[1:]\n",
    "}\n",
    "tabla_maximos = pd.DataFrame.from_dict(maximos, orient=\"index\", columns=[\"Transmitancia Máxima (%)\"])\n",
    "tabla_maximos.index.name = \"Muestra (g)\"\n",
    "tabla_maximos = tabla_maximos.reset_index()\n",
    "tabla_maximos[\"Transmitancia Máxima (%)\"] = tabla_maximos[\"Transmitancia Máxima (%)\"].map(\"{:.2f}\".format)\n",
    "\n",
    "# === Crear gráfica ===\n",
    "fig = go.Figure()\n",
    "columnas_ordenadas = sorted(maximos, key=maximos.get, reverse=True)\n",
    "\n",
    "for col in columnas_ordenadas:\n",
    "    datos_validos = df_clean[['nm', col]].dropna()\n",
    "    fig.add_trace(go.Scatter(\n",
    "        x=datos_validos['nm'],\n",
    "        y=datos_validos[col],\n",
    "        mode='lines',\n",
    "        name=col\n",
    "    ))\n",
    "\n",
    "fig.update_layout(\n",
    "    title=\"Curvas de transmitancia - Café de Veracruz (Molienda normal)\",\n",
    "    xaxis_title=\"Longitud de onda (nm)\",\n",
    "    yaxis_title=\"Transmitancia (%T)\",\n",
    "    legend_title=\"Muestras (gramos)\",\n",
    "    template=\"plotly_white\",\n",
    "    autosize=True\n",
    ")\n",
    "\n",
    "# === Exportar como HTML ===\n",
    "fecha_actual = datetime.now().strftime(\"%d-%m-%Y %H:%M:%S\")\n",
    "html_grafica = fig.to_html(full_html=False, include_plotlyjs='cdn')\n",
    "\n",
    "tabla_html = tabla_maximos.to_html(index=False, classes=\"styled-table\", border=0)\n",
    "\n",
    "html_total = f\"\"\"\n",
    "<!DOCTYPE html>\n",
    "<html lang=\"es\">\n",
    "<head>\n",
    "  <meta charset=\"UTF-8\">\n",
    "  <title>Reporte de Transmitancia UV-Vis</title>\n",
    "  <style>\n",
    "    body {{\n",
    "      font-family: 'Segoe UI', Tahoma, Geneva, Verdana, sans-serif;\n",
    "      margin: 40px;\n",
    "    }}\n",
    "    h1 {{\n",
    "      color: #222;\n",
    "    }}\n",
    "    .info {{\n",
    "      margin-bottom: 20px;\n",
    "    }}\n",
    "    .styled-table {{\n",
    "      border-collapse: collapse;\n",
    "      margin-top: 20px;\n",
    "      font-size: 1em;\n",
    "      width: 100%;\n",
    "      box-shadow: 0 0 10px rgba(0, 0, 0, 0.1);\n",
    "    }}\n",
    "    .styled-table thead tr {{\n",
    "      background-color: #009879;\n",
    "      color: #ffffff;\n",
    "      text-align: left;\n",
    "    }}\n",
    "    .styled-table th, .styled-table td {{\n",
    "      padding: 12px 15px;\n",
    "      border: 1px solid #ddd;\n",
    "    }}\n",
    "    .styled-table tbody tr:nth-child(even) {{\n",
    "      background-color: #f3f3f3;\n",
    "    }}\n",
    "    .conclusion {{\n",
    "      margin-top: 40px;\n",
    "    }}\n",
    "  </style>\n",
    "</head>\n",
    "<body>\n",
    "  <h1>Reporte de Transmitancia UV-Vis</h1>\n",
    "\n",
    "  <div class=\"info\">\n",
    "    <p><strong>Origen:</strong> Café de Veracruz (Molienda normal)</p>\n",
    "    <p><strong>Fecha:</strong> {fecha_actual}</p>\n",
    "  </div>\n",
    "\n",
    "  {html_grafica}\n",
    "\n",
    "  <h2>Transmitancia máxima por muestra</h2>\n",
    "  {tabla_html}\n",
    "\n",
    "  <div class=\"conclusion\">\n",
    "    <h2>Conclusión</h2>\n",
    "    <p>Las muestras con menor gramaje presentan mayor transmitancia, lo cual sugiere una menor absorción de luz debida a una concentración más baja de compuestos absorbentes. Este resultado es coherente con fenómenos ópticos observados en análisis de café mediante espectroscopía UV-Vis.</p>\n",
    "  </div>\n",
    "\n",
    "</body>\n",
    "</html>\n",
    "\"\"\"\n",
    "\n",
    "with open(\"reporte_transmitancia.html\", \"w\", encoding=\"utf-8\") as f:\n",
    "    f.write(html_total)\n",
    "\n",
    "print(\"✅ Reporte generado: reporte_transmitancia.html\")\n"
   ]
  },
  {
   "cell_type": "code",
   "execution_count": 33,
   "metadata": {},
   "outputs": [
    {
     "name": "stdout",
     "output_type": "stream",
     "text": [
      "✅ Reporte generado: reporte_transmitancia_cafelab.html\n"
     ]
    }
   ],
   "source": [
    "import pandas as pd\n",
    "import plotly.graph_objects as go\n",
    "from datetime import datetime\n",
    "\n",
    "# === Cargar datos ===\n",
    "df = pd.read_csv(\"TVeMN_matrix.csv\")\n",
    "\n",
    "# === Limpiar datos ===\n",
    "for col in df.columns[1:]:\n",
    "    df[col] = pd.to_numeric(df[col], errors='coerce')\n",
    "    df[col] = df[col].where((df[col] >= 0) & (df[col] <= 100))\n",
    "\n",
    "df_clean = df.copy()\n",
    "\n",
    "# === Obtener máximos ===\n",
    "maximos = {\n",
    "    col: df_clean[col].max(skipna=True)\n",
    "    for col in df_clean.columns[1:]\n",
    "}\n",
    "tabla_maximos = pd.DataFrame.from_dict(maximos, orient=\"index\", columns=[\"Transmitancia Máxima (%)\"])\n",
    "tabla_maximos.index.name = \"Muestra (g)\"\n",
    "tabla_maximos = tabla_maximos.reset_index()\n",
    "tabla_maximos[\"Transmitancia Máxima (%)\"] = tabla_maximos[\"Transmitancia Máxima (%)\"].map(\"{:.2f}\".format)\n",
    "\n",
    "# === Crear gráfica ===\n",
    "fig = go.Figure()\n",
    "columnas_ordenadas = sorted(maximos, key=maximos.get, reverse=True)\n",
    "\n",
    "for col in columnas_ordenadas:\n",
    "    datos_validos = df_clean[['nm', col]].dropna()\n",
    "    fig.add_trace(go.Scatter(\n",
    "        x=datos_validos['nm'],\n",
    "        y=datos_validos[col],\n",
    "        mode='lines',\n",
    "        name=col\n",
    "    ))\n",
    "\n",
    "fig.update_layout(\n",
    "    title=\"Curvas de transmitancia - Café de Veracruz (Molienda normal)\",\n",
    "    xaxis_title=\"Longitud de onda (nm)\",\n",
    "    yaxis_title=\"Transmitancia (%T)\",\n",
    "    legend_title=\"Muestras (gramos)\",\n",
    "    template=\"plotly_white\",\n",
    "    autosize=True\n",
    ")\n",
    "\n",
    "# === Exportar como HTML ===\n",
    "fecha_actual = datetime.now().strftime(\"%d-%m-%Y %H:%M:%S\")\n",
    "html_grafica = fig.to_html(full_html=False, include_plotlyjs='cdn')\n",
    "tabla_html = tabla_maximos.to_html(index=False, classes=\"styled-table\", border=0)\n",
    "\n",
    "html_total = f\"\"\"\n",
    "<!DOCTYPE html>\n",
    "<html lang=\"es\">\n",
    "<head>\n",
    "  <meta charset=\"UTF-8\">\n",
    "  <title>Reporte de Transmitancia UV-Vis | CafeLab</title>\n",
    "  <style>\n",
    "    body {{\n",
    "      font-family: 'Segoe UI', Tahoma, Geneva, Verdana, sans-serif;\n",
    "      margin: 40px;\n",
    "      background-color: #fdfdfd;\n",
    "      color: #222;\n",
    "    }}\n",
    "    h1 {{\n",
    "      color: #1b1b1b;\n",
    "      margin-bottom: 5px;\n",
    "    }}\n",
    "    h2 {{\n",
    "      color: #333;\n",
    "      margin-top: 40px;\n",
    "    }}\n",
    "    .info {{\n",
    "      margin-bottom: 25px;\n",
    "    }}\n",
    "    .info p {{\n",
    "      margin: 4px 0;\n",
    "    }}\n",
    "    .styled-table {{\n",
    "      border-collapse: collapse;\n",
    "      margin-top: 20px;\n",
    "      font-size: 1em;\n",
    "      width: 100%;\n",
    "      box-shadow: 0 0 10px rgba(0, 0, 0, 0.08);\n",
    "    }}\n",
    "    .styled-table thead tr {{\n",
    "      background-color: #00795f;\n",
    "      color: #ffffff;\n",
    "      text-align: left;\n",
    "    }}\n",
    "    .styled-table th, .styled-table td {{\n",
    "      padding: 12px 15px;\n",
    "      border: 1px solid #ddd;\n",
    "    }}\n",
    "    .styled-table tbody tr:nth-child(even) {{\n",
    "      background-color: #f3f3f3;\n",
    "    }}\n",
    "    .footer {{\n",
    "      margin-top: 60px;\n",
    "      font-size: 0.95em;\n",
    "      color: #444;\n",
    "    }}\n",
    "    .footer h3 {{\n",
    "      margin-bottom: 5px;\n",
    "    }}\n",
    "    .footer p {{\n",
    "      margin: 2px 0;\n",
    "    }}\n",
    "    .conclusion {{\n",
    "      margin-top: 40px;\n",
    "    }}\n",
    "  </style>\n",
    "</head>\n",
    "<body>\n",
    "  <h1>Reporte de Transmitancia UV-Vis</h1>\n",
    "\n",
    "  <div class=\"info\">\n",
    "    <p><strong>Origen:</strong> Café de Veracruz (Molienda normal)</p>\n",
    "    <p><strong>Fecha de generación:</strong> {fecha_actual}</p>\n",
    "  </div>\n",
    "\n",
    "  {html_grafica}\n",
    "\n",
    "  <h2>Transmitancia máxima por muestra</h2>\n",
    "  {tabla_html}\n",
    "\n",
    "  <div>\n",
    "    \n",
    "    <p>Las muestras con menor gramaje presentan mayor transmitancia, lo cual sugiere una menor absorción de luz debida a una concentración más baja de compuestos absorbentes. Este resultado es coherente con fenómenos ópticos observados en análisis de café mediante espectroscopía UV-Vis.</p>\n",
    "  </div>\n",
    "\n",
    "  <div class=\"footer\">\n",
    "    <h2>Colaboradores del proyecto CafeLab</h2>\n",
    "    <p><strong>Dr. Martín Rodolfo Palomino Merino</strong> — Profesor investigador, jefe responsable del laboratorio de caracterización de materiales (FCFM-BUAP).</p>\n",
    "    <p><strong>Lizeth Jazmín Orozco García</strong> — Colaboradora principal</p>\n",
    "    <p><strong>Julio Alfredo Ballinas García</strong> — Colaborador del proyecto</p>\n",
    "  </div>\n",
    "\n",
    "</body>\n",
    "</html>\n",
    "\"\"\"\n",
    "\n",
    "# === Guardar reporte ===\n",
    "with open(\"reporte_transmitancia_cafelab.html\", \"w\", encoding=\"utf-8\") as f:\n",
    "    f.write(html_total)\n",
    "\n",
    "print(\"✅ Reporte generado: reporte_transmitancia_cafelab.html\")\n"
   ]
  },
  {
   "cell_type": "code",
   "execution_count": 34,
   "metadata": {},
   "outputs": [
    {
     "name": "stdout",
     "output_type": "stream",
     "text": [
      "✅ Reporte generado: reporte_transmitancia.html\n"
     ]
    }
   ],
   "source": [
    "import pandas as pd\n",
    "import plotly.graph_objects as go\n",
    "from datetime import datetime\n",
    "\n",
    "# === Cargar datos ===\n",
    "df = pd.read_csv(\"TVeMN_matrix.csv\")\n",
    "\n",
    "# === Limpiar datos ===\n",
    "for col in df.columns[1:]:\n",
    "    df[col] = pd.to_numeric(df[col], errors='coerce')\n",
    "    df[col] = df[col].where((df[col] >= 0) & (df[col] <= 100))\n",
    "\n",
    "df_clean = df.copy()\n",
    "\n",
    "# === Obtener máximos ===\n",
    "maximos = {\n",
    "    col: df_clean[col].max(skipna=True)\n",
    "    for col in df_clean.columns[1:]\n",
    "}\n",
    "tabla_maximos = pd.DataFrame.from_dict(maximos, orient=\"index\", columns=[\"Transmitancia Máxima (%)\"])\n",
    "tabla_maximos.index.name = \"Muestra (g)\"\n",
    "tabla_maximos = tabla_maximos.reset_index()\n",
    "tabla_maximos[\"Transmitancia Máxima (%)\"] = tabla_maximos[\"Transmitancia Máxima (%)\"].map(\"{:.2f}\".format)\n",
    "\n",
    "# === Crear gráfica (responsive) ===\n",
    "fig = go.Figure()\n",
    "columnas_ordenadas = sorted(maximos, key=maximos.get, reverse=True)\n",
    "\n",
    "for col in columnas_ordenadas:\n",
    "    datos_validos = df_clean[['nm', col]].dropna()\n",
    "    fig.add_trace(go.Scatter(\n",
    "        x=datos_validos['nm'],\n",
    "        y=datos_validos[col],\n",
    "        mode='lines',\n",
    "        name=col\n",
    "    ))\n",
    "\n",
    "fig.update_layout(\n",
    "    title=\"Curvas de transmitancia - Café de Veracruz (Molienda normal)\",\n",
    "    xaxis_title=\"Longitud de onda (nm)\",\n",
    "    yaxis_title=\"Transmitancia (%T)\",\n",
    "    legend_title=\"Muestras (gramos)\",\n",
    "    template=\"plotly_white\",\n",
    "    margin=dict(l=50, r=50, t=80, b=50),\n",
    ")\n",
    "\n",
    "# === Exportar como HTML ===\n",
    "fecha_actual = datetime.now().strftime(\"%d-%m-%Y %H:%M:%S\")\n",
    "html_grafica = fig.to_html(full_html=False, include_plotlyjs='cdn', config={\"responsive\": True})\n",
    "\n",
    "tabla_html = tabla_maximos.to_html(index=False, classes=\"styled-table\", border=0)\n",
    "\n",
    "html_total = f\"\"\"\n",
    "<!DOCTYPE html>\n",
    "<html lang=\"es\">\n",
    "<head>\n",
    "  <meta charset=\"UTF-8\">\n",
    "  <title>Reporte de Transmitancia UV-Vis</title>\n",
    "  <meta name=\"viewport\" content=\"width=device-width, initial-scale=1.0\">\n",
    "  <style>\n",
    "    body {{\n",
    "      font-family: 'Segoe UI', Tahoma, sans-serif;\n",
    "      margin: 40px;\n",
    "      background-color: #fdfdfd;\n",
    "      color: #222;\n",
    "    }}\n",
    "    h1 {{\n",
    "      color: #111;\n",
    "    }}\n",
    "    h2 {{\n",
    "      margin-top: 40px;\n",
    "    }}\n",
    "    .info {{\n",
    "      margin-bottom: 20px;\n",
    "    }}\n",
    "    .lab {{\n",
    "      margin-top: 40px;\n",
    "      font-size: 0.95em;\n",
    "      background-color: #f0f8ff;\n",
    "      padding: 15px;\n",
    "      border-left: 6px solid #009879;\n",
    "    }}\n",
    "    .styled-table {{\n",
    "      border-collapse: collapse;\n",
    "      margin-top: 20px;\n",
    "      font-size: 1em;\n",
    "      width: 100%;\n",
    "      box-shadow: 0 0 10px rgba(0, 0, 0, 0.05);\n",
    "    }}\n",
    "    .styled-table thead tr {{\n",
    "      background-color: #009879;\n",
    "      color: #ffffff;\n",
    "      text-align: left;\n",
    "    }}\n",
    "    .styled-table th, .styled-table td {{\n",
    "      padding: 12px 15px;\n",
    "      border: 1px solid #ddd;\n",
    "    }}\n",
    "    .styled-table tbody tr:nth-child(even) {{\n",
    "      background-color: #f3f3f3;\n",
    "    }}\n",
    "    .conclusion {{\n",
    "      margin-top: 40px;\n",
    "    }}\n",
    "    /* Gráfica responsive */\n",
    "    .plotly-graph-div {{\n",
    "      width: 100% !important;\n",
    "      height: auto !important;\n",
    "    }}\n",
    "  </style>\n",
    "</head>\n",
    "<body>\n",
    "\n",
    "  <h1>Reporte de Transmitancia UV-Vis</h1>\n",
    "\n",
    "  <div class=\"info\">\n",
    "    <p><strong>Origen:</strong> Café de Veracruz (Molienda normal)</p>\n",
    "    <p><strong>Fecha:</strong> {fecha_actual}</p>\n",
    "  </div>\n",
    "\n",
    "  {html_grafica}\n",
    "\n",
    "  <h2>Transmitancia máxima por muestra</h2>\n",
    "  {tabla_html}\n",
    "\n",
    "  <div class=\"conclusion\">\n",
    "    <h2>Conclusión</h2>\n",
    "    <p>Las muestras con menor gramaje presentan mayor transmitancia, lo cual sugiere una menor absorción de luz debida a una concentración más baja de compuestos absorbentes. Este resultado es coherente con fenómenos ópticos observados en análisis de café mediante espectroscopía UV-Vis.</p>\n",
    "  </div>\n",
    "\n",
    "  <div class=\"lab\">\n",
    "    <strong>Nombre del proyecto: CafeLab</strong><br><br>\n",
    "    <strong>Colaboradores:</strong><br>\n",
    "    Martín Rodolfo Palomino Merino – Profesor investigador, jefe responsable del laboratorio de caracterización de materiales (FCFM-BUAP).<br>\n",
    "    Lizeth Jazmín Orozco García – Colaborador principal.<br>\n",
    "    Julio Alfredo Ballinas García – Colaborador del proyecto.\n",
    "  </div>\n",
    "\n",
    "</body>\n",
    "</html>\n",
    "\"\"\"\n",
    "\n",
    "with open(\"reporte_transmitancia.html\", \"w\", encoding=\"utf-8\") as f:\n",
    "    f.write(html_total)\n",
    "\n",
    "print(\"✅ Reporte generado: reporte_transmitancia.html\")\n"
   ]
  },
  {
   "cell_type": "code",
   "execution_count": 35,
   "metadata": {},
   "outputs": [
    {
     "data": {
      "image/png": "[encoded data removed]",
      "text/plain": [
       "<Figure size 1200x600 with 1 Axes>"
      ]
     },
     "metadata": {},
     "output_type": "display_data"
    }
   ],
   "source": [
    "import pandas as pd\n",
    "import matplotlib.pyplot as plt\n",
    "import numpy as np\n",
    "import mplcursors\n",
    "\n",
    "# Cargar archivo y limpiar\n",
    "df = pd.read_csv(\"TVeMN_matrix.csv\")\n",
    "for columna in df.columns[1:]:\n",
    "    df[columna] = pd.to_numeric(df[columna], errors='coerce')\n",
    "    df.loc[(df[columna] < 0) | (df[columna] > 100), columna] = None\n",
    "\n",
    "# Copia limpia\n",
    "df_clean = df.copy()\n",
    "\n",
    "# Obtener máximos y ordenar\n",
    "maximos = {\n",
    "    columna: df_clean[columna].max(skipna=True)\n",
    "    for columna in df_clean.columns[1:]\n",
    "}\n",
    "columnas_ordenadas = sorted(maximos, key=maximos.get, reverse=True)\n",
    "\n",
    "# Crear figura\n",
    "plt.figure(figsize=(12, 6))\n",
    "\n",
    "# Dibujar curvas\n",
    "for columna in columnas_ordenadas:\n",
    "    datos_validos = df_clean[['nm', columna]].dropna()\n",
    "    plt.plot(datos_validos['nm'], datos_validos[columna], label=columna)\n",
    "\n",
    "# Etiquetas\n",
    "plt.xlabel('Longitud de onda (nm)', fontsize=12)\n",
    "plt.ylabel('Transmitancia (%T)', fontsize=12)\n",
    "plt.title('Curvas de transmitancia - Café de Veracruz (Molienda normal)', fontsize=14)\n",
    "plt.legend(title='Muestras (gramos)', fontsize=10)\n",
    "plt.xticks(df['nm'][::50], rotation=45)\n",
    "plt.grid(True, linestyle='--', alpha=0.6)\n",
    "plt.tight_layout()\n",
    "\n",
    "# Activar interactividad\n",
    "mplcursors.cursor(hover=True)\n",
    "\n",
    "plt.show()\n"
   ]
  },
  {
   "cell_type": "code",
   "execution_count": 36,
   "metadata": {},
   "outputs": [
    {
     "name": "stdout",
     "output_type": "stream",
     "text": [
      "/home/jabg20/.pyenv/versions/ydata-env/bin/python\n"
     ]
    }
   ],
   "source": [
    "import sys\n",
    "print(sys.executable)\n",
    "\n"
   ]
  },
  {
   "cell_type": "code",
   "execution_count": 37,
   "metadata": {},
   "outputs": [
    {
     "name": "stdout",
     "output_type": "stream",
     "text": [
      "Index(['nm', 'TVeMN7_5g', 'TVeMN15g', 'TVeMN18g', 'TVeMN22_5g'], dtype='object')\n"
     ]
    }
   ],
   "source": [
    "print(df.columns)"
   ]
  },
  {
   "cell_type": "code",
   "execution_count": 38,
   "metadata": {},
   "outputs": [],
   "source": [
    "TVeMN7_5g=datos[\"TVeMN7_5g\"]\n",
    "TVeMN15g=datos[\"TVeMN15g\"]\n",
    "TVeMN18g=datos[\"TVeMN18g\"]\n",
    "TVeMN22_5g=datos[\"TVeMN22_5g\"]"
   ]
  },
  {
   "cell_type": "code",
   "execution_count": 39,
   "metadata": {},
   "outputs": [
    {
     "data": {
      "text/plain": [
       "TVeMN7_5g\n",
       "93.080    2\n",
       "93.467    2\n",
       "86.706    2\n",
       "92.493    2\n",
       "93.039    2\n",
       "         ..\n",
       "83.737    1\n",
       "83.323    1\n",
       "84.032    1\n",
       "84.568    1\n",
       "85.758    1\n",
       "Name: count, Length: 348, dtype: int64"
      ]
     },
     "execution_count": 39,
     "metadata": {},
     "output_type": "execute_result"
    }
   ],
   "source": [
    "TVeMN7_5g.value_counts()"
   ]
  },
  {
   "cell_type": "code",
   "execution_count": 40,
   "metadata": {},
   "outputs": [
    {
     "data": {
      "text/plain": [
       "TVeMN15g\n",
       "92.852    3\n",
       "92.916    3\n",
       "93.480    2\n",
       "93.311    2\n",
       "93.300    2\n",
       "         ..\n",
       "80.687    1\n",
       "80.974    1\n",
       "81.169    1\n",
       "81.262    1\n",
       "79.923    1\n",
       "Name: count, Length: 777, dtype: int64"
      ]
     },
     "execution_count": 40,
     "metadata": {},
     "output_type": "execute_result"
    }
   ],
   "source": [
    "TVeMN15g.value_counts()"
   ]
  },
  {
   "cell_type": "code",
   "execution_count": 41,
   "metadata": {},
   "outputs": [
    {
     "data": {
      "text/plain": [
       "TVeMN18g\n",
       "68.895    2\n",
       "86.911    2\n",
       "87.583    2\n",
       "85.664    1\n",
       "85.583    1\n",
       "         ..\n",
       "73.394    1\n",
       "72.894    1\n",
       "72.426    1\n",
       "72.043    1\n",
       "74.534    1\n",
       "Name: count, Length: 350, dtype: int64"
      ]
     },
     "execution_count": 41,
     "metadata": {},
     "output_type": "execute_result"
    }
   ],
   "source": [
    "TVeMN18g.value_counts()"
   ]
  },
  {
   "cell_type": "code",
   "execution_count": 42,
   "metadata": {},
   "outputs": [
    {
     "data": {
      "text/plain": [
       "TVeMN22_5g\n",
       "88.558    2\n",
       "89.287    2\n",
       "88.916    2\n",
       "88.739    2\n",
       "86.156    1\n",
       "         ..\n",
       "70.903    1\n",
       "70.478    1\n",
       "70.038    1\n",
       "69.848    1\n",
       "72.460    1\n",
       "Name: count, Length: 349, dtype: int64"
      ]
     },
     "execution_count": 42,
     "metadata": {},
     "output_type": "execute_result"
    }
   ],
   "source": [
    "TVeMN22_5g.value_counts()"
   ]
  },
  {
   "cell_type": "code",
   "execution_count": 43,
   "metadata": {},
   "outputs": [
    {
     "data": {
      "text/plain": [
       "count    353.000000\n",
       "mean      85.002824\n",
       "std       10.061187\n",
       "min       52.130000\n",
       "25%       80.780000\n",
       "50%       89.495000\n",
       "75%       92.434000\n",
       "max       93.833000\n",
       "Name: TVeMN7_5g, dtype: float64"
      ]
     },
     "execution_count": 43,
     "metadata": {},
     "output_type": "execute_result"
    }
   ],
   "source": [
    "TVeMN7_5g.describe()"
   ]
  },
  {
   "cell_type": "code",
   "execution_count": 44,
   "metadata": {},
   "outputs": [
    {
     "data": {
      "text/plain": [
       "0     NaN\n",
       "1     NaN\n",
       "2     NaN\n",
       "3     NaN\n",
       "4     NaN\n",
       "       ..\n",
       "816   NaN\n",
       "817   NaN\n",
       "818   NaN\n",
       "819   NaN\n",
       "820   NaN\n",
       "Name: TVeMN7_5g, Length: 821, dtype: float64"
      ]
     },
     "execution_count": 44,
     "metadata": {},
     "output_type": "execute_result"
    }
   ],
   "source": [
    "TVeMN7_5g "
   ]
  },
  {
   "cell_type": "code",
   "execution_count": 45,
   "metadata": {},
   "outputs": [
    {
     "data": {
      "text/html": [
       "<div>\n",
       "<style scoped>\n",
       "    .dataframe tbody tr th:only-of-type {\n",
       "        vertical-align: middle;\n",
       "    }\n",
       "\n",
       "    .dataframe tbody tr th {\n",
       "        vertical-align: top;\n",
       "    }\n",
       "\n",
       "    .dataframe thead th {\n",
       "        text-align: right;\n",
       "    }\n",
       "</style>\n",
       "<table border=\"1\" class=\"dataframe\">\n",
       "  <thead>\n",
       "    <tr style=\"text-align: right;\">\n",
       "      <th></th>\n",
       "      <th>nm</th>\n",
       "      <th>TVeMN7_5g</th>\n",
       "      <th>TVeMN15g</th>\n",
       "      <th>TVeMN18g</th>\n",
       "      <th>TVeMN22_5g</th>\n",
       "    </tr>\n",
       "  </thead>\n",
       "  <tbody>\n",
       "    <tr>\n",
       "      <th>0</th>\n",
       "      <td>390.0</td>\n",
       "      <td>NaN</td>\n",
       "      <td>NaN</td>\n",
       "      <td>NaN</td>\n",
       "      <td>NaN</td>\n",
       "    </tr>\n",
       "    <tr>\n",
       "      <th>1</th>\n",
       "      <td>390.5</td>\n",
       "      <td>NaN</td>\n",
       "      <td>NaN</td>\n",
       "      <td>NaN</td>\n",
       "      <td>NaN</td>\n",
       "    </tr>\n",
       "    <tr>\n",
       "      <th>2</th>\n",
       "      <td>391.0</td>\n",
       "      <td>NaN</td>\n",
       "      <td>NaN</td>\n",
       "      <td>NaN</td>\n",
       "      <td>NaN</td>\n",
       "    </tr>\n",
       "    <tr>\n",
       "      <th>3</th>\n",
       "      <td>391.5</td>\n",
       "      <td>NaN</td>\n",
       "      <td>NaN</td>\n",
       "      <td>NaN</td>\n",
       "      <td>NaN</td>\n",
       "    </tr>\n",
       "    <tr>\n",
       "      <th>4</th>\n",
       "      <td>392.0</td>\n",
       "      <td>NaN</td>\n",
       "      <td>NaN</td>\n",
       "      <td>NaN</td>\n",
       "      <td>NaN</td>\n",
       "    </tr>\n",
       "    <tr>\n",
       "      <th>5</th>\n",
       "      <td>392.5</td>\n",
       "      <td>NaN</td>\n",
       "      <td>NaN</td>\n",
       "      <td>NaN</td>\n",
       "      <td>NaN</td>\n",
       "    </tr>\n",
       "    <tr>\n",
       "      <th>6</th>\n",
       "      <td>393.0</td>\n",
       "      <td>NaN</td>\n",
       "      <td>NaN</td>\n",
       "      <td>NaN</td>\n",
       "      <td>NaN</td>\n",
       "    </tr>\n",
       "    <tr>\n",
       "      <th>7</th>\n",
       "      <td>393.5</td>\n",
       "      <td>NaN</td>\n",
       "      <td>NaN</td>\n",
       "      <td>NaN</td>\n",
       "      <td>NaN</td>\n",
       "    </tr>\n",
       "    <tr>\n",
       "      <th>8</th>\n",
       "      <td>394.0</td>\n",
       "      <td>52.13</td>\n",
       "      <td>31.261</td>\n",
       "      <td>32.986</td>\n",
       "      <td>28.544</td>\n",
       "    </tr>\n",
       "    <tr>\n",
       "      <th>9</th>\n",
       "      <td>394.5</td>\n",
       "      <td>NaN</td>\n",
       "      <td>31.071</td>\n",
       "      <td>NaN</td>\n",
       "      <td>NaN</td>\n",
       "    </tr>\n",
       "  </tbody>\n",
       "</table>\n",
       "</div>"
      ],
      "text/plain": [
       "      nm  TVeMN7_5g  TVeMN15g  TVeMN18g  TVeMN22_5g\n",
       "0  390.0        NaN       NaN       NaN         NaN\n",
       "1  390.5        NaN       NaN       NaN         NaN\n",
       "2  391.0        NaN       NaN       NaN         NaN\n",
       "3  391.5        NaN       NaN       NaN         NaN\n",
       "4  392.0        NaN       NaN       NaN         NaN\n",
       "5  392.5        NaN       NaN       NaN         NaN\n",
       "6  393.0        NaN       NaN       NaN         NaN\n",
       "7  393.5        NaN       NaN       NaN         NaN\n",
       "8  394.0      52.13    31.261    32.986      28.544\n",
       "9  394.5        NaN    31.071       NaN         NaN"
      ]
     },
     "execution_count": 45,
     "metadata": {},
     "output_type": "execute_result"
    }
   ],
   "source": [
    "datos.head(10)"
   ]
  },
  {
   "cell_type": "code",
   "execution_count": 26,
   "metadata": {},
   "outputs": [
    {
     "data": {
      "text/html": [
       "<div>\n",
       "<style scoped>\n",
       "    .dataframe tbody tr th:only-of-type {\n",
       "        vertical-align: middle;\n",
       "    }\n",
       "\n",
       "    .dataframe tbody tr th {\n",
       "        vertical-align: top;\n",
       "    }\n",
       "\n",
       "    .dataframe thead th {\n",
       "        text-align: right;\n",
       "    }\n",
       "</style>\n",
       "<table border=\"1\" class=\"dataframe\">\n",
       "  <thead>\n",
       "    <tr style=\"text-align: right;\">\n",
       "      <th></th>\n",
       "      <th>nm</th>\n",
       "      <th>TVeMN7_5g</th>\n",
       "      <th>TVeMN15g</th>\n",
       "      <th>TVeMN18g</th>\n",
       "      <th>TVeMN22_5g</th>\n",
       "    </tr>\n",
       "  </thead>\n",
       "  <tbody>\n",
       "    <tr>\n",
       "      <th>0</th>\n",
       "      <td>390.0</td>\n",
       "      <td>NaN</td>\n",
       "      <td>NaN</td>\n",
       "      <td>NaN</td>\n",
       "      <td>NaN</td>\n",
       "    </tr>\n",
       "    <tr>\n",
       "      <th>1</th>\n",
       "      <td>390.5</td>\n",
       "      <td>NaN</td>\n",
       "      <td>NaN</td>\n",
       "      <td>NaN</td>\n",
       "      <td>NaN</td>\n",
       "    </tr>\n",
       "    <tr>\n",
       "      <th>2</th>\n",
       "      <td>391.0</td>\n",
       "      <td>NaN</td>\n",
       "      <td>NaN</td>\n",
       "      <td>NaN</td>\n",
       "      <td>NaN</td>\n",
       "    </tr>\n",
       "    <tr>\n",
       "      <th>3</th>\n",
       "      <td>391.5</td>\n",
       "      <td>NaN</td>\n",
       "      <td>NaN</td>\n",
       "      <td>NaN</td>\n",
       "      <td>NaN</td>\n",
       "    </tr>\n",
       "    <tr>\n",
       "      <th>4</th>\n",
       "      <td>392.0</td>\n",
       "      <td>NaN</td>\n",
       "      <td>NaN</td>\n",
       "      <td>NaN</td>\n",
       "      <td>NaN</td>\n",
       "    </tr>\n",
       "    <tr>\n",
       "      <th>5</th>\n",
       "      <td>392.5</td>\n",
       "      <td>NaN</td>\n",
       "      <td>NaN</td>\n",
       "      <td>NaN</td>\n",
       "      <td>NaN</td>\n",
       "    </tr>\n",
       "    <tr>\n",
       "      <th>6</th>\n",
       "      <td>393.0</td>\n",
       "      <td>NaN</td>\n",
       "      <td>NaN</td>\n",
       "      <td>NaN</td>\n",
       "      <td>NaN</td>\n",
       "    </tr>\n",
       "    <tr>\n",
       "      <th>7</th>\n",
       "      <td>393.5</td>\n",
       "      <td>NaN</td>\n",
       "      <td>NaN</td>\n",
       "      <td>NaN</td>\n",
       "      <td>NaN</td>\n",
       "    </tr>\n",
       "    <tr>\n",
       "      <th>8</th>\n",
       "      <td>394.0</td>\n",
       "      <td>52.130</td>\n",
       "      <td>31.261</td>\n",
       "      <td>32.986</td>\n",
       "      <td>28.544</td>\n",
       "    </tr>\n",
       "    <tr>\n",
       "      <th>9</th>\n",
       "      <td>394.5</td>\n",
       "      <td>NaN</td>\n",
       "      <td>31.071</td>\n",
       "      <td>NaN</td>\n",
       "      <td>NaN</td>\n",
       "    </tr>\n",
       "    <tr>\n",
       "      <th>10</th>\n",
       "      <td>395.0</td>\n",
       "      <td>54.112</td>\n",
       "      <td>31.411</td>\n",
       "      <td>33.587</td>\n",
       "      <td>27.840</td>\n",
       "    </tr>\n",
       "    <tr>\n",
       "      <th>11</th>\n",
       "      <td>395.5</td>\n",
       "      <td>NaN</td>\n",
       "      <td>32.101</td>\n",
       "      <td>NaN</td>\n",
       "      <td>NaN</td>\n",
       "    </tr>\n",
       "    <tr>\n",
       "      <th>12</th>\n",
       "      <td>396.0</td>\n",
       "      <td>55.422</td>\n",
       "      <td>32.831</td>\n",
       "      <td>35.471</td>\n",
       "      <td>28.821</td>\n",
       "    </tr>\n",
       "    <tr>\n",
       "      <th>13</th>\n",
       "      <td>396.5</td>\n",
       "      <td>NaN</td>\n",
       "      <td>33.478</td>\n",
       "      <td>NaN</td>\n",
       "      <td>NaN</td>\n",
       "    </tr>\n",
       "    <tr>\n",
       "      <th>14</th>\n",
       "      <td>397.0</td>\n",
       "      <td>54.586</td>\n",
       "      <td>34.095</td>\n",
       "      <td>35.784</td>\n",
       "      <td>30.298</td>\n",
       "    </tr>\n",
       "    <tr>\n",
       "      <th>15</th>\n",
       "      <td>397.5</td>\n",
       "      <td>NaN</td>\n",
       "      <td>34.682</td>\n",
       "      <td>NaN</td>\n",
       "      <td>NaN</td>\n",
       "    </tr>\n",
       "    <tr>\n",
       "      <th>16</th>\n",
       "      <td>398.0</td>\n",
       "      <td>55.256</td>\n",
       "      <td>35.125</td>\n",
       "      <td>35.061</td>\n",
       "      <td>31.764</td>\n",
       "    </tr>\n",
       "    <tr>\n",
       "      <th>17</th>\n",
       "      <td>398.5</td>\n",
       "      <td>NaN</td>\n",
       "      <td>35.318</td>\n",
       "      <td>NaN</td>\n",
       "      <td>NaN</td>\n",
       "    </tr>\n",
       "    <tr>\n",
       "      <th>18</th>\n",
       "      <td>399.0</td>\n",
       "      <td>56.454</td>\n",
       "      <td>35.302</td>\n",
       "      <td>35.801</td>\n",
       "      <td>34.339</td>\n",
       "    </tr>\n",
       "    <tr>\n",
       "      <th>19</th>\n",
       "      <td>399.5</td>\n",
       "      <td>NaN</td>\n",
       "      <td>35.265</td>\n",
       "      <td>NaN</td>\n",
       "      <td>NaN</td>\n",
       "    </tr>\n",
       "    <tr>\n",
       "      <th>20</th>\n",
       "      <td>400.0</td>\n",
       "      <td>55.712</td>\n",
       "      <td>35.371</td>\n",
       "      <td>38.713</td>\n",
       "      <td>34.894</td>\n",
       "    </tr>\n",
       "    <tr>\n",
       "      <th>21</th>\n",
       "      <td>400.5</td>\n",
       "      <td>NaN</td>\n",
       "      <td>35.607</td>\n",
       "      <td>NaN</td>\n",
       "      <td>NaN</td>\n",
       "    </tr>\n",
       "    <tr>\n",
       "      <th>22</th>\n",
       "      <td>401.0</td>\n",
       "      <td>54.608</td>\n",
       "      <td>35.879</td>\n",
       "      <td>40.959</td>\n",
       "      <td>32.514</td>\n",
       "    </tr>\n",
       "    <tr>\n",
       "      <th>23</th>\n",
       "      <td>401.5</td>\n",
       "      <td>NaN</td>\n",
       "      <td>36.214</td>\n",
       "      <td>NaN</td>\n",
       "      <td>NaN</td>\n",
       "    </tr>\n",
       "    <tr>\n",
       "      <th>24</th>\n",
       "      <td>402.0</td>\n",
       "      <td>55.472</td>\n",
       "      <td>36.720</td>\n",
       "      <td>40.233</td>\n",
       "      <td>31.845</td>\n",
       "    </tr>\n",
       "    <tr>\n",
       "      <th>25</th>\n",
       "      <td>402.5</td>\n",
       "      <td>NaN</td>\n",
       "      <td>37.384</td>\n",
       "      <td>NaN</td>\n",
       "      <td>NaN</td>\n",
       "    </tr>\n",
       "    <tr>\n",
       "      <th>26</th>\n",
       "      <td>403.0</td>\n",
       "      <td>58.586</td>\n",
       "      <td>38.002</td>\n",
       "      <td>39.008</td>\n",
       "      <td>34.138</td>\n",
       "    </tr>\n",
       "    <tr>\n",
       "      <th>27</th>\n",
       "      <td>403.5</td>\n",
       "      <td>NaN</td>\n",
       "      <td>38.335</td>\n",
       "      <td>NaN</td>\n",
       "      <td>NaN</td>\n",
       "    </tr>\n",
       "    <tr>\n",
       "      <th>28</th>\n",
       "      <td>404.0</td>\n",
       "      <td>60.554</td>\n",
       "      <td>38.323</td>\n",
       "      <td>39.089</td>\n",
       "      <td>35.495</td>\n",
       "    </tr>\n",
       "    <tr>\n",
       "      <th>29</th>\n",
       "      <td>404.5</td>\n",
       "      <td>NaN</td>\n",
       "      <td>38.191</td>\n",
       "      <td>NaN</td>\n",
       "      <td>NaN</td>\n",
       "    </tr>\n",
       "  </tbody>\n",
       "</table>\n",
       "</div>"
      ],
      "text/plain": [
       "       nm  TVeMN7_5g  TVeMN15g  TVeMN18g  TVeMN22_5g\n",
       "0   390.0        NaN       NaN       NaN         NaN\n",
       "1   390.5        NaN       NaN       NaN         NaN\n",
       "2   391.0        NaN       NaN       NaN         NaN\n",
       "3   391.5        NaN       NaN       NaN         NaN\n",
       "4   392.0        NaN       NaN       NaN         NaN\n",
       "5   392.5        NaN       NaN       NaN         NaN\n",
       "6   393.0        NaN       NaN       NaN         NaN\n",
       "7   393.5        NaN       NaN       NaN         NaN\n",
       "8   394.0     52.130    31.261    32.986      28.544\n",
       "9   394.5        NaN    31.071       NaN         NaN\n",
       "10  395.0     54.112    31.411    33.587      27.840\n",
       "11  395.5        NaN    32.101       NaN         NaN\n",
       "12  396.0     55.422    32.831    35.471      28.821\n",
       "13  396.5        NaN    33.478       NaN         NaN\n",
       "14  397.0     54.586    34.095    35.784      30.298\n",
       "15  397.5        NaN    34.682       NaN         NaN\n",
       "16  398.0     55.256    35.125    35.061      31.764\n",
       "17  398.5        NaN    35.318       NaN         NaN\n",
       "18  399.0     56.454    35.302    35.801      34.339\n",
       "19  399.5        NaN    35.265       NaN         NaN\n",
       "20  400.0     55.712    35.371    38.713      34.894\n",
       "21  400.5        NaN    35.607       NaN         NaN\n",
       "22  401.0     54.608    35.879    40.959      32.514\n",
       "23  401.5        NaN    36.214       NaN         NaN\n",
       "24  402.0     55.472    36.720    40.233      31.845\n",
       "25  402.5        NaN    37.384       NaN         NaN\n",
       "26  403.0     58.586    38.002    39.008      34.138\n",
       "27  403.5        NaN    38.335       NaN         NaN\n",
       "28  404.0     60.554    38.323    39.089      35.495\n",
       "29  404.5        NaN    38.191       NaN         NaN"
      ]
     },
     "execution_count": 26,
     "metadata": {},
     "output_type": "execute_result"
    }
   ],
   "source": [
    "datos.head(30)"
   ]
  },
  {
   "cell_type": "code",
   "execution_count": 46,
   "metadata": {},
   "outputs": [
    {
     "data": {
      "image/png": "[encoded data removed]",
      "text/plain": [
       "<Figure size 1200x600 with 1 Axes>"
      ]
     },
     "metadata": {},
     "output_type": "display_data"
    }
   ],
   "source": [
    "import pandas as pd\n",
    "import matplotlib.pyplot as plt\n",
    "from scipy.signal import savgol_filter\n",
    "import seaborn as sb\n",
    "import numpy as np\n",
    "\n",
    "# Cargamos el archivo con la matriz de transmitancia\n",
    "df = pd.read_csv(\"TVeMN_matrix.csv\")\n",
    "\n",
    "# Convertimos columnas a valores numéricos y filtramos %T fuera de rango\n",
    "for columna in df.columns[1:]:\n",
    "    df[columna] = pd.to_numeric(df[columna], errors='coerce')\n",
    "    df.loc[(df[columna] < 0) | (df[columna] > 100), columna] = None\n",
    "\n",
    "# Obtenemos máximos de las curvas suavizadas\n",
    "max_transmitancia = {}\n",
    "\n",
    "for columna in df.columns[1:]:\n",
    "    datos_validos = df[columna].dropna()\n",
    "    if len(datos_validos) >= 21:\n",
    "        y_suave = savgol_filter(datos_validos, window_length=21, polyorder=3)\n",
    "        max_transmitancia[columna] = np.max(y_suave)\n",
    "    else:\n",
    "        max_transmitancia[columna] = -np.inf  # Muy bajo para que quede al final\n",
    "\n",
    "# Ordenamos columnas por su valor máximo suavizado\n",
    "columnas_ordenadas = sorted(max_transmitancia, key=max_transmitancia.get, reverse=True)\n",
    "\n",
    "# usamos una paleta de color bonita\n",
    "colores = sb.color_palette(\"husl\", len(columnas_ordenadas))\n",
    "\n",
    "# Se genera la figura\n",
    "plt.figure(figsize=(12, 6))\n",
    "\n",
    "# Graficamos curvas suavizadas o línea discontinua si hay pocos datos\n",
    "for i, columna in enumerate(columnas_ordenadas):\n",
    "    datos_validos = df[columna].dropna()\n",
    "    if len(datos_validos) >= 21:\n",
    "        y_suave = savgol_filter(datos_validos, window_length=21, polyorder=3)\n",
    "        x_vals = df['nm'][datos_validos.index]\n",
    "        sb.scatterplot(x=x_vals, y=y_suave, s=15, label=columna, color=colores[i], linewidth=0)\n",
    "    else:\n",
    "        plt.plot(df['nm'], df[columna], label=columna, color=colores[i], linestyle='--')\n",
    "\n",
    "# Estética de ejes\n",
    "plt.xlabel('Longitud de onda (nm)', fontsize=12)\n",
    "plt.ylabel('Transmitancia (%)', fontsize=12)\n",
    "plt.title('Curvas de transmitancia - Café de Veracruz (Molienda normal)', fontsize=14)\n",
    "plt.legend(title='Muestras (gramos)', fontsize=9)\n",
    "plt.xticks(df['nm'][::50], rotation=45)\n",
    "plt.grid(True, linestyle='--', alpha=0.6)\n",
    "plt.tight_layout()\n",
    "plt.show()\n"
   ]
  },
  {
   "cell_type": "code",
   "execution_count": 48,
   "metadata": {},
   "outputs": [
    {
     "data": {
      "image/png": "[encoded data removed]",
      "text/plain": [
       "<Figure size 1200x600 with 1 Axes>"
      ]
     },
     "metadata": {},
     "output_type": "display_data"
    }
   ],
   "source": [
    "import pandas as pd\n",
    "import matplotlib.pyplot as plt\n",
    "from scipy.signal import savgol_filter\n",
    "from matplotlib.collections import LineCollection\n",
    "import matplotlib.colors as mcolors\n",
    "import seaborn as sb\n",
    "import numpy as np\n",
    "\n",
    "# Cargamos el archivo con las mediciones de transmitancia alamacenados en una matriz de datos\n",
    "df = pd.read_csv(\"TVeMN_matrix.csv\")\n",
    "\n",
    "# Convertimos a valores numéricos y filtramos %T fuera de rango\n",
    "for columna in df.columns[1:]:\n",
    "    df[columna] = pd.to_numeric(df[columna], errors='coerce')\n",
    "    df.loc[(df[columna] < 0) | (df[columna] > 100), columna] = None\n",
    "\n",
    "# Diccionario de máximos suavizados\n",
    "max_transmitancia = {}\n",
    "\n",
    "# Calculamos máximos suavizados de cada columna\n",
    "for columna in df.columns[1:]:\n",
    "    datos_validos = df[columna].dropna()\n",
    "    if len(datos_validos) >= 21:\n",
    "        y_suave = savgol_filter(datos_validos, window_length=21, polyorder=3)\n",
    "        max_transmitancia[columna] = np.max(y_suave)\n",
    "    else:\n",
    "        max_transmitancia[columna] = np.nan\n",
    "\n",
    "# Ordenamos columnas por valor máximo\n",
    "columnas_ordenadas = sorted(max_transmitancia, key=max_transmitancia.get, reverse=True)\n",
    "\n",
    "# Figura principal\n",
    "plt.figure(figsize=(12, 6))\n",
    "plt.title(\"Curvas de transmitancia - Café de Veracruz (Molienda normal)\", fontsize=14)\n",
    "\n",
    "# Paleta base para la leyenda\n",
    "colores_base = sb.color_palette(\"husl\", len(columnas_ordenadas))\n",
    "\n",
    "# Plot con LineCollection\n",
    "for i, columna in enumerate(columnas_ordenadas):\n",
    "    datos_validos = df[['nm', columna]].dropna()\n",
    "\n",
    "    if len(datos_validos) >= 21:\n",
    "        y_suave = savgol_filter(datos_validos[columna], window_length=21, polyorder=3)\n",
    "        x = datos_validos['nm'].values\n",
    "        y = y_suave\n",
    "\n",
    "        puntos = np.array([x, y]).T.reshape(-1, 1, 2)\n",
    "        segmentos = np.concatenate([puntos[:-1], puntos[1:]], axis=1)\n",
    "\n",
    "        norm = mcolors.Normalize(vmin=np.min(y), vmax=np.max(y))\n",
    "        lc = LineCollection(segmentos, cmap='coolwarm', norm=norm)\n",
    "        lc.set_array(y)\n",
    "        lc.set_linewidth(2.0)\n",
    "        plt.gca().add_collection(lc)\n",
    "\n",
    "        # Para que aparezca en la leyenda\n",
    "        plt.plot([], [], color=colores_base[i], label=columna)\n",
    "    else:\n",
    "        plt.plot(df['nm'], df[columna], linestyle='--', color=colores_base[i], label=columna)\n",
    "\n",
    "# Ejes y estilo\n",
    "plt.xlabel(\"Longitud de onda (nm)\", fontsize=12)\n",
    "plt.ylabel(\"Transmitancia (%T)\", fontsize=12)\n",
    "plt.legend(title=\"Muestras (gramos)\", fontsize=9)\n",
    "plt.grid(True, linestyle=\"--\", alpha=0.6)\n",
    "plt.xticks(df['nm'][::50], rotation=45)\n",
    "plt.tight_layout()\n",
    "plt.show()\n"
   ]
  },
  {
   "cell_type": "code",
   "execution_count": 58,
   "metadata": {},
   "outputs": [
    {
     "name": "stdout",
     "output_type": "stream",
     "text": [
      "✅ HTML generado: Comparativa_muestras_transmitancia.html\n",
      "Rango de longitudes de onda: 390.0 a 800.0\n"
     ]
    },
    {
     "data": {
      "application/vnd.plotly.v1+json": {
       "config": {
        "plotlyServerURL": "https://plot.ly"
       },
       "data": [
        {
         "line": {
          "color": "#1f77b4"
         },
         "mode": "lines",
         "name": "TVeMN7_5g",
         "type": "scatter",
         "x": {
          "bdata": "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",
          "dtype": "f8"
         },
         "y": {
          "bdata": "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",
          "dtype": "f8"
         }
        },
        {
         "line": {
          "color": "#d62728"
         },
         "mode": "lines",
         "name": "TVeMN15g",
         "type": "scatter",
         "x": {
          "bdata": "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",
          "dtype": "f8"
         },
         "y": {
          "bdata": "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",
          "dtype": "f8"
         }
        },
        {
         "line": {
          "color": "#e377c2"
         },
         "mode": "lines",
         "name": "TVeMN18g",
         "type": "scatter",
         "x": {
          "bdata": "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",
          "dtype": "f8"
         },
         "y": {
          "bdata": "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",
          "dtype": "f8"
         }
        },
        {
         "line": {
          "color": "#17becf"
         },
         "mode": "lines",
         "name": "TVeMN22_5g",
         "type": "scatter",
         "x": {
          "bdata": "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",
          "dtype": "f8"
         },
         "y": {
          "bdata": "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",
          "dtype": "f8"
         }
        }
       ],
       "layout": {
        "legend": {
         "title": {
          "text": "Curva"
         }
        },
        "margin": {
         "b": 40,
         "l": 40,
         "r": 40,
         "t": 80
        },
        "template": {
         "data": {
          "bar": [
           {
            "error_x": {
             "color": "#2a3f5f"
            },
            "error_y": {
             "color": "#2a3f5f"
            },
            "marker": {
             "line": {
              "color": "white",
              "width": 0.5
             },
             "pattern": {
              "fillmode": "overlay",
              "size": 10,
              "solidity": 0.2
             }
            },
            "type": "bar"
           }
          ],
          "barpolar": [
           {
            "marker": {
             "line": {
              "color": "white",
              "width": 0.5
             },
             "pattern": {
              "fillmode": "overlay",
              "size": 10,
              "solidity": 0.2
             }
            },
            "type": "barpolar"
           }
          ],
          "carpet": [
           {
            "aaxis": {
             "endlinecolor": "#2a3f5f",
             "gridcolor": "#C8D4E3",
             "linecolor": "#C8D4E3",
             "minorgridcolor": "#C8D4E3",
             "startlinecolor": "#2a3f5f"
            },
            "baxis": {
             "endlinecolor": "#2a3f5f",
             "gridcolor": "#C8D4E3",
             "linecolor": "#C8D4E3",
             "minorgridcolor": "#C8D4E3",
             "startlinecolor": "#2a3f5f"
            },
            "type": "carpet"
           }
          ],
          "choropleth": [
           {
            "colorbar": {
             "outlinewidth": 0,
             "ticks": ""
            },
            "type": "choropleth"
           }
          ],
          "contour": [
           {
            "colorbar": {
             "outlinewidth": 0,
             "ticks": ""
            },
            "colorscale": [
             [
              0,
              "#0d0887"
             ],
             [
              0.1111111111111111,
              "#46039f"
             ],
             [
              0.2222222222222222,
              "#7201a8"
             ],
             [
              0.3333333333333333,
              "#9c179e"
             ],
             [
              0.4444444444444444,
              "#bd3786"
             ],
             [
              0.5555555555555556,
              "#d8576b"
             ],
             [
              0.6666666666666666,
              "#ed7953"
             ],
             [
              0.7777777777777778,
              "#fb9f3a"
             ],
             [
              0.8888888888888888,
              "#fdca26"
             ],
             [
              1,
              "#f0f921"
             ]
            ],
            "type": "contour"
           }
          ],
          "contourcarpet": [
           {
            "colorbar": {
             "outlinewidth": 0,
             "ticks": ""
            },
            "type": "contourcarpet"
           }
          ],
          "heatmap": [
           {
            "colorbar": {
             "outlinewidth": 0,
             "ticks": ""
            },
            "colorscale": [
             [
              0,
              "#0d0887"
             ],
             [
              0.1111111111111111,
              "#46039f"
             ],
             [
              0.2222222222222222,
              "#7201a8"
             ],
             [
              0.3333333333333333,
              "#9c179e"
             ],
             [
              0.4444444444444444,
              "#bd3786"
             ],
             [
              0.5555555555555556,
              "#d8576b"
             ],
             [
              0.6666666666666666,
              "#ed7953"
             ],
             [
              0.7777777777777778,
              "#fb9f3a"
             ],
             [
              0.8888888888888888,
              "#fdca26"
             ],
             [
              1,
              "#f0f921"
             ]
            ],
            "type": "heatmap"
           }
          ],
          "histogram": [
           {
            "marker": {
             "pattern": {
              "fillmode": "overlay",
              "size": 10,
              "solidity": 0.2
             }
            },
            "type": "histogram"
           }
          ],
          "histogram2d": [
           {
            "colorbar": {
             "outlinewidth": 0,
             "ticks": ""
            },
            "colorscale": [
             [
              0,
              "#0d0887"
             ],
             [
              0.1111111111111111,
              "#46039f"
             ],
             [
              0.2222222222222222,
              "#7201a8"
             ],
             [
              0.3333333333333333,
              "#9c179e"
             ],
             [
              0.4444444444444444,
              "#bd3786"
             ],
             [
              0.5555555555555556,
              "#d8576b"
             ],
             [
              0.6666666666666666,
              "#ed7953"
             ],
             [
              0.7777777777777778,
              "#fb9f3a"
             ],
             [
              0.8888888888888888,
              "#fdca26"
             ],
             [
              1,
              "#f0f921"
             ]
            ],
            "type": "histogram2d"
           }
          ],
          "histogram2dcontour": [
           {
            "colorbar": {
             "outlinewidth": 0,
             "ticks": ""
            },
            "colorscale": [
             [
              0,
              "#0d0887"
             ],
             [
              0.1111111111111111,
              "#46039f"
             ],
             [
              0.2222222222222222,
              "#7201a8"
             ],
             [
              0.3333333333333333,
              "#9c179e"
             ],
             [
              0.4444444444444444,
              "#bd3786"
             ],
             [
              0.5555555555555556,
              "#d8576b"
             ],
             [
              0.6666666666666666,
              "#ed7953"
             ],
             [
              0.7777777777777778,
              "#fb9f3a"
             ],
             [
              0.8888888888888888,
              "#fdca26"
             ],
             [
              1,
              "#f0f921"
             ]
            ],
            "type": "histogram2dcontour"
           }
          ],
          "mesh3d": [
           {
            "colorbar": {
             "outlinewidth": 0,
             "ticks": ""
            },
            "type": "mesh3d"
           }
          ],
          "parcoords": [
           {
            "line": {
             "colorbar": {
              "outlinewidth": 0,
              "ticks": ""
             }
            },
            "type": "parcoords"
           }
          ],
          "pie": [
           {
            "automargin": true,
            "type": "pie"
           }
          ],
          "scatter": [
           {
            "fillpattern": {
             "fillmode": "overlay",
             "size": 10,
             "solidity": 0.2
            },
            "type": "scatter"
           }
          ],
          "scatter3d": [
           {
            "line": {
             "colorbar": {
              "outlinewidth": 0,
              "ticks": ""
             }
            },
            "marker": {
             "colorbar": {
              "outlinewidth": 0,
              "ticks": ""
             }
            },
            "type": "scatter3d"
           }
          ],
          "scattercarpet": [
           {
            "marker": {
             "colorbar": {
              "outlinewidth": 0,
              "ticks": ""
             }
            },
            "type": "scattercarpet"
           }
          ],
          "scattergeo": [
           {
            "marker": {
             "colorbar": {
              "outlinewidth": 0,
              "ticks": ""
             }
            },
            "type": "scattergeo"
           }
          ],
          "scattergl": [
           {
            "marker": {
             "colorbar": {
              "outlinewidth": 0,
              "ticks": ""
             }
            },
            "type": "scattergl"
           }
          ],
          "scattermap": [
           {
            "marker": {
             "colorbar": {
              "outlinewidth": 0,
              "ticks": ""
             }
            },
            "type": "scattermap"
           }
          ],
          "scattermapbox": [
           {
            "marker": {
             "colorbar": {
              "outlinewidth": 0,
              "ticks": ""
             }
            },
            "type": "scattermapbox"
           }
          ],
          "scatterpolar": [
           {
            "marker": {
             "colorbar": {
              "outlinewidth": 0,
              "ticks": ""
             }
            },
            "type": "scatterpolar"
           }
          ],
          "scatterpolargl": [
           {
            "marker": {
             "colorbar": {
              "outlinewidth": 0,
              "ticks": ""
             }
            },
            "type": "scatterpolargl"
           }
          ],
          "scatterternary": [
           {
            "marker": {
             "colorbar": {
              "outlinewidth": 0,
              "ticks": ""
             }
            },
            "type": "scatterternary"
           }
          ],
          "surface": [
           {
            "colorbar": {
             "outlinewidth": 0,
             "ticks": ""
            },
            "colorscale": [
             [
              0,
              "#0d0887"
             ],
             [
              0.1111111111111111,
              "#46039f"
             ],
             [
              0.2222222222222222,
              "#7201a8"
             ],
             [
              0.3333333333333333,
              "#9c179e"
             ],
             [
              0.4444444444444444,
              "#bd3786"
             ],
             [
              0.5555555555555556,
              "#d8576b"
             ],
             [
              0.6666666666666666,
              "#ed7953"
             ],
             [
              0.7777777777777778,
              "#fb9f3a"
             ],
             [
              0.8888888888888888,
              "#fdca26"
             ],
             [
              1,
              "#f0f921"
             ]
            ],
            "type": "surface"
           }
          ],
          "table": [
           {
            "cells": {
             "fill": {
              "color": "#EBF0F8"
             },
             "line": {
              "color": "white"
             }
            },
            "header": {
             "fill": {
              "color": "#C8D4E3"
             },
             "line": {
              "color": "white"
             }
            },
            "type": "table"
           }
          ]
         },
         "layout": {
          "annotationdefaults": {
           "arrowcolor": "#2a3f5f",
           "arrowhead": 0,
           "arrowwidth": 1
          },
          "autotypenumbers": "strict",
          "coloraxis": {
           "colorbar": {
            "outlinewidth": 0,
            "ticks": ""
           }
          },
          "colorscale": {
           "diverging": [
            [
             0,
             "#8e0152"
            ],
            [
             0.1,
             "#c51b7d"
            ],
            [
             0.2,
             "#de77ae"
            ],
            [
             0.3,
             "#f1b6da"
            ],
            [
             0.4,
             "#fde0ef"
            ],
            [
             0.5,
             "#f7f7f7"
            ],
            [
             0.6,
             "#e6f5d0"
            ],
            [
             0.7,
             "#b8e186"
            ],
            [
             0.8,
             "#7fbc41"
            ],
            [
             0.9,
             "#4d9221"
            ],
            [
             1,
             "#276419"
            ]
           ],
           "sequential": [
            [
             0,
             "#0d0887"
            ],
            [
             0.1111111111111111,
             "#46039f"
            ],
            [
             0.2222222222222222,
             "#7201a8"
            ],
            [
             0.3333333333333333,
             "#9c179e"
            ],
            [
             0.4444444444444444,
             "#bd3786"
            ],
            [
             0.5555555555555556,
             "#d8576b"
            ],
            [
             0.6666666666666666,
             "#ed7953"
            ],
            [
             0.7777777777777778,
             "#fb9f3a"
            ],
            [
             0.8888888888888888,
             "#fdca26"
            ],
            [
             1,
             "#f0f921"
            ]
           ],
           "sequentialminus": [
            [
             0,
             "#0d0887"
            ],
            [
             0.1111111111111111,
             "#46039f"
            ],
            [
             0.2222222222222222,
             "#7201a8"
            ],
            [
             0.3333333333333333,
             "#9c179e"
            ],
            [
             0.4444444444444444,
             "#bd3786"
            ],
            [
             0.5555555555555556,
             "#d8576b"
            ],
            [
             0.6666666666666666,
             "#ed7953"
            ],
            [
             0.7777777777777778,
             "#fb9f3a"
            ],
            [
             0.8888888888888888,
             "#fdca26"
            ],
            [
             1,
             "#f0f921"
            ]
           ]
          },
          "colorway": [
           "#636efa",
           "#EF553B",
           "#00cc96",
           "#ab63fa",
           "#FFA15A",
           "#19d3f3",
           "#FF6692",
           "#B6E880",
           "#FF97FF",
           "#FECB52"
          ],
          "font": {
           "color": "#2a3f5f"
          },
          "geo": {
           "bgcolor": "white",
           "lakecolor": "white",
           "landcolor": "white",
           "showlakes": true,
           "showland": true,
           "subunitcolor": "#C8D4E3"
          },
          "hoverlabel": {
           "align": "left"
          },
          "hovermode": "closest",
          "mapbox": {
           "style": "light"
          },
          "paper_bgcolor": "white",
          "plot_bgcolor": "white",
          "polar": {
           "angularaxis": {
            "gridcolor": "#EBF0F8",
            "linecolor": "#EBF0F8",
            "ticks": ""
           },
           "bgcolor": "white",
           "radialaxis": {
            "gridcolor": "#EBF0F8",
            "linecolor": "#EBF0F8",
            "ticks": ""
           }
          },
          "scene": {
           "xaxis": {
            "backgroundcolor": "white",
            "gridcolor": "#DFE8F3",
            "gridwidth": 2,
            "linecolor": "#EBF0F8",
            "showbackground": true,
            "ticks": "",
            "zerolinecolor": "#EBF0F8"
           },
           "yaxis": {
            "backgroundcolor": "white",
            "gridcolor": "#DFE8F3",
            "gridwidth": 2,
            "linecolor": "#EBF0F8",
            "showbackground": true,
            "ticks": "",
            "zerolinecolor": "#EBF0F8"
           },
           "zaxis": {
            "backgroundcolor": "white",
            "gridcolor": "#DFE8F3",
            "gridwidth": 2,
            "linecolor": "#EBF0F8",
            "showbackground": true,
            "ticks": "",
            "zerolinecolor": "#EBF0F8"
           }
          },
          "shapedefaults": {
           "line": {
            "color": "#2a3f5f"
           }
          },
          "ternary": {
           "aaxis": {
            "gridcolor": "#DFE8F3",
            "linecolor": "#A2B1C6",
            "ticks": ""
           },
           "baxis": {
            "gridcolor": "#DFE8F3",
            "linecolor": "#A2B1C6",
            "ticks": ""
           },
           "bgcolor": "white",
           "caxis": {
            "gridcolor": "#DFE8F3",
            "linecolor": "#A2B1C6",
            "ticks": ""
           }
          },
          "title": {
           "x": 0.05
          },
          "xaxis": {
           "automargin": true,
           "gridcolor": "#EBF0F8",
           "linecolor": "#EBF0F8",
           "ticks": "",
           "title": {
            "standoff": 15
           },
           "zerolinecolor": "#EBF0F8",
           "zerolinewidth": 2
          },
          "yaxis": {
           "automargin": true,
           "gridcolor": "#EBF0F8",
           "linecolor": "#EBF0F8",
           "ticks": "",
           "title": {
            "standoff": 15
           },
           "zerolinecolor": "#EBF0F8",
           "zerolinewidth": 2
          }
         }
        },
        "title": {
         "text": "Curvas de transmitancia - Café de Veracruz (Molienda normal)"
        },
        "xaxis": {
         "title": {
          "text": "Longitud de onda (nm)"
         }
        },
        "yaxis": {
         "title": {
          "text": "Transmitancia (%)"
         }
        }
       }
      }
     },
     "metadata": {},
     "output_type": "display_data"
    }
   ],
   "source": [
    "import pandas as pd\n",
    "import numpy as np\n",
    "import plotly.graph_objects as go\n",
    "from datetime import datetime\n",
    "import matplotlib.pyplot as plt\n",
    "import matplotlib.colors as mcolors\n",
    "\n",
    "# === Cargar archivo de transmitancia ===\n",
    "ruta = \"TVeMN_matrix.csv\"\n",
    "df = pd.read_csv(ruta)\n",
    "\n",
    "# === Columnas\n",
    "col_nm = [c for c in df.columns if 'nm' in c.lower()][0]\n",
    "col_transmitancia = [c for c in df.columns if c != col_nm]\n",
    "\n",
    "# === Regiones espectrales\n",
    "regiones = {\n",
    "    '100–200 nm': (100, 200),\n",
    "    '200–300 nm': (200, 300),\n",
    "    '300–400 nm': (300, 400),\n",
    "    '400–500 nm': (400, 500),\n",
    "    '500–600 nm': (500, 600),\n",
    "    '600–700 nm': (600, 700),\n",
    "    '700–800 nm': (700, 800)\n",
    "}\n",
    "\n",
    "# === Colores\n",
    "colormap_base = plt.get_cmap('tab10')\n",
    "colormap = colormap_base(np.linspace(0, 1, len(col_transmitancia)))\n",
    "colores_hex = [mcolors.to_hex(c) for c in colormap]\n",
    "\n",
    "# === Figura\n",
    "fig = go.Figure()\n",
    "fig.update_layout(\n",
    "    title=\"Curvas de transmitancia - Café de Veracruz (Molienda normal)\",\n",
    "    xaxis_title=\"Longitud de onda (nm)\",\n",
    "    yaxis_title=\"Transmitancia (%)\",\n",
    "    legend_title=\"Curva\",\n",
    "    template=\"plotly_white\",\n",
    "    margin=dict(l=40, r=40, t=80, b=40),\n",
    ")\n",
    "\n",
    "# === Métricas\n",
    "metricas = []\n",
    "for i, col in enumerate(col_transmitancia):\n",
    "    datos = df[[col_nm, col]].dropna().rename(columns={col_nm: 'nm', col: 'transmitancia'})\n",
    "    datos['transmitancia'] = pd.to_numeric(datos['transmitancia'], errors='coerce')\n",
    "    datos = datos.dropna()\n",
    "    if datos.empty:\n",
    "        continue\n",
    "\n",
    "    fig.add_trace(go.Scatter(\n",
    "        x=datos['nm'],\n",
    "        y=datos['transmitancia'],\n",
    "        mode='lines',\n",
    "        name=col,\n",
    "        line=dict(color=colores_hex[i])\n",
    "    ))\n",
    "\n",
    "    max_val = datos['transmitancia'].max()\n",
    "    min_val = datos['transmitancia'].min()\n",
    "    avg = datos['transmitancia'].mean()\n",
    "    std = datos['transmitancia'].std()\n",
    "    auc = np.trapezoid(datos['transmitancia'], datos['nm'])\n",
    "    lambda_max = datos['nm'][datos['transmitancia'].idxmax()]\n",
    "    lambda_min = datos['nm'][datos['transmitancia'].idxmin()]\n",
    "\n",
    "    proms_reg = {}\n",
    "    for region, (a, b) in regiones.items():\n",
    "        reg_vals = datos.loc[(datos['nm'] >= a) & (datos['nm'] <= b), 'transmitancia']\n",
    "        proms_reg[region] = f\"{reg_vals.mean():.2f}\" if not reg_vals.empty else \"—\"\n",
    "\n",
    "    metricas.append({\n",
    "        'Color de curva': colores_hex[i],\n",
    "        'Curva': col,\n",
    "        'Máx (%T)': round(max_val, 2),\n",
    "        'Mín (%T)': round(min_val, 2),\n",
    "        'Promedio (%)': round(avg, 2),\n",
    "        'Desv. Std': round(std, 2),\n",
    "        'AUC': round(auc, 2),\n",
    "        'λ máx (nm)': round(lambda_max, 2),\n",
    "        'λ mín (nm)': round(lambda_min, 2),\n",
    "        **proms_reg\n",
    "    })\n",
    "\n",
    "# === Tabla HTML\n",
    "df_metricas = pd.DataFrame(metricas)\n",
    "tabla_html = \"<table class='styled-table'><thead><tr>\"\n",
    "for col in df_metricas.columns:\n",
    "    tabla_html += f\"<th>{col}</th>\"\n",
    "tabla_html += \"</tr></thead><tbody>\"\n",
    "for _, row in df_metricas.iterrows():\n",
    "    tabla_html += \"<tr>\"\n",
    "    for col in df_metricas.columns:\n",
    "        if col == \"Color de curva\":\n",
    "            tabla_html += f\"<td style='background-color:{row[col]};'></td>\"\n",
    "        else:\n",
    "            tabla_html += f\"<td>{row[col]}</td>\"\n",
    "    tabla_html += \"</tr>\"\n",
    "tabla_html += \"</tbody></table>\"\n",
    "\n",
    "# === HTML Final\n",
    "fecha = datetime.now().strftime('%d-%m-%Y %H:%M:%S')\n",
    "grafica_html = fig.to_html(full_html=False, include_plotlyjs='cdn')\n",
    "\n",
    "html_final = f\"\"\"\n",
    "<!DOCTYPE html>\n",
    "<html lang=\"es\">\n",
    "<head>\n",
    "  <meta charset=\"UTF-8\">\n",
    "  <title>Reporte de Transmitancia UV-Vis</title>\n",
    "  <meta name=\"viewport\" content=\"width=device-width, initial-scale=1.0\">\n",
    "  <style>\n",
    "    body {{\n",
    "      font-family: 'Segoe UI', Tahoma, sans-serif;\n",
    "      margin: 40px;\n",
    "      background-color: #fdfdfd;\n",
    "      color: #222;\n",
    "    }}\n",
    "    h1 {{\n",
    "      color: #111;\n",
    "    }}\n",
    "    h2 {{\n",
    "      margin-top: 40px;\n",
    "    }}\n",
    "    .info {{\n",
    "      margin-bottom: 20px;\n",
    "    }}\n",
    "    .lab {{\n",
    "      margin-top: 40px;\n",
    "      font-size: 0.95em;\n",
    "      background-color: #f0f8ff;\n",
    "      padding: 15px;\n",
    "      border-left: 6px solid #009879;\n",
    "    }}\n",
    "    .styled-table {{\n",
    "      border-collapse: collapse;\n",
    "      margin-top: 20px;\n",
    "      font-size: 1em;\n",
    "      width: 100%;\n",
    "      box-shadow: 0 0 10px rgba(0, 0, 0, 0.05);\n",
    "    }}\n",
    "    .styled-table thead tr {{\n",
    "      background-color: #009879;\n",
    "      color: #ffffff;\n",
    "      text-align: left;\n",
    "    }}\n",
    "    .styled-table th, .styled-table td {{\n",
    "      padding: 12px 15px;\n",
    "      border: 1px solid #ddd;\n",
    "      text-align: center;\n",
    "    }}\n",
    "    .styled-table tbody tr:nth-child(even) {{\n",
    "      background-color: #f3f3f3;\n",
    "    }}\n",
    "    .plotly-graph-div {{\n",
    "      width: 100% !important;\n",
    "      height: auto !important;\n",
    "    }}\n",
    "  </style>\n",
    "</head>\n",
    "<body>\n",
    "\n",
    "  <h1>Curvas de transmitancia - Café de Veracruz (Molienda normal)</h1> \n",
    "\n",
    "  <div class=\"info\">\n",
    "    <p><strong>Fecha:</strong> {fecha}</p>\n",
    "  </div>\n",
    "\n",
    "  {grafica_html}\n",
    "\n",
    "  <h2>Métricas espectrales por curva</h2>\n",
    "  {tabla_html}\n",
    "\n",
    "  <div>\n",
    "    <p>Las curvas de transmitancia permiten identificar la transparencia relativa de la muestra a lo largo del espectro. Una menor transmitancia puede sugerir absorción fuerte en ciertas regiones, lo cual es útil para análisis de compuestos activos presentes en el café.</p>\n",
    "  </div>\n",
    "\n",
    "  <div class=\"lab\">\n",
    "    <strong>Nombre del proyecto: CafeLab</strong><br><br>\n",
    "    <strong>Colaboradores:</strong><br>\n",
    "    Martín Rodolfo Palomino Merino – Profesor investigador, jefe responsable del laboratorio de caracterización de materiales (FCFM-BUAP).<br>\n",
    "    Lizeth Jazmín Orozco García – Colaborador principal.<br>\n",
    "    Julio Alfredo Ballinas García – Colaborador del proyecto.\n",
    "  </div>\n",
    "\n",
    "</body>\n",
    "</html>\n",
    "\"\"\"\n",
    "\n",
    "# === Guardar archivo\n",
    "with open(\"Comparativa_muestras_transmitancia.html\", \"w\", encoding=\"utf-8\") as f:\n",
    "    f.write(html_final)\n",
    "\n",
    "print(\"✅ HTML generado: Comparativa_muestras_transmitancia.html\")\n",
    "print(\"Rango de longitudes de onda:\", df['nm'].min(), \"a\", df['nm'].max())\n",
    "fig.show()"
   ]
  },
  {
   "cell_type": "code",
   "execution_count": null,
   "metadata": {},
   "outputs": [],
   "source": []
  }
 ],
 "metadata": {
  "kernelspec": {
   "display_name": "ydata-env",
   "language": "python",
   "name": "python3"
  },
  "language_info": {
   "codemirror_mode": {
    "name": "ipython",
    "version": 3
   },
   "file_extension": ".py",
   "mimetype": "text/x-python",
   "name": "python",
   "nbconvert_exporter": "python",
   "pygments_lexer": "ipython3",
   "version": "3.11.8"
  }
 },
 "nbformat": 4,
 "nbformat_minor": 2
}
