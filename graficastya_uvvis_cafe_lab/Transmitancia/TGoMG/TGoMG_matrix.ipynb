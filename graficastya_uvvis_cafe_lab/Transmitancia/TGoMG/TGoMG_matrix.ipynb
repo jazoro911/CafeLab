{
 "cells": [
  {
   "cell_type": "code",
   "execution_count": 1,
   "metadata": {},
   "outputs": [
    {
     "name": "stdout",
     "output_type": "stream",
     "text": [
      "Archivo 'TGoMG_matrix.csv' creado con éxito\n"
     ]
    }
   ],
   "source": [
    "import pandas as pd\n",
    "import os\n",
    "import re\n",
    "\n",
    "# Detectamos los archivos .txt válidos (los que tienen datos de absorbancia)\n",
    "archivos_txt = [f for f in os.listdir() if f.endswith('.txt') and f != 'AOxMM.csv']\n",
    "\n",
    "# Función para extraer gramaje del nombre del archivo\n",
    "def extraer_gramos(nombre):\n",
    "    match = re.search(r'(\\d+_?\\d*)g', nombre)\n",
    "    if match:\n",
    "        return float(match.group(1).replace('_', '.'))\n",
    "    return float('inf')\n",
    "\n",
    "# Ordenamos los archivos por gramaje (más limpio para visualizar después)\n",
    "archivos_ordenados = sorted(archivos_txt, key=extraer_gramos)\n",
    "\n",
    "# Leemos y procesamos los archivos\n",
    "dataframes = []\n",
    "for archivo in archivos_ordenados:\n",
    "    df = pd.read_csv(archivo, sep=None, engine='python')  # autodetecta separador\n",
    "    df = df[pd.to_numeric(df.iloc[:, 0], errors='coerce').notna()]\n",
    "    \n",
    "    nombre_columna = os.path.splitext(archivo)[0]\n",
    "    df.columns = ['nm', nombre_columna]\n",
    "    df[nombre_columna] = pd.to_numeric(df[nombre_columna], errors='coerce')\n",
    "    dataframes.append(df)\n",
    "\n",
    "# Unimos los datos por la columna de longitud de onda\n",
    "df_consolidado = dataframes[0]\n",
    "for df in dataframes[1:]:\n",
    "    df_consolidado = pd.merge(df_consolidado, df, on='nm', how='outer')\n",
    "\n",
    "# Guardamos el archivo final\n",
    "df_consolidado.to_csv('TGoMG_matrix.csv', index=False)\n",
    "\n",
    "print(\"Archivo 'TGoMG_matrix.csv' creado con éxito\")"
   ]
  },
  {
   "cell_type": "code",
   "execution_count": 1,
   "metadata": {},
   "outputs": [],
   "source": [
    "import pandas as pd\n",
    "datos= pd.read_csv(\"TGoMG_matrix.csv\")"
   ]
  },
  {
   "cell_type": "code",
   "execution_count": 2,
   "metadata": {},
   "outputs": [
    {
     "data": {
      "text/html": [
       "<div>\n",
       "<style scoped>\n",
       "    .dataframe tbody tr th:only-of-type {\n",
       "        vertical-align: middle;\n",
       "    }\n",
       "\n",
       "    .dataframe tbody tr th {\n",
       "        vertical-align: top;\n",
       "    }\n",
       "\n",
       "    .dataframe thead th {\n",
       "        text-align: right;\n",
       "    }\n",
       "</style>\n",
       "<table border=\"1\" class=\"dataframe\">\n",
       "  <thead>\n",
       "    <tr style=\"text-align: right;\">\n",
       "      <th></th>\n",
       "      <th>nm</th>\n",
       "      <th>TGoMG20</th>\n",
       "      <th>TGoMG05</th>\n",
       "      <th>TGoMG</th>\n",
       "      <th>TGoMG50</th>\n",
       "    </tr>\n",
       "  </thead>\n",
       "  <tbody>\n",
       "    <tr>\n",
       "      <th>0</th>\n",
       "      <td>390.0</td>\n",
       "      <td>NaN</td>\n",
       "      <td>NaN</td>\n",
       "      <td>NaN</td>\n",
       "      <td>44.922</td>\n",
       "    </tr>\n",
       "    <tr>\n",
       "      <th>1</th>\n",
       "      <td>391.0</td>\n",
       "      <td>NaN</td>\n",
       "      <td>NaN</td>\n",
       "      <td>NaN</td>\n",
       "      <td>40.351</td>\n",
       "    </tr>\n",
       "    <tr>\n",
       "      <th>2</th>\n",
       "      <td>392.0</td>\n",
       "      <td>NaN</td>\n",
       "      <td>NaN</td>\n",
       "      <td>NaN</td>\n",
       "      <td>43.282</td>\n",
       "    </tr>\n",
       "    <tr>\n",
       "      <th>3</th>\n",
       "      <td>393.0</td>\n",
       "      <td>NaN</td>\n",
       "      <td>NaN</td>\n",
       "      <td>NaN</td>\n",
       "      <td>43.747</td>\n",
       "    </tr>\n",
       "    <tr>\n",
       "      <th>4</th>\n",
       "      <td>394.0</td>\n",
       "      <td>52.298</td>\n",
       "      <td>75.661</td>\n",
       "      <td>58.853</td>\n",
       "      <td>43.580</td>\n",
       "    </tr>\n",
       "    <tr>\n",
       "      <th>5</th>\n",
       "      <td>395.0</td>\n",
       "      <td>52.344</td>\n",
       "      <td>75.124</td>\n",
       "      <td>57.428</td>\n",
       "      <td>49.177</td>\n",
       "    </tr>\n",
       "    <tr>\n",
       "      <th>6</th>\n",
       "      <td>396.0</td>\n",
       "      <td>50.736</td>\n",
       "      <td>72.342</td>\n",
       "      <td>54.906</td>\n",
       "      <td>46.856</td>\n",
       "    </tr>\n",
       "    <tr>\n",
       "      <th>7</th>\n",
       "      <td>397.0</td>\n",
       "      <td>51.784</td>\n",
       "      <td>70.186</td>\n",
       "      <td>55.418</td>\n",
       "      <td>45.366</td>\n",
       "    </tr>\n",
       "    <tr>\n",
       "      <th>8</th>\n",
       "      <td>398.0</td>\n",
       "      <td>53.968</td>\n",
       "      <td>70.472</td>\n",
       "      <td>57.603</td>\n",
       "      <td>48.141</td>\n",
       "    </tr>\n",
       "    <tr>\n",
       "      <th>9</th>\n",
       "      <td>399.0</td>\n",
       "      <td>54.219</td>\n",
       "      <td>72.034</td>\n",
       "      <td>59.165</td>\n",
       "      <td>48.696</td>\n",
       "    </tr>\n",
       "    <tr>\n",
       "      <th>10</th>\n",
       "      <td>400.0</td>\n",
       "      <td>54.320</td>\n",
       "      <td>73.223</td>\n",
       "      <td>59.661</td>\n",
       "      <td>49.436</td>\n",
       "    </tr>\n",
       "    <tr>\n",
       "      <th>11</th>\n",
       "      <td>401.0</td>\n",
       "      <td>55.510</td>\n",
       "      <td>72.296</td>\n",
       "      <td>60.465</td>\n",
       "      <td>47.756</td>\n",
       "    </tr>\n",
       "    <tr>\n",
       "      <th>12</th>\n",
       "      <td>402.0</td>\n",
       "      <td>55.751</td>\n",
       "      <td>73.425</td>\n",
       "      <td>61.447</td>\n",
       "      <td>48.657</td>\n",
       "    </tr>\n",
       "    <tr>\n",
       "      <th>13</th>\n",
       "      <td>403.0</td>\n",
       "      <td>55.919</td>\n",
       "      <td>75.956</td>\n",
       "      <td>61.157</td>\n",
       "      <td>48.708</td>\n",
       "    </tr>\n",
       "    <tr>\n",
       "      <th>14</th>\n",
       "      <td>404.0</td>\n",
       "      <td>57.329</td>\n",
       "      <td>73.854</td>\n",
       "      <td>60.478</td>\n",
       "      <td>49.950</td>\n",
       "    </tr>\n",
       "  </tbody>\n",
       "</table>\n",
       "</div>"
      ],
      "text/plain": [
       "       nm  TGoMG20  TGoMG05   TGoMG  TGoMG50\n",
       "0   390.0      NaN      NaN     NaN   44.922\n",
       "1   391.0      NaN      NaN     NaN   40.351\n",
       "2   392.0      NaN      NaN     NaN   43.282\n",
       "3   393.0      NaN      NaN     NaN   43.747\n",
       "4   394.0   52.298   75.661  58.853   43.580\n",
       "5   395.0   52.344   75.124  57.428   49.177\n",
       "6   396.0   50.736   72.342  54.906   46.856\n",
       "7   397.0   51.784   70.186  55.418   45.366\n",
       "8   398.0   53.968   70.472  57.603   48.141\n",
       "9   399.0   54.219   72.034  59.165   48.696\n",
       "10  400.0   54.320   73.223  59.661   49.436\n",
       "11  401.0   55.510   72.296  60.465   47.756\n",
       "12  402.0   55.751   73.425  61.447   48.657\n",
       "13  403.0   55.919   75.956  61.157   48.708\n",
       "14  404.0   57.329   73.854  60.478   49.950"
      ]
     },
     "execution_count": 2,
     "metadata": {},
     "output_type": "execute_result"
    }
   ],
   "source": [
    "datos.head(15)"
   ]
  },
  {
   "cell_type": "code",
   "execution_count": 3,
   "metadata": {},
   "outputs": [
    {
     "name": "stdout",
     "output_type": "stream",
     "text": [
      "<class 'pandas.core.frame.DataFrame'>\n",
      "RangeIndex: 361 entries, 0 to 360\n",
      "Data columns (total 5 columns):\n",
      " #   Column   Non-Null Count  Dtype  \n",
      "---  ------   --------------  -----  \n",
      " 0   nm       361 non-null    float64\n",
      " 1   TGoMG20  353 non-null    float64\n",
      " 2   TGoMG05  353 non-null    float64\n",
      " 3   TGoMG    353 non-null    float64\n",
      " 4   TGoMG50  361 non-null    float64\n",
      "dtypes: float64(5)\n",
      "memory usage: 14.2 KB\n"
     ]
    }
   ],
   "source": [
    "datos.info()"
   ]
  },
  {
   "cell_type": "code",
   "execution_count": 4,
   "metadata": {},
   "outputs": [
    {
     "data": {
      "text/html": [
       "<div>\n",
       "<style scoped>\n",
       "    .dataframe tbody tr th:only-of-type {\n",
       "        vertical-align: middle;\n",
       "    }\n",
       "\n",
       "    .dataframe tbody tr th {\n",
       "        vertical-align: top;\n",
       "    }\n",
       "\n",
       "    .dataframe thead th {\n",
       "        text-align: right;\n",
       "    }\n",
       "</style>\n",
       "<table border=\"1\" class=\"dataframe\">\n",
       "  <thead>\n",
       "    <tr style=\"text-align: right;\">\n",
       "      <th></th>\n",
       "      <th>nm</th>\n",
       "      <th>TGoMG20</th>\n",
       "      <th>TGoMG05</th>\n",
       "      <th>TGoMG</th>\n",
       "      <th>TGoMG50</th>\n",
       "    </tr>\n",
       "  </thead>\n",
       "  <tbody>\n",
       "    <tr>\n",
       "      <th>count</th>\n",
       "      <td>361.000000</td>\n",
       "      <td>353.000000</td>\n",
       "      <td>353.000000</td>\n",
       "      <td>353.000000</td>\n",
       "      <td>361.000000</td>\n",
       "    </tr>\n",
       "    <tr>\n",
       "      <th>mean</th>\n",
       "      <td>570.000000</td>\n",
       "      <td>85.619564</td>\n",
       "      <td>92.869739</td>\n",
       "      <td>85.404377</td>\n",
       "      <td>82.260765</td>\n",
       "    </tr>\n",
       "    <tr>\n",
       "      <th>std</th>\n",
       "      <td>104.355961</td>\n",
       "      <td>11.219514</td>\n",
       "      <td>6.757609</td>\n",
       "      <td>9.767450</td>\n",
       "      <td>13.261139</td>\n",
       "    </tr>\n",
       "    <tr>\n",
       "      <th>min</th>\n",
       "      <td>390.000000</td>\n",
       "      <td>50.736000</td>\n",
       "      <td>70.186000</td>\n",
       "      <td>54.906000</td>\n",
       "      <td>40.351000</td>\n",
       "    </tr>\n",
       "    <tr>\n",
       "      <th>25%</th>\n",
       "      <td>480.000000</td>\n",
       "      <td>81.094000</td>\n",
       "      <td>90.673000</td>\n",
       "      <td>81.541000</td>\n",
       "      <td>76.489000</td>\n",
       "    </tr>\n",
       "    <tr>\n",
       "      <th>50%</th>\n",
       "      <td>570.000000</td>\n",
       "      <td>91.190000</td>\n",
       "      <td>95.872000</td>\n",
       "      <td>89.232000</td>\n",
       "      <td>87.915000</td>\n",
       "    </tr>\n",
       "    <tr>\n",
       "      <th>75%</th>\n",
       "      <td>660.000000</td>\n",
       "      <td>93.800000</td>\n",
       "      <td>97.572000</td>\n",
       "      <td>92.916000</td>\n",
       "      <td>92.213000</td>\n",
       "    </tr>\n",
       "    <tr>\n",
       "      <th>max</th>\n",
       "      <td>750.000000</td>\n",
       "      <td>95.265000</td>\n",
       "      <td>98.632000</td>\n",
       "      <td>94.232000</td>\n",
       "      <td>93.927000</td>\n",
       "    </tr>\n",
       "  </tbody>\n",
       "</table>\n",
       "</div>"
      ],
      "text/plain": [
       "               nm     TGoMG20     TGoMG05       TGoMG     TGoMG50\n",
       "count  361.000000  353.000000  353.000000  353.000000  361.000000\n",
       "mean   570.000000   85.619564   92.869739   85.404377   82.260765\n",
       "std    104.355961   11.219514    6.757609    9.767450   13.261139\n",
       "min    390.000000   50.736000   70.186000   54.906000   40.351000\n",
       "25%    480.000000   81.094000   90.673000   81.541000   76.489000\n",
       "50%    570.000000   91.190000   95.872000   89.232000   87.915000\n",
       "75%    660.000000   93.800000   97.572000   92.916000   92.213000\n",
       "max    750.000000   95.265000   98.632000   94.232000   93.927000"
      ]
     },
     "execution_count": 4,
     "metadata": {},
     "output_type": "execute_result"
    }
   ],
   "source": [
    "datos.describe()"
   ]
  },
  {
   "cell_type": "code",
   "execution_count": 7,
   "metadata": {},
   "outputs": [
    {
     "data": {
      "text/plain": [
       "nm     TGoMG20  TGoMG05  TGoMG   TGoMG50\n",
       "746.0  94.881   97.415   93.868  93.754     1\n",
       "730.0  94.608   98.243   93.595  92.769     1\n",
       "729.0  94.812   98.456   93.420  93.442     1\n",
       "728.0  94.438   98.371   93.550  92.772     1\n",
       "727.0  94.022   98.176   93.797  93.196     1\n",
       "                                           ..\n",
       "399.0  54.219   72.034   59.165  48.696     1\n",
       "398.0  53.968   70.472   57.603  48.141     1\n",
       "397.0  51.784   70.186   55.418  45.366     1\n",
       "396.0  50.736   72.342   54.906  46.856     1\n",
       "395.0  52.344   75.124   57.428  49.177     1\n",
       "Name: count, Length: 353, dtype: int64"
      ]
     },
     "execution_count": 7,
     "metadata": {},
     "output_type": "execute_result"
    }
   ],
   "source": [
    "datos.value_counts()"
   ]
  },
  {
   "cell_type": "code",
   "execution_count": 8,
   "metadata": {},
   "outputs": [
    {
     "data": {
      "image/png": "[encoded data removed]",
      "text/plain": [
       "<Figure size 1200x600 with 1 Axes>"
      ]
     },
     "metadata": {},
     "output_type": "display_data"
    }
   ],
   "source": [
    "import pandas as pd\n",
    "import matplotlib.pyplot as plt\n",
    "import numpy as np\n",
    "\n",
    "# Cargamos el archivo con las mediciones de transmitancia almacenados en una matriz de datos\n",
    "df = pd.read_csv(\"TGoMG_matrix.csv\")\n",
    "\n",
    "# Limpiamos datos fuera del rango de %T [0, 100]\n",
    "for columna in df.columns[1:]:\n",
    "    df[columna] = pd.to_numeric(df[columna], errors='coerce')\n",
    "    df.loc[(df[columna] < 0) | (df[columna] > 100), columna] = None\n",
    "\n",
    "# Copiamos el DataFrame limpio\n",
    "df_clean = df.copy()\n",
    "\n",
    "# Obtenemos los valores máximos de cada curva\n",
    "maximos = {\n",
    "    columna: df_clean[columna].max(skipna=True)\n",
    "    for columna in df_clean.columns[1:]\n",
    "}\n",
    "\n",
    "# Ordenamos de mayor a menor para que la leyenda coincida con las curvas\n",
    "columnas_ordenadas = sorted(maximos, key=maximos.get, reverse=True)\n",
    "\n",
    "# Creamos figura\n",
    "plt.figure(figsize=(12, 6))\n",
    "\n",
    "# Dibujamos las curvas solo con valores válidos (sin NaNs)\n",
    "for columna in columnas_ordenadas:\n",
    "    datos_validos = df_clean[['nm', columna]].dropna()\n",
    "    plt.plot(datos_validos['nm'], datos_validos[columna], label=columna)\n",
    "\n",
    "# Etiquetas y estilo (estética de los ejes)\n",
    "plt.xlabel('Longitud de onda (nm)', fontsize=12)\n",
    "plt.ylabel('Transmitancia (%T)', fontsize=12)\n",
    "plt.title('Curvas de transmitancia - Café de Guerrero MG (Molienda grande)', fontsize=14)\n",
    "plt.legend(title='Muestras (gramos)', fontsize=10)\n",
    "plt.xticks(df['nm'][::50], rotation=45)\n",
    "plt.grid(True, linestyle='--', alpha=0.6)\n",
    "plt.tight_layout()\n",
    "plt.show()"
   ]
  },
  {
   "cell_type": "code",
   "execution_count": 9,
   "metadata": {},
   "outputs": [
    {
     "name": "stdout",
     "output_type": "stream",
     "text": [
      "✅ HTML generado: Comparativa_muestras_transmitancia.html\n",
      "Rango de longitudes de onda: 390.0 a 750.0\n"
     ]
    },
    {
     "data": {
      "application/vnd.plotly.v1+json": {
       "config": {
        "plotlyServerURL": "https://plot.ly"
       },
       "data": [
        {
         "line": {
          "color": "#1f77b4"
         },
         "mode": "lines",
         "name": "TGoMG20",
         "type": "scatter",
         "x": {
          "bdata": "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",
          "dtype": "f8"
         },
         "y": {
          "bdata": "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",
          "dtype": "f8"
         }
        },
        {
         "line": {
          "color": "#d62728"
         },
         "mode": "lines",
         "name": "TGoMG05",
         "type": "scatter",
         "x": {
          "bdata": "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",
          "dtype": "f8"
         },
         "y": {
          "bdata": "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",
          "dtype": "f8"
         }
        },
        {
         "line": {
          "color": "#e377c2"
         },
         "mode": "lines",
         "name": "TGoMG",
         "type": "scatter",
         "x": {
          "bdata": "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",
          "dtype": "f8"
         },
         "y": {
          "bdata": "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",
          "dtype": "f8"
         }
        },
        {
         "line": {
          "color": "#17becf"
         },
         "mode": "lines",
         "name": "TGoMG50",
         "type": "scatter",
         "x": {
          "bdata": "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",
          "dtype": "f8"
         },
         "y": {
          "bdata": "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",
          "dtype": "f8"
         }
        }
       ],
       "layout": {
        "legend": {
         "title": {
          "text": "Curva"
         }
        },
        "margin": {
         "b": 40,
         "l": 40,
         "r": 40,
         "t": 80
        },
        "template": {
         "data": {
          "bar": [
           {
            "error_x": {
             "color": "#2a3f5f"
            },
            "error_y": {
             "color": "#2a3f5f"
            },
            "marker": {
             "line": {
              "color": "white",
              "width": 0.5
             },
             "pattern": {
              "fillmode": "overlay",
              "size": 10,
              "solidity": 0.2
             }
            },
            "type": "bar"
           }
          ],
          "barpolar": [
           {
            "marker": {
             "line": {
              "color": "white",
              "width": 0.5
             },
             "pattern": {
              "fillmode": "overlay",
              "size": 10,
              "solidity": 0.2
             }
            },
            "type": "barpolar"
           }
          ],
          "carpet": [
           {
            "aaxis": {
             "endlinecolor": "#2a3f5f",
             "gridcolor": "#C8D4E3",
             "linecolor": "#C8D4E3",
             "minorgridcolor": "#C8D4E3",
             "startlinecolor": "#2a3f5f"
            },
            "baxis": {
             "endlinecolor": "#2a3f5f",
             "gridcolor": "#C8D4E3",
             "linecolor": "#C8D4E3",
             "minorgridcolor": "#C8D4E3",
             "startlinecolor": "#2a3f5f"
            },
            "type": "carpet"
           }
          ],
          "choropleth": [
           {
            "colorbar": {
             "outlinewidth": 0,
             "ticks": ""
            },
            "type": "choropleth"
           }
          ],
          "contour": [
           {
            "colorbar": {
             "outlinewidth": 0,
             "ticks": ""
            },
            "colorscale": [
             [
              0,
              "#0d0887"
             ],
             [
              0.1111111111111111,
              "#46039f"
             ],
             [
              0.2222222222222222,
              "#7201a8"
             ],
             [
              0.3333333333333333,
              "#9c179e"
             ],
             [
              0.4444444444444444,
              "#bd3786"
             ],
             [
              0.5555555555555556,
              "#d8576b"
             ],
             [
              0.6666666666666666,
              "#ed7953"
             ],
             [
              0.7777777777777778,
              "#fb9f3a"
             ],
             [
              0.8888888888888888,
              "#fdca26"
             ],
             [
              1,
              "#f0f921"
             ]
            ],
            "type": "contour"
           }
          ],
          "contourcarpet": [
           {
            "colorbar": {
             "outlinewidth": 0,
             "ticks": ""
            },
            "type": "contourcarpet"
           }
          ],
          "heatmap": [
           {
            "colorbar": {
             "outlinewidth": 0,
             "ticks": ""
            },
            "colorscale": [
             [
              0,
              "#0d0887"
             ],
             [
              0.1111111111111111,
              "#46039f"
             ],
             [
              0.2222222222222222,
              "#7201a8"
             ],
             [
              0.3333333333333333,
              "#9c179e"
             ],
             [
              0.4444444444444444,
              "#bd3786"
             ],
             [
              0.5555555555555556,
              "#d8576b"
             ],
             [
              0.6666666666666666,
              "#ed7953"
             ],
             [
              0.7777777777777778,
              "#fb9f3a"
             ],
             [
              0.8888888888888888,
              "#fdca26"
             ],
             [
              1,
              "#f0f921"
             ]
            ],
            "type": "heatmap"
           }
          ],
          "histogram": [
           {
            "marker": {
             "pattern": {
              "fillmode": "overlay",
              "size": 10,
              "solidity": 0.2
             }
            },
            "type": "histogram"
           }
          ],
          "histogram2d": [
           {
            "colorbar": {
             "outlinewidth": 0,
             "ticks": ""
            },
            "colorscale": [
             [
              0,
              "#0d0887"
             ],
             [
              0.1111111111111111,
              "#46039f"
             ],
             [
              0.2222222222222222,
              "#7201a8"
             ],
             [
              0.3333333333333333,
              "#9c179e"
             ],
             [
              0.4444444444444444,
              "#bd3786"
             ],
             [
              0.5555555555555556,
              "#d8576b"
             ],
             [
              0.6666666666666666,
              "#ed7953"
             ],
             [
              0.7777777777777778,
              "#fb9f3a"
             ],
             [
              0.8888888888888888,
              "#fdca26"
             ],
             [
              1,
              "#f0f921"
             ]
            ],
            "type": "histogram2d"
           }
          ],
          "histogram2dcontour": [
           {
            "colorbar": {
             "outlinewidth": 0,
             "ticks": ""
            },
            "colorscale": [
             [
              0,
              "#0d0887"
             ],
             [
              0.1111111111111111,
              "#46039f"
             ],
             [
              0.2222222222222222,
              "#7201a8"
             ],
             [
              0.3333333333333333,
              "#9c179e"
             ],
             [
              0.4444444444444444,
              "#bd3786"
             ],
             [
              0.5555555555555556,
              "#d8576b"
             ],
             [
              0.6666666666666666,
              "#ed7953"
             ],
             [
              0.7777777777777778,
              "#fb9f3a"
             ],
             [
              0.8888888888888888,
              "#fdca26"
             ],
             [
              1,
              "#f0f921"
             ]
            ],
            "type": "histogram2dcontour"
           }
          ],
          "mesh3d": [
           {
            "colorbar": {
             "outlinewidth": 0,
             "ticks": ""
            },
            "type": "mesh3d"
           }
          ],
          "parcoords": [
           {
            "line": {
             "colorbar": {
              "outlinewidth": 0,
              "ticks": ""
             }
            },
            "type": "parcoords"
           }
          ],
          "pie": [
           {
            "automargin": true,
            "type": "pie"
           }
          ],
          "scatter": [
           {
            "fillpattern": {
             "fillmode": "overlay",
             "size": 10,
             "solidity": 0.2
            },
            "type": "scatter"
           }
          ],
          "scatter3d": [
           {
            "line": {
             "colorbar": {
              "outlinewidth": 0,
              "ticks": ""
             }
            },
            "marker": {
             "colorbar": {
              "outlinewidth": 0,
              "ticks": ""
             }
            },
            "type": "scatter3d"
           }
          ],
          "scattercarpet": [
           {
            "marker": {
             "colorbar": {
              "outlinewidth": 0,
              "ticks": ""
             }
            },
            "type": "scattercarpet"
           }
          ],
          "scattergeo": [
           {
            "marker": {
             "colorbar": {
              "outlinewidth": 0,
              "ticks": ""
             }
            },
            "type": "scattergeo"
           }
          ],
          "scattergl": [
           {
            "marker": {
             "colorbar": {
              "outlinewidth": 0,
              "ticks": ""
             }
            },
            "type": "scattergl"
           }
          ],
          "scattermap": [
           {
            "marker": {
             "colorbar": {
              "outlinewidth": 0,
              "ticks": ""
             }
            },
            "type": "scattermap"
           }
          ],
          "scattermapbox": [
           {
            "marker": {
             "colorbar": {
              "outlinewidth": 0,
              "ticks": ""
             }
            },
            "type": "scattermapbox"
           }
          ],
          "scatterpolar": [
           {
            "marker": {
             "colorbar": {
              "outlinewidth": 0,
              "ticks": ""
             }
            },
            "type": "scatterpolar"
           }
          ],
          "scatterpolargl": [
           {
            "marker": {
             "colorbar": {
              "outlinewidth": 0,
              "ticks": ""
             }
            },
            "type": "scatterpolargl"
           }
          ],
          "scatterternary": [
           {
            "marker": {
             "colorbar": {
              "outlinewidth": 0,
              "ticks": ""
             }
            },
            "type": "scatterternary"
           }
          ],
          "surface": [
           {
            "colorbar": {
             "outlinewidth": 0,
             "ticks": ""
            },
            "colorscale": [
             [
              0,
              "#0d0887"
             ],
             [
              0.1111111111111111,
              "#46039f"
             ],
             [
              0.2222222222222222,
              "#7201a8"
             ],
             [
              0.3333333333333333,
              "#9c179e"
             ],
             [
              0.4444444444444444,
              "#bd3786"
             ],
             [
              0.5555555555555556,
              "#d8576b"
             ],
             [
              0.6666666666666666,
              "#ed7953"
             ],
             [
              0.7777777777777778,
              "#fb9f3a"
             ],
             [
              0.8888888888888888,
              "#fdca26"
             ],
             [
              1,
              "#f0f921"
             ]
            ],
            "type": "surface"
           }
          ],
          "table": [
           {
            "cells": {
             "fill": {
              "color": "#EBF0F8"
             },
             "line": {
              "color": "white"
             }
            },
            "header": {
             "fill": {
              "color": "#C8D4E3"
             },
             "line": {
              "color": "white"
             }
            },
            "type": "table"
           }
          ]
         },
         "layout": {
          "annotationdefaults": {
           "arrowcolor": "#2a3f5f",
           "arrowhead": 0,
           "arrowwidth": 1
          },
          "autotypenumbers": "strict",
          "coloraxis": {
           "colorbar": {
            "outlinewidth": 0,
            "ticks": ""
           }
          },
          "colorscale": {
           "diverging": [
            [
             0,
             "#8e0152"
            ],
            [
             0.1,
             "#c51b7d"
            ],
            [
             0.2,
             "#de77ae"
            ],
            [
             0.3,
             "#f1b6da"
            ],
            [
             0.4,
             "#fde0ef"
            ],
            [
             0.5,
             "#f7f7f7"
            ],
            [
             0.6,
             "#e6f5d0"
            ],
            [
             0.7,
             "#b8e186"
            ],
            [
             0.8,
             "#7fbc41"
            ],
            [
             0.9,
             "#4d9221"
            ],
            [
             1,
             "#276419"
            ]
           ],
           "sequential": [
            [
             0,
             "#0d0887"
            ],
            [
             0.1111111111111111,
             "#46039f"
            ],
            [
             0.2222222222222222,
             "#7201a8"
            ],
            [
             0.3333333333333333,
             "#9c179e"
            ],
            [
             0.4444444444444444,
             "#bd3786"
            ],
            [
             0.5555555555555556,
             "#d8576b"
            ],
            [
             0.6666666666666666,
             "#ed7953"
            ],
            [
             0.7777777777777778,
             "#fb9f3a"
            ],
            [
             0.8888888888888888,
             "#fdca26"
            ],
            [
             1,
             "#f0f921"
            ]
           ],
           "sequentialminus": [
            [
             0,
             "#0d0887"
            ],
            [
             0.1111111111111111,
             "#46039f"
            ],
            [
             0.2222222222222222,
             "#7201a8"
            ],
            [
             0.3333333333333333,
             "#9c179e"
            ],
            [
             0.4444444444444444,
             "#bd3786"
            ],
            [
             0.5555555555555556,
             "#d8576b"
            ],
            [
             0.6666666666666666,
             "#ed7953"
            ],
            [
             0.7777777777777778,
             "#fb9f3a"
            ],
            [
             0.8888888888888888,
             "#fdca26"
            ],
            [
             1,
             "#f0f921"
            ]
           ]
          },
          "colorway": [
           "#636efa",
           "#EF553B",
           "#00cc96",
           "#ab63fa",
           "#FFA15A",
           "#19d3f3",
           "#FF6692",
           "#B6E880",
           "#FF97FF",
           "#FECB52"
          ],
          "font": {
           "color": "#2a3f5f"
          },
          "geo": {
           "bgcolor": "white",
           "lakecolor": "white",
           "landcolor": "white",
           "showlakes": true,
           "showland": true,
           "subunitcolor": "#C8D4E3"
          },
          "hoverlabel": {
           "align": "left"
          },
          "hovermode": "closest",
          "mapbox": {
           "style": "light"
          },
          "paper_bgcolor": "white",
          "plot_bgcolor": "white",
          "polar": {
           "angularaxis": {
            "gridcolor": "#EBF0F8",
            "linecolor": "#EBF0F8",
            "ticks": ""
           },
           "bgcolor": "white",
           "radialaxis": {
            "gridcolor": "#EBF0F8",
            "linecolor": "#EBF0F8",
            "ticks": ""
           }
          },
          "scene": {
           "xaxis": {
            "backgroundcolor": "white",
            "gridcolor": "#DFE8F3",
            "gridwidth": 2,
            "linecolor": "#EBF0F8",
            "showbackground": true,
            "ticks": "",
            "zerolinecolor": "#EBF0F8"
           },
           "yaxis": {
            "backgroundcolor": "white",
            "gridcolor": "#DFE8F3",
            "gridwidth": 2,
            "linecolor": "#EBF0F8",
            "showbackground": true,
            "ticks": "",
            "zerolinecolor": "#EBF0F8"
           },
           "zaxis": {
            "backgroundcolor": "white",
            "gridcolor": "#DFE8F3",
            "gridwidth": 2,
            "linecolor": "#EBF0F8",
            "showbackground": true,
            "ticks": "",
            "zerolinecolor": "#EBF0F8"
           }
          },
          "shapedefaults": {
           "line": {
            "color": "#2a3f5f"
           }
          },
          "ternary": {
           "aaxis": {
            "gridcolor": "#DFE8F3",
            "linecolor": "#A2B1C6",
            "ticks": ""
           },
           "baxis": {
            "gridcolor": "#DFE8F3",
            "linecolor": "#A2B1C6",
            "ticks": ""
           },
           "bgcolor": "white",
           "caxis": {
            "gridcolor": "#DFE8F3",
            "linecolor": "#A2B1C6",
            "ticks": ""
           }
          },
          "title": {
           "x": 0.05
          },
          "xaxis": {
           "automargin": true,
           "gridcolor": "#EBF0F8",
           "linecolor": "#EBF0F8",
           "ticks": "",
           "title": {
            "standoff": 15
           },
           "zerolinecolor": "#EBF0F8",
           "zerolinewidth": 2
          },
          "yaxis": {
           "automargin": true,
           "gridcolor": "#EBF0F8",
           "linecolor": "#EBF0F8",
           "ticks": "",
           "title": {
            "standoff": 15
           },
           "zerolinecolor": "#EBF0F8",
           "zerolinewidth": 2
          }
         }
        },
        "title": {
         "text": "Curvas de transmitancia - Café de Guerrero MG (Molienda grande)"
        },
        "xaxis": {
         "title": {
          "text": "Longitud de onda (nm)"
         }
        },
        "yaxis": {
         "title": {
          "text": "Transmitancia (%T)"
         }
        }
       }
      }
     },
     "metadata": {},
     "output_type": "display_data"
    }
   ],
   "source": [
    "import pandas as pd\n",
    "import numpy as np\n",
    "import plotly.graph_objects as go\n",
    "from datetime import datetime\n",
    "import matplotlib.pyplot as plt\n",
    "import matplotlib.colors as mcolors\n",
    "\n",
    "# === Cargar archivo de transmitancia ===\n",
    "ruta = \"TGoMG_matrix.csv\"\n",
    "df = pd.read_csv(ruta)\n",
    "\n",
    "# === Columnas\n",
    "col_nm = [c for c in df.columns if 'nm' in c.lower()][0]\n",
    "col_transmitancia = [c for c in df.columns if c != col_nm]\n",
    "\n",
    "# === Regiones espectrales\n",
    "regiones = {\n",
    "    '100–200 nm': (100, 200),\n",
    "    '200–300 nm': (200, 300),\n",
    "    '300–400 nm': (300, 400),\n",
    "    '400–500 nm': (400, 500),\n",
    "    '500–600 nm': (500, 600),\n",
    "    '600–700 nm': (600, 700),\n",
    "    '700–800 nm': (700, 800)\n",
    "}\n",
    "\n",
    "# === Colores\n",
    "colormap_base = plt.get_cmap('tab10')\n",
    "colormap = colormap_base(np.linspace(0, 1, len(col_transmitancia)))\n",
    "colores_hex = [mcolors.to_hex(c) for c in colormap]\n",
    "\n",
    "# === Figura\n",
    "fig = go.Figure()\n",
    "fig.update_layout(\n",
    "    title=\"Curvas de transmitancia - Café de Guerrero MG (Molienda grande)\",\n",
    "    xaxis_title=\"Longitud de onda (nm)\",\n",
    "    yaxis_title=\"Transmitancia (%T)\",\n",
    "    legend_title=\"Curva\",\n",
    "    template=\"plotly_white\",\n",
    "    margin=dict(l=40, r=40, t=80, b=40),\n",
    ")\n",
    "\n",
    "# === Métricas\n",
    "metricas = []\n",
    "for i, col in enumerate(col_transmitancia):\n",
    "    datos = df[[col_nm, col]].dropna().rename(columns={col_nm: 'nm', col: 'transmitancia'})\n",
    "    datos['transmitancia'] = pd.to_numeric(datos['transmitancia'], errors='coerce')\n",
    "    datos = datos.dropna()\n",
    "    if datos.empty:\n",
    "        continue\n",
    "\n",
    "    fig.add_trace(go.Scatter(\n",
    "        x=datos['nm'],\n",
    "        y=datos['transmitancia'],\n",
    "        mode='lines',\n",
    "        name=col,\n",
    "        line=dict(color=colores_hex[i])\n",
    "    ))\n",
    "\n",
    "    max_val = datos['transmitancia'].max()\n",
    "    min_val = datos['transmitancia'].min()\n",
    "    avg = datos['transmitancia'].mean()\n",
    "    std = datos['transmitancia'].std()\n",
    "    auc = np.trapezoid(datos['transmitancia'], datos['nm'])\n",
    "    lambda_max = datos['nm'][datos['transmitancia'].idxmax()]\n",
    "    lambda_min = datos['nm'][datos['transmitancia'].idxmin()]\n",
    "\n",
    "    proms_reg = {}\n",
    "    for region, (a, b) in regiones.items():\n",
    "        reg_vals = datos.loc[(datos['nm'] >= a) & (datos['nm'] <= b), 'transmitancia']\n",
    "        proms_reg[region] = f\"{reg_vals.mean():.2f}\" if not reg_vals.empty else \"—\"\n",
    "\n",
    "    metricas.append({\n",
    "        'Color de curva': colores_hex[i],\n",
    "        'Curva': col,\n",
    "        'Máx (%T)': round(max_val, 2),\n",
    "        'Mín (%T)': round(min_val, 2),\n",
    "        'Promedio (%)': round(avg, 2),\n",
    "        'Desv. Std': round(std, 2),\n",
    "        'AUC': round(auc, 2),\n",
    "        'λ máx (nm)': round(lambda_max, 2),\n",
    "        'λ mín (nm)': round(lambda_min, 2),\n",
    "        **proms_reg\n",
    "    })\n",
    "\n",
    "# === Tabla HTML\n",
    "df_metricas = pd.DataFrame(metricas)\n",
    "tabla_html = \"<table class='styled-table'><thead><tr>\"\n",
    "for col in df_metricas.columns:\n",
    "    tabla_html += f\"<th>{col}</th>\"\n",
    "tabla_html += \"</tr></thead><tbody>\"\n",
    "for _, row in df_metricas.iterrows():\n",
    "    tabla_html += \"<tr>\"\n",
    "    for col in df_metricas.columns:\n",
    "        if col == \"Color de curva\":\n",
    "            tabla_html += f\"<td style='background-color:{row[col]};'></td>\"\n",
    "        else:\n",
    "            tabla_html += f\"<td>{row[col]}</td>\"\n",
    "    tabla_html += \"</tr>\"\n",
    "tabla_html += \"</tbody></table>\"\n",
    "\n",
    "# === HTML Final\n",
    "fecha = datetime.now().strftime('%d-%m-%Y %H:%M:%S')\n",
    "grafica_html = fig.to_html(full_html=False, include_plotlyjs='cdn')\n",
    "\n",
    "html_final = f\"\"\"\n",
    "<!DOCTYPE html>\n",
    "<html lang=\"es\">\n",
    "<head>\n",
    "  <meta charset=\"UTF-8\">\n",
    "  <title>Reporte de Transmitancia UV-Vis</title>\n",
    "  <meta name=\"viewport\" content=\"width=device-width, initial-scale=1.0\">\n",
    "  <style>\n",
    "    body {{\n",
    "      font-family: 'Segoe UI', Tahoma, sans-serif;\n",
    "      margin: 40px;\n",
    "      background-color: #fdfdfd;\n",
    "      color: #222;\n",
    "    }}\n",
    "    h1 {{\n",
    "      color: #111;\n",
    "    }}\n",
    "    h2 {{\n",
    "      margin-top: 40px;\n",
    "    }}\n",
    "    .info {{\n",
    "      margin-bottom: 20px;\n",
    "    }}\n",
    "    .lab {{\n",
    "      margin-top: 40px;\n",
    "      font-size: 0.95em;\n",
    "      background-color: #f0f8ff;\n",
    "      padding: 15px;\n",
    "      border-left: 6px solid #009879;\n",
    "    }}\n",
    "    .styled-table {{\n",
    "      border-collapse: collapse;\n",
    "      margin-top: 20px;\n",
    "      font-size: 1em;\n",
    "      width: 100%;\n",
    "      box-shadow: 0 0 10px rgba(0, 0, 0, 0.05);\n",
    "    }}\n",
    "    .styled-table thead tr {{\n",
    "      background-color: #009879;\n",
    "      color: #ffffff;\n",
    "      text-align: left;\n",
    "    }}\n",
    "    .styled-table th, .styled-table td {{\n",
    "      padding: 12px 15px;\n",
    "      border: 1px solid #ddd;\n",
    "      text-align: center;\n",
    "    }}\n",
    "    .styled-table tbody tr:nth-child(even) {{\n",
    "      background-color: #f3f3f3;\n",
    "    }}\n",
    "    .plotly-graph-div {{\n",
    "      width: 100% !important;\n",
    "      height: auto !important;\n",
    "    }}\n",
    "  </style>\n",
    "</head>\n",
    "<body>\n",
    "\n",
    "  <h1>Curvas de transmitancia - Café de Guerrero MG (Molienda grande)</h1> \n",
    "\n",
    "  <div class=\"info\">\n",
    "    <p><strong>Fecha:</strong> {fecha}</p>\n",
    "  </div>\n",
    "\n",
    "  {grafica_html}\n",
    "\n",
    "  <h2>Métricas espectrales por curva</h2>\n",
    "  {tabla_html}\n",
    "\n",
    "  <div>\n",
    "    <p>Las curvas de transmitancia permiten identificar la transparencia relativa de la muestra a lo largo del espectro. Una menor transmitancia puede sugerir absorción fuerte en ciertas regiones, lo cual es útil para análisis de compuestos activos presentes en el café.</p>\n",
    "  </div>\n",
    "\n",
    "  <div class=\"lab\">\n",
    "    <strong>Nombre del proyecto: CafeLab</strong><br><br>\n",
    "    <strong>Colaboradores:</strong><br>\n",
    "    Martín Rodolfo Palomino Merino – Profesor investigador, jefe responsable del laboratorio de caracterización de materiales (FCFM-BUAP).<br>\n",
    "    Lizeth Jazmín Orozco García – Colaborador principal.<br>\n",
    "    Julio Alfredo Ballinas García – Colaborador del proyecto.\n",
    "  </div>\n",
    "\n",
    "</body>\n",
    "</html>\n",
    "\"\"\"\n",
    "\n",
    "# === Guardar archivo\n",
    "with open(\"Comparativa_muestras_transmitancia.html\", \"w\", encoding=\"utf-8\") as f:\n",
    "    f.write(html_final)\n",
    "\n",
    "print(\"✅ HTML generado: Comparativa_muestras_transmitancia.html\")\n",
    "print(\"Rango de longitudes de onda:\", df['nm'].min(), \"a\", df['nm'].max())\n",
    "fig.show()"
   ]
  }
 ],
 "metadata": {
  "kernelspec": {
   "display_name": "ydata-env",
   "language": "python",
   "name": "python3"
  },
  "language_info": {
   "codemirror_mode": {
    "name": "ipython",
    "version": 3
   },
   "file_extension": ".py",
   "mimetype": "text/x-python",
   "name": "python",
   "nbconvert_exporter": "python",
   "pygments_lexer": "ipython3",
   "version": "3.11.8"
  }
 },
 "nbformat": 4,
 "nbformat_minor": 2
}
