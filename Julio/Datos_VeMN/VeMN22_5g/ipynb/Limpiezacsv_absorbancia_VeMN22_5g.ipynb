{
 "cells": [
  {
   "cell_type": "code",
   "execution_count": 1,
   "id": "ef801912",
   "metadata": {},
   "outputs": [],
   "source": [
    "import pandas as pd"
   ]
  },
  {
   "cell_type": "code",
   "execution_count": 2,
   "id": "b31b9517",
   "metadata": {},
   "outputs": [
    {
     "name": "stdout",
     "output_type": "stream",
     "text": [
      "Archivo limpio creado como: Absorbancia_VeMN22_5g_limpio.csv\n"
     ]
    }
   ],
   "source": [
    "import pandas as pd\n",
    "\n",
    "csv_base = \"Absorbancia_VeMN22_5g.csv\"\n",
    "csv_limpio = \"Absorbancia_VeMN22_5g_limpio.csv\"\n",
    "\n",
    "# Lee el archivo .csv completo\n",
    "with open(csv_base, 'r') as f:\n",
    "    lineas = f.readlines()\n",
    "\n",
    "# Detectar línea de encabezado real (donde están los datos)\n",
    "for i, linea in enumerate(lineas):\n",
    "    if \"nm\" in linea and \"A\" in linea:\n",
    "        inicio_datos = i + 1\n",
    "        break\n",
    "\n",
    "# Extrae los datos desde ahí\n",
    "datos = [linea.strip().split(',') for linea in lineas[inicio_datos:] if linea.strip()]\n",
    "\n",
    "# Crear el DataFrame a usar \n",
    "df = pd.DataFrame(datos, columns=[\"nm\", \"A\"])\n",
    "\n",
    "# Convierte las columnas a int o float (XXX.XXX se vuelven NaN (not a number) automáticamente)\n",
    "df[\"nm\"] = pd.to_numeric(df[\"nm\"], errors='coerce')\n",
    "df[\"A\"] = pd.to_numeric(df[\"A\"], errors='coerce')\n",
    "\n",
    "# se guarda como nuevo CSV limpio (NO se eliminan NaN)\n",
    "df.to_csv(csv_limpio, index=False)\n",
    "print(f\"Archivo limpio creado como: {csv_limpio}\")"
   ]
  },
  {
   "cell_type": "code",
   "execution_count": null,
   "id": "d597f3e8",
   "metadata": {},
   "outputs": [],
   "source": []
  }
 ],
 "metadata": {
  "kernelspec": {
   "display_name": "Python 3",
   "language": "python",
   "name": "python3"
  },
  "language_info": {
   "codemirror_mode": {
    "name": "ipython",
    "version": 3
   },
   "file_extension": ".py",
   "mimetype": "text/x-python",
   "name": "python",
   "nbconvert_exporter": "python",
   "pygments_lexer": "ipython3",
   "version": "3.13.1"
  }
 },
 "nbformat": 4,
 "nbformat_minor": 5
}
