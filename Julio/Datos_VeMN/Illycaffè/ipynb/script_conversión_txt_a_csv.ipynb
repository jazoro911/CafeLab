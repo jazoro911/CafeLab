{
 "cells": [
  {
   "cell_type": "code",
   "execution_count": null,
   "id": "1c5bd713",
   "metadata": {},
   "outputs": [
    {
     "name": "stdout",
     "output_type": "stream",
     "text": [
      "✅ Archivo 'AIlly.csv' creado con formato fiel al .txt, separado por comas correctamente.\n"
     ]
    }
   ],
   "source": [
    "import csv\n",
    "\n",
    "archivo_txt = 'AIlly.txt'\n",
    "archivo_csv = 'AIlly.csv'\n",
    "\n",
    "with open(archivo_txt, 'r', encoding='utf-8') as f:\n",
    "    lineas = f.readlines()\n",
    "\n",
    "salida_csv = []\n",
    "\n",
    "for linea in lineas:\n",
    "    linea = linea.strip()\n",
    "    if not linea:\n",
    "        continue  # opcional: ignorar líneas completamente vacías\n",
    "\n",
    "    # Separar por espacios múltiples o tabulaciones (solo una vez)\n",
    "    partes = linea.split(None, 1)\n",
    "    if len(partes) == 2:\n",
    "        salida_csv.append([partes[0], partes[1]])\n",
    "    else:\n",
    "        salida_csv.append([linea])  # línea completa sin separación\n",
    "\n",
    "# Reescribir con comas sin añadir líneas extras\n",
    "with open(archivo_csv, 'w', newline='', encoding='utf-8') as f_csv:\n",
    "    writer = csv.writer(f_csv)\n",
    "    for fila in salida_csv:\n",
    "        writer.writerow(fila)\n",
    "\n",
    "print(f\"Archivo '{archivo_csv}' creado y separado por comas.\")\n",
    "\n",
    "\n",
    "\n"
   ]
  },
  {
   "cell_type": "code",
   "execution_count": 6,
   "id": "a3d5feca",
   "metadata": {},
   "outputs": [
    {
     "name": "stdout",
     "output_type": "stream",
     "text": [
      "Archivo 'Línea_base_absorbancia.csv' creado y separado por comas.\n"
     ]
    }
   ],
   "source": [
    "archivo_txt = 'Línea_base_absorbancia.txt'\n",
    "archivo_csv = 'Línea_base_absorbancia.csv'\n",
    "\n",
    "with open(archivo_txt, 'r', encoding='utf-8') as f:\n",
    "    lineas = f.readlines()\n",
    "\n",
    "salida_csv = []\n",
    "\n",
    "for linea in lineas:\n",
    "    linea = linea.strip()\n",
    "    if not linea:\n",
    "        continue  # opcional: ignorar líneas completamente vacías\n",
    "\n",
    "    # Separar por espacios múltiples o tabulaciones (solo una vez)\n",
    "    partes = linea.split(None, 1)\n",
    "    if len(partes) == 2:\n",
    "        salida_csv.append([partes[0], partes[1]])\n",
    "    else:\n",
    "        salida_csv.append([linea])  # línea completa sin separación\n",
    "\n",
    "# Reescribir con comas sin añadir líneas extras\n",
    "with open(archivo_csv, 'w', newline='', encoding='utf-8') as f_csv:\n",
    "    writer = csv.writer(f_csv)\n",
    "    for fila in salida_csv:\n",
    "        writer.writerow(fila)\n",
    "\n",
    "print(f\"Archivo '{archivo_csv}' creado y separado por comas.\")"
   ]
  },
  {
   "cell_type": "code",
   "execution_count": 7,
   "id": "a9190382",
   "metadata": {},
   "outputs": [
    {
     "name": "stdout",
     "output_type": "stream",
     "text": [
      "Archivo 'Línea_base_transmitancia.csv' creado y separado por comas.\n"
     ]
    }
   ],
   "source": [
    "archivo_txt = 'Línea_base_transmitancia.txt'\n",
    "archivo_csv = 'Línea_base_transmitancia.csv'\n",
    "\n",
    "with open(archivo_txt, 'r', encoding='utf-8') as f:\n",
    "    lineas = f.readlines()\n",
    "\n",
    "salida_csv = []\n",
    "\n",
    "for linea in lineas:\n",
    "    linea = linea.strip()\n",
    "    if not linea:\n",
    "        continue  # opcional: ignorar líneas completamente vacías\n",
    "\n",
    "    # Separar por espacios múltiples o tabulaciones (solo una vez)\n",
    "    partes = linea.split(None, 1)\n",
    "    if len(partes) == 2:\n",
    "        salida_csv.append([partes[0], partes[1]])\n",
    "    else:\n",
    "        salida_csv.append([linea])  # línea completa sin separación\n",
    "\n",
    "# Reescribir con comas sin añadir líneas extras\n",
    "with open(archivo_csv, 'w', newline='', encoding='utf-8') as f_csv:\n",
    "    writer = csv.writer(f_csv)\n",
    "    for fila in salida_csv:\n",
    "        writer.writerow(fila)\n",
    "\n",
    "print(f\"Archivo '{archivo_csv}' creado y separado por comas.\")"
   ]
  },
  {
   "cell_type": "code",
   "execution_count": null,
   "id": "0dc565c9",
   "metadata": {},
   "outputs": [],
   "source": []
  }
 ],
 "metadata": {
  "kernelspec": {
   "display_name": "Python 3",
   "language": "python",
   "name": "python3"
  },
  "language_info": {
   "codemirror_mode": {
    "name": "ipython",
    "version": 3
   },
   "file_extension": ".py",
   "mimetype": "text/x-python",
   "name": "python",
   "nbconvert_exporter": "python",
   "pygments_lexer": "ipython3",
   "version": "3.13.1"
  }
 },
 "nbformat": 4,
 "nbformat_minor": 5
}
