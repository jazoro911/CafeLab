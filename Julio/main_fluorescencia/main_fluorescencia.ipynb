{
 "cells": [
  {
   "cell_type": "code",
   "execution_count": 4,
   "id": "f397db79",
   "metadata": {},
   "outputs": [
    {
     "data": {
      "text/html": [
       "<div>\n",
       "<style scoped>\n",
       "    .dataframe tbody tr th:only-of-type {\n",
       "        vertical-align: middle;\n",
       "    }\n",
       "\n",
       "    .dataframe tbody tr th {\n",
       "        vertical-align: top;\n",
       "    }\n",
       "\n",
       "    .dataframe thead th {\n",
       "        text-align: right;\n",
       "    }\n",
       "</style>\n",
       "<table border=\"1\" class=\"dataframe\">\n",
       "  <thead>\n",
       "    <tr style=\"text-align: right;\">\n",
       "      <th></th>\n",
       "      <th>Muestra</th>\n",
       "      <th>Máx. CPS</th>\n",
       "      <th>Mín. CPS</th>\n",
       "      <th>Promedio</th>\n",
       "      <th>Desv. Estándar</th>\n",
       "      <th>AUC</th>\n",
       "      <th>λ máx (nm)</th>\n",
       "      <th>λ mín (nm)</th>\n",
       "      <th>300–400 nm</th>\n",
       "      <th>400–500 nm</th>\n",
       "      <th>500–600 nm</th>\n",
       "      <th>600–700 nm</th>\n",
       "      <th>700–800 nm</th>\n",
       "      <th>800–900 nm</th>\n",
       "    </tr>\n",
       "  </thead>\n",
       "  <tbody>\n",
       "    <tr>\n",
       "      <th>0</th>\n",
       "      <td>FCaffeine</td>\n",
       "      <td>11728730</td>\n",
       "      <td>33770</td>\n",
       "      <td>2565543.202</td>\n",
       "      <td>3648461.686</td>\n",
       "      <td>1.229389e+09</td>\n",
       "      <td>391</td>\n",
       "      <td>700</td>\n",
       "      <td>11143620.0</td>\n",
       "      <td>6953866.832</td>\n",
       "      <td>1321387.03</td>\n",
       "      <td>119253.465</td>\n",
       "      <td>441226.337</td>\n",
       "      <td>224317.647</td>\n",
       "    </tr>\n",
       "  </tbody>\n",
       "</table>\n",
       "</div>"
      ],
      "text/plain": [
       "     Muestra  Máx. CPS  Mín. CPS     Promedio  Desv. Estándar           AUC  \\\n",
       "0  FCaffeine  11728730     33770  2565543.202     3648461.686  1.229389e+09   \n",
       "\n",
       "   λ máx (nm)  λ mín (nm)  300–400 nm   400–500 nm  500–600 nm  600–700 nm  \\\n",
       "0         391         700  11143620.0  6953866.832  1321387.03  119253.465   \n",
       "\n",
       "   700–800 nm  800–900 nm  \n",
       "0  441226.337  224317.647  "
      ]
     },
     "metadata": {},
     "output_type": "display_data"
    },
    {
     "data": {
      "application/vnd.plotly.v1+json": {
       "config": {
        "plotlyServerURL": "https://plot.ly"
       },
       "data": [
        {
         "mode": "lines",
         "name": "FCaffeine",
         "type": "scatter",
         "x": {
          "bdata": "cgFzAXQBdQF2AXcBeAF5AXoBewF8AX0BfgF/AYABgQGCAYMBhAGFAYYBhwGIAYkBigGLAYwBjQGOAY8BkAGRAZIBkwGUAZUBlgGXAZgBmQGaAZsBnAGdAZ4BnwGgAaEBogGjAaQBpQGmAacBqAGpAaoBqwGsAa0BrgGvAbABsQGyAbMBtAG1AbYBtwG4AbkBugG7AbwBvQG+Ab8BwAHBAcIBwwHEAcUBxgHHAcgByQHKAcsBzAHNAc4BzwHQAdEB0gHTAdQB1QHWAdcB2AHZAdoB2wHcAd0B3gHfAeAB4QHiAeMB5AHlAeYB5wHoAekB6gHrAewB7QHuAe8B8AHxAfIB8wH0AfUB9gH3AfgB+QH6AfsB/AH9Af4B/wEAAgECAgIDAgQCBQIGAgcCCAIJAgoCCwIMAg0CDgIPAhACEQISAhMCFAIVAhYCFwIYAhkCGgIbAhwCHQIeAh8CIAIhAiICIwIkAiUCJgInAigCKQIqAisCLAItAi4CLwIwAjECMgIzAjQCNQI2AjcCOAI5AjoCOwI8Aj0CPgI/AkACQQJCAkMCRAJFAkYCRwJIAkkCSgJLAkwCTQJOAk8CUAJRAlICUwJUAlUCVgJXAlgCWQJaAlsCXAJdAl4CXwJgAmECYgJjAmQCZQJmAmcCaAJpAmoCawJsAm0CbgJvAnACcQJyAnMCdAJ1AnYCdwJ4AnkCegJ7AnwCfQJ+An8CgAKBAoICgwKEAoUChgKHAogCiQKKAosCjAKNAo4CjwKQApECkgKTApQClQKWApcCmAKZApoCmwKcAp0CngKfAqACoQKiAqMCpAKlAqYCpwKoAqkCqgKrAqwCrQKuAq8CsAKxArICswK0ArUCtgK3ArgCuQK6ArsCvAK9Ar4CvwLAAsECwgLDAsQCxQLGAscCyALJAsoCywLMAs0CzgLPAtAC0QLSAtMC1ALVAtYC1wLYAtkC2gLbAtwC3QLeAt8C4ALhAuIC4wLkAuUC5gLnAugC6QLqAusC7ALtAu4C7wLwAvEC8gLzAvQC9QL2AvcC+AL5AvoC+wL8Av0C/gL/AgADAQMCAwMDBAMFAwYDBwMIAwkDCgMLAwwDDQMOAw8DEAMRAxIDEwMUAxUDFgMXAxgDGQMaAxsDHAMdAx4DHwMgAyEDIgMjAyQDJQMmAycDKAMpAyoDKwMsAy0DLgMvAzADMQMyAzMDNAM1AzYDNwM4AzkDOgM7AzwDPQM+Az8DQANBA0IDQwNEA0UDRgNHA0gDSQNKA0sDTANNA04DTwNQA1EDUgM=",
          "dtype": "i2"
         },
         "y": {
          "bdata": "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",
          "dtype": "i4"
         }
        }
       ],
       "layout": {
        "template": {
         "data": {
          "bar": [
           {
            "error_x": {
             "color": "#2a3f5f"
            },
            "error_y": {
             "color": "#2a3f5f"
            },
            "marker": {
             "line": {
              "color": "white",
              "width": 0.5
             },
             "pattern": {
              "fillmode": "overlay",
              "size": 10,
              "solidity": 0.2
             }
            },
            "type": "bar"
           }
          ],
          "barpolar": [
           {
            "marker": {
             "line": {
              "color": "white",
              "width": 0.5
             },
             "pattern": {
              "fillmode": "overlay",
              "size": 10,
              "solidity": 0.2
             }
            },
            "type": "barpolar"
           }
          ],
          "carpet": [
           {
            "aaxis": {
             "endlinecolor": "#2a3f5f",
             "gridcolor": "#C8D4E3",
             "linecolor": "#C8D4E3",
             "minorgridcolor": "#C8D4E3",
             "startlinecolor": "#2a3f5f"
            },
            "baxis": {
             "endlinecolor": "#2a3f5f",
             "gridcolor": "#C8D4E3",
             "linecolor": "#C8D4E3",
             "minorgridcolor": "#C8D4E3",
             "startlinecolor": "#2a3f5f"
            },
            "type": "carpet"
           }
          ],
          "choropleth": [
           {
            "colorbar": {
             "outlinewidth": 0,
             "ticks": ""
            },
            "type": "choropleth"
           }
          ],
          "contour": [
           {
            "colorbar": {
             "outlinewidth": 0,
             "ticks": ""
            },
            "colorscale": [
             [
              0,
              "#0d0887"
             ],
             [
              0.1111111111111111,
              "#46039f"
             ],
             [
              0.2222222222222222,
              "#7201a8"
             ],
             [
              0.3333333333333333,
              "#9c179e"
             ],
             [
              0.4444444444444444,
              "#bd3786"
             ],
             [
              0.5555555555555556,
              "#d8576b"
             ],
             [
              0.6666666666666666,
              "#ed7953"
             ],
             [
              0.7777777777777778,
              "#fb9f3a"
             ],
             [
              0.8888888888888888,
              "#fdca26"
             ],
             [
              1,
              "#f0f921"
             ]
            ],
            "type": "contour"
           }
          ],
          "contourcarpet": [
           {
            "colorbar": {
             "outlinewidth": 0,
             "ticks": ""
            },
            "type": "contourcarpet"
           }
          ],
          "heatmap": [
           {
            "colorbar": {
             "outlinewidth": 0,
             "ticks": ""
            },
            "colorscale": [
             [
              0,
              "#0d0887"
             ],
             [
              0.1111111111111111,
              "#46039f"
             ],
             [
              0.2222222222222222,
              "#7201a8"
             ],
             [
              0.3333333333333333,
              "#9c179e"
             ],
             [
              0.4444444444444444,
              "#bd3786"
             ],
             [
              0.5555555555555556,
              "#d8576b"
             ],
             [
              0.6666666666666666,
              "#ed7953"
             ],
             [
              0.7777777777777778,
              "#fb9f3a"
             ],
             [
              0.8888888888888888,
              "#fdca26"
             ],
             [
              1,
              "#f0f921"
             ]
            ],
            "type": "heatmap"
           }
          ],
          "histogram": [
           {
            "marker": {
             "pattern": {
              "fillmode": "overlay",
              "size": 10,
              "solidity": 0.2
             }
            },
            "type": "histogram"
           }
          ],
          "histogram2d": [
           {
            "colorbar": {
             "outlinewidth": 0,
             "ticks": ""
            },
            "colorscale": [
             [
              0,
              "#0d0887"
             ],
             [
              0.1111111111111111,
              "#46039f"
             ],
             [
              0.2222222222222222,
              "#7201a8"
             ],
             [
              0.3333333333333333,
              "#9c179e"
             ],
             [
              0.4444444444444444,
              "#bd3786"
             ],
             [
              0.5555555555555556,
              "#d8576b"
             ],
             [
              0.6666666666666666,
              "#ed7953"
             ],
             [
              0.7777777777777778,
              "#fb9f3a"
             ],
             [
              0.8888888888888888,
              "#fdca26"
             ],
             [
              1,
              "#f0f921"
             ]
            ],
            "type": "histogram2d"
           }
          ],
          "histogram2dcontour": [
           {
            "colorbar": {
             "outlinewidth": 0,
             "ticks": ""
            },
            "colorscale": [
             [
              0,
              "#0d0887"
             ],
             [
              0.1111111111111111,
              "#46039f"
             ],
             [
              0.2222222222222222,
              "#7201a8"
             ],
             [
              0.3333333333333333,
              "#9c179e"
             ],
             [
              0.4444444444444444,
              "#bd3786"
             ],
             [
              0.5555555555555556,
              "#d8576b"
             ],
             [
              0.6666666666666666,
              "#ed7953"
             ],
             [
              0.7777777777777778,
              "#fb9f3a"
             ],
             [
              0.8888888888888888,
              "#fdca26"
             ],
             [
              1,
              "#f0f921"
             ]
            ],
            "type": "histogram2dcontour"
           }
          ],
          "mesh3d": [
           {
            "colorbar": {
             "outlinewidth": 0,
             "ticks": ""
            },
            "type": "mesh3d"
           }
          ],
          "parcoords": [
           {
            "line": {
             "colorbar": {
              "outlinewidth": 0,
              "ticks": ""
             }
            },
            "type": "parcoords"
           }
          ],
          "pie": [
           {
            "automargin": true,
            "type": "pie"
           }
          ],
          "scatter": [
           {
            "fillpattern": {
             "fillmode": "overlay",
             "size": 10,
             "solidity": 0.2
            },
            "type": "scatter"
           }
          ],
          "scatter3d": [
           {
            "line": {
             "colorbar": {
              "outlinewidth": 0,
              "ticks": ""
             }
            },
            "marker": {
             "colorbar": {
              "outlinewidth": 0,
              "ticks": ""
             }
            },
            "type": "scatter3d"
           }
          ],
          "scattercarpet": [
           {
            "marker": {
             "colorbar": {
              "outlinewidth": 0,
              "ticks": ""
             }
            },
            "type": "scattercarpet"
           }
          ],
          "scattergeo": [
           {
            "marker": {
             "colorbar": {
              "outlinewidth": 0,
              "ticks": ""
             }
            },
            "type": "scattergeo"
           }
          ],
          "scattergl": [
           {
            "marker": {
             "colorbar": {
              "outlinewidth": 0,
              "ticks": ""
             }
            },
            "type": "scattergl"
           }
          ],
          "scattermap": [
           {
            "marker": {
             "colorbar": {
              "outlinewidth": 0,
              "ticks": ""
             }
            },
            "type": "scattermap"
           }
          ],
          "scattermapbox": [
           {
            "marker": {
             "colorbar": {
              "outlinewidth": 0,
              "ticks": ""
             }
            },
            "type": "scattermapbox"
           }
          ],
          "scatterpolar": [
           {
            "marker": {
             "colorbar": {
              "outlinewidth": 0,
              "ticks": ""
             }
            },
            "type": "scatterpolar"
           }
          ],
          "scatterpolargl": [
           {
            "marker": {
             "colorbar": {
              "outlinewidth": 0,
              "ticks": ""
             }
            },
            "type": "scatterpolargl"
           }
          ],
          "scatterternary": [
           {
            "marker": {
             "colorbar": {
              "outlinewidth": 0,
              "ticks": ""
             }
            },
            "type": "scatterternary"
           }
          ],
          "surface": [
           {
            "colorbar": {
             "outlinewidth": 0,
             "ticks": ""
            },
            "colorscale": [
             [
              0,
              "#0d0887"
             ],
             [
              0.1111111111111111,
              "#46039f"
             ],
             [
              0.2222222222222222,
              "#7201a8"
             ],
             [
              0.3333333333333333,
              "#9c179e"
             ],
             [
              0.4444444444444444,
              "#bd3786"
             ],
             [
              0.5555555555555556,
              "#d8576b"
             ],
             [
              0.6666666666666666,
              "#ed7953"
             ],
             [
              0.7777777777777778,
              "#fb9f3a"
             ],
             [
              0.8888888888888888,
              "#fdca26"
             ],
             [
              1,
              "#f0f921"
             ]
            ],
            "type": "surface"
           }
          ],
          "table": [
           {
            "cells": {
             "fill": {
              "color": "#EBF0F8"
             },
             "line": {
              "color": "white"
             }
            },
            "header": {
             "fill": {
              "color": "#C8D4E3"
             },
             "line": {
              "color": "white"
             }
            },
            "type": "table"
           }
          ]
         },
         "layout": {
          "annotationdefaults": {
           "arrowcolor": "#2a3f5f",
           "arrowhead": 0,
           "arrowwidth": 1
          },
          "autotypenumbers": "strict",
          "coloraxis": {
           "colorbar": {
            "outlinewidth": 0,
            "ticks": ""
           }
          },
          "colorscale": {
           "diverging": [
            [
             0,
             "#8e0152"
            ],
            [
             0.1,
             "#c51b7d"
            ],
            [
             0.2,
             "#de77ae"
            ],
            [
             0.3,
             "#f1b6da"
            ],
            [
             0.4,
             "#fde0ef"
            ],
            [
             0.5,
             "#f7f7f7"
            ],
            [
             0.6,
             "#e6f5d0"
            ],
            [
             0.7,
             "#b8e186"
            ],
            [
             0.8,
             "#7fbc41"
            ],
            [
             0.9,
             "#4d9221"
            ],
            [
             1,
             "#276419"
            ]
           ],
           "sequential": [
            [
             0,
             "#0d0887"
            ],
            [
             0.1111111111111111,
             "#46039f"
            ],
            [
             0.2222222222222222,
             "#7201a8"
            ],
            [
             0.3333333333333333,
             "#9c179e"
            ],
            [
             0.4444444444444444,
             "#bd3786"
            ],
            [
             0.5555555555555556,
             "#d8576b"
            ],
            [
             0.6666666666666666,
             "#ed7953"
            ],
            [
             0.7777777777777778,
             "#fb9f3a"
            ],
            [
             0.8888888888888888,
             "#fdca26"
            ],
            [
             1,
             "#f0f921"
            ]
           ],
           "sequentialminus": [
            [
             0,
             "#0d0887"
            ],
            [
             0.1111111111111111,
             "#46039f"
            ],
            [
             0.2222222222222222,
             "#7201a8"
            ],
            [
             0.3333333333333333,
             "#9c179e"
            ],
            [
             0.4444444444444444,
             "#bd3786"
            ],
            [
             0.5555555555555556,
             "#d8576b"
            ],
            [
             0.6666666666666666,
             "#ed7953"
            ],
            [
             0.7777777777777778,
             "#fb9f3a"
            ],
            [
             0.8888888888888888,
             "#fdca26"
            ],
            [
             1,
             "#f0f921"
            ]
           ]
          },
          "colorway": [
           "#636efa",
           "#EF553B",
           "#00cc96",
           "#ab63fa",
           "#FFA15A",
           "#19d3f3",
           "#FF6692",
           "#B6E880",
           "#FF97FF",
           "#FECB52"
          ],
          "font": {
           "color": "#2a3f5f"
          },
          "geo": {
           "bgcolor": "white",
           "lakecolor": "white",
           "landcolor": "white",
           "showlakes": true,
           "showland": true,
           "subunitcolor": "#C8D4E3"
          },
          "hoverlabel": {
           "align": "left"
          },
          "hovermode": "closest",
          "mapbox": {
           "style": "light"
          },
          "paper_bgcolor": "white",
          "plot_bgcolor": "white",
          "polar": {
           "angularaxis": {
            "gridcolor": "#EBF0F8",
            "linecolor": "#EBF0F8",
            "ticks": ""
           },
           "bgcolor": "white",
           "radialaxis": {
            "gridcolor": "#EBF0F8",
            "linecolor": "#EBF0F8",
            "ticks": ""
           }
          },
          "scene": {
           "xaxis": {
            "backgroundcolor": "white",
            "gridcolor": "#DFE8F3",
            "gridwidth": 2,
            "linecolor": "#EBF0F8",
            "showbackground": true,
            "ticks": "",
            "zerolinecolor": "#EBF0F8"
           },
           "yaxis": {
            "backgroundcolor": "white",
            "gridcolor": "#DFE8F3",
            "gridwidth": 2,
            "linecolor": "#EBF0F8",
            "showbackground": true,
            "ticks": "",
            "zerolinecolor": "#EBF0F8"
           },
           "zaxis": {
            "backgroundcolor": "white",
            "gridcolor": "#DFE8F3",
            "gridwidth": 2,
            "linecolor": "#EBF0F8",
            "showbackground": true,
            "ticks": "",
            "zerolinecolor": "#EBF0F8"
           }
          },
          "shapedefaults": {
           "line": {
            "color": "#2a3f5f"
           }
          },
          "ternary": {
           "aaxis": {
            "gridcolor": "#DFE8F3",
            "linecolor": "#A2B1C6",
            "ticks": ""
           },
           "baxis": {
            "gridcolor": "#DFE8F3",
            "linecolor": "#A2B1C6",
            "ticks": ""
           },
           "bgcolor": "white",
           "caxis": {
            "gridcolor": "#DFE8F3",
            "linecolor": "#A2B1C6",
            "ticks": ""
           }
          },
          "title": {
           "x": 0.05
          },
          "xaxis": {
           "automargin": true,
           "gridcolor": "#EBF0F8",
           "linecolor": "#EBF0F8",
           "ticks": "",
           "title": {
            "standoff": 15
           },
           "zerolinecolor": "#EBF0F8",
           "zerolinewidth": 2
          },
          "yaxis": {
           "automargin": true,
           "gridcolor": "#EBF0F8",
           "linecolor": "#EBF0F8",
           "ticks": "",
           "title": {
            "standoff": 15
           },
           "zerolinecolor": "#EBF0F8",
           "zerolinewidth": 2
          }
         }
        },
        "title": {
         "text": "Espectro de fluorescencia - FCaffeine"
        },
        "xaxis": {
         "title": {
          "text": "Longitud de onda (nm)"
         }
        },
        "yaxis": {
         "title": {
          "text": "Intensidad (CPS)"
         }
        }
       }
      }
     },
     "metadata": {},
     "output_type": "display_data"
    },
    {
     "data": {
      "text/html": [
       "<div>\n",
       "<style scoped>\n",
       "    .dataframe tbody tr th:only-of-type {\n",
       "        vertical-align: middle;\n",
       "    }\n",
       "\n",
       "    .dataframe tbody tr th {\n",
       "        vertical-align: top;\n",
       "    }\n",
       "\n",
       "    .dataframe thead th {\n",
       "        text-align: right;\n",
       "    }\n",
       "</style>\n",
       "<table border=\"1\" class=\"dataframe\">\n",
       "  <thead>\n",
       "    <tr style=\"text-align: right;\">\n",
       "      <th></th>\n",
       "      <th>Muestra</th>\n",
       "      <th>Máx. CPS</th>\n",
       "      <th>Mín. CPS</th>\n",
       "      <th>Promedio</th>\n",
       "      <th>Desv. Estándar</th>\n",
       "      <th>AUC</th>\n",
       "      <th>λ máx (nm)</th>\n",
       "      <th>λ mín (nm)</th>\n",
       "      <th>300–400 nm</th>\n",
       "      <th>400–500 nm</th>\n",
       "      <th>500–600 nm</th>\n",
       "      <th>600–700 nm</th>\n",
       "      <th>700–800 nm</th>\n",
       "      <th>800–900 nm</th>\n",
       "    </tr>\n",
       "  </thead>\n",
       "  <tbody>\n",
       "    <tr>\n",
       "      <th>0</th>\n",
       "      <td>FCh</td>\n",
       "      <td>240830</td>\n",
       "      <td>1460</td>\n",
       "      <td>113246.32</td>\n",
       "      <td>91764.982</td>\n",
       "      <td>54446885.0</td>\n",
       "      <td>490</td>\n",
       "      <td>850</td>\n",
       "      <td>119792.258</td>\n",
       "      <td>226655.149</td>\n",
       "      <td>196361.683</td>\n",
       "      <td>71592.772</td>\n",
       "      <td>12118.911</td>\n",
       "      <td>3194.706</td>\n",
       "    </tr>\n",
       "  </tbody>\n",
       "</table>\n",
       "</div>"
      ],
      "text/plain": [
       "  Muestra  Máx. CPS  Mín. CPS   Promedio  Desv. Estándar         AUC  \\\n",
       "0     FCh    240830      1460  113246.32       91764.982  54446885.0   \n",
       "\n",
       "   λ máx (nm)  λ mín (nm)  300–400 nm  400–500 nm  500–600 nm  600–700 nm  \\\n",
       "0         490         850  119792.258  226655.149  196361.683   71592.772   \n",
       "\n",
       "   700–800 nm  800–900 nm  \n",
       "0   12118.911    3194.706  "
      ]
     },
     "metadata": {},
     "output_type": "display_data"
    },
    {
     "data": {
      "application/vnd.plotly.v1+json": {
       "config": {
        "plotlyServerURL": "https://plot.ly"
       },
       "data": [
        {
         "mode": "lines",
         "name": "FCh",
         "type": "scatter",
         "x": {
          "bdata": "cgFzAXQBdQF2AXcBeAF5AXoBewF8AX0BfgF/AYABgQGCAYMBhAGFAYYBhwGIAYkBigGLAYwBjQGOAY8BkAGRAZIBkwGUAZUBlgGXAZgBmQGaAZsBnAGdAZ4BnwGgAaEBogGjAaQBpQGmAacBqAGpAaoBqwGsAa0BrgGvAbABsQGyAbMBtAG1AbYBtwG4AbkBugG7AbwBvQG+Ab8BwAHBAcIBwwHEAcUBxgHHAcgByQHKAcsBzAHNAc4BzwHQAdEB0gHTAdQB1QHWAdcB2AHZAdoB2wHcAd0B3gHfAeAB4QHiAeMB5AHlAeYB5wHoAekB6gHrAewB7QHuAe8B8AHxAfIB8wH0AfUB9gH3AfgB+QH6AfsB/AH9Af4B/wEAAgECAgIDAgQCBQIGAgcCCAIJAgoCCwIMAg0CDgIPAhACEQISAhMCFAIVAhYCFwIYAhkCGgIbAhwCHQIeAh8CIAIhAiICIwIkAiUCJgInAigCKQIqAisCLAItAi4CLwIwAjECMgIzAjQCNQI2AjcCOAI5AjoCOwI8Aj0CPgI/AkACQQJCAkMCRAJFAkYCRwJIAkkCSgJLAkwCTQJOAk8CUAJRAlICUwJUAlUCVgJXAlgCWQJaAlsCXAJdAl4CXwJgAmECYgJjAmQCZQJmAmcCaAJpAmoCawJsAm0CbgJvAnACcQJyAnMCdAJ1AnYCdwJ4AnkCegJ7AnwCfQJ+An8CgAKBAoICgwKEAoUChgKHAogCiQKKAosCjAKNAo4CjwKQApECkgKTApQClQKWApcCmAKZApoCmwKcAp0CngKfAqACoQKiAqMCpAKlAqYCpwKoAqkCqgKrAqwCrQKuAq8CsAKxArICswK0ArUCtgK3ArgCuQK6ArsCvAK9Ar4CvwLAAsECwgLDAsQCxQLGAscCyALJAsoCywLMAs0CzgLPAtAC0QLSAtMC1ALVAtYC1wLYAtkC2gLbAtwC3QLeAt8C4ALhAuIC4wLkAuUC5gLnAugC6QLqAusC7ALtAu4C7wLwAvEC8gLzAvQC9QL2AvcC+AL5AvoC+wL8Av0C/gL/AgADAQMCAwMDBAMFAwYDBwMIAwkDCgMLAwwDDQMOAw8DEAMRAxIDEwMUAxUDFgMXAxgDGQMaAxsDHAMdAx4DHwMgAyEDIgMjAyQDJQMmAycDKAMpAyoDKwMsAy0DLgMvAzADMQMyAzMDNAM1AzYDNwM4AzkDOgM7AzwDPQM+Az8DQANBA0IDQwNEA0UDRgNHA0gDSQNKA0sDTANNA04DTwNQA1EDUgM=",
          "dtype": "i2"
         },
         "y": {
          "bdata": "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",
          "dtype": "i4"
         }
        }
       ],
       "layout": {
        "template": {
         "data": {
          "bar": [
           {
            "error_x": {
             "color": "#2a3f5f"
            },
            "error_y": {
             "color": "#2a3f5f"
            },
            "marker": {
             "line": {
              "color": "white",
              "width": 0.5
             },
             "pattern": {
              "fillmode": "overlay",
              "size": 10,
              "solidity": 0.2
             }
            },
            "type": "bar"
           }
          ],
          "barpolar": [
           {
            "marker": {
             "line": {
              "color": "white",
              "width": 0.5
             },
             "pattern": {
              "fillmode": "overlay",
              "size": 10,
              "solidity": 0.2
             }
            },
            "type": "barpolar"
           }
          ],
          "carpet": [
           {
            "aaxis": {
             "endlinecolor": "#2a3f5f",
             "gridcolor": "#C8D4E3",
             "linecolor": "#C8D4E3",
             "minorgridcolor": "#C8D4E3",
             "startlinecolor": "#2a3f5f"
            },
            "baxis": {
             "endlinecolor": "#2a3f5f",
             "gridcolor": "#C8D4E3",
             "linecolor": "#C8D4E3",
             "minorgridcolor": "#C8D4E3",
             "startlinecolor": "#2a3f5f"
            },
            "type": "carpet"
           }
          ],
          "choropleth": [
           {
            "colorbar": {
             "outlinewidth": 0,
             "ticks": ""
            },
            "type": "choropleth"
           }
          ],
          "contour": [
           {
            "colorbar": {
             "outlinewidth": 0,
             "ticks": ""
            },
            "colorscale": [
             [
              0,
              "#0d0887"
             ],
             [
              0.1111111111111111,
              "#46039f"
             ],
             [
              0.2222222222222222,
              "#7201a8"
             ],
             [
              0.3333333333333333,
              "#9c179e"
             ],
             [
              0.4444444444444444,
              "#bd3786"
             ],
             [
              0.5555555555555556,
              "#d8576b"
             ],
             [
              0.6666666666666666,
              "#ed7953"
             ],
             [
              0.7777777777777778,
              "#fb9f3a"
             ],
             [
              0.8888888888888888,
              "#fdca26"
             ],
             [
              1,
              "#f0f921"
             ]
            ],
            "type": "contour"
           }
          ],
          "contourcarpet": [
           {
            "colorbar": {
             "outlinewidth": 0,
             "ticks": ""
            },
            "type": "contourcarpet"
           }
          ],
          "heatmap": [
           {
            "colorbar": {
             "outlinewidth": 0,
             "ticks": ""
            },
            "colorscale": [
             [
              0,
              "#0d0887"
             ],
             [
              0.1111111111111111,
              "#46039f"
             ],
             [
              0.2222222222222222,
              "#7201a8"
             ],
             [
              0.3333333333333333,
              "#9c179e"
             ],
             [
              0.4444444444444444,
              "#bd3786"
             ],
             [
              0.5555555555555556,
              "#d8576b"
             ],
             [
              0.6666666666666666,
              "#ed7953"
             ],
             [
              0.7777777777777778,
              "#fb9f3a"
             ],
             [
              0.8888888888888888,
              "#fdca26"
             ],
             [
              1,
              "#f0f921"
             ]
            ],
            "type": "heatmap"
           }
          ],
          "histogram": [
           {
            "marker": {
             "pattern": {
              "fillmode": "overlay",
              "size": 10,
              "solidity": 0.2
             }
            },
            "type": "histogram"
           }
          ],
          "histogram2d": [
           {
            "colorbar": {
             "outlinewidth": 0,
             "ticks": ""
            },
            "colorscale": [
             [
              0,
              "#0d0887"
             ],
             [
              0.1111111111111111,
              "#46039f"
             ],
             [
              0.2222222222222222,
              "#7201a8"
             ],
             [
              0.3333333333333333,
              "#9c179e"
             ],
             [
              0.4444444444444444,
              "#bd3786"
             ],
             [
              0.5555555555555556,
              "#d8576b"
             ],
             [
              0.6666666666666666,
              "#ed7953"
             ],
             [
              0.7777777777777778,
              "#fb9f3a"
             ],
             [
              0.8888888888888888,
              "#fdca26"
             ],
             [
              1,
              "#f0f921"
             ]
            ],
            "type": "histogram2d"
           }
          ],
          "histogram2dcontour": [
           {
            "colorbar": {
             "outlinewidth": 0,
             "ticks": ""
            },
            "colorscale": [
             [
              0,
              "#0d0887"
             ],
             [
              0.1111111111111111,
              "#46039f"
             ],
             [
              0.2222222222222222,
              "#7201a8"
             ],
             [
              0.3333333333333333,
              "#9c179e"
             ],
             [
              0.4444444444444444,
              "#bd3786"
             ],
             [
              0.5555555555555556,
              "#d8576b"
             ],
             [
              0.6666666666666666,
              "#ed7953"
             ],
             [
              0.7777777777777778,
              "#fb9f3a"
             ],
             [
              0.8888888888888888,
              "#fdca26"
             ],
             [
              1,
              "#f0f921"
             ]
            ],
            "type": "histogram2dcontour"
           }
          ],
          "mesh3d": [
           {
            "colorbar": {
             "outlinewidth": 0,
             "ticks": ""
            },
            "type": "mesh3d"
           }
          ],
          "parcoords": [
           {
            "line": {
             "colorbar": {
              "outlinewidth": 0,
              "ticks": ""
             }
            },
            "type": "parcoords"
           }
          ],
          "pie": [
           {
            "automargin": true,
            "type": "pie"
           }
          ],
          "scatter": [
           {
            "fillpattern": {
             "fillmode": "overlay",
             "size": 10,
             "solidity": 0.2
            },
            "type": "scatter"
           }
          ],
          "scatter3d": [
           {
            "line": {
             "colorbar": {
              "outlinewidth": 0,
              "ticks": ""
             }
            },
            "marker": {
             "colorbar": {
              "outlinewidth": 0,
              "ticks": ""
             }
            },
            "type": "scatter3d"
           }
          ],
          "scattercarpet": [
           {
            "marker": {
             "colorbar": {
              "outlinewidth": 0,
              "ticks": ""
             }
            },
            "type": "scattercarpet"
           }
          ],
          "scattergeo": [
           {
            "marker": {
             "colorbar": {
              "outlinewidth": 0,
              "ticks": ""
             }
            },
            "type": "scattergeo"
           }
          ],
          "scattergl": [
           {
            "marker": {
             "colorbar": {
              "outlinewidth": 0,
              "ticks": ""
             }
            },
            "type": "scattergl"
           }
          ],
          "scattermap": [
           {
            "marker": {
             "colorbar": {
              "outlinewidth": 0,
              "ticks": ""
             }
            },
            "type": "scattermap"
           }
          ],
          "scattermapbox": [
           {
            "marker": {
             "colorbar": {
              "outlinewidth": 0,
              "ticks": ""
             }
            },
            "type": "scattermapbox"
           }
          ],
          "scatterpolar": [
           {
            "marker": {
             "colorbar": {
              "outlinewidth": 0,
              "ticks": ""
             }
            },
            "type": "scatterpolar"
           }
          ],
          "scatterpolargl": [
           {
            "marker": {
             "colorbar": {
              "outlinewidth": 0,
              "ticks": ""
             }
            },
            "type": "scatterpolargl"
           }
          ],
          "scatterternary": [
           {
            "marker": {
             "colorbar": {
              "outlinewidth": 0,
              "ticks": ""
             }
            },
            "type": "scatterternary"
           }
          ],
          "surface": [
           {
            "colorbar": {
             "outlinewidth": 0,
             "ticks": ""
            },
            "colorscale": [
             [
              0,
              "#0d0887"
             ],
             [
              0.1111111111111111,
              "#46039f"
             ],
             [
              0.2222222222222222,
              "#7201a8"
             ],
             [
              0.3333333333333333,
              "#9c179e"
             ],
             [
              0.4444444444444444,
              "#bd3786"
             ],
             [
              0.5555555555555556,
              "#d8576b"
             ],
             [
              0.6666666666666666,
              "#ed7953"
             ],
             [
              0.7777777777777778,
              "#fb9f3a"
             ],
             [
              0.8888888888888888,
              "#fdca26"
             ],
             [
              1,
              "#f0f921"
             ]
            ],
            "type": "surface"
           }
          ],
          "table": [
           {
            "cells": {
             "fill": {
              "color": "#EBF0F8"
             },
             "line": {
              "color": "white"
             }
            },
            "header": {
             "fill": {
              "color": "#C8D4E3"
             },
             "line": {
              "color": "white"
             }
            },
            "type": "table"
           }
          ]
         },
         "layout": {
          "annotationdefaults": {
           "arrowcolor": "#2a3f5f",
           "arrowhead": 0,
           "arrowwidth": 1
          },
          "autotypenumbers": "strict",
          "coloraxis": {
           "colorbar": {
            "outlinewidth": 0,
            "ticks": ""
           }
          },
          "colorscale": {
           "diverging": [
            [
             0,
             "#8e0152"
            ],
            [
             0.1,
             "#c51b7d"
            ],
            [
             0.2,
             "#de77ae"
            ],
            [
             0.3,
             "#f1b6da"
            ],
            [
             0.4,
             "#fde0ef"
            ],
            [
             0.5,
             "#f7f7f7"
            ],
            [
             0.6,
             "#e6f5d0"
            ],
            [
             0.7,
             "#b8e186"
            ],
            [
             0.8,
             "#7fbc41"
            ],
            [
             0.9,
             "#4d9221"
            ],
            [
             1,
             "#276419"
            ]
           ],
           "sequential": [
            [
             0,
             "#0d0887"
            ],
            [
             0.1111111111111111,
             "#46039f"
            ],
            [
             0.2222222222222222,
             "#7201a8"
            ],
            [
             0.3333333333333333,
             "#9c179e"
            ],
            [
             0.4444444444444444,
             "#bd3786"
            ],
            [
             0.5555555555555556,
             "#d8576b"
            ],
            [
             0.6666666666666666,
             "#ed7953"
            ],
            [
             0.7777777777777778,
             "#fb9f3a"
            ],
            [
             0.8888888888888888,
             "#fdca26"
            ],
            [
             1,
             "#f0f921"
            ]
           ],
           "sequentialminus": [
            [
             0,
             "#0d0887"
            ],
            [
             0.1111111111111111,
             "#46039f"
            ],
            [
             0.2222222222222222,
             "#7201a8"
            ],
            [
             0.3333333333333333,
             "#9c179e"
            ],
            [
             0.4444444444444444,
             "#bd3786"
            ],
            [
             0.5555555555555556,
             "#d8576b"
            ],
            [
             0.6666666666666666,
             "#ed7953"
            ],
            [
             0.7777777777777778,
             "#fb9f3a"
            ],
            [
             0.8888888888888888,
             "#fdca26"
            ],
            [
             1,
             "#f0f921"
            ]
           ]
          },
          "colorway": [
           "#636efa",
           "#EF553B",
           "#00cc96",
           "#ab63fa",
           "#FFA15A",
           "#19d3f3",
           "#FF6692",
           "#B6E880",
           "#FF97FF",
           "#FECB52"
          ],
          "font": {
           "color": "#2a3f5f"
          },
          "geo": {
           "bgcolor": "white",
           "lakecolor": "white",
           "landcolor": "white",
           "showlakes": true,
           "showland": true,
           "subunitcolor": "#C8D4E3"
          },
          "hoverlabel": {
           "align": "left"
          },
          "hovermode": "closest",
          "mapbox": {
           "style": "light"
          },
          "paper_bgcolor": "white",
          "plot_bgcolor": "white",
          "polar": {
           "angularaxis": {
            "gridcolor": "#EBF0F8",
            "linecolor": "#EBF0F8",
            "ticks": ""
           },
           "bgcolor": "white",
           "radialaxis": {
            "gridcolor": "#EBF0F8",
            "linecolor": "#EBF0F8",
            "ticks": ""
           }
          },
          "scene": {
           "xaxis": {
            "backgroundcolor": "white",
            "gridcolor": "#DFE8F3",
            "gridwidth": 2,
            "linecolor": "#EBF0F8",
            "showbackground": true,
            "ticks": "",
            "zerolinecolor": "#EBF0F8"
           },
           "yaxis": {
            "backgroundcolor": "white",
            "gridcolor": "#DFE8F3",
            "gridwidth": 2,
            "linecolor": "#EBF0F8",
            "showbackground": true,
            "ticks": "",
            "zerolinecolor": "#EBF0F8"
           },
           "zaxis": {
            "backgroundcolor": "white",
            "gridcolor": "#DFE8F3",
            "gridwidth": 2,
            "linecolor": "#EBF0F8",
            "showbackground": true,
            "ticks": "",
            "zerolinecolor": "#EBF0F8"
           }
          },
          "shapedefaults": {
           "line": {
            "color": "#2a3f5f"
           }
          },
          "ternary": {
           "aaxis": {
            "gridcolor": "#DFE8F3",
            "linecolor": "#A2B1C6",
            "ticks": ""
           },
           "baxis": {
            "gridcolor": "#DFE8F3",
            "linecolor": "#A2B1C6",
            "ticks": ""
           },
           "bgcolor": "white",
           "caxis": {
            "gridcolor": "#DFE8F3",
            "linecolor": "#A2B1C6",
            "ticks": ""
           }
          },
          "title": {
           "x": 0.05
          },
          "xaxis": {
           "automargin": true,
           "gridcolor": "#EBF0F8",
           "linecolor": "#EBF0F8",
           "ticks": "",
           "title": {
            "standoff": 15
           },
           "zerolinecolor": "#EBF0F8",
           "zerolinewidth": 2
          },
          "yaxis": {
           "automargin": true,
           "gridcolor": "#EBF0F8",
           "linecolor": "#EBF0F8",
           "ticks": "",
           "title": {
            "standoff": 15
           },
           "zerolinecolor": "#EBF0F8",
           "zerolinewidth": 2
          }
         }
        },
        "title": {
         "text": "Espectro de fluorescencia - FCh"
        },
        "xaxis": {
         "title": {
          "text": "Longitud de onda (nm)"
         }
        },
        "yaxis": {
         "title": {
          "text": "Intensidad (CPS)"
         }
        }
       }
      }
     },
     "metadata": {},
     "output_type": "display_data"
    },
    {
     "data": {
      "text/html": [
       "<div>\n",
       "<style scoped>\n",
       "    .dataframe tbody tr th:only-of-type {\n",
       "        vertical-align: middle;\n",
       "    }\n",
       "\n",
       "    .dataframe tbody tr th {\n",
       "        vertical-align: top;\n",
       "    }\n",
       "\n",
       "    .dataframe thead th {\n",
       "        text-align: right;\n",
       "    }\n",
       "</style>\n",
       "<table border=\"1\" class=\"dataframe\">\n",
       "  <thead>\n",
       "    <tr style=\"text-align: right;\">\n",
       "      <th></th>\n",
       "      <th>Muestra</th>\n",
       "      <th>Máx. CPS</th>\n",
       "      <th>Mín. CPS</th>\n",
       "      <th>Promedio</th>\n",
       "      <th>Desv. Estándar</th>\n",
       "      <th>AUC</th>\n",
       "      <th>λ máx (nm)</th>\n",
       "      <th>λ mín (nm)</th>\n",
       "      <th>300–400 nm</th>\n",
       "      <th>400–500 nm</th>\n",
       "      <th>500–600 nm</th>\n",
       "      <th>600–700 nm</th>\n",
       "      <th>700–800 nm</th>\n",
       "      <th>800–900 nm</th>\n",
       "    </tr>\n",
       "  </thead>\n",
       "  <tbody>\n",
       "    <tr>\n",
       "      <th>0</th>\n",
       "      <td>FGo</td>\n",
       "      <td>43060</td>\n",
       "      <td>360</td>\n",
       "      <td>19518.046</td>\n",
       "      <td>15339.144</td>\n",
       "      <td>9383775.0</td>\n",
       "      <td>434</td>\n",
       "      <td>844</td>\n",
       "      <td>20480.323</td>\n",
       "      <td>39131.287</td>\n",
       "      <td>32592.277</td>\n",
       "      <td>12854.554</td>\n",
       "      <td>2673.168</td>\n",
       "      <td>816.078</td>\n",
       "    </tr>\n",
       "  </tbody>\n",
       "</table>\n",
       "</div>"
      ],
      "text/plain": [
       "  Muestra  Máx. CPS  Mín. CPS   Promedio  Desv. Estándar        AUC  \\\n",
       "0     FGo     43060       360  19518.046       15339.144  9383775.0   \n",
       "\n",
       "   λ máx (nm)  λ mín (nm)  300–400 nm  400–500 nm  500–600 nm  600–700 nm  \\\n",
       "0         434         844   20480.323   39131.287   32592.277   12854.554   \n",
       "\n",
       "   700–800 nm  800–900 nm  \n",
       "0    2673.168     816.078  "
      ]
     },
     "metadata": {},
     "output_type": "display_data"
    },
    {
     "data": {
      "application/vnd.plotly.v1+json": {
       "config": {
        "plotlyServerURL": "https://plot.ly"
       },
       "data": [
        {
         "mode": "lines",
         "name": "FGo",
         "type": "scatter",
         "x": {
          "bdata": "cgFzAXQBdQF2AXcBeAF5AXoBewF8AX0BfgF/AYABgQGCAYMBhAGFAYYBhwGIAYkBigGLAYwBjQGOAY8BkAGRAZIBkwGUAZUBlgGXAZgBmQGaAZsBnAGdAZ4BnwGgAaEBogGjAaQBpQGmAacBqAGpAaoBqwGsAa0BrgGvAbABsQGyAbMBtAG1AbYBtwG4AbkBugG7AbwBvQG+Ab8BwAHBAcIBwwHEAcUBxgHHAcgByQHKAcsBzAHNAc4BzwHQAdEB0gHTAdQB1QHWAdcB2AHZAdoB2wHcAd0B3gHfAeAB4QHiAeMB5AHlAeYB5wHoAekB6gHrAewB7QHuAe8B8AHxAfIB8wH0AfUB9gH3AfgB+QH6AfsB/AH9Af4B/wEAAgECAgIDAgQCBQIGAgcCCAIJAgoCCwIMAg0CDgIPAhACEQISAhMCFAIVAhYCFwIYAhkCGgIbAhwCHQIeAh8CIAIhAiICIwIkAiUCJgInAigCKQIqAisCLAItAi4CLwIwAjECMgIzAjQCNQI2AjcCOAI5AjoCOwI8Aj0CPgI/AkACQQJCAkMCRAJFAkYCRwJIAkkCSgJLAkwCTQJOAk8CUAJRAlICUwJUAlUCVgJXAlgCWQJaAlsCXAJdAl4CXwJgAmECYgJjAmQCZQJmAmcCaAJpAmoCawJsAm0CbgJvAnACcQJyAnMCdAJ1AnYCdwJ4AnkCegJ7AnwCfQJ+An8CgAKBAoICgwKEAoUChgKHAogCiQKKAosCjAKNAo4CjwKQApECkgKTApQClQKWApcCmAKZApoCmwKcAp0CngKfAqACoQKiAqMCpAKlAqYCpwKoAqkCqgKrAqwCrQKuAq8CsAKxArICswK0ArUCtgK3ArgCuQK6ArsCvAK9Ar4CvwLAAsECwgLDAsQCxQLGAscCyALJAsoCywLMAs0CzgLPAtAC0QLSAtMC1ALVAtYC1wLYAtkC2gLbAtwC3QLeAt8C4ALhAuIC4wLkAuUC5gLnAugC6QLqAusC7ALtAu4C7wLwAvEC8gLzAvQC9QL2AvcC+AL5AvoC+wL8Av0C/gL/AgADAQMCAwMDBAMFAwYDBwMIAwkDCgMLAwwDDQMOAw8DEAMRAxIDEwMUAxUDFgMXAxgDGQMaAxsDHAMdAx4DHwMgAyEDIgMjAyQDJQMmAycDKAMpAyoDKwMsAy0DLgMvAzADMQMyAzMDNAM1AzYDNwM4AzkDOgM7AzwDPQM+Az8DQANBA0IDQwNEA0UDRgNHA0gDSQNKA0sDTANNA04DTwNQA1EDUgM=",
          "dtype": "i2"
         },
         "y": {
          "bdata": "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",
          "dtype": "i4"
         }
        }
       ],
       "layout": {
        "template": {
         "data": {
          "bar": [
           {
            "error_x": {
             "color": "#2a3f5f"
            },
            "error_y": {
             "color": "#2a3f5f"
            },
            "marker": {
             "line": {
              "color": "white",
              "width": 0.5
             },
             "pattern": {
              "fillmode": "overlay",
              "size": 10,
              "solidity": 0.2
             }
            },
            "type": "bar"
           }
          ],
          "barpolar": [
           {
            "marker": {
             "line": {
              "color": "white",
              "width": 0.5
             },
             "pattern": {
              "fillmode": "overlay",
              "size": 10,
              "solidity": 0.2
             }
            },
            "type": "barpolar"
           }
          ],
          "carpet": [
           {
            "aaxis": {
             "endlinecolor": "#2a3f5f",
             "gridcolor": "#C8D4E3",
             "linecolor": "#C8D4E3",
             "minorgridcolor": "#C8D4E3",
             "startlinecolor": "#2a3f5f"
            },
            "baxis": {
             "endlinecolor": "#2a3f5f",
             "gridcolor": "#C8D4E3",
             "linecolor": "#C8D4E3",
             "minorgridcolor": "#C8D4E3",
             "startlinecolor": "#2a3f5f"
            },
            "type": "carpet"
           }
          ],
          "choropleth": [
           {
            "colorbar": {
             "outlinewidth": 0,
             "ticks": ""
            },
            "type": "choropleth"
           }
          ],
          "contour": [
           {
            "colorbar": {
             "outlinewidth": 0,
             "ticks": ""
            },
            "colorscale": [
             [
              0,
              "#0d0887"
             ],
             [
              0.1111111111111111,
              "#46039f"
             ],
             [
              0.2222222222222222,
              "#7201a8"
             ],
             [
              0.3333333333333333,
              "#9c179e"
             ],
             [
              0.4444444444444444,
              "#bd3786"
             ],
             [
              0.5555555555555556,
              "#d8576b"
             ],
             [
              0.6666666666666666,
              "#ed7953"
             ],
             [
              0.7777777777777778,
              "#fb9f3a"
             ],
             [
              0.8888888888888888,
              "#fdca26"
             ],
             [
              1,
              "#f0f921"
             ]
            ],
            "type": "contour"
           }
          ],
          "contourcarpet": [
           {
            "colorbar": {
             "outlinewidth": 0,
             "ticks": ""
            },
            "type": "contourcarpet"
           }
          ],
          "heatmap": [
           {
            "colorbar": {
             "outlinewidth": 0,
             "ticks": ""
            },
            "colorscale": [
             [
              0,
              "#0d0887"
             ],
             [
              0.1111111111111111,
              "#46039f"
             ],
             [
              0.2222222222222222,
              "#7201a8"
             ],
             [
              0.3333333333333333,
              "#9c179e"
             ],
             [
              0.4444444444444444,
              "#bd3786"
             ],
             [
              0.5555555555555556,
              "#d8576b"
             ],
             [
              0.6666666666666666,
              "#ed7953"
             ],
             [
              0.7777777777777778,
              "#fb9f3a"
             ],
             [
              0.8888888888888888,
              "#fdca26"
             ],
             [
              1,
              "#f0f921"
             ]
            ],
            "type": "heatmap"
           }
          ],
          "histogram": [
           {
            "marker": {
             "pattern": {
              "fillmode": "overlay",
              "size": 10,
              "solidity": 0.2
             }
            },
            "type": "histogram"
           }
          ],
          "histogram2d": [
           {
            "colorbar": {
             "outlinewidth": 0,
             "ticks": ""
            },
            "colorscale": [
             [
              0,
              "#0d0887"
             ],
             [
              0.1111111111111111,
              "#46039f"
             ],
             [
              0.2222222222222222,
              "#7201a8"
             ],
             [
              0.3333333333333333,
              "#9c179e"
             ],
             [
              0.4444444444444444,
              "#bd3786"
             ],
             [
              0.5555555555555556,
              "#d8576b"
             ],
             [
              0.6666666666666666,
              "#ed7953"
             ],
             [
              0.7777777777777778,
              "#fb9f3a"
             ],
             [
              0.8888888888888888,
              "#fdca26"
             ],
             [
              1,
              "#f0f921"
             ]
            ],
            "type": "histogram2d"
           }
          ],
          "histogram2dcontour": [
           {
            "colorbar": {
             "outlinewidth": 0,
             "ticks": ""
            },
            "colorscale": [
             [
              0,
              "#0d0887"
             ],
             [
              0.1111111111111111,
              "#46039f"
             ],
             [
              0.2222222222222222,
              "#7201a8"
             ],
             [
              0.3333333333333333,
              "#9c179e"
             ],
             [
              0.4444444444444444,
              "#bd3786"
             ],
             [
              0.5555555555555556,
              "#d8576b"
             ],
             [
              0.6666666666666666,
              "#ed7953"
             ],
             [
              0.7777777777777778,
              "#fb9f3a"
             ],
             [
              0.8888888888888888,
              "#fdca26"
             ],
             [
              1,
              "#f0f921"
             ]
            ],
            "type": "histogram2dcontour"
           }
          ],
          "mesh3d": [
           {
            "colorbar": {
             "outlinewidth": 0,
             "ticks": ""
            },
            "type": "mesh3d"
           }
          ],
          "parcoords": [
           {
            "line": {
             "colorbar": {
              "outlinewidth": 0,
              "ticks": ""
             }
            },
            "type": "parcoords"
           }
          ],
          "pie": [
           {
            "automargin": true,
            "type": "pie"
           }
          ],
          "scatter": [
           {
            "fillpattern": {
             "fillmode": "overlay",
             "size": 10,
             "solidity": 0.2
            },
            "type": "scatter"
           }
          ],
          "scatter3d": [
           {
            "line": {
             "colorbar": {
              "outlinewidth": 0,
              "ticks": ""
             }
            },
            "marker": {
             "colorbar": {
              "outlinewidth": 0,
              "ticks": ""
             }
            },
            "type": "scatter3d"
           }
          ],
          "scattercarpet": [
           {
            "marker": {
             "colorbar": {
              "outlinewidth": 0,
              "ticks": ""
             }
            },
            "type": "scattercarpet"
           }
          ],
          "scattergeo": [
           {
            "marker": {
             "colorbar": {
              "outlinewidth": 0,
              "ticks": ""
             }
            },
            "type": "scattergeo"
           }
          ],
          "scattergl": [
           {
            "marker": {
             "colorbar": {
              "outlinewidth": 0,
              "ticks": ""
             }
            },
            "type": "scattergl"
           }
          ],
          "scattermap": [
           {
            "marker": {
             "colorbar": {
              "outlinewidth": 0,
              "ticks": ""
             }
            },
            "type": "scattermap"
           }
          ],
          "scattermapbox": [
           {
            "marker": {
             "colorbar": {
              "outlinewidth": 0,
              "ticks": ""
             }
            },
            "type": "scattermapbox"
           }
          ],
          "scatterpolar": [
           {
            "marker": {
             "colorbar": {
              "outlinewidth": 0,
              "ticks": ""
             }
            },
            "type": "scatterpolar"
           }
          ],
          "scatterpolargl": [
           {
            "marker": {
             "colorbar": {
              "outlinewidth": 0,
              "ticks": ""
             }
            },
            "type": "scatterpolargl"
           }
          ],
          "scatterternary": [
           {
            "marker": {
             "colorbar": {
              "outlinewidth": 0,
              "ticks": ""
             }
            },
            "type": "scatterternary"
           }
          ],
          "surface": [
           {
            "colorbar": {
             "outlinewidth": 0,
             "ticks": ""
            },
            "colorscale": [
             [
              0,
              "#0d0887"
             ],
             [
              0.1111111111111111,
              "#46039f"
             ],
             [
              0.2222222222222222,
              "#7201a8"
             ],
             [
              0.3333333333333333,
              "#9c179e"
             ],
             [
              0.4444444444444444,
              "#bd3786"
             ],
             [
              0.5555555555555556,
              "#d8576b"
             ],
             [
              0.6666666666666666,
              "#ed7953"
             ],
             [
              0.7777777777777778,
              "#fb9f3a"
             ],
             [
              0.8888888888888888,
              "#fdca26"
             ],
             [
              1,
              "#f0f921"
             ]
            ],
            "type": "surface"
           }
          ],
          "table": [
           {
            "cells": {
             "fill": {
              "color": "#EBF0F8"
             },
             "line": {
              "color": "white"
             }
            },
            "header": {
             "fill": {
              "color": "#C8D4E3"
             },
             "line": {
              "color": "white"
             }
            },
            "type": "table"
           }
          ]
         },
         "layout": {
          "annotationdefaults": {
           "arrowcolor": "#2a3f5f",
           "arrowhead": 0,
           "arrowwidth": 1
          },
          "autotypenumbers": "strict",
          "coloraxis": {
           "colorbar": {
            "outlinewidth": 0,
            "ticks": ""
           }
          },
          "colorscale": {
           "diverging": [
            [
             0,
             "#8e0152"
            ],
            [
             0.1,
             "#c51b7d"
            ],
            [
             0.2,
             "#de77ae"
            ],
            [
             0.3,
             "#f1b6da"
            ],
            [
             0.4,
             "#fde0ef"
            ],
            [
             0.5,
             "#f7f7f7"
            ],
            [
             0.6,
             "#e6f5d0"
            ],
            [
             0.7,
             "#b8e186"
            ],
            [
             0.8,
             "#7fbc41"
            ],
            [
             0.9,
             "#4d9221"
            ],
            [
             1,
             "#276419"
            ]
           ],
           "sequential": [
            [
             0,
             "#0d0887"
            ],
            [
             0.1111111111111111,
             "#46039f"
            ],
            [
             0.2222222222222222,
             "#7201a8"
            ],
            [
             0.3333333333333333,
             "#9c179e"
            ],
            [
             0.4444444444444444,
             "#bd3786"
            ],
            [
             0.5555555555555556,
             "#d8576b"
            ],
            [
             0.6666666666666666,
             "#ed7953"
            ],
            [
             0.7777777777777778,
             "#fb9f3a"
            ],
            [
             0.8888888888888888,
             "#fdca26"
            ],
            [
             1,
             "#f0f921"
            ]
           ],
           "sequentialminus": [
            [
             0,
             "#0d0887"
            ],
            [
             0.1111111111111111,
             "#46039f"
            ],
            [
             0.2222222222222222,
             "#7201a8"
            ],
            [
             0.3333333333333333,
             "#9c179e"
            ],
            [
             0.4444444444444444,
             "#bd3786"
            ],
            [
             0.5555555555555556,
             "#d8576b"
            ],
            [
             0.6666666666666666,
             "#ed7953"
            ],
            [
             0.7777777777777778,
             "#fb9f3a"
            ],
            [
             0.8888888888888888,
             "#fdca26"
            ],
            [
             1,
             "#f0f921"
            ]
           ]
          },
          "colorway": [
           "#636efa",
           "#EF553B",
           "#00cc96",
           "#ab63fa",
           "#FFA15A",
           "#19d3f3",
           "#FF6692",
           "#B6E880",
           "#FF97FF",
           "#FECB52"
          ],
          "font": {
           "color": "#2a3f5f"
          },
          "geo": {
           "bgcolor": "white",
           "lakecolor": "white",
           "landcolor": "white",
           "showlakes": true,
           "showland": true,
           "subunitcolor": "#C8D4E3"
          },
          "hoverlabel": {
           "align": "left"
          },
          "hovermode": "closest",
          "mapbox": {
           "style": "light"
          },
          "paper_bgcolor": "white",
          "plot_bgcolor": "white",
          "polar": {
           "angularaxis": {
            "gridcolor": "#EBF0F8",
            "linecolor": "#EBF0F8",
            "ticks": ""
           },
           "bgcolor": "white",
           "radialaxis": {
            "gridcolor": "#EBF0F8",
            "linecolor": "#EBF0F8",
            "ticks": ""
           }
          },
          "scene": {
           "xaxis": {
            "backgroundcolor": "white",
            "gridcolor": "#DFE8F3",
            "gridwidth": 2,
            "linecolor": "#EBF0F8",
            "showbackground": true,
            "ticks": "",
            "zerolinecolor": "#EBF0F8"
           },
           "yaxis": {
            "backgroundcolor": "white",
            "gridcolor": "#DFE8F3",
            "gridwidth": 2,
            "linecolor": "#EBF0F8",
            "showbackground": true,
            "ticks": "",
            "zerolinecolor": "#EBF0F8"
           },
           "zaxis": {
            "backgroundcolor": "white",
            "gridcolor": "#DFE8F3",
            "gridwidth": 2,
            "linecolor": "#EBF0F8",
            "showbackground": true,
            "ticks": "",
            "zerolinecolor": "#EBF0F8"
           }
          },
          "shapedefaults": {
           "line": {
            "color": "#2a3f5f"
           }
          },
          "ternary": {
           "aaxis": {
            "gridcolor": "#DFE8F3",
            "linecolor": "#A2B1C6",
            "ticks": ""
           },
           "baxis": {
            "gridcolor": "#DFE8F3",
            "linecolor": "#A2B1C6",
            "ticks": ""
           },
           "bgcolor": "white",
           "caxis": {
            "gridcolor": "#DFE8F3",
            "linecolor": "#A2B1C6",
            "ticks": ""
           }
          },
          "title": {
           "x": 0.05
          },
          "xaxis": {
           "automargin": true,
           "gridcolor": "#EBF0F8",
           "linecolor": "#EBF0F8",
           "ticks": "",
           "title": {
            "standoff": 15
           },
           "zerolinecolor": "#EBF0F8",
           "zerolinewidth": 2
          },
          "yaxis": {
           "automargin": true,
           "gridcolor": "#EBF0F8",
           "linecolor": "#EBF0F8",
           "ticks": "",
           "title": {
            "standoff": 15
           },
           "zerolinecolor": "#EBF0F8",
           "zerolinewidth": 2
          }
         }
        },
        "title": {
         "text": "Espectro de fluorescencia - FGo"
        },
        "xaxis": {
         "title": {
          "text": "Longitud de onda (nm)"
         }
        },
        "yaxis": {
         "title": {
          "text": "Intensidad (CPS)"
         }
        }
       }
      }
     },
     "metadata": {},
     "output_type": "display_data"
    },
    {
     "data": {
      "text/html": [
       "<div>\n",
       "<style scoped>\n",
       "    .dataframe tbody tr th:only-of-type {\n",
       "        vertical-align: middle;\n",
       "    }\n",
       "\n",
       "    .dataframe tbody tr th {\n",
       "        vertical-align: top;\n",
       "    }\n",
       "\n",
       "    .dataframe thead th {\n",
       "        text-align: right;\n",
       "    }\n",
       "</style>\n",
       "<table border=\"1\" class=\"dataframe\">\n",
       "  <thead>\n",
       "    <tr style=\"text-align: right;\">\n",
       "      <th></th>\n",
       "      <th>Muestra</th>\n",
       "      <th>Máx. CPS</th>\n",
       "      <th>Mín. CPS</th>\n",
       "      <th>Promedio</th>\n",
       "      <th>Desv. Estándar</th>\n",
       "      <th>AUC</th>\n",
       "      <th>λ máx (nm)</th>\n",
       "      <th>λ mín (nm)</th>\n",
       "      <th>300–400 nm</th>\n",
       "      <th>400–500 nm</th>\n",
       "      <th>500–600 nm</th>\n",
       "      <th>600–700 nm</th>\n",
       "      <th>700–800 nm</th>\n",
       "      <th>800–900 nm</th>\n",
       "    </tr>\n",
       "  </thead>\n",
       "  <tbody>\n",
       "    <tr>\n",
       "      <th>0</th>\n",
       "      <td>FIlly</td>\n",
       "      <td>455120</td>\n",
       "      <td>2950</td>\n",
       "      <td>212116.403</td>\n",
       "      <td>172960.753</td>\n",
       "      <td>101989965.0</td>\n",
       "      <td>491</td>\n",
       "      <td>848</td>\n",
       "      <td>196618.065</td>\n",
       "      <td>420936.634</td>\n",
       "      <td>376864.158</td>\n",
       "      <td>137072.871</td>\n",
       "      <td>22640.297</td>\n",
       "      <td>6021.373</td>\n",
       "    </tr>\n",
       "  </tbody>\n",
       "</table>\n",
       "</div>"
      ],
      "text/plain": [
       "  Muestra  Máx. CPS  Mín. CPS    Promedio  Desv. Estándar          AUC  \\\n",
       "0   FIlly    455120      2950  212116.403      172960.753  101989965.0   \n",
       "\n",
       "   λ máx (nm)  λ mín (nm)  300–400 nm  400–500 nm  500–600 nm  600–700 nm  \\\n",
       "0         491         848  196618.065  420936.634  376864.158  137072.871   \n",
       "\n",
       "   700–800 nm  800–900 nm  \n",
       "0   22640.297    6021.373  "
      ]
     },
     "metadata": {},
     "output_type": "display_data"
    },
    {
     "data": {
      "application/vnd.plotly.v1+json": {
       "config": {
        "plotlyServerURL": "https://plot.ly"
       },
       "data": [
        {
         "mode": "lines",
         "name": "FIlly",
         "type": "scatter",
         "x": {
          "bdata": "cgFzAXQBdQF2AXcBeAF5AXoBewF8AX0BfgF/AYABgQGCAYMBhAGFAYYBhwGIAYkBigGLAYwBjQGOAY8BkAGRAZIBkwGUAZUBlgGXAZgBmQGaAZsBnAGdAZ4BnwGgAaEBogGjAaQBpQGmAacBqAGpAaoBqwGsAa0BrgGvAbABsQGyAbMBtAG1AbYBtwG4AbkBugG7AbwBvQG+Ab8BwAHBAcIBwwHEAcUBxgHHAcgByQHKAcsBzAHNAc4BzwHQAdEB0gHTAdQB1QHWAdcB2AHZAdoB2wHcAd0B3gHfAeAB4QHiAeMB5AHlAeYB5wHoAekB6gHrAewB7QHuAe8B8AHxAfIB8wH0AfUB9gH3AfgB+QH6AfsB/AH9Af4B/wEAAgECAgIDAgQCBQIGAgcCCAIJAgoCCwIMAg0CDgIPAhACEQISAhMCFAIVAhYCFwIYAhkCGgIbAhwCHQIeAh8CIAIhAiICIwIkAiUCJgInAigCKQIqAisCLAItAi4CLwIwAjECMgIzAjQCNQI2AjcCOAI5AjoCOwI8Aj0CPgI/AkACQQJCAkMCRAJFAkYCRwJIAkkCSgJLAkwCTQJOAk8CUAJRAlICUwJUAlUCVgJXAlgCWQJaAlsCXAJdAl4CXwJgAmECYgJjAmQCZQJmAmcCaAJpAmoCawJsAm0CbgJvAnACcQJyAnMCdAJ1AnYCdwJ4AnkCegJ7AnwCfQJ+An8CgAKBAoICgwKEAoUChgKHAogCiQKKAosCjAKNAo4CjwKQApECkgKTApQClQKWApcCmAKZApoCmwKcAp0CngKfAqACoQKiAqMCpAKlAqYCpwKoAqkCqgKrAqwCrQKuAq8CsAKxArICswK0ArUCtgK3ArgCuQK6ArsCvAK9Ar4CvwLAAsECwgLDAsQCxQLGAscCyALJAsoCywLMAs0CzgLPAtAC0QLSAtMC1ALVAtYC1wLYAtkC2gLbAtwC3QLeAt8C4ALhAuIC4wLkAuUC5gLnAugC6QLqAusC7ALtAu4C7wLwAvEC8gLzAvQC9QL2AvcC+AL5AvoC+wL8Av0C/gL/AgADAQMCAwMDBAMFAwYDBwMIAwkDCgMLAwwDDQMOAw8DEAMRAxIDEwMUAxUDFgMXAxgDGQMaAxsDHAMdAx4DHwMgAyEDIgMjAyQDJQMmAycDKAMpAyoDKwMsAy0DLgMvAzADMQMyAzMDNAM1AzYDNwM4AzkDOgM7AzwDPQM+Az8DQANBA0IDQwNEA0UDRgNHA0gDSQNKA0sDTANNA04DTwNQA1EDUgM=",
          "dtype": "i2"
         },
         "y": {
          "bdata": "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",
          "dtype": "i4"
         }
        }
       ],
       "layout": {
        "template": {
         "data": {
          "bar": [
           {
            "error_x": {
             "color": "#2a3f5f"
            },
            "error_y": {
             "color": "#2a3f5f"
            },
            "marker": {
             "line": {
              "color": "white",
              "width": 0.5
             },
             "pattern": {
              "fillmode": "overlay",
              "size": 10,
              "solidity": 0.2
             }
            },
            "type": "bar"
           }
          ],
          "barpolar": [
           {
            "marker": {
             "line": {
              "color": "white",
              "width": 0.5
             },
             "pattern": {
              "fillmode": "overlay",
              "size": 10,
              "solidity": 0.2
             }
            },
            "type": "barpolar"
           }
          ],
          "carpet": [
           {
            "aaxis": {
             "endlinecolor": "#2a3f5f",
             "gridcolor": "#C8D4E3",
             "linecolor": "#C8D4E3",
             "minorgridcolor": "#C8D4E3",
             "startlinecolor": "#2a3f5f"
            },
            "baxis": {
             "endlinecolor": "#2a3f5f",
             "gridcolor": "#C8D4E3",
             "linecolor": "#C8D4E3",
             "minorgridcolor": "#C8D4E3",
             "startlinecolor": "#2a3f5f"
            },
            "type": "carpet"
           }
          ],
          "choropleth": [
           {
            "colorbar": {
             "outlinewidth": 0,
             "ticks": ""
            },
            "type": "choropleth"
           }
          ],
          "contour": [
           {
            "colorbar": {
             "outlinewidth": 0,
             "ticks": ""
            },
            "colorscale": [
             [
              0,
              "#0d0887"
             ],
             [
              0.1111111111111111,
              "#46039f"
             ],
             [
              0.2222222222222222,
              "#7201a8"
             ],
             [
              0.3333333333333333,
              "#9c179e"
             ],
             [
              0.4444444444444444,
              "#bd3786"
             ],
             [
              0.5555555555555556,
              "#d8576b"
             ],
             [
              0.6666666666666666,
              "#ed7953"
             ],
             [
              0.7777777777777778,
              "#fb9f3a"
             ],
             [
              0.8888888888888888,
              "#fdca26"
             ],
             [
              1,
              "#f0f921"
             ]
            ],
            "type": "contour"
           }
          ],
          "contourcarpet": [
           {
            "colorbar": {
             "outlinewidth": 0,
             "ticks": ""
            },
            "type": "contourcarpet"
           }
          ],
          "heatmap": [
           {
            "colorbar": {
             "outlinewidth": 0,
             "ticks": ""
            },
            "colorscale": [
             [
              0,
              "#0d0887"
             ],
             [
              0.1111111111111111,
              "#46039f"
             ],
             [
              0.2222222222222222,
              "#7201a8"
             ],
             [
              0.3333333333333333,
              "#9c179e"
             ],
             [
              0.4444444444444444,
              "#bd3786"
             ],
             [
              0.5555555555555556,
              "#d8576b"
             ],
             [
              0.6666666666666666,
              "#ed7953"
             ],
             [
              0.7777777777777778,
              "#fb9f3a"
             ],
             [
              0.8888888888888888,
              "#fdca26"
             ],
             [
              1,
              "#f0f921"
             ]
            ],
            "type": "heatmap"
           }
          ],
          "histogram": [
           {
            "marker": {
             "pattern": {
              "fillmode": "overlay",
              "size": 10,
              "solidity": 0.2
             }
            },
            "type": "histogram"
           }
          ],
          "histogram2d": [
           {
            "colorbar": {
             "outlinewidth": 0,
             "ticks": ""
            },
            "colorscale": [
             [
              0,
              "#0d0887"
             ],
             [
              0.1111111111111111,
              "#46039f"
             ],
             [
              0.2222222222222222,
              "#7201a8"
             ],
             [
              0.3333333333333333,
              "#9c179e"
             ],
             [
              0.4444444444444444,
              "#bd3786"
             ],
             [
              0.5555555555555556,
              "#d8576b"
             ],
             [
              0.6666666666666666,
              "#ed7953"
             ],
             [
              0.7777777777777778,
              "#fb9f3a"
             ],
             [
              0.8888888888888888,
              "#fdca26"
             ],
             [
              1,
              "#f0f921"
             ]
            ],
            "type": "histogram2d"
           }
          ],
          "histogram2dcontour": [
           {
            "colorbar": {
             "outlinewidth": 0,
             "ticks": ""
            },
            "colorscale": [
             [
              0,
              "#0d0887"
             ],
             [
              0.1111111111111111,
              "#46039f"
             ],
             [
              0.2222222222222222,
              "#7201a8"
             ],
             [
              0.3333333333333333,
              "#9c179e"
             ],
             [
              0.4444444444444444,
              "#bd3786"
             ],
             [
              0.5555555555555556,
              "#d8576b"
             ],
             [
              0.6666666666666666,
              "#ed7953"
             ],
             [
              0.7777777777777778,
              "#fb9f3a"
             ],
             [
              0.8888888888888888,
              "#fdca26"
             ],
             [
              1,
              "#f0f921"
             ]
            ],
            "type": "histogram2dcontour"
           }
          ],
          "mesh3d": [
           {
            "colorbar": {
             "outlinewidth": 0,
             "ticks": ""
            },
            "type": "mesh3d"
           }
          ],
          "parcoords": [
           {
            "line": {
             "colorbar": {
              "outlinewidth": 0,
              "ticks": ""
             }
            },
            "type": "parcoords"
           }
          ],
          "pie": [
           {
            "automargin": true,
            "type": "pie"
           }
          ],
          "scatter": [
           {
            "fillpattern": {
             "fillmode": "overlay",
             "size": 10,
             "solidity": 0.2
            },
            "type": "scatter"
           }
          ],
          "scatter3d": [
           {
            "line": {
             "colorbar": {
              "outlinewidth": 0,
              "ticks": ""
             }
            },
            "marker": {
             "colorbar": {
              "outlinewidth": 0,
              "ticks": ""
             }
            },
            "type": "scatter3d"
           }
          ],
          "scattercarpet": [
           {
            "marker": {
             "colorbar": {
              "outlinewidth": 0,
              "ticks": ""
             }
            },
            "type": "scattercarpet"
           }
          ],
          "scattergeo": [
           {
            "marker": {
             "colorbar": {
              "outlinewidth": 0,
              "ticks": ""
             }
            },
            "type": "scattergeo"
           }
          ],
          "scattergl": [
           {
            "marker": {
             "colorbar": {
              "outlinewidth": 0,
              "ticks": ""
             }
            },
            "type": "scattergl"
           }
          ],
          "scattermap": [
           {
            "marker": {
             "colorbar": {
              "outlinewidth": 0,
              "ticks": ""
             }
            },
            "type": "scattermap"
           }
          ],
          "scattermapbox": [
           {
            "marker": {
             "colorbar": {
              "outlinewidth": 0,
              "ticks": ""
             }
            },
            "type": "scattermapbox"
           }
          ],
          "scatterpolar": [
           {
            "marker": {
             "colorbar": {
              "outlinewidth": 0,
              "ticks": ""
             }
            },
            "type": "scatterpolar"
           }
          ],
          "scatterpolargl": [
           {
            "marker": {
             "colorbar": {
              "outlinewidth": 0,
              "ticks": ""
             }
            },
            "type": "scatterpolargl"
           }
          ],
          "scatterternary": [
           {
            "marker": {
             "colorbar": {
              "outlinewidth": 0,
              "ticks": ""
             }
            },
            "type": "scatterternary"
           }
          ],
          "surface": [
           {
            "colorbar": {
             "outlinewidth": 0,
             "ticks": ""
            },
            "colorscale": [
             [
              0,
              "#0d0887"
             ],
             [
              0.1111111111111111,
              "#46039f"
             ],
             [
              0.2222222222222222,
              "#7201a8"
             ],
             [
              0.3333333333333333,
              "#9c179e"
             ],
             [
              0.4444444444444444,
              "#bd3786"
             ],
             [
              0.5555555555555556,
              "#d8576b"
             ],
             [
              0.6666666666666666,
              "#ed7953"
             ],
             [
              0.7777777777777778,
              "#fb9f3a"
             ],
             [
              0.8888888888888888,
              "#fdca26"
             ],
             [
              1,
              "#f0f921"
             ]
            ],
            "type": "surface"
           }
          ],
          "table": [
           {
            "cells": {
             "fill": {
              "color": "#EBF0F8"
             },
             "line": {
              "color": "white"
             }
            },
            "header": {
             "fill": {
              "color": "#C8D4E3"
             },
             "line": {
              "color": "white"
             }
            },
            "type": "table"
           }
          ]
         },
         "layout": {
          "annotationdefaults": {
           "arrowcolor": "#2a3f5f",
           "arrowhead": 0,
           "arrowwidth": 1
          },
          "autotypenumbers": "strict",
          "coloraxis": {
           "colorbar": {
            "outlinewidth": 0,
            "ticks": ""
           }
          },
          "colorscale": {
           "diverging": [
            [
             0,
             "#8e0152"
            ],
            [
             0.1,
             "#c51b7d"
            ],
            [
             0.2,
             "#de77ae"
            ],
            [
             0.3,
             "#f1b6da"
            ],
            [
             0.4,
             "#fde0ef"
            ],
            [
             0.5,
             "#f7f7f7"
            ],
            [
             0.6,
             "#e6f5d0"
            ],
            [
             0.7,
             "#b8e186"
            ],
            [
             0.8,
             "#7fbc41"
            ],
            [
             0.9,
             "#4d9221"
            ],
            [
             1,
             "#276419"
            ]
           ],
           "sequential": [
            [
             0,
             "#0d0887"
            ],
            [
             0.1111111111111111,
             "#46039f"
            ],
            [
             0.2222222222222222,
             "#7201a8"
            ],
            [
             0.3333333333333333,
             "#9c179e"
            ],
            [
             0.4444444444444444,
             "#bd3786"
            ],
            [
             0.5555555555555556,
             "#d8576b"
            ],
            [
             0.6666666666666666,
             "#ed7953"
            ],
            [
             0.7777777777777778,
             "#fb9f3a"
            ],
            [
             0.8888888888888888,
             "#fdca26"
            ],
            [
             1,
             "#f0f921"
            ]
           ],
           "sequentialminus": [
            [
             0,
             "#0d0887"
            ],
            [
             0.1111111111111111,
             "#46039f"
            ],
            [
             0.2222222222222222,
             "#7201a8"
            ],
            [
             0.3333333333333333,
             "#9c179e"
            ],
            [
             0.4444444444444444,
             "#bd3786"
            ],
            [
             0.5555555555555556,
             "#d8576b"
            ],
            [
             0.6666666666666666,
             "#ed7953"
            ],
            [
             0.7777777777777778,
             "#fb9f3a"
            ],
            [
             0.8888888888888888,
             "#fdca26"
            ],
            [
             1,
             "#f0f921"
            ]
           ]
          },
          "colorway": [
           "#636efa",
           "#EF553B",
           "#00cc96",
           "#ab63fa",
           "#FFA15A",
           "#19d3f3",
           "#FF6692",
           "#B6E880",
           "#FF97FF",
           "#FECB52"
          ],
          "font": {
           "color": "#2a3f5f"
          },
          "geo": {
           "bgcolor": "white",
           "lakecolor": "white",
           "landcolor": "white",
           "showlakes": true,
           "showland": true,
           "subunitcolor": "#C8D4E3"
          },
          "hoverlabel": {
           "align": "left"
          },
          "hovermode": "closest",
          "mapbox": {
           "style": "light"
          },
          "paper_bgcolor": "white",
          "plot_bgcolor": "white",
          "polar": {
           "angularaxis": {
            "gridcolor": "#EBF0F8",
            "linecolor": "#EBF0F8",
            "ticks": ""
           },
           "bgcolor": "white",
           "radialaxis": {
            "gridcolor": "#EBF0F8",
            "linecolor": "#EBF0F8",
            "ticks": ""
           }
          },
          "scene": {
           "xaxis": {
            "backgroundcolor": "white",
            "gridcolor": "#DFE8F3",
            "gridwidth": 2,
            "linecolor": "#EBF0F8",
            "showbackground": true,
            "ticks": "",
            "zerolinecolor": "#EBF0F8"
           },
           "yaxis": {
            "backgroundcolor": "white",
            "gridcolor": "#DFE8F3",
            "gridwidth": 2,
            "linecolor": "#EBF0F8",
            "showbackground": true,
            "ticks": "",
            "zerolinecolor": "#EBF0F8"
           },
           "zaxis": {
            "backgroundcolor": "white",
            "gridcolor": "#DFE8F3",
            "gridwidth": 2,
            "linecolor": "#EBF0F8",
            "showbackground": true,
            "ticks": "",
            "zerolinecolor": "#EBF0F8"
           }
          },
          "shapedefaults": {
           "line": {
            "color": "#2a3f5f"
           }
          },
          "ternary": {
           "aaxis": {
            "gridcolor": "#DFE8F3",
            "linecolor": "#A2B1C6",
            "ticks": ""
           },
           "baxis": {
            "gridcolor": "#DFE8F3",
            "linecolor": "#A2B1C6",
            "ticks": ""
           },
           "bgcolor": "white",
           "caxis": {
            "gridcolor": "#DFE8F3",
            "linecolor": "#A2B1C6",
            "ticks": ""
           }
          },
          "title": {
           "x": 0.05
          },
          "xaxis": {
           "automargin": true,
           "gridcolor": "#EBF0F8",
           "linecolor": "#EBF0F8",
           "ticks": "",
           "title": {
            "standoff": 15
           },
           "zerolinecolor": "#EBF0F8",
           "zerolinewidth": 2
          },
          "yaxis": {
           "automargin": true,
           "gridcolor": "#EBF0F8",
           "linecolor": "#EBF0F8",
           "ticks": "",
           "title": {
            "standoff": 15
           },
           "zerolinecolor": "#EBF0F8",
           "zerolinewidth": 2
          }
         }
        },
        "title": {
         "text": "Espectro de fluorescencia - FIlly"
        },
        "xaxis": {
         "title": {
          "text": "Longitud de onda (nm)"
         }
        },
        "yaxis": {
         "title": {
          "text": "Intensidad (CPS)"
         }
        }
       }
      }
     },
     "metadata": {},
     "output_type": "display_data"
    },
    {
     "data": {
      "text/html": [
       "<div>\n",
       "<style scoped>\n",
       "    .dataframe tbody tr th:only-of-type {\n",
       "        vertical-align: middle;\n",
       "    }\n",
       "\n",
       "    .dataframe tbody tr th {\n",
       "        vertical-align: top;\n",
       "    }\n",
       "\n",
       "    .dataframe thead th {\n",
       "        text-align: right;\n",
       "    }\n",
       "</style>\n",
       "<table border=\"1\" class=\"dataframe\">\n",
       "  <thead>\n",
       "    <tr style=\"text-align: right;\">\n",
       "      <th></th>\n",
       "      <th>Muestra</th>\n",
       "      <th>Máx. CPS</th>\n",
       "      <th>Mín. CPS</th>\n",
       "      <th>Promedio</th>\n",
       "      <th>Desv. Estándar</th>\n",
       "      <th>AUC</th>\n",
       "      <th>λ máx (nm)</th>\n",
       "      <th>λ mín (nm)</th>\n",
       "      <th>300–400 nm</th>\n",
       "      <th>400–500 nm</th>\n",
       "      <th>500–600 nm</th>\n",
       "      <th>600–700 nm</th>\n",
       "      <th>700–800 nm</th>\n",
       "      <th>800–900 nm</th>\n",
       "    </tr>\n",
       "  </thead>\n",
       "  <tbody>\n",
       "    <tr>\n",
       "      <th>0</th>\n",
       "      <td>FMi</td>\n",
       "      <td>106970</td>\n",
       "      <td>810</td>\n",
       "      <td>39388.836</td>\n",
       "      <td>36883.552</td>\n",
       "      <td>18938145.0</td>\n",
       "      <td>436</td>\n",
       "      <td>843</td>\n",
       "      <td>46778.71</td>\n",
       "      <td>95906.931</td>\n",
       "      <td>58171.98</td>\n",
       "      <td>17096.238</td>\n",
       "      <td>3367.129</td>\n",
       "      <td>1378.431</td>\n",
       "    </tr>\n",
       "  </tbody>\n",
       "</table>\n",
       "</div>"
      ],
      "text/plain": [
       "  Muestra  Máx. CPS  Mín. CPS   Promedio  Desv. Estándar         AUC  \\\n",
       "0     FMi    106970       810  39388.836       36883.552  18938145.0   \n",
       "\n",
       "   λ máx (nm)  λ mín (nm)  300–400 nm  400–500 nm  500–600 nm  600–700 nm  \\\n",
       "0         436         843    46778.71   95906.931    58171.98   17096.238   \n",
       "\n",
       "   700–800 nm  800–900 nm  \n",
       "0    3367.129    1378.431  "
      ]
     },
     "metadata": {},
     "output_type": "display_data"
    },
    {
     "data": {
      "application/vnd.plotly.v1+json": {
       "config": {
        "plotlyServerURL": "https://plot.ly"
       },
       "data": [
        {
         "mode": "lines",
         "name": "FMi",
         "type": "scatter",
         "x": {
          "bdata": "cgFzAXQBdQF2AXcBeAF5AXoBewF8AX0BfgF/AYABgQGCAYMBhAGFAYYBhwGIAYkBigGLAYwBjQGOAY8BkAGRAZIBkwGUAZUBlgGXAZgBmQGaAZsBnAGdAZ4BnwGgAaEBogGjAaQBpQGmAacBqAGpAaoBqwGsAa0BrgGvAbABsQGyAbMBtAG1AbYBtwG4AbkBugG7AbwBvQG+Ab8BwAHBAcIBwwHEAcUBxgHHAcgByQHKAcsBzAHNAc4BzwHQAdEB0gHTAdQB1QHWAdcB2AHZAdoB2wHcAd0B3gHfAeAB4QHiAeMB5AHlAeYB5wHoAekB6gHrAewB7QHuAe8B8AHxAfIB8wH0AfUB9gH3AfgB+QH6AfsB/AH9Af4B/wEAAgECAgIDAgQCBQIGAgcCCAIJAgoCCwIMAg0CDgIPAhACEQISAhMCFAIVAhYCFwIYAhkCGgIbAhwCHQIeAh8CIAIhAiICIwIkAiUCJgInAigCKQIqAisCLAItAi4CLwIwAjECMgIzAjQCNQI2AjcCOAI5AjoCOwI8Aj0CPgI/AkACQQJCAkMCRAJFAkYCRwJIAkkCSgJLAkwCTQJOAk8CUAJRAlICUwJUAlUCVgJXAlgCWQJaAlsCXAJdAl4CXwJgAmECYgJjAmQCZQJmAmcCaAJpAmoCawJsAm0CbgJvAnACcQJyAnMCdAJ1AnYCdwJ4AnkCegJ7AnwCfQJ+An8CgAKBAoICgwKEAoUChgKHAogCiQKKAosCjAKNAo4CjwKQApECkgKTApQClQKWApcCmAKZApoCmwKcAp0CngKfAqACoQKiAqMCpAKlAqYCpwKoAqkCqgKrAqwCrQKuAq8CsAKxArICswK0ArUCtgK3ArgCuQK6ArsCvAK9Ar4CvwLAAsECwgLDAsQCxQLGAscCyALJAsoCywLMAs0CzgLPAtAC0QLSAtMC1ALVAtYC1wLYAtkC2gLbAtwC3QLeAt8C4ALhAuIC4wLkAuUC5gLnAugC6QLqAusC7ALtAu4C7wLwAvEC8gLzAvQC9QL2AvcC+AL5AvoC+wL8Av0C/gL/AgADAQMCAwMDBAMFAwYDBwMIAwkDCgMLAwwDDQMOAw8DEAMRAxIDEwMUAxUDFgMXAxgDGQMaAxsDHAMdAx4DHwMgAyEDIgMjAyQDJQMmAycDKAMpAyoDKwMsAy0DLgMvAzADMQMyAzMDNAM1AzYDNwM4AzkDOgM7AzwDPQM+Az8DQANBA0IDQwNEA0UDRgNHA0gDSQNKA0sDTANNA04DTwNQA1EDUgM=",
          "dtype": "i2"
         },
         "y": {
          "bdata": "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",
          "dtype": "i4"
         }
        }
       ],
       "layout": {
        "template": {
         "data": {
          "bar": [
           {
            "error_x": {
             "color": "#2a3f5f"
            },
            "error_y": {
             "color": "#2a3f5f"
            },
            "marker": {
             "line": {
              "color": "white",
              "width": 0.5
             },
             "pattern": {
              "fillmode": "overlay",
              "size": 10,
              "solidity": 0.2
             }
            },
            "type": "bar"
           }
          ],
          "barpolar": [
           {
            "marker": {
             "line": {
              "color": "white",
              "width": 0.5
             },
             "pattern": {
              "fillmode": "overlay",
              "size": 10,
              "solidity": 0.2
             }
            },
            "type": "barpolar"
           }
          ],
          "carpet": [
           {
            "aaxis": {
             "endlinecolor": "#2a3f5f",
             "gridcolor": "#C8D4E3",
             "linecolor": "#C8D4E3",
             "minorgridcolor": "#C8D4E3",
             "startlinecolor": "#2a3f5f"
            },
            "baxis": {
             "endlinecolor": "#2a3f5f",
             "gridcolor": "#C8D4E3",
             "linecolor": "#C8D4E3",
             "minorgridcolor": "#C8D4E3",
             "startlinecolor": "#2a3f5f"
            },
            "type": "carpet"
           }
          ],
          "choropleth": [
           {
            "colorbar": {
             "outlinewidth": 0,
             "ticks": ""
            },
            "type": "choropleth"
           }
          ],
          "contour": [
           {
            "colorbar": {
             "outlinewidth": 0,
             "ticks": ""
            },
            "colorscale": [
             [
              0,
              "#0d0887"
             ],
             [
              0.1111111111111111,
              "#46039f"
             ],
             [
              0.2222222222222222,
              "#7201a8"
             ],
             [
              0.3333333333333333,
              "#9c179e"
             ],
             [
              0.4444444444444444,
              "#bd3786"
             ],
             [
              0.5555555555555556,
              "#d8576b"
             ],
             [
              0.6666666666666666,
              "#ed7953"
             ],
             [
              0.7777777777777778,
              "#fb9f3a"
             ],
             [
              0.8888888888888888,
              "#fdca26"
             ],
             [
              1,
              "#f0f921"
             ]
            ],
            "type": "contour"
           }
          ],
          "contourcarpet": [
           {
            "colorbar": {
             "outlinewidth": 0,
             "ticks": ""
            },
            "type": "contourcarpet"
           }
          ],
          "heatmap": [
           {
            "colorbar": {
             "outlinewidth": 0,
             "ticks": ""
            },
            "colorscale": [
             [
              0,
              "#0d0887"
             ],
             [
              0.1111111111111111,
              "#46039f"
             ],
             [
              0.2222222222222222,
              "#7201a8"
             ],
             [
              0.3333333333333333,
              "#9c179e"
             ],
             [
              0.4444444444444444,
              "#bd3786"
             ],
             [
              0.5555555555555556,
              "#d8576b"
             ],
             [
              0.6666666666666666,
              "#ed7953"
             ],
             [
              0.7777777777777778,
              "#fb9f3a"
             ],
             [
              0.8888888888888888,
              "#fdca26"
             ],
             [
              1,
              "#f0f921"
             ]
            ],
            "type": "heatmap"
           }
          ],
          "histogram": [
           {
            "marker": {
             "pattern": {
              "fillmode": "overlay",
              "size": 10,
              "solidity": 0.2
             }
            },
            "type": "histogram"
           }
          ],
          "histogram2d": [
           {
            "colorbar": {
             "outlinewidth": 0,
             "ticks": ""
            },
            "colorscale": [
             [
              0,
              "#0d0887"
             ],
             [
              0.1111111111111111,
              "#46039f"
             ],
             [
              0.2222222222222222,
              "#7201a8"
             ],
             [
              0.3333333333333333,
              "#9c179e"
             ],
             [
              0.4444444444444444,
              "#bd3786"
             ],
             [
              0.5555555555555556,
              "#d8576b"
             ],
             [
              0.6666666666666666,
              "#ed7953"
             ],
             [
              0.7777777777777778,
              "#fb9f3a"
             ],
             [
              0.8888888888888888,
              "#fdca26"
             ],
             [
              1,
              "#f0f921"
             ]
            ],
            "type": "histogram2d"
           }
          ],
          "histogram2dcontour": [
           {
            "colorbar": {
             "outlinewidth": 0,
             "ticks": ""
            },
            "colorscale": [
             [
              0,
              "#0d0887"
             ],
             [
              0.1111111111111111,
              "#46039f"
             ],
             [
              0.2222222222222222,
              "#7201a8"
             ],
             [
              0.3333333333333333,
              "#9c179e"
             ],
             [
              0.4444444444444444,
              "#bd3786"
             ],
             [
              0.5555555555555556,
              "#d8576b"
             ],
             [
              0.6666666666666666,
              "#ed7953"
             ],
             [
              0.7777777777777778,
              "#fb9f3a"
             ],
             [
              0.8888888888888888,
              "#fdca26"
             ],
             [
              1,
              "#f0f921"
             ]
            ],
            "type": "histogram2dcontour"
           }
          ],
          "mesh3d": [
           {
            "colorbar": {
             "outlinewidth": 0,
             "ticks": ""
            },
            "type": "mesh3d"
           }
          ],
          "parcoords": [
           {
            "line": {
             "colorbar": {
              "outlinewidth": 0,
              "ticks": ""
             }
            },
            "type": "parcoords"
           }
          ],
          "pie": [
           {
            "automargin": true,
            "type": "pie"
           }
          ],
          "scatter": [
           {
            "fillpattern": {
             "fillmode": "overlay",
             "size": 10,
             "solidity": 0.2
            },
            "type": "scatter"
           }
          ],
          "scatter3d": [
           {
            "line": {
             "colorbar": {
              "outlinewidth": 0,
              "ticks": ""
             }
            },
            "marker": {
             "colorbar": {
              "outlinewidth": 0,
              "ticks": ""
             }
            },
            "type": "scatter3d"
           }
          ],
          "scattercarpet": [
           {
            "marker": {
             "colorbar": {
              "outlinewidth": 0,
              "ticks": ""
             }
            },
            "type": "scattercarpet"
           }
          ],
          "scattergeo": [
           {
            "marker": {
             "colorbar": {
              "outlinewidth": 0,
              "ticks": ""
             }
            },
            "type": "scattergeo"
           }
          ],
          "scattergl": [
           {
            "marker": {
             "colorbar": {
              "outlinewidth": 0,
              "ticks": ""
             }
            },
            "type": "scattergl"
           }
          ],
          "scattermap": [
           {
            "marker": {
             "colorbar": {
              "outlinewidth": 0,
              "ticks": ""
             }
            },
            "type": "scattermap"
           }
          ],
          "scattermapbox": [
           {
            "marker": {
             "colorbar": {
              "outlinewidth": 0,
              "ticks": ""
             }
            },
            "type": "scattermapbox"
           }
          ],
          "scatterpolar": [
           {
            "marker": {
             "colorbar": {
              "outlinewidth": 0,
              "ticks": ""
             }
            },
            "type": "scatterpolar"
           }
          ],
          "scatterpolargl": [
           {
            "marker": {
             "colorbar": {
              "outlinewidth": 0,
              "ticks": ""
             }
            },
            "type": "scatterpolargl"
           }
          ],
          "scatterternary": [
           {
            "marker": {
             "colorbar": {
              "outlinewidth": 0,
              "ticks": ""
             }
            },
            "type": "scatterternary"
           }
          ],
          "surface": [
           {
            "colorbar": {
             "outlinewidth": 0,
             "ticks": ""
            },
            "colorscale": [
             [
              0,
              "#0d0887"
             ],
             [
              0.1111111111111111,
              "#46039f"
             ],
             [
              0.2222222222222222,
              "#7201a8"
             ],
             [
              0.3333333333333333,
              "#9c179e"
             ],
             [
              0.4444444444444444,
              "#bd3786"
             ],
             [
              0.5555555555555556,
              "#d8576b"
             ],
             [
              0.6666666666666666,
              "#ed7953"
             ],
             [
              0.7777777777777778,
              "#fb9f3a"
             ],
             [
              0.8888888888888888,
              "#fdca26"
             ],
             [
              1,
              "#f0f921"
             ]
            ],
            "type": "surface"
           }
          ],
          "table": [
           {
            "cells": {
             "fill": {
              "color": "#EBF0F8"
             },
             "line": {
              "color": "white"
             }
            },
            "header": {
             "fill": {
              "color": "#C8D4E3"
             },
             "line": {
              "color": "white"
             }
            },
            "type": "table"
           }
          ]
         },
         "layout": {
          "annotationdefaults": {
           "arrowcolor": "#2a3f5f",
           "arrowhead": 0,
           "arrowwidth": 1
          },
          "autotypenumbers": "strict",
          "coloraxis": {
           "colorbar": {
            "outlinewidth": 0,
            "ticks": ""
           }
          },
          "colorscale": {
           "diverging": [
            [
             0,
             "#8e0152"
            ],
            [
             0.1,
             "#c51b7d"
            ],
            [
             0.2,
             "#de77ae"
            ],
            [
             0.3,
             "#f1b6da"
            ],
            [
             0.4,
             "#fde0ef"
            ],
            [
             0.5,
             "#f7f7f7"
            ],
            [
             0.6,
             "#e6f5d0"
            ],
            [
             0.7,
             "#b8e186"
            ],
            [
             0.8,
             "#7fbc41"
            ],
            [
             0.9,
             "#4d9221"
            ],
            [
             1,
             "#276419"
            ]
           ],
           "sequential": [
            [
             0,
             "#0d0887"
            ],
            [
             0.1111111111111111,
             "#46039f"
            ],
            [
             0.2222222222222222,
             "#7201a8"
            ],
            [
             0.3333333333333333,
             "#9c179e"
            ],
            [
             0.4444444444444444,
             "#bd3786"
            ],
            [
             0.5555555555555556,
             "#d8576b"
            ],
            [
             0.6666666666666666,
             "#ed7953"
            ],
            [
             0.7777777777777778,
             "#fb9f3a"
            ],
            [
             0.8888888888888888,
             "#fdca26"
            ],
            [
             1,
             "#f0f921"
            ]
           ],
           "sequentialminus": [
            [
             0,
             "#0d0887"
            ],
            [
             0.1111111111111111,
             "#46039f"
            ],
            [
             0.2222222222222222,
             "#7201a8"
            ],
            [
             0.3333333333333333,
             "#9c179e"
            ],
            [
             0.4444444444444444,
             "#bd3786"
            ],
            [
             0.5555555555555556,
             "#d8576b"
            ],
            [
             0.6666666666666666,
             "#ed7953"
            ],
            [
             0.7777777777777778,
             "#fb9f3a"
            ],
            [
             0.8888888888888888,
             "#fdca26"
            ],
            [
             1,
             "#f0f921"
            ]
           ]
          },
          "colorway": [
           "#636efa",
           "#EF553B",
           "#00cc96",
           "#ab63fa",
           "#FFA15A",
           "#19d3f3",
           "#FF6692",
           "#B6E880",
           "#FF97FF",
           "#FECB52"
          ],
          "font": {
           "color": "#2a3f5f"
          },
          "geo": {
           "bgcolor": "white",
           "lakecolor": "white",
           "landcolor": "white",
           "showlakes": true,
           "showland": true,
           "subunitcolor": "#C8D4E3"
          },
          "hoverlabel": {
           "align": "left"
          },
          "hovermode": "closest",
          "mapbox": {
           "style": "light"
          },
          "paper_bgcolor": "white",
          "plot_bgcolor": "white",
          "polar": {
           "angularaxis": {
            "gridcolor": "#EBF0F8",
            "linecolor": "#EBF0F8",
            "ticks": ""
           },
           "bgcolor": "white",
           "radialaxis": {
            "gridcolor": "#EBF0F8",
            "linecolor": "#EBF0F8",
            "ticks": ""
           }
          },
          "scene": {
           "xaxis": {
            "backgroundcolor": "white",
            "gridcolor": "#DFE8F3",
            "gridwidth": 2,
            "linecolor": "#EBF0F8",
            "showbackground": true,
            "ticks": "",
            "zerolinecolor": "#EBF0F8"
           },
           "yaxis": {
            "backgroundcolor": "white",
            "gridcolor": "#DFE8F3",
            "gridwidth": 2,
            "linecolor": "#EBF0F8",
            "showbackground": true,
            "ticks": "",
            "zerolinecolor": "#EBF0F8"
           },
           "zaxis": {
            "backgroundcolor": "white",
            "gridcolor": "#DFE8F3",
            "gridwidth": 2,
            "linecolor": "#EBF0F8",
            "showbackground": true,
            "ticks": "",
            "zerolinecolor": "#EBF0F8"
           }
          },
          "shapedefaults": {
           "line": {
            "color": "#2a3f5f"
           }
          },
          "ternary": {
           "aaxis": {
            "gridcolor": "#DFE8F3",
            "linecolor": "#A2B1C6",
            "ticks": ""
           },
           "baxis": {
            "gridcolor": "#DFE8F3",
            "linecolor": "#A2B1C6",
            "ticks": ""
           },
           "bgcolor": "white",
           "caxis": {
            "gridcolor": "#DFE8F3",
            "linecolor": "#A2B1C6",
            "ticks": ""
           }
          },
          "title": {
           "x": 0.05
          },
          "xaxis": {
           "automargin": true,
           "gridcolor": "#EBF0F8",
           "linecolor": "#EBF0F8",
           "ticks": "",
           "title": {
            "standoff": 15
           },
           "zerolinecolor": "#EBF0F8",
           "zerolinewidth": 2
          },
          "yaxis": {
           "automargin": true,
           "gridcolor": "#EBF0F8",
           "linecolor": "#EBF0F8",
           "ticks": "",
           "title": {
            "standoff": 15
           },
           "zerolinecolor": "#EBF0F8",
           "zerolinewidth": 2
          }
         }
        },
        "title": {
         "text": "Espectro de fluorescencia - FMi"
        },
        "xaxis": {
         "title": {
          "text": "Longitud de onda (nm)"
         }
        },
        "yaxis": {
         "title": {
          "text": "Intensidad (CPS)"
         }
        }
       }
      }
     },
     "metadata": {},
     "output_type": "display_data"
    },
    {
     "data": {
      "text/html": [
       "<div>\n",
       "<style scoped>\n",
       "    .dataframe tbody tr th:only-of-type {\n",
       "        vertical-align: middle;\n",
       "    }\n",
       "\n",
       "    .dataframe tbody tr th {\n",
       "        vertical-align: top;\n",
       "    }\n",
       "\n",
       "    .dataframe thead th {\n",
       "        text-align: right;\n",
       "    }\n",
       "</style>\n",
       "<table border=\"1\" class=\"dataframe\">\n",
       "  <thead>\n",
       "    <tr style=\"text-align: right;\">\n",
       "      <th></th>\n",
       "      <th>Muestra</th>\n",
       "      <th>Máx. CPS</th>\n",
       "      <th>Mín. CPS</th>\n",
       "      <th>Promedio</th>\n",
       "      <th>Desv. Estándar</th>\n",
       "      <th>AUC</th>\n",
       "      <th>λ máx (nm)</th>\n",
       "      <th>λ mín (nm)</th>\n",
       "      <th>300–400 nm</th>\n",
       "      <th>400–500 nm</th>\n",
       "      <th>500–600 nm</th>\n",
       "      <th>600–700 nm</th>\n",
       "      <th>700–800 nm</th>\n",
       "      <th>800–900 nm</th>\n",
       "    </tr>\n",
       "  </thead>\n",
       "  <tbody>\n",
       "    <tr>\n",
       "      <th>0</th>\n",
       "      <td>FMucilago</td>\n",
       "      <td>53260</td>\n",
       "      <td>320</td>\n",
       "      <td>22513.015</td>\n",
       "      <td>17913.677</td>\n",
       "      <td>10825385.0</td>\n",
       "      <td>531</td>\n",
       "      <td>846</td>\n",
       "      <td>13170.0</td>\n",
       "      <td>33661.386</td>\n",
       "      <td>47251.683</td>\n",
       "      <td>19532.376</td>\n",
       "      <td>3454.752</td>\n",
       "      <td>793.922</td>\n",
       "    </tr>\n",
       "  </tbody>\n",
       "</table>\n",
       "</div>"
      ],
      "text/plain": [
       "     Muestra  Máx. CPS  Mín. CPS   Promedio  Desv. Estándar         AUC  \\\n",
       "0  FMucilago     53260       320  22513.015       17913.677  10825385.0   \n",
       "\n",
       "   λ máx (nm)  λ mín (nm)  300–400 nm  400–500 nm  500–600 nm  600–700 nm  \\\n",
       "0         531         846     13170.0   33661.386   47251.683   19532.376   \n",
       "\n",
       "   700–800 nm  800–900 nm  \n",
       "0    3454.752     793.922  "
      ]
     },
     "metadata": {},
     "output_type": "display_data"
    },
    {
     "data": {
      "application/vnd.plotly.v1+json": {
       "config": {
        "plotlyServerURL": "https://plot.ly"
       },
       "data": [
        {
         "mode": "lines",
         "name": "FMucilago",
         "type": "scatter",
         "x": {
          "bdata": "cgFzAXQBdQF2AXcBeAF5AXoBewF8AX0BfgF/AYABgQGCAYMBhAGFAYYBhwGIAYkBigGLAYwBjQGOAY8BkAGRAZIBkwGUAZUBlgGXAZgBmQGaAZsBnAGdAZ4BnwGgAaEBogGjAaQBpQGmAacBqAGpAaoBqwGsAa0BrgGvAbABsQGyAbMBtAG1AbYBtwG4AbkBugG7AbwBvQG+Ab8BwAHBAcIBwwHEAcUBxgHHAcgByQHKAcsBzAHNAc4BzwHQAdEB0gHTAdQB1QHWAdcB2AHZAdoB2wHcAd0B3gHfAeAB4QHiAeMB5AHlAeYB5wHoAekB6gHrAewB7QHuAe8B8AHxAfIB8wH0AfUB9gH3AfgB+QH6AfsB/AH9Af4B/wEAAgECAgIDAgQCBQIGAgcCCAIJAgoCCwIMAg0CDgIPAhACEQISAhMCFAIVAhYCFwIYAhkCGgIbAhwCHQIeAh8CIAIhAiICIwIkAiUCJgInAigCKQIqAisCLAItAi4CLwIwAjECMgIzAjQCNQI2AjcCOAI5AjoCOwI8Aj0CPgI/AkACQQJCAkMCRAJFAkYCRwJIAkkCSgJLAkwCTQJOAk8CUAJRAlICUwJUAlUCVgJXAlgCWQJaAlsCXAJdAl4CXwJgAmECYgJjAmQCZQJmAmcCaAJpAmoCawJsAm0CbgJvAnACcQJyAnMCdAJ1AnYCdwJ4AnkCegJ7AnwCfQJ+An8CgAKBAoICgwKEAoUChgKHAogCiQKKAosCjAKNAo4CjwKQApECkgKTApQClQKWApcCmAKZApoCmwKcAp0CngKfAqACoQKiAqMCpAKlAqYCpwKoAqkCqgKrAqwCrQKuAq8CsAKxArICswK0ArUCtgK3ArgCuQK6ArsCvAK9Ar4CvwLAAsECwgLDAsQCxQLGAscCyALJAsoCywLMAs0CzgLPAtAC0QLSAtMC1ALVAtYC1wLYAtkC2gLbAtwC3QLeAt8C4ALhAuIC4wLkAuUC5gLnAugC6QLqAusC7ALtAu4C7wLwAvEC8gLzAvQC9QL2AvcC+AL5AvoC+wL8Av0C/gL/AgADAQMCAwMDBAMFAwYDBwMIAwkDCgMLAwwDDQMOAw8DEAMRAxIDEwMUAxUDFgMXAxgDGQMaAxsDHAMdAx4DHwMgAyEDIgMjAyQDJQMmAycDKAMpAyoDKwMsAy0DLgMvAzADMQMyAzMDNAM1AzYDNwM4AzkDOgM7AzwDPQM+Az8DQANBA0IDQwNEA0UDRgNHA0gDSQNKA0sDTANNA04DTwNQA1EDUgM=",
          "dtype": "i2"
         },
         "y": {
          "bdata": "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",
          "dtype": "i4"
         }
        }
       ],
       "layout": {
        "template": {
         "data": {
          "bar": [
           {
            "error_x": {
             "color": "#2a3f5f"
            },
            "error_y": {
             "color": "#2a3f5f"
            },
            "marker": {
             "line": {
              "color": "white",
              "width": 0.5
             },
             "pattern": {
              "fillmode": "overlay",
              "size": 10,
              "solidity": 0.2
             }
            },
            "type": "bar"
           }
          ],
          "barpolar": [
           {
            "marker": {
             "line": {
              "color": "white",
              "width": 0.5
             },
             "pattern": {
              "fillmode": "overlay",
              "size": 10,
              "solidity": 0.2
             }
            },
            "type": "barpolar"
           }
          ],
          "carpet": [
           {
            "aaxis": {
             "endlinecolor": "#2a3f5f",
             "gridcolor": "#C8D4E3",
             "linecolor": "#C8D4E3",
             "minorgridcolor": "#C8D4E3",
             "startlinecolor": "#2a3f5f"
            },
            "baxis": {
             "endlinecolor": "#2a3f5f",
             "gridcolor": "#C8D4E3",
             "linecolor": "#C8D4E3",
             "minorgridcolor": "#C8D4E3",
             "startlinecolor": "#2a3f5f"
            },
            "type": "carpet"
           }
          ],
          "choropleth": [
           {
            "colorbar": {
             "outlinewidth": 0,
             "ticks": ""
            },
            "type": "choropleth"
           }
          ],
          "contour": [
           {
            "colorbar": {
             "outlinewidth": 0,
             "ticks": ""
            },
            "colorscale": [
             [
              0,
              "#0d0887"
             ],
             [
              0.1111111111111111,
              "#46039f"
             ],
             [
              0.2222222222222222,
              "#7201a8"
             ],
             [
              0.3333333333333333,
              "#9c179e"
             ],
             [
              0.4444444444444444,
              "#bd3786"
             ],
             [
              0.5555555555555556,
              "#d8576b"
             ],
             [
              0.6666666666666666,
              "#ed7953"
             ],
             [
              0.7777777777777778,
              "#fb9f3a"
             ],
             [
              0.8888888888888888,
              "#fdca26"
             ],
             [
              1,
              "#f0f921"
             ]
            ],
            "type": "contour"
           }
          ],
          "contourcarpet": [
           {
            "colorbar": {
             "outlinewidth": 0,
             "ticks": ""
            },
            "type": "contourcarpet"
           }
          ],
          "heatmap": [
           {
            "colorbar": {
             "outlinewidth": 0,
             "ticks": ""
            },
            "colorscale": [
             [
              0,
              "#0d0887"
             ],
             [
              0.1111111111111111,
              "#46039f"
             ],
             [
              0.2222222222222222,
              "#7201a8"
             ],
             [
              0.3333333333333333,
              "#9c179e"
             ],
             [
              0.4444444444444444,
              "#bd3786"
             ],
             [
              0.5555555555555556,
              "#d8576b"
             ],
             [
              0.6666666666666666,
              "#ed7953"
             ],
             [
              0.7777777777777778,
              "#fb9f3a"
             ],
             [
              0.8888888888888888,
              "#fdca26"
             ],
             [
              1,
              "#f0f921"
             ]
            ],
            "type": "heatmap"
           }
          ],
          "histogram": [
           {
            "marker": {
             "pattern": {
              "fillmode": "overlay",
              "size": 10,
              "solidity": 0.2
             }
            },
            "type": "histogram"
           }
          ],
          "histogram2d": [
           {
            "colorbar": {
             "outlinewidth": 0,
             "ticks": ""
            },
            "colorscale": [
             [
              0,
              "#0d0887"
             ],
             [
              0.1111111111111111,
              "#46039f"
             ],
             [
              0.2222222222222222,
              "#7201a8"
             ],
             [
              0.3333333333333333,
              "#9c179e"
             ],
             [
              0.4444444444444444,
              "#bd3786"
             ],
             [
              0.5555555555555556,
              "#d8576b"
             ],
             [
              0.6666666666666666,
              "#ed7953"
             ],
             [
              0.7777777777777778,
              "#fb9f3a"
             ],
             [
              0.8888888888888888,
              "#fdca26"
             ],
             [
              1,
              "#f0f921"
             ]
            ],
            "type": "histogram2d"
           }
          ],
          "histogram2dcontour": [
           {
            "colorbar": {
             "outlinewidth": 0,
             "ticks": ""
            },
            "colorscale": [
             [
              0,
              "#0d0887"
             ],
             [
              0.1111111111111111,
              "#46039f"
             ],
             [
              0.2222222222222222,
              "#7201a8"
             ],
             [
              0.3333333333333333,
              "#9c179e"
             ],
             [
              0.4444444444444444,
              "#bd3786"
             ],
             [
              0.5555555555555556,
              "#d8576b"
             ],
             [
              0.6666666666666666,
              "#ed7953"
             ],
             [
              0.7777777777777778,
              "#fb9f3a"
             ],
             [
              0.8888888888888888,
              "#fdca26"
             ],
             [
              1,
              "#f0f921"
             ]
            ],
            "type": "histogram2dcontour"
           }
          ],
          "mesh3d": [
           {
            "colorbar": {
             "outlinewidth": 0,
             "ticks": ""
            },
            "type": "mesh3d"
           }
          ],
          "parcoords": [
           {
            "line": {
             "colorbar": {
              "outlinewidth": 0,
              "ticks": ""
             }
            },
            "type": "parcoords"
           }
          ],
          "pie": [
           {
            "automargin": true,
            "type": "pie"
           }
          ],
          "scatter": [
           {
            "fillpattern": {
             "fillmode": "overlay",
             "size": 10,
             "solidity": 0.2
            },
            "type": "scatter"
           }
          ],
          "scatter3d": [
           {
            "line": {
             "colorbar": {
              "outlinewidth": 0,
              "ticks": ""
             }
            },
            "marker": {
             "colorbar": {
              "outlinewidth": 0,
              "ticks": ""
             }
            },
            "type": "scatter3d"
           }
          ],
          "scattercarpet": [
           {
            "marker": {
             "colorbar": {
              "outlinewidth": 0,
              "ticks": ""
             }
            },
            "type": "scattercarpet"
           }
          ],
          "scattergeo": [
           {
            "marker": {
             "colorbar": {
              "outlinewidth": 0,
              "ticks": ""
             }
            },
            "type": "scattergeo"
           }
          ],
          "scattergl": [
           {
            "marker": {
             "colorbar": {
              "outlinewidth": 0,
              "ticks": ""
             }
            },
            "type": "scattergl"
           }
          ],
          "scattermap": [
           {
            "marker": {
             "colorbar": {
              "outlinewidth": 0,
              "ticks": ""
             }
            },
            "type": "scattermap"
           }
          ],
          "scattermapbox": [
           {
            "marker": {
             "colorbar": {
              "outlinewidth": 0,
              "ticks": ""
             }
            },
            "type": "scattermapbox"
           }
          ],
          "scatterpolar": [
           {
            "marker": {
             "colorbar": {
              "outlinewidth": 0,
              "ticks": ""
             }
            },
            "type": "scatterpolar"
           }
          ],
          "scatterpolargl": [
           {
            "marker": {
             "colorbar": {
              "outlinewidth": 0,
              "ticks": ""
             }
            },
            "type": "scatterpolargl"
           }
          ],
          "scatterternary": [
           {
            "marker": {
             "colorbar": {
              "outlinewidth": 0,
              "ticks": ""
             }
            },
            "type": "scatterternary"
           }
          ],
          "surface": [
           {
            "colorbar": {
             "outlinewidth": 0,
             "ticks": ""
            },
            "colorscale": [
             [
              0,
              "#0d0887"
             ],
             [
              0.1111111111111111,
              "#46039f"
             ],
             [
              0.2222222222222222,
              "#7201a8"
             ],
             [
              0.3333333333333333,
              "#9c179e"
             ],
             [
              0.4444444444444444,
              "#bd3786"
             ],
             [
              0.5555555555555556,
              "#d8576b"
             ],
             [
              0.6666666666666666,
              "#ed7953"
             ],
             [
              0.7777777777777778,
              "#fb9f3a"
             ],
             [
              0.8888888888888888,
              "#fdca26"
             ],
             [
              1,
              "#f0f921"
             ]
            ],
            "type": "surface"
           }
          ],
          "table": [
           {
            "cells": {
             "fill": {
              "color": "#EBF0F8"
             },
             "line": {
              "color": "white"
             }
            },
            "header": {
             "fill": {
              "color": "#C8D4E3"
             },
             "line": {
              "color": "white"
             }
            },
            "type": "table"
           }
          ]
         },
         "layout": {
          "annotationdefaults": {
           "arrowcolor": "#2a3f5f",
           "arrowhead": 0,
           "arrowwidth": 1
          },
          "autotypenumbers": "strict",
          "coloraxis": {
           "colorbar": {
            "outlinewidth": 0,
            "ticks": ""
           }
          },
          "colorscale": {
           "diverging": [
            [
             0,
             "#8e0152"
            ],
            [
             0.1,
             "#c51b7d"
            ],
            [
             0.2,
             "#de77ae"
            ],
            [
             0.3,
             "#f1b6da"
            ],
            [
             0.4,
             "#fde0ef"
            ],
            [
             0.5,
             "#f7f7f7"
            ],
            [
             0.6,
             "#e6f5d0"
            ],
            [
             0.7,
             "#b8e186"
            ],
            [
             0.8,
             "#7fbc41"
            ],
            [
             0.9,
             "#4d9221"
            ],
            [
             1,
             "#276419"
            ]
           ],
           "sequential": [
            [
             0,
             "#0d0887"
            ],
            [
             0.1111111111111111,
             "#46039f"
            ],
            [
             0.2222222222222222,
             "#7201a8"
            ],
            [
             0.3333333333333333,
             "#9c179e"
            ],
            [
             0.4444444444444444,
             "#bd3786"
            ],
            [
             0.5555555555555556,
             "#d8576b"
            ],
            [
             0.6666666666666666,
             "#ed7953"
            ],
            [
             0.7777777777777778,
             "#fb9f3a"
            ],
            [
             0.8888888888888888,
             "#fdca26"
            ],
            [
             1,
             "#f0f921"
            ]
           ],
           "sequentialminus": [
            [
             0,
             "#0d0887"
            ],
            [
             0.1111111111111111,
             "#46039f"
            ],
            [
             0.2222222222222222,
             "#7201a8"
            ],
            [
             0.3333333333333333,
             "#9c179e"
            ],
            [
             0.4444444444444444,
             "#bd3786"
            ],
            [
             0.5555555555555556,
             "#d8576b"
            ],
            [
             0.6666666666666666,
             "#ed7953"
            ],
            [
             0.7777777777777778,
             "#fb9f3a"
            ],
            [
             0.8888888888888888,
             "#fdca26"
            ],
            [
             1,
             "#f0f921"
            ]
           ]
          },
          "colorway": [
           "#636efa",
           "#EF553B",
           "#00cc96",
           "#ab63fa",
           "#FFA15A",
           "#19d3f3",
           "#FF6692",
           "#B6E880",
           "#FF97FF",
           "#FECB52"
          ],
          "font": {
           "color": "#2a3f5f"
          },
          "geo": {
           "bgcolor": "white",
           "lakecolor": "white",
           "landcolor": "white",
           "showlakes": true,
           "showland": true,
           "subunitcolor": "#C8D4E3"
          },
          "hoverlabel": {
           "align": "left"
          },
          "hovermode": "closest",
          "mapbox": {
           "style": "light"
          },
          "paper_bgcolor": "white",
          "plot_bgcolor": "white",
          "polar": {
           "angularaxis": {
            "gridcolor": "#EBF0F8",
            "linecolor": "#EBF0F8",
            "ticks": ""
           },
           "bgcolor": "white",
           "radialaxis": {
            "gridcolor": "#EBF0F8",
            "linecolor": "#EBF0F8",
            "ticks": ""
           }
          },
          "scene": {
           "xaxis": {
            "backgroundcolor": "white",
            "gridcolor": "#DFE8F3",
            "gridwidth": 2,
            "linecolor": "#EBF0F8",
            "showbackground": true,
            "ticks": "",
            "zerolinecolor": "#EBF0F8"
           },
           "yaxis": {
            "backgroundcolor": "white",
            "gridcolor": "#DFE8F3",
            "gridwidth": 2,
            "linecolor": "#EBF0F8",
            "showbackground": true,
            "ticks": "",
            "zerolinecolor": "#EBF0F8"
           },
           "zaxis": {
            "backgroundcolor": "white",
            "gridcolor": "#DFE8F3",
            "gridwidth": 2,
            "linecolor": "#EBF0F8",
            "showbackground": true,
            "ticks": "",
            "zerolinecolor": "#EBF0F8"
           }
          },
          "shapedefaults": {
           "line": {
            "color": "#2a3f5f"
           }
          },
          "ternary": {
           "aaxis": {
            "gridcolor": "#DFE8F3",
            "linecolor": "#A2B1C6",
            "ticks": ""
           },
           "baxis": {
            "gridcolor": "#DFE8F3",
            "linecolor": "#A2B1C6",
            "ticks": ""
           },
           "bgcolor": "white",
           "caxis": {
            "gridcolor": "#DFE8F3",
            "linecolor": "#A2B1C6",
            "ticks": ""
           }
          },
          "title": {
           "x": 0.05
          },
          "xaxis": {
           "automargin": true,
           "gridcolor": "#EBF0F8",
           "linecolor": "#EBF0F8",
           "ticks": "",
           "title": {
            "standoff": 15
           },
           "zerolinecolor": "#EBF0F8",
           "zerolinewidth": 2
          },
          "yaxis": {
           "automargin": true,
           "gridcolor": "#EBF0F8",
           "linecolor": "#EBF0F8",
           "ticks": "",
           "title": {
            "standoff": 15
           },
           "zerolinecolor": "#EBF0F8",
           "zerolinewidth": 2
          }
         }
        },
        "title": {
         "text": "Espectro de fluorescencia - FMucilago"
        },
        "xaxis": {
         "title": {
          "text": "Longitud de onda (nm)"
         }
        },
        "yaxis": {
         "title": {
          "text": "Intensidad (CPS)"
         }
        }
       }
      }
     },
     "metadata": {},
     "output_type": "display_data"
    },
    {
     "data": {
      "text/html": [
       "<div>\n",
       "<style scoped>\n",
       "    .dataframe tbody tr th:only-of-type {\n",
       "        vertical-align: middle;\n",
       "    }\n",
       "\n",
       "    .dataframe tbody tr th {\n",
       "        vertical-align: top;\n",
       "    }\n",
       "\n",
       "    .dataframe thead th {\n",
       "        text-align: right;\n",
       "    }\n",
       "</style>\n",
       "<table border=\"1\" class=\"dataframe\">\n",
       "  <thead>\n",
       "    <tr style=\"text-align: right;\">\n",
       "      <th></th>\n",
       "      <th>Muestra</th>\n",
       "      <th>Máx. CPS</th>\n",
       "      <th>Mín. CPS</th>\n",
       "      <th>Promedio</th>\n",
       "      <th>Desv. Estándar</th>\n",
       "      <th>AUC</th>\n",
       "      <th>λ máx (nm)</th>\n",
       "      <th>λ mín (nm)</th>\n",
       "      <th>300–400 nm</th>\n",
       "      <th>400–500 nm</th>\n",
       "      <th>500–600 nm</th>\n",
       "      <th>600–700 nm</th>\n",
       "      <th>700–800 nm</th>\n",
       "      <th>800–900 nm</th>\n",
       "    </tr>\n",
       "  </thead>\n",
       "  <tbody>\n",
       "    <tr>\n",
       "      <th>0</th>\n",
       "      <td>FOx</td>\n",
       "      <td>184890</td>\n",
       "      <td>1130</td>\n",
       "      <td>76174.387</td>\n",
       "      <td>67019.906</td>\n",
       "      <td>36625515.0</td>\n",
       "      <td>442</td>\n",
       "      <td>845</td>\n",
       "      <td>80822.581</td>\n",
       "      <td>170032.475</td>\n",
       "      <td>124838.911</td>\n",
       "      <td>39532.772</td>\n",
       "      <td>6391.584</td>\n",
       "      <td>2106.863</td>\n",
       "    </tr>\n",
       "  </tbody>\n",
       "</table>\n",
       "</div>"
      ],
      "text/plain": [
       "  Muestra  Máx. CPS  Mín. CPS   Promedio  Desv. Estándar         AUC  \\\n",
       "0     FOx    184890      1130  76174.387       67019.906  36625515.0   \n",
       "\n",
       "   λ máx (nm)  λ mín (nm)  300–400 nm  400–500 nm  500–600 nm  600–700 nm  \\\n",
       "0         442         845   80822.581  170032.475  124838.911   39532.772   \n",
       "\n",
       "   700–800 nm  800–900 nm  \n",
       "0    6391.584    2106.863  "
      ]
     },
     "metadata": {},
     "output_type": "display_data"
    },
    {
     "data": {
      "application/vnd.plotly.v1+json": {
       "config": {
        "plotlyServerURL": "https://plot.ly"
       },
       "data": [
        {
         "mode": "lines",
         "name": "FOx",
         "type": "scatter",
         "x": {
          "bdata": "cgFzAXQBdQF2AXcBeAF5AXoBewF8AX0BfgF/AYABgQGCAYMBhAGFAYYBhwGIAYkBigGLAYwBjQGOAY8BkAGRAZIBkwGUAZUBlgGXAZgBmQGaAZsBnAGdAZ4BnwGgAaEBogGjAaQBpQGmAacBqAGpAaoBqwGsAa0BrgGvAbABsQGyAbMBtAG1AbYBtwG4AbkBugG7AbwBvQG+Ab8BwAHBAcIBwwHEAcUBxgHHAcgByQHKAcsBzAHNAc4BzwHQAdEB0gHTAdQB1QHWAdcB2AHZAdoB2wHcAd0B3gHfAeAB4QHiAeMB5AHlAeYB5wHoAekB6gHrAewB7QHuAe8B8AHxAfIB8wH0AfUB9gH3AfgB+QH6AfsB/AH9Af4B/wEAAgECAgIDAgQCBQIGAgcCCAIJAgoCCwIMAg0CDgIPAhACEQISAhMCFAIVAhYCFwIYAhkCGgIbAhwCHQIeAh8CIAIhAiICIwIkAiUCJgInAigCKQIqAisCLAItAi4CLwIwAjECMgIzAjQCNQI2AjcCOAI5AjoCOwI8Aj0CPgI/AkACQQJCAkMCRAJFAkYCRwJIAkkCSgJLAkwCTQJOAk8CUAJRAlICUwJUAlUCVgJXAlgCWQJaAlsCXAJdAl4CXwJgAmECYgJjAmQCZQJmAmcCaAJpAmoCawJsAm0CbgJvAnACcQJyAnMCdAJ1AnYCdwJ4AnkCegJ7AnwCfQJ+An8CgAKBAoICgwKEAoUChgKHAogCiQKKAosCjAKNAo4CjwKQApECkgKTApQClQKWApcCmAKZApoCmwKcAp0CngKfAqACoQKiAqMCpAKlAqYCpwKoAqkCqgKrAqwCrQKuAq8CsAKxArICswK0ArUCtgK3ArgCuQK6ArsCvAK9Ar4CvwLAAsECwgLDAsQCxQLGAscCyALJAsoCywLMAs0CzgLPAtAC0QLSAtMC1ALVAtYC1wLYAtkC2gLbAtwC3QLeAt8C4ALhAuIC4wLkAuUC5gLnAugC6QLqAusC7ALtAu4C7wLwAvEC8gLzAvQC9QL2AvcC+AL5AvoC+wL8Av0C/gL/AgADAQMCAwMDBAMFAwYDBwMIAwkDCgMLAwwDDQMOAw8DEAMRAxIDEwMUAxUDFgMXAxgDGQMaAxsDHAMdAx4DHwMgAyEDIgMjAyQDJQMmAycDKAMpAyoDKwMsAy0DLgMvAzADMQMyAzMDNAM1AzYDNwM4AzkDOgM7AzwDPQM+Az8DQANBA0IDQwNEA0UDRgNHA0gDSQNKA0sDTANNA04DTwNQA1EDUgM=",
          "dtype": "i2"
         },
         "y": {
          "bdata": "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",
          "dtype": "i4"
         }
        }
       ],
       "layout": {
        "template": {
         "data": {
          "bar": [
           {
            "error_x": {
             "color": "#2a3f5f"
            },
            "error_y": {
             "color": "#2a3f5f"
            },
            "marker": {
             "line": {
              "color": "white",
              "width": 0.5
             },
             "pattern": {
              "fillmode": "overlay",
              "size": 10,
              "solidity": 0.2
             }
            },
            "type": "bar"
           }
          ],
          "barpolar": [
           {
            "marker": {
             "line": {
              "color": "white",
              "width": 0.5
             },
             "pattern": {
              "fillmode": "overlay",
              "size": 10,
              "solidity": 0.2
             }
            },
            "type": "barpolar"
           }
          ],
          "carpet": [
           {
            "aaxis": {
             "endlinecolor": "#2a3f5f",
             "gridcolor": "#C8D4E3",
             "linecolor": "#C8D4E3",
             "minorgridcolor": "#C8D4E3",
             "startlinecolor": "#2a3f5f"
            },
            "baxis": {
             "endlinecolor": "#2a3f5f",
             "gridcolor": "#C8D4E3",
             "linecolor": "#C8D4E3",
             "minorgridcolor": "#C8D4E3",
             "startlinecolor": "#2a3f5f"
            },
            "type": "carpet"
           }
          ],
          "choropleth": [
           {
            "colorbar": {
             "outlinewidth": 0,
             "ticks": ""
            },
            "type": "choropleth"
           }
          ],
          "contour": [
           {
            "colorbar": {
             "outlinewidth": 0,
             "ticks": ""
            },
            "colorscale": [
             [
              0,
              "#0d0887"
             ],
             [
              0.1111111111111111,
              "#46039f"
             ],
             [
              0.2222222222222222,
              "#7201a8"
             ],
             [
              0.3333333333333333,
              "#9c179e"
             ],
             [
              0.4444444444444444,
              "#bd3786"
             ],
             [
              0.5555555555555556,
              "#d8576b"
             ],
             [
              0.6666666666666666,
              "#ed7953"
             ],
             [
              0.7777777777777778,
              "#fb9f3a"
             ],
             [
              0.8888888888888888,
              "#fdca26"
             ],
             [
              1,
              "#f0f921"
             ]
            ],
            "type": "contour"
           }
          ],
          "contourcarpet": [
           {
            "colorbar": {
             "outlinewidth": 0,
             "ticks": ""
            },
            "type": "contourcarpet"
           }
          ],
          "heatmap": [
           {
            "colorbar": {
             "outlinewidth": 0,
             "ticks": ""
            },
            "colorscale": [
             [
              0,
              "#0d0887"
             ],
             [
              0.1111111111111111,
              "#46039f"
             ],
             [
              0.2222222222222222,
              "#7201a8"
             ],
             [
              0.3333333333333333,
              "#9c179e"
             ],
             [
              0.4444444444444444,
              "#bd3786"
             ],
             [
              0.5555555555555556,
              "#d8576b"
             ],
             [
              0.6666666666666666,
              "#ed7953"
             ],
             [
              0.7777777777777778,
              "#fb9f3a"
             ],
             [
              0.8888888888888888,
              "#fdca26"
             ],
             [
              1,
              "#f0f921"
             ]
            ],
            "type": "heatmap"
           }
          ],
          "histogram": [
           {
            "marker": {
             "pattern": {
              "fillmode": "overlay",
              "size": 10,
              "solidity": 0.2
             }
            },
            "type": "histogram"
           }
          ],
          "histogram2d": [
           {
            "colorbar": {
             "outlinewidth": 0,
             "ticks": ""
            },
            "colorscale": [
             [
              0,
              "#0d0887"
             ],
             [
              0.1111111111111111,
              "#46039f"
             ],
             [
              0.2222222222222222,
              "#7201a8"
             ],
             [
              0.3333333333333333,
              "#9c179e"
             ],
             [
              0.4444444444444444,
              "#bd3786"
             ],
             [
              0.5555555555555556,
              "#d8576b"
             ],
             [
              0.6666666666666666,
              "#ed7953"
             ],
             [
              0.7777777777777778,
              "#fb9f3a"
             ],
             [
              0.8888888888888888,
              "#fdca26"
             ],
             [
              1,
              "#f0f921"
             ]
            ],
            "type": "histogram2d"
           }
          ],
          "histogram2dcontour": [
           {
            "colorbar": {
             "outlinewidth": 0,
             "ticks": ""
            },
            "colorscale": [
             [
              0,
              "#0d0887"
             ],
             [
              0.1111111111111111,
              "#46039f"
             ],
             [
              0.2222222222222222,
              "#7201a8"
             ],
             [
              0.3333333333333333,
              "#9c179e"
             ],
             [
              0.4444444444444444,
              "#bd3786"
             ],
             [
              0.5555555555555556,
              "#d8576b"
             ],
             [
              0.6666666666666666,
              "#ed7953"
             ],
             [
              0.7777777777777778,
              "#fb9f3a"
             ],
             [
              0.8888888888888888,
              "#fdca26"
             ],
             [
              1,
              "#f0f921"
             ]
            ],
            "type": "histogram2dcontour"
           }
          ],
          "mesh3d": [
           {
            "colorbar": {
             "outlinewidth": 0,
             "ticks": ""
            },
            "type": "mesh3d"
           }
          ],
          "parcoords": [
           {
            "line": {
             "colorbar": {
              "outlinewidth": 0,
              "ticks": ""
             }
            },
            "type": "parcoords"
           }
          ],
          "pie": [
           {
            "automargin": true,
            "type": "pie"
           }
          ],
          "scatter": [
           {
            "fillpattern": {
             "fillmode": "overlay",
             "size": 10,
             "solidity": 0.2
            },
            "type": "scatter"
           }
          ],
          "scatter3d": [
           {
            "line": {
             "colorbar": {
              "outlinewidth": 0,
              "ticks": ""
             }
            },
            "marker": {
             "colorbar": {
              "outlinewidth": 0,
              "ticks": ""
             }
            },
            "type": "scatter3d"
           }
          ],
          "scattercarpet": [
           {
            "marker": {
             "colorbar": {
              "outlinewidth": 0,
              "ticks": ""
             }
            },
            "type": "scattercarpet"
           }
          ],
          "scattergeo": [
           {
            "marker": {
             "colorbar": {
              "outlinewidth": 0,
              "ticks": ""
             }
            },
            "type": "scattergeo"
           }
          ],
          "scattergl": [
           {
            "marker": {
             "colorbar": {
              "outlinewidth": 0,
              "ticks": ""
             }
            },
            "type": "scattergl"
           }
          ],
          "scattermap": [
           {
            "marker": {
             "colorbar": {
              "outlinewidth": 0,
              "ticks": ""
             }
            },
            "type": "scattermap"
           }
          ],
          "scattermapbox": [
           {
            "marker": {
             "colorbar": {
              "outlinewidth": 0,
              "ticks": ""
             }
            },
            "type": "scattermapbox"
           }
          ],
          "scatterpolar": [
           {
            "marker": {
             "colorbar": {
              "outlinewidth": 0,
              "ticks": ""
             }
            },
            "type": "scatterpolar"
           }
          ],
          "scatterpolargl": [
           {
            "marker": {
             "colorbar": {
              "outlinewidth": 0,
              "ticks": ""
             }
            },
            "type": "scatterpolargl"
           }
          ],
          "scatterternary": [
           {
            "marker": {
             "colorbar": {
              "outlinewidth": 0,
              "ticks": ""
             }
            },
            "type": "scatterternary"
           }
          ],
          "surface": [
           {
            "colorbar": {
             "outlinewidth": 0,
             "ticks": ""
            },
            "colorscale": [
             [
              0,
              "#0d0887"
             ],
             [
              0.1111111111111111,
              "#46039f"
             ],
             [
              0.2222222222222222,
              "#7201a8"
             ],
             [
              0.3333333333333333,
              "#9c179e"
             ],
             [
              0.4444444444444444,
              "#bd3786"
             ],
             [
              0.5555555555555556,
              "#d8576b"
             ],
             [
              0.6666666666666666,
              "#ed7953"
             ],
             [
              0.7777777777777778,
              "#fb9f3a"
             ],
             [
              0.8888888888888888,
              "#fdca26"
             ],
             [
              1,
              "#f0f921"
             ]
            ],
            "type": "surface"
           }
          ],
          "table": [
           {
            "cells": {
             "fill": {
              "color": "#EBF0F8"
             },
             "line": {
              "color": "white"
             }
            },
            "header": {
             "fill": {
              "color": "#C8D4E3"
             },
             "line": {
              "color": "white"
             }
            },
            "type": "table"
           }
          ]
         },
         "layout": {
          "annotationdefaults": {
           "arrowcolor": "#2a3f5f",
           "arrowhead": 0,
           "arrowwidth": 1
          },
          "autotypenumbers": "strict",
          "coloraxis": {
           "colorbar": {
            "outlinewidth": 0,
            "ticks": ""
           }
          },
          "colorscale": {
           "diverging": [
            [
             0,
             "#8e0152"
            ],
            [
             0.1,
             "#c51b7d"
            ],
            [
             0.2,
             "#de77ae"
            ],
            [
             0.3,
             "#f1b6da"
            ],
            [
             0.4,
             "#fde0ef"
            ],
            [
             0.5,
             "#f7f7f7"
            ],
            [
             0.6,
             "#e6f5d0"
            ],
            [
             0.7,
             "#b8e186"
            ],
            [
             0.8,
             "#7fbc41"
            ],
            [
             0.9,
             "#4d9221"
            ],
            [
             1,
             "#276419"
            ]
           ],
           "sequential": [
            [
             0,
             "#0d0887"
            ],
            [
             0.1111111111111111,
             "#46039f"
            ],
            [
             0.2222222222222222,
             "#7201a8"
            ],
            [
             0.3333333333333333,
             "#9c179e"
            ],
            [
             0.4444444444444444,
             "#bd3786"
            ],
            [
             0.5555555555555556,
             "#d8576b"
            ],
            [
             0.6666666666666666,
             "#ed7953"
            ],
            [
             0.7777777777777778,
             "#fb9f3a"
            ],
            [
             0.8888888888888888,
             "#fdca26"
            ],
            [
             1,
             "#f0f921"
            ]
           ],
           "sequentialminus": [
            [
             0,
             "#0d0887"
            ],
            [
             0.1111111111111111,
             "#46039f"
            ],
            [
             0.2222222222222222,
             "#7201a8"
            ],
            [
             0.3333333333333333,
             "#9c179e"
            ],
            [
             0.4444444444444444,
             "#bd3786"
            ],
            [
             0.5555555555555556,
             "#d8576b"
            ],
            [
             0.6666666666666666,
             "#ed7953"
            ],
            [
             0.7777777777777778,
             "#fb9f3a"
            ],
            [
             0.8888888888888888,
             "#fdca26"
            ],
            [
             1,
             "#f0f921"
            ]
           ]
          },
          "colorway": [
           "#636efa",
           "#EF553B",
           "#00cc96",
           "#ab63fa",
           "#FFA15A",
           "#19d3f3",
           "#FF6692",
           "#B6E880",
           "#FF97FF",
           "#FECB52"
          ],
          "font": {
           "color": "#2a3f5f"
          },
          "geo": {
           "bgcolor": "white",
           "lakecolor": "white",
           "landcolor": "white",
           "showlakes": true,
           "showland": true,
           "subunitcolor": "#C8D4E3"
          },
          "hoverlabel": {
           "align": "left"
          },
          "hovermode": "closest",
          "mapbox": {
           "style": "light"
          },
          "paper_bgcolor": "white",
          "plot_bgcolor": "white",
          "polar": {
           "angularaxis": {
            "gridcolor": "#EBF0F8",
            "linecolor": "#EBF0F8",
            "ticks": ""
           },
           "bgcolor": "white",
           "radialaxis": {
            "gridcolor": "#EBF0F8",
            "linecolor": "#EBF0F8",
            "ticks": ""
           }
          },
          "scene": {
           "xaxis": {
            "backgroundcolor": "white",
            "gridcolor": "#DFE8F3",
            "gridwidth": 2,
            "linecolor": "#EBF0F8",
            "showbackground": true,
            "ticks": "",
            "zerolinecolor": "#EBF0F8"
           },
           "yaxis": {
            "backgroundcolor": "white",
            "gridcolor": "#DFE8F3",
            "gridwidth": 2,
            "linecolor": "#EBF0F8",
            "showbackground": true,
            "ticks": "",
            "zerolinecolor": "#EBF0F8"
           },
           "zaxis": {
            "backgroundcolor": "white",
            "gridcolor": "#DFE8F3",
            "gridwidth": 2,
            "linecolor": "#EBF0F8",
            "showbackground": true,
            "ticks": "",
            "zerolinecolor": "#EBF0F8"
           }
          },
          "shapedefaults": {
           "line": {
            "color": "#2a3f5f"
           }
          },
          "ternary": {
           "aaxis": {
            "gridcolor": "#DFE8F3",
            "linecolor": "#A2B1C6",
            "ticks": ""
           },
           "baxis": {
            "gridcolor": "#DFE8F3",
            "linecolor": "#A2B1C6",
            "ticks": ""
           },
           "bgcolor": "white",
           "caxis": {
            "gridcolor": "#DFE8F3",
            "linecolor": "#A2B1C6",
            "ticks": ""
           }
          },
          "title": {
           "x": 0.05
          },
          "xaxis": {
           "automargin": true,
           "gridcolor": "#EBF0F8",
           "linecolor": "#EBF0F8",
           "ticks": "",
           "title": {
            "standoff": 15
           },
           "zerolinecolor": "#EBF0F8",
           "zerolinewidth": 2
          },
          "yaxis": {
           "automargin": true,
           "gridcolor": "#EBF0F8",
           "linecolor": "#EBF0F8",
           "ticks": "",
           "title": {
            "standoff": 15
           },
           "zerolinecolor": "#EBF0F8",
           "zerolinewidth": 2
          }
         }
        },
        "title": {
         "text": "Espectro de fluorescencia - FOx"
        },
        "xaxis": {
         "title": {
          "text": "Longitud de onda (nm)"
         }
        },
        "yaxis": {
         "title": {
          "text": "Intensidad (CPS)"
         }
        }
       }
      }
     },
     "metadata": {},
     "output_type": "display_data"
    },
    {
     "data": {
      "text/html": [
       "<div>\n",
       "<style scoped>\n",
       "    .dataframe tbody tr th:only-of-type {\n",
       "        vertical-align: middle;\n",
       "    }\n",
       "\n",
       "    .dataframe tbody tr th {\n",
       "        vertical-align: top;\n",
       "    }\n",
       "\n",
       "    .dataframe thead th {\n",
       "        text-align: right;\n",
       "    }\n",
       "</style>\n",
       "<table border=\"1\" class=\"dataframe\">\n",
       "  <thead>\n",
       "    <tr style=\"text-align: right;\">\n",
       "      <th></th>\n",
       "      <th>Muestra</th>\n",
       "      <th>Máx. CPS</th>\n",
       "      <th>Mín. CPS</th>\n",
       "      <th>Promedio</th>\n",
       "      <th>Desv. Estándar</th>\n",
       "      <th>AUC</th>\n",
       "      <th>λ máx (nm)</th>\n",
       "      <th>λ mín (nm)</th>\n",
       "      <th>300–400 nm</th>\n",
       "      <th>400–500 nm</th>\n",
       "      <th>500–600 nm</th>\n",
       "      <th>600–700 nm</th>\n",
       "      <th>700–800 nm</th>\n",
       "      <th>800–900 nm</th>\n",
       "    </tr>\n",
       "  </thead>\n",
       "  <tbody>\n",
       "    <tr>\n",
       "      <th>0</th>\n",
       "      <td>FVerde</td>\n",
       "      <td>1316260</td>\n",
       "      <td>6660</td>\n",
       "      <td>428124.387</td>\n",
       "      <td>449162.0</td>\n",
       "      <td>205868355.0</td>\n",
       "      <td>449</td>\n",
       "      <td>850</td>\n",
       "      <td>385486.774</td>\n",
       "      <td>1149287.822</td>\n",
       "      <td>605992.871</td>\n",
       "      <td>148729.109</td>\n",
       "      <td>32284.356</td>\n",
       "      <td>10227.647</td>\n",
       "    </tr>\n",
       "  </tbody>\n",
       "</table>\n",
       "</div>"
      ],
      "text/plain": [
       "  Muestra  Máx. CPS  Mín. CPS    Promedio  Desv. Estándar          AUC  \\\n",
       "0  FVerde   1316260      6660  428124.387        449162.0  205868355.0   \n",
       "\n",
       "   λ máx (nm)  λ mín (nm)  300–400 nm   400–500 nm  500–600 nm  600–700 nm  \\\n",
       "0         449         850  385486.774  1149287.822  605992.871  148729.109   \n",
       "\n",
       "   700–800 nm  800–900 nm  \n",
       "0   32284.356   10227.647  "
      ]
     },
     "metadata": {},
     "output_type": "display_data"
    },
    {
     "data": {
      "application/vnd.plotly.v1+json": {
       "config": {
        "plotlyServerURL": "https://plot.ly"
       },
       "data": [
        {
         "mode": "lines",
         "name": "FVerde",
         "type": "scatter",
         "x": {
          "bdata": "cgFzAXQBdQF2AXcBeAF5AXoBewF8AX0BfgF/AYABgQGCAYMBhAGFAYYBhwGIAYkBigGLAYwBjQGOAY8BkAGRAZIBkwGUAZUBlgGXAZgBmQGaAZsBnAGdAZ4BnwGgAaEBogGjAaQBpQGmAacBqAGpAaoBqwGsAa0BrgGvAbABsQGyAbMBtAG1AbYBtwG4AbkBugG7AbwBvQG+Ab8BwAHBAcIBwwHEAcUBxgHHAcgByQHKAcsBzAHNAc4BzwHQAdEB0gHTAdQB1QHWAdcB2AHZAdoB2wHcAd0B3gHfAeAB4QHiAeMB5AHlAeYB5wHoAekB6gHrAewB7QHuAe8B8AHxAfIB8wH0AfUB9gH3AfgB+QH6AfsB/AH9Af4B/wEAAgECAgIDAgQCBQIGAgcCCAIJAgoCCwIMAg0CDgIPAhACEQISAhMCFAIVAhYCFwIYAhkCGgIbAhwCHQIeAh8CIAIhAiICIwIkAiUCJgInAigCKQIqAisCLAItAi4CLwIwAjECMgIzAjQCNQI2AjcCOAI5AjoCOwI8Aj0CPgI/AkACQQJCAkMCRAJFAkYCRwJIAkkCSgJLAkwCTQJOAk8CUAJRAlICUwJUAlUCVgJXAlgCWQJaAlsCXAJdAl4CXwJgAmECYgJjAmQCZQJmAmcCaAJpAmoCawJsAm0CbgJvAnACcQJyAnMCdAJ1AnYCdwJ4AnkCegJ7AnwCfQJ+An8CgAKBAoICgwKEAoUChgKHAogCiQKKAosCjAKNAo4CjwKQApECkgKTApQClQKWApcCmAKZApoCmwKcAp0CngKfAqACoQKiAqMCpAKlAqYCpwKoAqkCqgKrAqwCrQKuAq8CsAKxArICswK0ArUCtgK3ArgCuQK6ArsCvAK9Ar4CvwLAAsECwgLDAsQCxQLGAscCyALJAsoCywLMAs0CzgLPAtAC0QLSAtMC1ALVAtYC1wLYAtkC2gLbAtwC3QLeAt8C4ALhAuIC4wLkAuUC5gLnAugC6QLqAusC7ALtAu4C7wLwAvEC8gLzAvQC9QL2AvcC+AL5AvoC+wL8Av0C/gL/AgADAQMCAwMDBAMFAwYDBwMIAwkDCgMLAwwDDQMOAw8DEAMRAxIDEwMUAxUDFgMXAxgDGQMaAxsDHAMdAx4DHwMgAyEDIgMjAyQDJQMmAycDKAMpAyoDKwMsAy0DLgMvAzADMQMyAzMDNAM1AzYDNwM4AzkDOgM7AzwDPQM+Az8DQANBA0IDQwNEA0UDRgNHA0gDSQNKA0sDTANNA04DTwNQA1EDUgM=",
          "dtype": "i2"
         },
         "y": {
          "bdata": "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",
          "dtype": "i4"
         }
        }
       ],
       "layout": {
        "template": {
         "data": {
          "bar": [
           {
            "error_x": {
             "color": "#2a3f5f"
            },
            "error_y": {
             "color": "#2a3f5f"
            },
            "marker": {
             "line": {
              "color": "white",
              "width": 0.5
             },
             "pattern": {
              "fillmode": "overlay",
              "size": 10,
              "solidity": 0.2
             }
            },
            "type": "bar"
           }
          ],
          "barpolar": [
           {
            "marker": {
             "line": {
              "color": "white",
              "width": 0.5
             },
             "pattern": {
              "fillmode": "overlay",
              "size": 10,
              "solidity": 0.2
             }
            },
            "type": "barpolar"
           }
          ],
          "carpet": [
           {
            "aaxis": {
             "endlinecolor": "#2a3f5f",
             "gridcolor": "#C8D4E3",
             "linecolor": "#C8D4E3",
             "minorgridcolor": "#C8D4E3",
             "startlinecolor": "#2a3f5f"
            },
            "baxis": {
             "endlinecolor": "#2a3f5f",
             "gridcolor": "#C8D4E3",
             "linecolor": "#C8D4E3",
             "minorgridcolor": "#C8D4E3",
             "startlinecolor": "#2a3f5f"
            },
            "type": "carpet"
           }
          ],
          "choropleth": [
           {
            "colorbar": {
             "outlinewidth": 0,
             "ticks": ""
            },
            "type": "choropleth"
           }
          ],
          "contour": [
           {
            "colorbar": {
             "outlinewidth": 0,
             "ticks": ""
            },
            "colorscale": [
             [
              0,
              "#0d0887"
             ],
             [
              0.1111111111111111,
              "#46039f"
             ],
             [
              0.2222222222222222,
              "#7201a8"
             ],
             [
              0.3333333333333333,
              "#9c179e"
             ],
             [
              0.4444444444444444,
              "#bd3786"
             ],
             [
              0.5555555555555556,
              "#d8576b"
             ],
             [
              0.6666666666666666,
              "#ed7953"
             ],
             [
              0.7777777777777778,
              "#fb9f3a"
             ],
             [
              0.8888888888888888,
              "#fdca26"
             ],
             [
              1,
              "#f0f921"
             ]
            ],
            "type": "contour"
           }
          ],
          "contourcarpet": [
           {
            "colorbar": {
             "outlinewidth": 0,
             "ticks": ""
            },
            "type": "contourcarpet"
           }
          ],
          "heatmap": [
           {
            "colorbar": {
             "outlinewidth": 0,
             "ticks": ""
            },
            "colorscale": [
             [
              0,
              "#0d0887"
             ],
             [
              0.1111111111111111,
              "#46039f"
             ],
             [
              0.2222222222222222,
              "#7201a8"
             ],
             [
              0.3333333333333333,
              "#9c179e"
             ],
             [
              0.4444444444444444,
              "#bd3786"
             ],
             [
              0.5555555555555556,
              "#d8576b"
             ],
             [
              0.6666666666666666,
              "#ed7953"
             ],
             [
              0.7777777777777778,
              "#fb9f3a"
             ],
             [
              0.8888888888888888,
              "#fdca26"
             ],
             [
              1,
              "#f0f921"
             ]
            ],
            "type": "heatmap"
           }
          ],
          "histogram": [
           {
            "marker": {
             "pattern": {
              "fillmode": "overlay",
              "size": 10,
              "solidity": 0.2
             }
            },
            "type": "histogram"
           }
          ],
          "histogram2d": [
           {
            "colorbar": {
             "outlinewidth": 0,
             "ticks": ""
            },
            "colorscale": [
             [
              0,
              "#0d0887"
             ],
             [
              0.1111111111111111,
              "#46039f"
             ],
             [
              0.2222222222222222,
              "#7201a8"
             ],
             [
              0.3333333333333333,
              "#9c179e"
             ],
             [
              0.4444444444444444,
              "#bd3786"
             ],
             [
              0.5555555555555556,
              "#d8576b"
             ],
             [
              0.6666666666666666,
              "#ed7953"
             ],
             [
              0.7777777777777778,
              "#fb9f3a"
             ],
             [
              0.8888888888888888,
              "#fdca26"
             ],
             [
              1,
              "#f0f921"
             ]
            ],
            "type": "histogram2d"
           }
          ],
          "histogram2dcontour": [
           {
            "colorbar": {
             "outlinewidth": 0,
             "ticks": ""
            },
            "colorscale": [
             [
              0,
              "#0d0887"
             ],
             [
              0.1111111111111111,
              "#46039f"
             ],
             [
              0.2222222222222222,
              "#7201a8"
             ],
             [
              0.3333333333333333,
              "#9c179e"
             ],
             [
              0.4444444444444444,
              "#bd3786"
             ],
             [
              0.5555555555555556,
              "#d8576b"
             ],
             [
              0.6666666666666666,
              "#ed7953"
             ],
             [
              0.7777777777777778,
              "#fb9f3a"
             ],
             [
              0.8888888888888888,
              "#fdca26"
             ],
             [
              1,
              "#f0f921"
             ]
            ],
            "type": "histogram2dcontour"
           }
          ],
          "mesh3d": [
           {
            "colorbar": {
             "outlinewidth": 0,
             "ticks": ""
            },
            "type": "mesh3d"
           }
          ],
          "parcoords": [
           {
            "line": {
             "colorbar": {
              "outlinewidth": 0,
              "ticks": ""
             }
            },
            "type": "parcoords"
           }
          ],
          "pie": [
           {
            "automargin": true,
            "type": "pie"
           }
          ],
          "scatter": [
           {
            "fillpattern": {
             "fillmode": "overlay",
             "size": 10,
             "solidity": 0.2
            },
            "type": "scatter"
           }
          ],
          "scatter3d": [
           {
            "line": {
             "colorbar": {
              "outlinewidth": 0,
              "ticks": ""
             }
            },
            "marker": {
             "colorbar": {
              "outlinewidth": 0,
              "ticks": ""
             }
            },
            "type": "scatter3d"
           }
          ],
          "scattercarpet": [
           {
            "marker": {
             "colorbar": {
              "outlinewidth": 0,
              "ticks": ""
             }
            },
            "type": "scattercarpet"
           }
          ],
          "scattergeo": [
           {
            "marker": {
             "colorbar": {
              "outlinewidth": 0,
              "ticks": ""
             }
            },
            "type": "scattergeo"
           }
          ],
          "scattergl": [
           {
            "marker": {
             "colorbar": {
              "outlinewidth": 0,
              "ticks": ""
             }
            },
            "type": "scattergl"
           }
          ],
          "scattermap": [
           {
            "marker": {
             "colorbar": {
              "outlinewidth": 0,
              "ticks": ""
             }
            },
            "type": "scattermap"
           }
          ],
          "scattermapbox": [
           {
            "marker": {
             "colorbar": {
              "outlinewidth": 0,
              "ticks": ""
             }
            },
            "type": "scattermapbox"
           }
          ],
          "scatterpolar": [
           {
            "marker": {
             "colorbar": {
              "outlinewidth": 0,
              "ticks": ""
             }
            },
            "type": "scatterpolar"
           }
          ],
          "scatterpolargl": [
           {
            "marker": {
             "colorbar": {
              "outlinewidth": 0,
              "ticks": ""
             }
            },
            "type": "scatterpolargl"
           }
          ],
          "scatterternary": [
           {
            "marker": {
             "colorbar": {
              "outlinewidth": 0,
              "ticks": ""
             }
            },
            "type": "scatterternary"
           }
          ],
          "surface": [
           {
            "colorbar": {
             "outlinewidth": 0,
             "ticks": ""
            },
            "colorscale": [
             [
              0,
              "#0d0887"
             ],
             [
              0.1111111111111111,
              "#46039f"
             ],
             [
              0.2222222222222222,
              "#7201a8"
             ],
             [
              0.3333333333333333,
              "#9c179e"
             ],
             [
              0.4444444444444444,
              "#bd3786"
             ],
             [
              0.5555555555555556,
              "#d8576b"
             ],
             [
              0.6666666666666666,
              "#ed7953"
             ],
             [
              0.7777777777777778,
              "#fb9f3a"
             ],
             [
              0.8888888888888888,
              "#fdca26"
             ],
             [
              1,
              "#f0f921"
             ]
            ],
            "type": "surface"
           }
          ],
          "table": [
           {
            "cells": {
             "fill": {
              "color": "#EBF0F8"
             },
             "line": {
              "color": "white"
             }
            },
            "header": {
             "fill": {
              "color": "#C8D4E3"
             },
             "line": {
              "color": "white"
             }
            },
            "type": "table"
           }
          ]
         },
         "layout": {
          "annotationdefaults": {
           "arrowcolor": "#2a3f5f",
           "arrowhead": 0,
           "arrowwidth": 1
          },
          "autotypenumbers": "strict",
          "coloraxis": {
           "colorbar": {
            "outlinewidth": 0,
            "ticks": ""
           }
          },
          "colorscale": {
           "diverging": [
            [
             0,
             "#8e0152"
            ],
            [
             0.1,
             "#c51b7d"
            ],
            [
             0.2,
             "#de77ae"
            ],
            [
             0.3,
             "#f1b6da"
            ],
            [
             0.4,
             "#fde0ef"
            ],
            [
             0.5,
             "#f7f7f7"
            ],
            [
             0.6,
             "#e6f5d0"
            ],
            [
             0.7,
             "#b8e186"
            ],
            [
             0.8,
             "#7fbc41"
            ],
            [
             0.9,
             "#4d9221"
            ],
            [
             1,
             "#276419"
            ]
           ],
           "sequential": [
            [
             0,
             "#0d0887"
            ],
            [
             0.1111111111111111,
             "#46039f"
            ],
            [
             0.2222222222222222,
             "#7201a8"
            ],
            [
             0.3333333333333333,
             "#9c179e"
            ],
            [
             0.4444444444444444,
             "#bd3786"
            ],
            [
             0.5555555555555556,
             "#d8576b"
            ],
            [
             0.6666666666666666,
             "#ed7953"
            ],
            [
             0.7777777777777778,
             "#fb9f3a"
            ],
            [
             0.8888888888888888,
             "#fdca26"
            ],
            [
             1,
             "#f0f921"
            ]
           ],
           "sequentialminus": [
            [
             0,
             "#0d0887"
            ],
            [
             0.1111111111111111,
             "#46039f"
            ],
            [
             0.2222222222222222,
             "#7201a8"
            ],
            [
             0.3333333333333333,
             "#9c179e"
            ],
            [
             0.4444444444444444,
             "#bd3786"
            ],
            [
             0.5555555555555556,
             "#d8576b"
            ],
            [
             0.6666666666666666,
             "#ed7953"
            ],
            [
             0.7777777777777778,
             "#fb9f3a"
            ],
            [
             0.8888888888888888,
             "#fdca26"
            ],
            [
             1,
             "#f0f921"
            ]
           ]
          },
          "colorway": [
           "#636efa",
           "#EF553B",
           "#00cc96",
           "#ab63fa",
           "#FFA15A",
           "#19d3f3",
           "#FF6692",
           "#B6E880",
           "#FF97FF",
           "#FECB52"
          ],
          "font": {
           "color": "#2a3f5f"
          },
          "geo": {
           "bgcolor": "white",
           "lakecolor": "white",
           "landcolor": "white",
           "showlakes": true,
           "showland": true,
           "subunitcolor": "#C8D4E3"
          },
          "hoverlabel": {
           "align": "left"
          },
          "hovermode": "closest",
          "mapbox": {
           "style": "light"
          },
          "paper_bgcolor": "white",
          "plot_bgcolor": "white",
          "polar": {
           "angularaxis": {
            "gridcolor": "#EBF0F8",
            "linecolor": "#EBF0F8",
            "ticks": ""
           },
           "bgcolor": "white",
           "radialaxis": {
            "gridcolor": "#EBF0F8",
            "linecolor": "#EBF0F8",
            "ticks": ""
           }
          },
          "scene": {
           "xaxis": {
            "backgroundcolor": "white",
            "gridcolor": "#DFE8F3",
            "gridwidth": 2,
            "linecolor": "#EBF0F8",
            "showbackground": true,
            "ticks": "",
            "zerolinecolor": "#EBF0F8"
           },
           "yaxis": {
            "backgroundcolor": "white",
            "gridcolor": "#DFE8F3",
            "gridwidth": 2,
            "linecolor": "#EBF0F8",
            "showbackground": true,
            "ticks": "",
            "zerolinecolor": "#EBF0F8"
           },
           "zaxis": {
            "backgroundcolor": "white",
            "gridcolor": "#DFE8F3",
            "gridwidth": 2,
            "linecolor": "#EBF0F8",
            "showbackground": true,
            "ticks": "",
            "zerolinecolor": "#EBF0F8"
           }
          },
          "shapedefaults": {
           "line": {
            "color": "#2a3f5f"
           }
          },
          "ternary": {
           "aaxis": {
            "gridcolor": "#DFE8F3",
            "linecolor": "#A2B1C6",
            "ticks": ""
           },
           "baxis": {
            "gridcolor": "#DFE8F3",
            "linecolor": "#A2B1C6",
            "ticks": ""
           },
           "bgcolor": "white",
           "caxis": {
            "gridcolor": "#DFE8F3",
            "linecolor": "#A2B1C6",
            "ticks": ""
           }
          },
          "title": {
           "x": 0.05
          },
          "xaxis": {
           "automargin": true,
           "gridcolor": "#EBF0F8",
           "linecolor": "#EBF0F8",
           "ticks": "",
           "title": {
            "standoff": 15
           },
           "zerolinecolor": "#EBF0F8",
           "zerolinewidth": 2
          },
          "yaxis": {
           "automargin": true,
           "gridcolor": "#EBF0F8",
           "linecolor": "#EBF0F8",
           "ticks": "",
           "title": {
            "standoff": 15
           },
           "zerolinecolor": "#EBF0F8",
           "zerolinewidth": 2
          }
         }
        },
        "title": {
         "text": "Espectro de fluorescencia - FVerde"
        },
        "xaxis": {
         "title": {
          "text": "Longitud de onda (nm)"
         }
        },
        "yaxis": {
         "title": {
          "text": "Intensidad (CPS)"
         }
        }
       }
      }
     },
     "metadata": {},
     "output_type": "display_data"
    }
   ],
   "source": [
    "import os\n",
    "import pandas as pd\n",
    "import numpy as np\n",
    "import plotly.graph_objects as go\n",
    "from datetime import datetime\n",
    "\n",
    "# Leer todos los CSV del directorio\n",
    "archivos_csv = [f for f in os.listdir() if f.endswith('_data.csv')]\n",
    "\n",
    "# Definir regiones espectrales\n",
    "regiones = {\n",
    "    '300–400 nm': (300, 400),\n",
    "    '400–500 nm': (400, 500),\n",
    "    '500–600 nm': (500, 600),\n",
    "    '600–700 nm': (600, 700),\n",
    "    '700–800 nm': (700, 800),\n",
    "    '800–900 nm': (800, 900)\n",
    "}\n",
    "\n",
    "# Procesar cada archivo\n",
    "for archivo in archivos_csv:\n",
    "    nombre_base = archivo.replace(\"_data.csv\", \"\")\n",
    "    df = pd.read_csv(archivo)\n",
    "    \n",
    "    # Limpieza de datos: convertir a numérico y eliminar NaNs\n",
    "    df[\"CPS\"] = pd.to_numeric(df[\"CPS\"], errors=\"coerce\")\n",
    "    df = df.dropna()\n",
    "\n",
    "    nm = df[\"nm\"].values\n",
    "    cps = df[\"CPS\"].values\n",
    "\n",
    "    # Métricas\n",
    "    max_val = np.max(cps)\n",
    "    min_val = np.min(cps)\n",
    "    avg = np.mean(cps)\n",
    "    std = np.std(cps)\n",
    "    auc = np.trapezoid(cps, nm)\n",
    "    lambda_max = nm[np.argmax(cps)]\n",
    "    lambda_min = nm[np.argmin(cps)]\n",
    "\n",
    "    promedios_regiones = {}\n",
    "    for nombre, (a, b) in regiones.items():\n",
    "        datos_region = df[(df[\"nm\"] >= a) & (df[\"nm\"] <= b)][\"CPS\"]\n",
    "        promedio = np.mean(datos_region) if not datos_region.empty else np.nan\n",
    "        promedios_regiones[nombre] = promedio\n",
    "\n",
    "    # Tabla resumen\n",
    "    tabla = pd.DataFrame([{\n",
    "        \"Muestra\": nombre_base,\n",
    "        \"Máx. CPS\": round(max_val, 3),\n",
    "        \"Mín. CPS\": round(min_val, 3),\n",
    "        \"Promedio\": round(avg, 3),\n",
    "        \"Desv. Estándar\": round(std, 3),\n",
    "        \"AUC\": round(auc, 2),\n",
    "        \"λ máx (nm)\": round(lambda_max, 1),\n",
    "        \"λ mín (nm)\": round(lambda_min, 1),\n",
    "        **{k: round(v, 3) if not np.isnan(v) else None for k, v in promedios_regiones.items()}\n",
    "    }])\n",
    "\n",
    "    display(tabla)\n",
    "\n",
    "    # Gráfica interactiva\n",
    "    fig = go.Figure()\n",
    "    fig.add_trace(go.Scatter(\n",
    "        x=df[\"nm\"],\n",
    "        y=df[\"CPS\"],\n",
    "        mode='lines',\n",
    "        name=nombre_base\n",
    "    ))\n",
    "    fig.update_layout(\n",
    "        title=f\"Espectro de fluorescencia - {nombre_base}\",\n",
    "        xaxis_title=\"Longitud de onda (nm)\",\n",
    "        yaxis_title=\"Intensidad (CPS)\",\n",
    "        template=\"plotly_white\"\n",
    "    )\n",
    "    fig.show()\n",
    "\n"
   ]
  },
  {
   "cell_type": "code",
   "execution_count": 8,
   "id": "ef2952e5",
   "metadata": {
    "lines_to_next_cell": 2
   },
   "outputs": [
    {
     "name": "stdout",
     "output_type": "stream",
     "text": [
      "Archivo HTML guardado en: c:\\Users\\julio\\Desktop\\csv_fluorescencia\\CafeLab_Manjaro\\main_fluorescencia\\Reporte_Cafe_Fluorescencia.html\n",
      "Rango de longitudes de onda: 370 a 850\n"
     ]
    },
    {
     "data": {
      "application/vnd.plotly.v1+json": {
       "config": {
        "plotlyServerURL": "https://plot.ly"
       },
       "data": [
        {
         "line": {
          "color": "#1f77b4"
         },
         "mode": "lines",
         "name": "FCaffeine",
         "type": "scatter",
         "x": {
          "bdata": "cgFzAXQBdQF2AXcBeAF5AXoBewF8AX0BfgF/AYABgQGCAYMBhAGFAYYBhwGIAYkBigGLAYwBjQGOAY8BkAGRAZIBkwGUAZUBlgGXAZgBmQGaAZsBnAGdAZ4BnwGgAaEBogGjAaQBpQGmAacBqAGpAaoBqwGsAa0BrgGvAbABsQGyAbMBtAG1AbYBtwG4AbkBugG7AbwBvQG+Ab8BwAHBAcIBwwHEAcUBxgHHAcgByQHKAcsBzAHNAc4BzwHQAdEB0gHTAdQB1QHWAdcB2AHZAdoB2wHcAd0B3gHfAeAB4QHiAeMB5AHlAeYB5wHoAekB6gHrAewB7QHuAe8B8AHxAfIB8wH0AfUB9gH3AfgB+QH6AfsB/AH9Af4B/wEAAgECAgIDAgQCBQIGAgcCCAIJAgoCCwIMAg0CDgIPAhACEQISAhMCFAIVAhYCFwIYAhkCGgIbAhwCHQIeAh8CIAIhAiICIwIkAiUCJgInAigCKQIqAisCLAItAi4CLwIwAjECMgIzAjQCNQI2AjcCOAI5AjoCOwI8Aj0CPgI/AkACQQJCAkMCRAJFAkYCRwJIAkkCSgJLAkwCTQJOAk8CUAJRAlICUwJUAlUCVgJXAlgCWQJaAlsCXAJdAl4CXwJgAmECYgJjAmQCZQJmAmcCaAJpAmoCawJsAm0CbgJvAnACcQJyAnMCdAJ1AnYCdwJ4AnkCegJ7AnwCfQJ+An8CgAKBAoICgwKEAoUChgKHAogCiQKKAosCjAKNAo4CjwKQApECkgKTApQClQKWApcCmAKZApoCmwKcAp0CngKfAqACoQKiAqMCpAKlAqYCpwKoAqkCqgKrAqwCrQKuAq8CsAKxArICswK0ArUCtgK3ArgCuQK6ArsCvAK9Ar4CvwLAAsECwgLDAsQCxQLGAscCyALJAsoCywLMAs0CzgLPAtAC0QLSAtMC1ALVAtYC1wLYAtkC2gLbAtwC3QLeAt8C4ALhAuIC4wLkAuUC5gLnAugC6QLqAusC7ALtAu4C7wLwAvEC8gLzAvQC9QL2AvcC+AL5AvoC+wL8Av0C/gL/AgADAQMCAwMDBAMFAwYDBwMIAwkDCgMLAwwDDQMOAw8DEAMRAxIDEwMUAxUDFgMXAxgDGQMaAxsDHAMdAx4DHwMgAyEDIgMjAyQDJQMmAycDKAMpAyoDKwMsAy0DLgMvAzADMQMyAzMDNAM1AzYDNwM4AzkDOgM7AzwDPQM+Az8DQANBA0IDQwNEA0UDRgNHA0gDSQNKA0sDTANNA04DTwNQA1EDUgM=",
          "dtype": "i2"
         },
         "xaxis": "x",
         "y": {
          "bdata": "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",
          "dtype": "i4"
         },
         "yaxis": "y"
        },
        {
         "line": {
          "color": "#ff7f0e"
         },
         "mode": "lines",
         "name": "FCh",
         "type": "scatter",
         "x": {
          "bdata": "cgFzAXQBdQF2AXcBeAF5AXoBewF8AX0BfgF/AYABgQGCAYMBhAGFAYYBhwGIAYkBigGLAYwBjQGOAY8BkAGRAZIBkwGUAZUBlgGXAZgBmQGaAZsBnAGdAZ4BnwGgAaEBogGjAaQBpQGmAacBqAGpAaoBqwGsAa0BrgGvAbABsQGyAbMBtAG1AbYBtwG4AbkBugG7AbwBvQG+Ab8BwAHBAcIBwwHEAcUBxgHHAcgByQHKAcsBzAHNAc4BzwHQAdEB0gHTAdQB1QHWAdcB2AHZAdoB2wHcAd0B3gHfAeAB4QHiAeMB5AHlAeYB5wHoAekB6gHrAewB7QHuAe8B8AHxAfIB8wH0AfUB9gH3AfgB+QH6AfsB/AH9Af4B/wEAAgECAgIDAgQCBQIGAgcCCAIJAgoCCwIMAg0CDgIPAhACEQISAhMCFAIVAhYCFwIYAhkCGgIbAhwCHQIeAh8CIAIhAiICIwIkAiUCJgInAigCKQIqAisCLAItAi4CLwIwAjECMgIzAjQCNQI2AjcCOAI5AjoCOwI8Aj0CPgI/AkACQQJCAkMCRAJFAkYCRwJIAkkCSgJLAkwCTQJOAk8CUAJRAlICUwJUAlUCVgJXAlgCWQJaAlsCXAJdAl4CXwJgAmECYgJjAmQCZQJmAmcCaAJpAmoCawJsAm0CbgJvAnACcQJyAnMCdAJ1AnYCdwJ4AnkCegJ7AnwCfQJ+An8CgAKBAoICgwKEAoUChgKHAogCiQKKAosCjAKNAo4CjwKQApECkgKTApQClQKWApcCmAKZApoCmwKcAp0CngKfAqACoQKiAqMCpAKlAqYCpwKoAqkCqgKrAqwCrQKuAq8CsAKxArICswK0ArUCtgK3ArgCuQK6ArsCvAK9Ar4CvwLAAsECwgLDAsQCxQLGAscCyALJAsoCywLMAs0CzgLPAtAC0QLSAtMC1ALVAtYC1wLYAtkC2gLbAtwC3QLeAt8C4ALhAuIC4wLkAuUC5gLnAugC6QLqAusC7ALtAu4C7wLwAvEC8gLzAvQC9QL2AvcC+AL5AvoC+wL8Av0C/gL/AgADAQMCAwMDBAMFAwYDBwMIAwkDCgMLAwwDDQMOAw8DEAMRAxIDEwMUAxUDFgMXAxgDGQMaAxsDHAMdAx4DHwMgAyEDIgMjAyQDJQMmAycDKAMpAyoDKwMsAy0DLgMvAzADMQMyAzMDNAM1AzYDNwM4AzkDOgM7AzwDPQM+Az8DQANBA0IDQwNEA0UDRgNHA0gDSQNKA0sDTANNA04DTwNQA1EDUgM=",
          "dtype": "i2"
         },
         "xaxis": "x",
         "y": {
          "bdata": "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",
          "dtype": "i4"
         },
         "yaxis": "y"
        },
        {
         "line": {
          "color": "#2ca02c"
         },
         "mode": "lines",
         "name": "FGo",
         "type": "scatter",
         "x": {
          "bdata": "cgFzAXQBdQF2AXcBeAF5AXoBewF8AX0BfgF/AYABgQGCAYMBhAGFAYYBhwGIAYkBigGLAYwBjQGOAY8BkAGRAZIBkwGUAZUBlgGXAZgBmQGaAZsBnAGdAZ4BnwGgAaEBogGjAaQBpQGmAacBqAGpAaoBqwGsAa0BrgGvAbABsQGyAbMBtAG1AbYBtwG4AbkBugG7AbwBvQG+Ab8BwAHBAcIBwwHEAcUBxgHHAcgByQHKAcsBzAHNAc4BzwHQAdEB0gHTAdQB1QHWAdcB2AHZAdoB2wHcAd0B3gHfAeAB4QHiAeMB5AHlAeYB5wHoAekB6gHrAewB7QHuAe8B8AHxAfIB8wH0AfUB9gH3AfgB+QH6AfsB/AH9Af4B/wEAAgECAgIDAgQCBQIGAgcCCAIJAgoCCwIMAg0CDgIPAhACEQISAhMCFAIVAhYCFwIYAhkCGgIbAhwCHQIeAh8CIAIhAiICIwIkAiUCJgInAigCKQIqAisCLAItAi4CLwIwAjECMgIzAjQCNQI2AjcCOAI5AjoCOwI8Aj0CPgI/AkACQQJCAkMCRAJFAkYCRwJIAkkCSgJLAkwCTQJOAk8CUAJRAlICUwJUAlUCVgJXAlgCWQJaAlsCXAJdAl4CXwJgAmECYgJjAmQCZQJmAmcCaAJpAmoCawJsAm0CbgJvAnACcQJyAnMCdAJ1AnYCdwJ4AnkCegJ7AnwCfQJ+An8CgAKBAoICgwKEAoUChgKHAogCiQKKAosCjAKNAo4CjwKQApECkgKTApQClQKWApcCmAKZApoCmwKcAp0CngKfAqACoQKiAqMCpAKlAqYCpwKoAqkCqgKrAqwCrQKuAq8CsAKxArICswK0ArUCtgK3ArgCuQK6ArsCvAK9Ar4CvwLAAsECwgLDAsQCxQLGAscCyALJAsoCywLMAs0CzgLPAtAC0QLSAtMC1ALVAtYC1wLYAtkC2gLbAtwC3QLeAt8C4ALhAuIC4wLkAuUC5gLnAugC6QLqAusC7ALtAu4C7wLwAvEC8gLzAvQC9QL2AvcC+AL5AvoC+wL8Av0C/gL/AgADAQMCAwMDBAMFAwYDBwMIAwkDCgMLAwwDDQMOAw8DEAMRAxIDEwMUAxUDFgMXAxgDGQMaAxsDHAMdAx4DHwMgAyEDIgMjAyQDJQMmAycDKAMpAyoDKwMsAy0DLgMvAzADMQMyAzMDNAM1AzYDNwM4AzkDOgM7AzwDPQM+Az8DQANBA0IDQwNEA0UDRgNHA0gDSQNKA0sDTANNA04DTwNQA1EDUgM=",
          "dtype": "i2"
         },
         "xaxis": "x",
         "y": {
          "bdata": "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",
          "dtype": "i4"
         },
         "yaxis": "y"
        },
        {
         "line": {
          "color": "#d62728"
         },
         "mode": "lines",
         "name": "FIlly",
         "type": "scatter",
         "x": {
          "bdata": "cgFzAXQBdQF2AXcBeAF5AXoBewF8AX0BfgF/AYABgQGCAYMBhAGFAYYBhwGIAYkBigGLAYwBjQGOAY8BkAGRAZIBkwGUAZUBlgGXAZgBmQGaAZsBnAGdAZ4BnwGgAaEBogGjAaQBpQGmAacBqAGpAaoBqwGsAa0BrgGvAbABsQGyAbMBtAG1AbYBtwG4AbkBugG7AbwBvQG+Ab8BwAHBAcIBwwHEAcUBxgHHAcgByQHKAcsBzAHNAc4BzwHQAdEB0gHTAdQB1QHWAdcB2AHZAdoB2wHcAd0B3gHfAeAB4QHiAeMB5AHlAeYB5wHoAekB6gHrAewB7QHuAe8B8AHxAfIB8wH0AfUB9gH3AfgB+QH6AfsB/AH9Af4B/wEAAgECAgIDAgQCBQIGAgcCCAIJAgoCCwIMAg0CDgIPAhACEQISAhMCFAIVAhYCFwIYAhkCGgIbAhwCHQIeAh8CIAIhAiICIwIkAiUCJgInAigCKQIqAisCLAItAi4CLwIwAjECMgIzAjQCNQI2AjcCOAI5AjoCOwI8Aj0CPgI/AkACQQJCAkMCRAJFAkYCRwJIAkkCSgJLAkwCTQJOAk8CUAJRAlICUwJUAlUCVgJXAlgCWQJaAlsCXAJdAl4CXwJgAmECYgJjAmQCZQJmAmcCaAJpAmoCawJsAm0CbgJvAnACcQJyAnMCdAJ1AnYCdwJ4AnkCegJ7AnwCfQJ+An8CgAKBAoICgwKEAoUChgKHAogCiQKKAosCjAKNAo4CjwKQApECkgKTApQClQKWApcCmAKZApoCmwKcAp0CngKfAqACoQKiAqMCpAKlAqYCpwKoAqkCqgKrAqwCrQKuAq8CsAKxArICswK0ArUCtgK3ArgCuQK6ArsCvAK9Ar4CvwLAAsECwgLDAsQCxQLGAscCyALJAsoCywLMAs0CzgLPAtAC0QLSAtMC1ALVAtYC1wLYAtkC2gLbAtwC3QLeAt8C4ALhAuIC4wLkAuUC5gLnAugC6QLqAusC7ALtAu4C7wLwAvEC8gLzAvQC9QL2AvcC+AL5AvoC+wL8Av0C/gL/AgADAQMCAwMDBAMFAwYDBwMIAwkDCgMLAwwDDQMOAw8DEAMRAxIDEwMUAxUDFgMXAxgDGQMaAxsDHAMdAx4DHwMgAyEDIgMjAyQDJQMmAycDKAMpAyoDKwMsAy0DLgMvAzADMQMyAzMDNAM1AzYDNwM4AzkDOgM7AzwDPQM+Az8DQANBA0IDQwNEA0UDRgNHA0gDSQNKA0sDTANNA04DTwNQA1EDUgM=",
          "dtype": "i2"
         },
         "xaxis": "x",
         "y": {
          "bdata": "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",
          "dtype": "i4"
         },
         "yaxis": "y"
        },
        {
         "line": {
          "color": "#9467bd"
         },
         "mode": "lines",
         "name": "FMi",
         "type": "scatter",
         "x": {
          "bdata": "cgFzAXQBdQF2AXcBeAF5AXoBewF8AX0BfgF/AYABgQGCAYMBhAGFAYYBhwGIAYkBigGLAYwBjQGOAY8BkAGRAZIBkwGUAZUBlgGXAZgBmQGaAZsBnAGdAZ4BnwGgAaEBogGjAaQBpQGmAacBqAGpAaoBqwGsAa0BrgGvAbABsQGyAbMBtAG1AbYBtwG4AbkBugG7AbwBvQG+Ab8BwAHBAcIBwwHEAcUBxgHHAcgByQHKAcsBzAHNAc4BzwHQAdEB0gHTAdQB1QHWAdcB2AHZAdoB2wHcAd0B3gHfAeAB4QHiAeMB5AHlAeYB5wHoAekB6gHrAewB7QHuAe8B8AHxAfIB8wH0AfUB9gH3AfgB+QH6AfsB/AH9Af4B/wEAAgECAgIDAgQCBQIGAgcCCAIJAgoCCwIMAg0CDgIPAhACEQISAhMCFAIVAhYCFwIYAhkCGgIbAhwCHQIeAh8CIAIhAiICIwIkAiUCJgInAigCKQIqAisCLAItAi4CLwIwAjECMgIzAjQCNQI2AjcCOAI5AjoCOwI8Aj0CPgI/AkACQQJCAkMCRAJFAkYCRwJIAkkCSgJLAkwCTQJOAk8CUAJRAlICUwJUAlUCVgJXAlgCWQJaAlsCXAJdAl4CXwJgAmECYgJjAmQCZQJmAmcCaAJpAmoCawJsAm0CbgJvAnACcQJyAnMCdAJ1AnYCdwJ4AnkCegJ7AnwCfQJ+An8CgAKBAoICgwKEAoUChgKHAogCiQKKAosCjAKNAo4CjwKQApECkgKTApQClQKWApcCmAKZApoCmwKcAp0CngKfAqACoQKiAqMCpAKlAqYCpwKoAqkCqgKrAqwCrQKuAq8CsAKxArICswK0ArUCtgK3ArgCuQK6ArsCvAK9Ar4CvwLAAsECwgLDAsQCxQLGAscCyALJAsoCywLMAs0CzgLPAtAC0QLSAtMC1ALVAtYC1wLYAtkC2gLbAtwC3QLeAt8C4ALhAuIC4wLkAuUC5gLnAugC6QLqAusC7ALtAu4C7wLwAvEC8gLzAvQC9QL2AvcC+AL5AvoC+wL8Av0C/gL/AgADAQMCAwMDBAMFAwYDBwMIAwkDCgMLAwwDDQMOAw8DEAMRAxIDEwMUAxUDFgMXAxgDGQMaAxsDHAMdAx4DHwMgAyEDIgMjAyQDJQMmAycDKAMpAyoDKwMsAy0DLgMvAzADMQMyAzMDNAM1AzYDNwM4AzkDOgM7AzwDPQM+Az8DQANBA0IDQwNEA0UDRgNHA0gDSQNKA0sDTANNA04DTwNQA1EDUgM=",
          "dtype": "i2"
         },
         "xaxis": "x",
         "y": {
          "bdata": "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",
          "dtype": "i4"
         },
         "yaxis": "y"
        },
        {
         "line": {
          "color": "#8c564b"
         },
         "mode": "lines",
         "name": "FMucilago",
         "type": "scatter",
         "x": {
          "bdata": "cgFzAXQBdQF2AXcBeAF5AXoBewF8AX0BfgF/AYABgQGCAYMBhAGFAYYBhwGIAYkBigGLAYwBjQGOAY8BkAGRAZIBkwGUAZUBlgGXAZgBmQGaAZsBnAGdAZ4BnwGgAaEBogGjAaQBpQGmAacBqAGpAaoBqwGsAa0BrgGvAbABsQGyAbMBtAG1AbYBtwG4AbkBugG7AbwBvQG+Ab8BwAHBAcIBwwHEAcUBxgHHAcgByQHKAcsBzAHNAc4BzwHQAdEB0gHTAdQB1QHWAdcB2AHZAdoB2wHcAd0B3gHfAeAB4QHiAeMB5AHlAeYB5wHoAekB6gHrAewB7QHuAe8B8AHxAfIB8wH0AfUB9gH3AfgB+QH6AfsB/AH9Af4B/wEAAgECAgIDAgQCBQIGAgcCCAIJAgoCCwIMAg0CDgIPAhACEQISAhMCFAIVAhYCFwIYAhkCGgIbAhwCHQIeAh8CIAIhAiICIwIkAiUCJgInAigCKQIqAisCLAItAi4CLwIwAjECMgIzAjQCNQI2AjcCOAI5AjoCOwI8Aj0CPgI/AkACQQJCAkMCRAJFAkYCRwJIAkkCSgJLAkwCTQJOAk8CUAJRAlICUwJUAlUCVgJXAlgCWQJaAlsCXAJdAl4CXwJgAmECYgJjAmQCZQJmAmcCaAJpAmoCawJsAm0CbgJvAnACcQJyAnMCdAJ1AnYCdwJ4AnkCegJ7AnwCfQJ+An8CgAKBAoICgwKEAoUChgKHAogCiQKKAosCjAKNAo4CjwKQApECkgKTApQClQKWApcCmAKZApoCmwKcAp0CngKfAqACoQKiAqMCpAKlAqYCpwKoAqkCqgKrAqwCrQKuAq8CsAKxArICswK0ArUCtgK3ArgCuQK6ArsCvAK9Ar4CvwLAAsECwgLDAsQCxQLGAscCyALJAsoCywLMAs0CzgLPAtAC0QLSAtMC1ALVAtYC1wLYAtkC2gLbAtwC3QLeAt8C4ALhAuIC4wLkAuUC5gLnAugC6QLqAusC7ALtAu4C7wLwAvEC8gLzAvQC9QL2AvcC+AL5AvoC+wL8Av0C/gL/AgADAQMCAwMDBAMFAwYDBwMIAwkDCgMLAwwDDQMOAw8DEAMRAxIDEwMUAxUDFgMXAxgDGQMaAxsDHAMdAx4DHwMgAyEDIgMjAyQDJQMmAycDKAMpAyoDKwMsAy0DLgMvAzADMQMyAzMDNAM1AzYDNwM4AzkDOgM7AzwDPQM+Az8DQANBA0IDQwNEA0UDRgNHA0gDSQNKA0sDTANNA04DTwNQA1EDUgM=",
          "dtype": "i2"
         },
         "xaxis": "x",
         "y": {
          "bdata": "sBgAAKIXAAC+GQAAkh0AAAwhAABeHwAAVCQAAMIkAAD2JwAAnCcAAKYsAABQLQAA4C4AACowAADCMwAALDMAAKA3AACqNwAAEDsAALQ8AAAWOgAAJEAAADQ/AADyPwAArEQAAIBDAAAaRQAATEoAAJ5IAAB4SwAAFk4AACRPAAByTAAAfFEAAIZRAAAkTwAA3lMAAIRYAACmVAAApFYAADJaAACAVwAAXlsAAHRZAACGWwAAjl0AAGpjAACWXwAAsGMAAEpgAAAQXgAACGEAAExjAAD4YQAAfmMAAMBnAACKawAAomcAAJZpAABmZwAA6GwAAH5tAADWbwAAUHMAANhtAADMbwAAXm8AAIx4AAA+dgAA5nMAAC53AAAkcgAA1HYAAJp5AACmdwAAuncAADZ+AAB2egAAgH8AAAKAAABmgAAA6IUAAFiEAABChgAAUIIAAPqCAADOhgAAAIcAAK6IAACMhwAA9I0AADCOAAAqigAAoo8AAC6VAABajAAASpIAAKyUAAAKkQAAGpUAAIqYAAD6mwAALp8AAKqbAACwmgAAZKAAADSjAADaogAAEKQAAEKkAAB+qQAAuKsAAPapAAAqqAAA+q8AAFixAADCqwAA7K4AALyxAAAkswAA+rQAAAq5AAAaswAA4r0AALa8AACYtwAAHMAAAMK6AAAWvAAA3L4AACrBAADAxgAAcroAAFbCAABCwgAA1sQAANrFAADQygAA8sYAAMbFAADEwgAAqMAAALzFAADMxAAAQMQAALDHAAD4xQAAbMoAANLDAAA2zgAA/MsAAOTKAAAszgAA0MoAALjEAABKyQAAEsUAAMzOAAB6ywAAmMsAAHbFAAAM0AAANMsAAL7NAADazwAAyMMAAALLAAA+xgAA4swAABTIAADYxwAAzswAAL7DAACqyAAA7L0AALjEAAAiyQAAzMkAAMTCAAAgxgAALMQAANTLAABswAAAgMAAACrBAAAivwAAgLsAABK7AADMugAAnL0AANS3AACwvQAAPLkAABayAAAMtwAAercAALatAACSqQAAMrQAADyvAAD4rAAAqLEAADK0AADMqwAAxK4AAEaqAAAGrgAAdrEAAIKlAADipAAAgqUAAKKoAADKqAAAUKUAAAidAADyngAAAp4AAPaaAADAngAAhJkAALCVAAAGmgAAaJIAAMqUAAAKkQAAoJEAALaUAABykgAAto8AALSMAADGiQAAeooAAHCKAACihQAAFIcAACJ+AADEgQAAAH0AAMp7AACKfwAAln0AAKZ8AABKeQAAPHgAAMJ5AAAKcwAApnIAANJzAADuawAAsG0AAEhsAAAgbAAAEmsAAN5nAACEbAAANmUAAHpiAABaZAAAJmEAALhgAABeYAAADlsAAPxYAAAcVwAAzFYAAPBVAADqVgAADlYAAIZRAABSTgAAOE8AACxMAAAeSwAA3kkAAA5HAACIRQAA8kQAAOBCAAAuRQAAmEQAAJRDAACuQgAAKj8AAKRCAACyQwAArD8AAFI/AAA0PwAA4kAAAM5AAADiQAAAFj8AAIo5AADoOgAAxjkAAGo7AAD8OgAAnDsAABY6AACqNwAAtDcAAMw4AAB0NgAAvjIAACo1AADGNAAALDMAADA0AAB4MgAALjEAAIovAACmMQAAPC0AANQrAAAiLgAApiwAAPQpAAA6KgAAOioAAPImAACiJgAAZiYAAKAjAABaIwAAoCMAAJQlAABIIQAA2iAAAEofAACAIAAAvh4AAH4dAABuHgAA6BwAAIobAAC4GgAAhhoAAIIZAAC4GgAAkBoAAI4XAAD8FwAAAhcAANwZAAAiFQAAuBUAAOAVAACCFAAADhUAABQUAAAOFQAAbhQAALQUAADsEwAAYBMAAMwQAADUEgAAvBEAAJ4RAADmDwAApBAAAAQQAAAQDgAAXhAAAHIQAAC0DwAAug4AANgOAAAoDwAAwA0AAMANAAAQDgAA/A0AAO4MAACGCwAAIA0AAN4NAADcCgAABAsAAGIMAAA6DAAADgsAAKoKAACWCgAARgoAAG4KAACgCgAAggoAAHgKAADYCQAAagkAABAJAADyCAAAVgkAANAHAACyBwAAZggAAPgHAAA+CAAAUggAAKgHAAAMCAAA5AcAAMYHAAAWCAAAgAcAAKgHAAC4BgAA2gcAAMwGAADqBgAAHAcAAGgGAACCBQAADgYAAOYFAACGBgAATgcAAK4GAAAEBgAAqgUAAAoFAADcBQAADgYAABQFAABuBQAAbgUAAHQEAAB4BQAAjAUAADwFAACCBQAAeAUAAOwEAABMBAAALgQAADIFAABqBAAAfgQAAOgDAACSBAAAagQAAMoDAACEAwAApgQAALYDAAA4BAAAPgMAACADAABmAwAA5AIAAFwDAADaAgAA1AMAAAIDAAACAwAA7gIAAD4DAADGAgAA2gIAABwCAABiAgAAigIAAOoBAAAwAgAA9AEAAMIBAAD0AQAA/gEAABICAABOAgAAngIAANYBAAD+AQAAHAIAAK4BAABAAQAA1gEAAEoBAAC4AQAArgEAAA==",
          "dtype": "i4"
         },
         "yaxis": "y"
        },
        {
         "line": {
          "color": "#e377c2"
         },
         "mode": "lines",
         "name": "FOx",
         "type": "scatter",
         "x": {
          "bdata": "cgFzAXQBdQF2AXcBeAF5AXoBewF8AX0BfgF/AYABgQGCAYMBhAGFAYYBhwGIAYkBigGLAYwBjQGOAY8BkAGRAZIBkwGUAZUBlgGXAZgBmQGaAZsBnAGdAZ4BnwGgAaEBogGjAaQBpQGmAacBqAGpAaoBqwGsAa0BrgGvAbABsQGyAbMBtAG1AbYBtwG4AbkBugG7AbwBvQG+Ab8BwAHBAcIBwwHEAcUBxgHHAcgByQHKAcsBzAHNAc4BzwHQAdEB0gHTAdQB1QHWAdcB2AHZAdoB2wHcAd0B3gHfAeAB4QHiAeMB5AHlAeYB5wHoAekB6gHrAewB7QHuAe8B8AHxAfIB8wH0AfUB9gH3AfgB+QH6AfsB/AH9Af4B/wEAAgECAgIDAgQCBQIGAgcCCAIJAgoCCwIMAg0CDgIPAhACEQISAhMCFAIVAhYCFwIYAhkCGgIbAhwCHQIeAh8CIAIhAiICIwIkAiUCJgInAigCKQIqAisCLAItAi4CLwIwAjECMgIzAjQCNQI2AjcCOAI5AjoCOwI8Aj0CPgI/AkACQQJCAkMCRAJFAkYCRwJIAkkCSgJLAkwCTQJOAk8CUAJRAlICUwJUAlUCVgJXAlgCWQJaAlsCXAJdAl4CXwJgAmECYgJjAmQCZQJmAmcCaAJpAmoCawJsAm0CbgJvAnACcQJyAnMCdAJ1AnYCdwJ4AnkCegJ7AnwCfQJ+An8CgAKBAoICgwKEAoUChgKHAogCiQKKAosCjAKNAo4CjwKQApECkgKTApQClQKWApcCmAKZApoCmwKcAp0CngKfAqACoQKiAqMCpAKlAqYCpwKoAqkCqgKrAqwCrQKuAq8CsAKxArICswK0ArUCtgK3ArgCuQK6ArsCvAK9Ar4CvwLAAsECwgLDAsQCxQLGAscCyALJAsoCywLMAs0CzgLPAtAC0QLSAtMC1ALVAtYC1wLYAtkC2gLbAtwC3QLeAt8C4ALhAuIC4wLkAuUC5gLnAugC6QLqAusC7ALtAu4C7wLwAvEC8gLzAvQC9QL2AvcC+AL5AvoC+wL8Av0C/gL/AgADAQMCAwMDBAMFAwYDBwMIAwkDCgMLAwwDDQMOAw8DEAMRAxIDEwMUAxUDFgMXAxgDGQMaAxsDHAMdAx4DHwMgAyEDIgMjAyQDJQMmAycDKAMpAyoDKwMsAy0DLgMvAzADMQMyAzMDNAM1AzYDNwM4AzkDOgM7AzwDPQM+Az8DQANBA0IDQwNEA0UDRgNHA0gDSQNKA0sDTANNA04DTwNQA1EDUgM=",
          "dtype": "i2"
         },
         "xaxis": "x",
         "y": {
          "bdata": "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",
          "dtype": "i4"
         },
         "yaxis": "y"
        },
        {
         "line": {
          "color": "#7f7f7f"
         },
         "mode": "lines",
         "name": "FVerde",
         "type": "scatter",
         "x": {
          "bdata": "cgFzAXQBdQF2AXcBeAF5AXoBewF8AX0BfgF/AYABgQGCAYMBhAGFAYYBhwGIAYkBigGLAYwBjQGOAY8BkAGRAZIBkwGUAZUBlgGXAZgBmQGaAZsBnAGdAZ4BnwGgAaEBogGjAaQBpQGmAacBqAGpAaoBqwGsAa0BrgGvAbABsQGyAbMBtAG1AbYBtwG4AbkBugG7AbwBvQG+Ab8BwAHBAcIBwwHEAcUBxgHHAcgByQHKAcsBzAHNAc4BzwHQAdEB0gHTAdQB1QHWAdcB2AHZAdoB2wHcAd0B3gHfAeAB4QHiAeMB5AHlAeYB5wHoAekB6gHrAewB7QHuAe8B8AHxAfIB8wH0AfUB9gH3AfgB+QH6AfsB/AH9Af4B/wEAAgECAgIDAgQCBQIGAgcCCAIJAgoCCwIMAg0CDgIPAhACEQISAhMCFAIVAhYCFwIYAhkCGgIbAhwCHQIeAh8CIAIhAiICIwIkAiUCJgInAigCKQIqAisCLAItAi4CLwIwAjECMgIzAjQCNQI2AjcCOAI5AjoCOwI8Aj0CPgI/AkACQQJCAkMCRAJFAkYCRwJIAkkCSgJLAkwCTQJOAk8CUAJRAlICUwJUAlUCVgJXAlgCWQJaAlsCXAJdAl4CXwJgAmECYgJjAmQCZQJmAmcCaAJpAmoCawJsAm0CbgJvAnACcQJyAnMCdAJ1AnYCdwJ4AnkCegJ7AnwCfQJ+An8CgAKBAoICgwKEAoUChgKHAogCiQKKAosCjAKNAo4CjwKQApECkgKTApQClQKWApcCmAKZApoCmwKcAp0CngKfAqACoQKiAqMCpAKlAqYCpwKoAqkCqgKrAqwCrQKuAq8CsAKxArICswK0ArUCtgK3ArgCuQK6ArsCvAK9Ar4CvwLAAsECwgLDAsQCxQLGAscCyALJAsoCywLMAs0CzgLPAtAC0QLSAtMC1ALVAtYC1wLYAtkC2gLbAtwC3QLeAt8C4ALhAuIC4wLkAuUC5gLnAugC6QLqAusC7ALtAu4C7wLwAvEC8gLzAvQC9QL2AvcC+AL5AvoC+wL8Av0C/gL/AgADAQMCAwMDBAMFAwYDBwMIAwkDCgMLAwwDDQMOAw8DEAMRAxIDEwMUAxUDFgMXAxgDGQMaAxsDHAMdAx4DHwMgAyEDIgMjAyQDJQMmAycDKAMpAyoDKwMsAy0DLgMvAzADMQMyAzMDNAM1AzYDNwM4AzkDOgM7AzwDPQM+Az8DQANBA0IDQwNEA0UDRgNHA0gDSQNKA0sDTANNA04DTwNQA1EDUgM=",
          "dtype": "i2"
         },
         "xaxis": "x",
         "y": {
          "bdata": "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",
          "dtype": "i4"
         },
         "yaxis": "y"
        }
       ],
       "layout": {
        "annotations": [
         {
          "font": {
           "size": 16
          },
          "showarrow": false,
          "text": "Curvas de fluorescencia",
          "x": 0.5,
          "xanchor": "center",
          "xref": "paper",
          "y": 1,
          "yanchor": "bottom",
          "yref": "paper"
         }
        ],
        "font": {
         "color": "black",
         "family": "Arial",
         "size": 14
        },
        "height": 700,
        "margin": {
         "b": 60,
         "l": 80,
         "r": 50,
         "t": 80
        },
        "paper_bgcolor": "white",
        "plot_bgcolor": "white",
        "template": {
         "data": {
          "bar": [
           {
            "error_x": {
             "color": "#2a3f5f"
            },
            "error_y": {
             "color": "#2a3f5f"
            },
            "marker": {
             "line": {
              "color": "#E5ECF6",
              "width": 0.5
             },
             "pattern": {
              "fillmode": "overlay",
              "size": 10,
              "solidity": 0.2
             }
            },
            "type": "bar"
           }
          ],
          "barpolar": [
           {
            "marker": {
             "line": {
              "color": "#E5ECF6",
              "width": 0.5
             },
             "pattern": {
              "fillmode": "overlay",
              "size": 10,
              "solidity": 0.2
             }
            },
            "type": "barpolar"
           }
          ],
          "carpet": [
           {
            "aaxis": {
             "endlinecolor": "#2a3f5f",
             "gridcolor": "white",
             "linecolor": "white",
             "minorgridcolor": "white",
             "startlinecolor": "#2a3f5f"
            },
            "baxis": {
             "endlinecolor": "#2a3f5f",
             "gridcolor": "white",
             "linecolor": "white",
             "minorgridcolor": "white",
             "startlinecolor": "#2a3f5f"
            },
            "type": "carpet"
           }
          ],
          "choropleth": [
           {
            "colorbar": {
             "outlinewidth": 0,
             "ticks": ""
            },
            "type": "choropleth"
           }
          ],
          "contour": [
           {
            "colorbar": {
             "outlinewidth": 0,
             "ticks": ""
            },
            "colorscale": [
             [
              0,
              "#0d0887"
             ],
             [
              0.1111111111111111,
              "#46039f"
             ],
             [
              0.2222222222222222,
              "#7201a8"
             ],
             [
              0.3333333333333333,
              "#9c179e"
             ],
             [
              0.4444444444444444,
              "#bd3786"
             ],
             [
              0.5555555555555556,
              "#d8576b"
             ],
             [
              0.6666666666666666,
              "#ed7953"
             ],
             [
              0.7777777777777778,
              "#fb9f3a"
             ],
             [
              0.8888888888888888,
              "#fdca26"
             ],
             [
              1,
              "#f0f921"
             ]
            ],
            "type": "contour"
           }
          ],
          "contourcarpet": [
           {
            "colorbar": {
             "outlinewidth": 0,
             "ticks": ""
            },
            "type": "contourcarpet"
           }
          ],
          "heatmap": [
           {
            "colorbar": {
             "outlinewidth": 0,
             "ticks": ""
            },
            "colorscale": [
             [
              0,
              "#0d0887"
             ],
             [
              0.1111111111111111,
              "#46039f"
             ],
             [
              0.2222222222222222,
              "#7201a8"
             ],
             [
              0.3333333333333333,
              "#9c179e"
             ],
             [
              0.4444444444444444,
              "#bd3786"
             ],
             [
              0.5555555555555556,
              "#d8576b"
             ],
             [
              0.6666666666666666,
              "#ed7953"
             ],
             [
              0.7777777777777778,
              "#fb9f3a"
             ],
             [
              0.8888888888888888,
              "#fdca26"
             ],
             [
              1,
              "#f0f921"
             ]
            ],
            "type": "heatmap"
           }
          ],
          "histogram": [
           {
            "marker": {
             "pattern": {
              "fillmode": "overlay",
              "size": 10,
              "solidity": 0.2
             }
            },
            "type": "histogram"
           }
          ],
          "histogram2d": [
           {
            "colorbar": {
             "outlinewidth": 0,
             "ticks": ""
            },
            "colorscale": [
             [
              0,
              "#0d0887"
             ],
             [
              0.1111111111111111,
              "#46039f"
             ],
             [
              0.2222222222222222,
              "#7201a8"
             ],
             [
              0.3333333333333333,
              "#9c179e"
             ],
             [
              0.4444444444444444,
              "#bd3786"
             ],
             [
              0.5555555555555556,
              "#d8576b"
             ],
             [
              0.6666666666666666,
              "#ed7953"
             ],
             [
              0.7777777777777778,
              "#fb9f3a"
             ],
             [
              0.8888888888888888,
              "#fdca26"
             ],
             [
              1,
              "#f0f921"
             ]
            ],
            "type": "histogram2d"
           }
          ],
          "histogram2dcontour": [
           {
            "colorbar": {
             "outlinewidth": 0,
             "ticks": ""
            },
            "colorscale": [
             [
              0,
              "#0d0887"
             ],
             [
              0.1111111111111111,
              "#46039f"
             ],
             [
              0.2222222222222222,
              "#7201a8"
             ],
             [
              0.3333333333333333,
              "#9c179e"
             ],
             [
              0.4444444444444444,
              "#bd3786"
             ],
             [
              0.5555555555555556,
              "#d8576b"
             ],
             [
              0.6666666666666666,
              "#ed7953"
             ],
             [
              0.7777777777777778,
              "#fb9f3a"
             ],
             [
              0.8888888888888888,
              "#fdca26"
             ],
             [
              1,
              "#f0f921"
             ]
            ],
            "type": "histogram2dcontour"
           }
          ],
          "mesh3d": [
           {
            "colorbar": {
             "outlinewidth": 0,
             "ticks": ""
            },
            "type": "mesh3d"
           }
          ],
          "parcoords": [
           {
            "line": {
             "colorbar": {
              "outlinewidth": 0,
              "ticks": ""
             }
            },
            "type": "parcoords"
           }
          ],
          "pie": [
           {
            "automargin": true,
            "type": "pie"
           }
          ],
          "scatter": [
           {
            "fillpattern": {
             "fillmode": "overlay",
             "size": 10,
             "solidity": 0.2
            },
            "type": "scatter"
           }
          ],
          "scatter3d": [
           {
            "line": {
             "colorbar": {
              "outlinewidth": 0,
              "ticks": ""
             }
            },
            "marker": {
             "colorbar": {
              "outlinewidth": 0,
              "ticks": ""
             }
            },
            "type": "scatter3d"
           }
          ],
          "scattercarpet": [
           {
            "marker": {
             "colorbar": {
              "outlinewidth": 0,
              "ticks": ""
             }
            },
            "type": "scattercarpet"
           }
          ],
          "scattergeo": [
           {
            "marker": {
             "colorbar": {
              "outlinewidth": 0,
              "ticks": ""
             }
            },
            "type": "scattergeo"
           }
          ],
          "scattergl": [
           {
            "marker": {
             "colorbar": {
              "outlinewidth": 0,
              "ticks": ""
             }
            },
            "type": "scattergl"
           }
          ],
          "scattermap": [
           {
            "marker": {
             "colorbar": {
              "outlinewidth": 0,
              "ticks": ""
             }
            },
            "type": "scattermap"
           }
          ],
          "scattermapbox": [
           {
            "marker": {
             "colorbar": {
              "outlinewidth": 0,
              "ticks": ""
             }
            },
            "type": "scattermapbox"
           }
          ],
          "scatterpolar": [
           {
            "marker": {
             "colorbar": {
              "outlinewidth": 0,
              "ticks": ""
             }
            },
            "type": "scatterpolar"
           }
          ],
          "scatterpolargl": [
           {
            "marker": {
             "colorbar": {
              "outlinewidth": 0,
              "ticks": ""
             }
            },
            "type": "scatterpolargl"
           }
          ],
          "scatterternary": [
           {
            "marker": {
             "colorbar": {
              "outlinewidth": 0,
              "ticks": ""
             }
            },
            "type": "scatterternary"
           }
          ],
          "surface": [
           {
            "colorbar": {
             "outlinewidth": 0,
             "ticks": ""
            },
            "colorscale": [
             [
              0,
              "#0d0887"
             ],
             [
              0.1111111111111111,
              "#46039f"
             ],
             [
              0.2222222222222222,
              "#7201a8"
             ],
             [
              0.3333333333333333,
              "#9c179e"
             ],
             [
              0.4444444444444444,
              "#bd3786"
             ],
             [
              0.5555555555555556,
              "#d8576b"
             ],
             [
              0.6666666666666666,
              "#ed7953"
             ],
             [
              0.7777777777777778,
              "#fb9f3a"
             ],
             [
              0.8888888888888888,
              "#fdca26"
             ],
             [
              1,
              "#f0f921"
             ]
            ],
            "type": "surface"
           }
          ],
          "table": [
           {
            "cells": {
             "fill": {
              "color": "#EBF0F8"
             },
             "line": {
              "color": "white"
             }
            },
            "header": {
             "fill": {
              "color": "#C8D4E3"
             },
             "line": {
              "color": "white"
             }
            },
            "type": "table"
           }
          ]
         },
         "layout": {
          "annotationdefaults": {
           "arrowcolor": "#2a3f5f",
           "arrowhead": 0,
           "arrowwidth": 1
          },
          "autotypenumbers": "strict",
          "coloraxis": {
           "colorbar": {
            "outlinewidth": 0,
            "ticks": ""
           }
          },
          "colorscale": {
           "diverging": [
            [
             0,
             "#8e0152"
            ],
            [
             0.1,
             "#c51b7d"
            ],
            [
             0.2,
             "#de77ae"
            ],
            [
             0.3,
             "#f1b6da"
            ],
            [
             0.4,
             "#fde0ef"
            ],
            [
             0.5,
             "#f7f7f7"
            ],
            [
             0.6,
             "#e6f5d0"
            ],
            [
             0.7,
             "#b8e186"
            ],
            [
             0.8,
             "#7fbc41"
            ],
            [
             0.9,
             "#4d9221"
            ],
            [
             1,
             "#276419"
            ]
           ],
           "sequential": [
            [
             0,
             "#0d0887"
            ],
            [
             0.1111111111111111,
             "#46039f"
            ],
            [
             0.2222222222222222,
             "#7201a8"
            ],
            [
             0.3333333333333333,
             "#9c179e"
            ],
            [
             0.4444444444444444,
             "#bd3786"
            ],
            [
             0.5555555555555556,
             "#d8576b"
            ],
            [
             0.6666666666666666,
             "#ed7953"
            ],
            [
             0.7777777777777778,
             "#fb9f3a"
            ],
            [
             0.8888888888888888,
             "#fdca26"
            ],
            [
             1,
             "#f0f921"
            ]
           ],
           "sequentialminus": [
            [
             0,
             "#0d0887"
            ],
            [
             0.1111111111111111,
             "#46039f"
            ],
            [
             0.2222222222222222,
             "#7201a8"
            ],
            [
             0.3333333333333333,
             "#9c179e"
            ],
            [
             0.4444444444444444,
             "#bd3786"
            ],
            [
             0.5555555555555556,
             "#d8576b"
            ],
            [
             0.6666666666666666,
             "#ed7953"
            ],
            [
             0.7777777777777778,
             "#fb9f3a"
            ],
            [
             0.8888888888888888,
             "#fdca26"
            ],
            [
             1,
             "#f0f921"
            ]
           ]
          },
          "colorway": [
           "#636efa",
           "#EF553B",
           "#00cc96",
           "#ab63fa",
           "#FFA15A",
           "#19d3f3",
           "#FF6692",
           "#B6E880",
           "#FF97FF",
           "#FECB52"
          ],
          "font": {
           "color": "#2a3f5f"
          },
          "geo": {
           "bgcolor": "white",
           "lakecolor": "white",
           "landcolor": "#E5ECF6",
           "showlakes": true,
           "showland": true,
           "subunitcolor": "white"
          },
          "hoverlabel": {
           "align": "left"
          },
          "hovermode": "closest",
          "mapbox": {
           "style": "light"
          },
          "paper_bgcolor": "white",
          "plot_bgcolor": "#E5ECF6",
          "polar": {
           "angularaxis": {
            "gridcolor": "white",
            "linecolor": "white",
            "ticks": ""
           },
           "bgcolor": "#E5ECF6",
           "radialaxis": {
            "gridcolor": "white",
            "linecolor": "white",
            "ticks": ""
           }
          },
          "scene": {
           "xaxis": {
            "backgroundcolor": "#E5ECF6",
            "gridcolor": "white",
            "gridwidth": 2,
            "linecolor": "white",
            "showbackground": true,
            "ticks": "",
            "zerolinecolor": "white"
           },
           "yaxis": {
            "backgroundcolor": "#E5ECF6",
            "gridcolor": "white",
            "gridwidth": 2,
            "linecolor": "white",
            "showbackground": true,
            "ticks": "",
            "zerolinecolor": "white"
           },
           "zaxis": {
            "backgroundcolor": "#E5ECF6",
            "gridcolor": "white",
            "gridwidth": 2,
            "linecolor": "white",
            "showbackground": true,
            "ticks": "",
            "zerolinecolor": "white"
           }
          },
          "shapedefaults": {
           "line": {
            "color": "#2a3f5f"
           }
          },
          "ternary": {
           "aaxis": {
            "gridcolor": "white",
            "linecolor": "white",
            "ticks": ""
           },
           "baxis": {
            "gridcolor": "white",
            "linecolor": "white",
            "ticks": ""
           },
           "bgcolor": "#E5ECF6",
           "caxis": {
            "gridcolor": "white",
            "linecolor": "white",
            "ticks": ""
           }
          },
          "title": {
           "x": 0.05
          },
          "xaxis": {
           "automargin": true,
           "gridcolor": "white",
           "linecolor": "white",
           "ticks": "",
           "title": {
            "standoff": 15
           },
           "zerolinecolor": "white",
           "zerolinewidth": 2
          },
          "yaxis": {
           "automargin": true,
           "gridcolor": "white",
           "linecolor": "white",
           "ticks": "",
           "title": {
            "standoff": 15
           },
           "zerolinecolor": "white",
           "zerolinewidth": 2
          }
         }
        },
        "title": {
         "font": {
          "size": 24
         },
         "text": "Curvas de fluorescencia - Muestras de café",
         "x": 0.05
        },
        "xaxis": {
         "anchor": "y",
         "domain": [
          0,
          1
         ],
         "title": {
          "text": "Longitud de onda (nm)"
         }
        },
        "yaxis": {
         "anchor": "x",
         "domain": [
          0,
          1
         ],
         "title": {
          "text": "Intensidad (CPS)"
         }
        }
       }
      }
     },
     "metadata": {},
     "output_type": "display_data"
    }
   ],
   "source": [
    "import pandas as pd\n",
    "import numpy as np\n",
    "import plotly.graph_objects as go\n",
    "from plotly.subplots import make_subplots\n",
    "from datetime import datetime\n",
    "import os\n",
    "\n",
    "# === Ruta base relativa\n",
    "ruta_base = os.getcwd()\n",
    "\n",
    "# === Archivos de fluorescencia\n",
    "archivos_fluo = [f for f in os.listdir(ruta_base) if f.endswith(\"_data.csv\")]\n",
    "\n",
    "# === Regiones espectrales para fluorescencia\n",
    "regiones = {\n",
    "    '300–400 nm': (300, 400),\n",
    "    '400–500 nm': (400, 500),\n",
    "    '500–600 nm': (500, 600),\n",
    "    '600–700 nm': (600, 700),\n",
    "    '700–800 nm': (700, 800),\n",
    "    '800–900 nm': (800, 900)\n",
    "}\n",
    "\n",
    "# === Función para leer y limpiar\n",
    "def leer_fluo(filepath):\n",
    "    df = pd.read_csv(filepath)\n",
    "    df[\"CPS\"] = pd.to_numeric(df[\"CPS\"], errors=\"coerce\")\n",
    "    return df.dropna()\n",
    "\n",
    "# === Colores para curvas\n",
    "colores_plotly = [\n",
    "    '#1f77b4', '#ff7f0e', '#2ca02c', '#d62728',\n",
    "    '#9467bd', '#8c564b', '#e377c2', '#7f7f7f',\n",
    "    '#bcbd22', '#17becf', '#aec7e8', '#ffbb78'\n",
    "]\n",
    "\n",
    "# === Figura principal\n",
    "fig = make_subplots(\n",
    "    rows=1, cols=1,\n",
    "    subplot_titles=(\"Curvas de fluorescencia\",),\n",
    "    shared_xaxes=False,\n",
    "    shared_yaxes=False\n",
    ")\n",
    "\n",
    "metricas = []\n",
    "\n",
    "for i, archivo in enumerate(archivos_fluo):\n",
    "    nombre_base = archivo.replace(\"_data.csv\", \"\")\n",
    "    df = leer_fluo(os.path.join(ruta_base, archivo))\n",
    "\n",
    "    fig.add_trace(go.Scatter(\n",
    "        x=df[\"nm\"],\n",
    "        y=df[\"CPS\"],\n",
    "        mode='lines',\n",
    "        name=nombre_base,\n",
    "        line=dict(color=colores_plotly[i % len(colores_plotly)])\n",
    "    ), row=1, col=1)\n",
    "\n",
    "    max_val = df[\"CPS\"].max()\n",
    "    min_val = df[\"CPS\"].min()\n",
    "    avg = df[\"CPS\"].mean()\n",
    "    std = df[\"CPS\"].std()\n",
    "    auc = np.trapezoid(df[\"CPS\"], df[\"nm\"])\n",
    "    lambda_max = df[\"nm\"][df[\"CPS\"].idxmax()]\n",
    "    lambda_min = df[\"nm\"][df[\"CPS\"].idxmin()]\n",
    "\n",
    "    proms_reg = {}\n",
    "    for region, (a, b) in regiones.items():\n",
    "        reg_vals = df.loc[(df[\"nm\"] >= a) & (df[\"nm\"] <= b), \"CPS\"]\n",
    "        proms_reg[region] = f\"{reg_vals.mean():.2f}\" if not reg_vals.empty else \"—\"\n",
    "\n",
    "    metricas.append({\n",
    "        'Tipo': 'Fluorescencia',\n",
    "        'Color de curva': colores_plotly[i % len(colores_plotly)],\n",
    "        'Curva': nombre_base,\n",
    "        'Máx': round(max_val, 2),\n",
    "        'Mín': round(min_val, 2),\n",
    "        'Promedio': round(avg, 2),\n",
    "        'Desv. Std': round(std, 2),\n",
    "        'AUC': round(auc, 2),\n",
    "        'λ máx (nm)': round(lambda_max, 2),\n",
    "        'λ mín (nm)': round(lambda_min, 2),\n",
    "        **proms_reg\n",
    "    })\n",
    "\n",
    "# === Tabla HTML\n",
    "df_metricas = pd.DataFrame(metricas)\n",
    "tabla_html = \"<table class='styled-table'><thead><tr>\"\n",
    "for col in df_metricas.columns:\n",
    "    tabla_html += f\"<th>{col}</th>\"\n",
    "tabla_html += \"</tr></thead><tbody>\"\n",
    "for _, row in df_metricas.iterrows():\n",
    "    tabla_html += \"<tr>\"\n",
    "    for col in df_metricas.columns:\n",
    "        if col == \"Color de curva\":\n",
    "            tabla_html += f\"<td style='background-color:{row[col]};'></td>\"\n",
    "        else:\n",
    "            tabla_html += f\"<td>{row[col]}</td>\"\n",
    "    tabla_html += \"</tr>\"\n",
    "tabla_html += \"</tbody></table>\"\n",
    "\n",
    "# === Configuración de layout\n",
    "fig.update_layout(\n",
    "    title=\"Curvas de fluorescencia - Muestras de café\",\n",
    "    title_font_size=24,\n",
    "    title_x=0.05,\n",
    "    plot_bgcolor=\"white\",\n",
    "    paper_bgcolor=\"white\",\n",
    "    font=dict(family=\"Arial\", size=14, color=\"black\"),\n",
    "    margin=dict(l=80, r=50, t=80, b=60),\n",
    "    height=700,\n",
    "    xaxis_title=\"Longitud de onda (nm)\",\n",
    "    yaxis_title=\"Intensidad (CPS)\"\n",
    ")\n",
    "\n",
    "# === HTML Final\n",
    "fecha = datetime.now().strftime('%d-%m-%Y %H:%M:%S')\n",
    "grafica_html = fig.to_html(full_html=False, include_plotlyjs='cdn')\n",
    "\n",
    "html_final = f\"\"\"\n",
    "<!DOCTYPE html>\n",
    "<html lang=\"es\">\n",
    "<head>\n",
    "  <meta charset=\"UTF-8\">\n",
    "  <title>Reporte UV-Vis - Café (Fluorescencia)</title>\n",
    "  <meta name=\"viewport\" content=\"width=device-width, initial-scale=1.0\">\n",
    "  <style>\n",
    "    body {{\n",
    "      font-family: 'Segoe UI', Tahoma, sans-serif;\n",
    "      margin: 40px;\n",
    "      background-color: #fdfdfd;\n",
    "      color: #222;\n",
    "    }}\n",
    "    h1 {{\n",
    "      color: #111;\n",
    "    }}\n",
    "    h2 {{\n",
    "      margin-top: 40px;\n",
    "    }}\n",
    "    .info {{\n",
    "      margin-bottom: 20px;\n",
    "    }}\n",
    "    .lab {{\n",
    "      margin-top: 40px;\n",
    "      font-size: 0.95em;\n",
    "      background-color: #f0f8ff;\n",
    "      padding: 15px;\n",
    "      border-left: 6px solid #009879;\n",
    "    }}\n",
    "    .styled-table {{\n",
    "      border-collapse: collapse;\n",
    "      margin-top: 20px;\n",
    "      font-size: 1em;\n",
    "      width: 100%;\n",
    "      box-shadow: 0 0 10px rgba(0, 0, 0, 0.05);\n",
    "    }}\n",
    "    .styled-table thead tr {{\n",
    "      background-color: #009879;\n",
    "      color: #ffffff;\n",
    "      text-align: left;\n",
    "    }}\n",
    "    .styled-table th, .styled-table td {{\n",
    "      padding: 12px 15px;\n",
    "      border: 1px solid #ddd;\n",
    "      text-align: center;\n",
    "    }}\n",
    "    .styled-table tbody tr:nth-child(even) {{\n",
    "      background-color: #f3f3f3;\n",
    "    }}\n",
    "    .plotly-graph-div {{\n",
    "      width: 100% !important;\n",
    "      height: auto !important;\n",
    "    }}\n",
    "  </style>\n",
    "</head>\n",
    "<body>\n",
    "\n",
    "  <h1>Curvas de fluorescencia</h1> \n",
    "\n",
    "  <div class=\"info\">\n",
    "    <p><strong>Fecha:</strong> {fecha}</p>\n",
    "  </div>\n",
    "\n",
    "  {grafica_html}\n",
    "\n",
    "  <h2>Métricas espectrales por curva</h2>\n",
    "  {tabla_html}\n",
    "\n",
    "  <div>\n",
    "    <p>Las curvas permiten identificar regiones espectrales relevantes para el estudio de compuestos activos en muestras de café. Las métricas estadísticas complementan esta visualización proporcionando información clave sobre el comportamiento espectral en distintas regiones.</p>\n",
    "  </div>\n",
    "\n",
    "  <div class=\"lab\">\n",
    "    <strong>Nombre del proyecto: CafeLab</strong><br><br>\n",
    "    <strong>Colaboradores:</strong><br>\n",
    "    Martín Rodolfo Palomino Merino – Profesor investigador, jefe responsable del laboratorio de caracterización de materiales (FCFM-BUAP).<br>\n",
    "    Lizeth Jazmín Orozco García – Colaboradora principal.<br>\n",
    "    Julio Alfredo Ballinas García – Colaborador del proyecto.\n",
    "  </div>\n",
    "\n",
    "</body>\n",
    "</html>\n",
    "\"\"\"\n",
    "\n",
    "# === Guardar archivo\n",
    "ruta_salida = os.path.join(ruta_base, \"Reporte_Cafe_Fluorescencia.html\")\n",
    "with open(ruta_salida, \"w\", encoding=\"utf-8\") as f:\n",
    "    f.write(html_final)\n",
    "\n",
    "ruta_salida\n",
    "\n",
    "\n",
    "print(f\"Archivo HTML guardado en: {ruta_salida}\")\n",
    "print(\"Rango de longitudes de onda:\", df['nm'].min(), \"a\", df['nm'].max())\n",
    "fig.show()"
   ]
  },
  {
   "cell_type": "code",
   "execution_count": null,
   "id": "402ea1b9",
   "metadata": {},
   "outputs": [],
   "source": []
  },
  {
   "cell_type": "code",
   "execution_count": null,
   "id": "5f52fb8d",
   "metadata": {},
   "outputs": [],
   "source": []
  }
 ],
 "metadata": {
  "jupytext": {
   "formats": "ipynb,py:percent"
  },
  "kernelspec": {
   "display_name": "Python 3",
   "language": "python",
   "name": "python3"
  },
  "language_info": {
   "codemirror_mode": {
    "name": "ipython",
    "version": 3
   },
   "file_extension": ".py",
   "mimetype": "text/x-python",
   "name": "python",
   "nbconvert_exporter": "python",
   "pygments_lexer": "ipython3",
   "version": "3.13.1"
  }
 },
 "nbformat": 4,
 "nbformat_minor": 5
}
