{
 "cells": [
  {
   "cell_type": "code",
   "execution_count": 1,
   "id": "ef9f880a",
   "metadata": {},
   "outputs": [
    {
     "name": "stdout",
     "output_type": "stream",
     "text": [
      "Archivo guardado como AVeMN_matrix_renombrado.csv\n",
      "      nm  75     15  18  225\n",
      "0  190.0 NaN    NaN NaN  NaN\n",
      "1  190.5 NaN    NaN NaN  NaN\n",
      "2  191.0 NaN    NaN NaN  NaN\n",
      "3  191.5 NaN    NaN NaN  NaN\n",
      "4  192.0 NaN  1.699 NaN  NaN\n"
     ]
    }
   ],
   "source": [
    "import pandas as pd\n",
    "\n",
    "# Cargar tu archivo original\n",
    "df = pd.read_csv(\"AVeMN_matrix.csv\")\n",
    "\n",
    "# Renombrar columnas\n",
    "renombres = {\n",
    "    \"AVeMN7_5g\": \"75\",\n",
    "    \"AVeMN15g\": \"15\",\n",
    "    \"AVeMN18g\": \"18\",\n",
    "    \"AVeMN22_5g\": \"225\"\n",
    "}\n",
    "df = df.rename(columns=renombres)\n",
    "\n",
    "# Guardar nuevo archivo\n",
    "df.to_csv(\"AVeMN_matrix_renombrado.csv\", index=False)\n",
    "\n",
    "print(\"Archivo guardado como AVeMN_matrix_renombrado.csv\")\n",
    "print(df.head())\n"
   ]
  },
  {
   "cell_type": "code",
   "execution_count": 2,
   "id": "5c203c80",
   "metadata": {},
   "outputs": [
    {
     "name": "stdout",
     "output_type": "stream",
     "text": [
      "Archivo guardado como TVeMN_matrix_renombrado.csv\n",
      "      nm  75  15  18  225\n",
      "0  390.0 NaN NaN NaN  NaN\n",
      "1  390.5 NaN NaN NaN  NaN\n",
      "2  391.0 NaN NaN NaN  NaN\n",
      "3  391.5 NaN NaN NaN  NaN\n",
      "4  392.0 NaN NaN NaN  NaN\n"
     ]
    }
   ],
   "source": [
    "import pandas as pd\n",
    "\n",
    "# Cargar tu archivo original\n",
    "df = pd.read_csv(\"TVeMN_matrix.csv\")\n",
    "\n",
    "# Renombrar columnas\n",
    "renombres = {\n",
    "    \"TVeMN7_5g\": \"75\",\n",
    "    \"TVeMN15g\": \"15\",\n",
    "    \"TVeMN18g\": \"18\",\n",
    "    \"TVeMN22_5g\": \"225\"\n",
    "}\n",
    "df = df.rename(columns=renombres)\n",
    "\n",
    "# Guardar nuevo archivo\n",
    "df.to_csv(\"TVeMN_matrix_renombrado.csv\", index=False)\n",
    "\n",
    "print(\"Archivo guardado como TVeMN_matrix_renombrado.csv\")\n",
    "print(df.head())\n"
   ]
  }
 ],
 "metadata": {
  "kernelspec": {
   "display_name": "3.11.8",
   "language": "python",
   "name": "python3"
  },
  "language_info": {
   "codemirror_mode": {
    "name": "ipython",
    "version": 3
   },
   "file_extension": ".py",
   "mimetype": "text/x-python",
   "name": "python",
   "nbconvert_exporter": "python",
   "pygments_lexer": "ipython3",
   "version": "3.11.8"
  }
 },
 "nbformat": 4,
 "nbformat_minor": 5
}
