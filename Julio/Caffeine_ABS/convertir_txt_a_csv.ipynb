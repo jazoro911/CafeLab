{
 "cells": [
  {
   "cell_type": "code",
   "execution_count": 5,
   "id": "a601f199",
   "metadata": {},
   "outputs": [
    {
     "name": "stdout",
     "output_type": "stream",
     "text": [
      "Archivo convertido exitosamente a: Caffeine_abs_2.csv\n",
      "El barrido comienza en: 190.0 nm\n",
      "El barrido termina en: 410.0 nm\n"
     ]
    }
   ],
   "source": [
    "import pandas as pd\n",
    "import numpy as np\n",
    "\n",
    "ruta_txt = \"Caffeine_abs_2.txt\"   # archivo TXT original\n",
    "ruta_csv = \"Caffeine_abs_2.csv\"   # archivo CSV de salida\n",
    "\n",
    "# Leer el archivo .txt completo\n",
    "with open(ruta_txt, 'r', encoding=\"utf-8\") as f:\n",
    "    lineas = f.readlines()\n",
    "\n",
    "# Buscar el inicio de los datos (donde aparece 'nm' y 'A')\n",
    "for i, linea in enumerate(lineas):\n",
    "    if 'nm' in linea and 'A' in linea:\n",
    "        inicio_datos = i + 1\n",
    "        break\n",
    "\n",
    "# Extraer datos respetando separador coma\n",
    "datos = []\n",
    "for linea in lineas[inicio_datos:]:\n",
    "    if not linea.strip():\n",
    "        continue\n",
    "    partes = linea.strip().split(\",\")\n",
    "    nm = float(partes[0]) if partes[0] else np.nan\n",
    "    A  = float(partes[1]) if len(partes) > 1 and partes[1] else np.nan\n",
    "    datos.append((nm, A))\n",
    "\n",
    "# Crear DataFrame\n",
    "df = pd.DataFrame(datos, columns=['nm', 'A'])\n",
    "\n",
    "# Guardar como CSV\n",
    "df.to_csv(ruta_csv, index=False)\n",
    "\n",
    "# Mostrar inicio y fin del barrido\n",
    "print(f\"Archivo convertido exitosamente a: {ruta_csv}\")\n",
    "print(f\"El barrido comienza en: {df['nm'].min()} nm\")\n",
    "print(f\"El barrido termina en: {df['nm'].max()} nm\")\n"
   ]
  }
 ],
 "metadata": {
  "kernelspec": {
   "display_name": "Python 3",
   "language": "python",
   "name": "python3"
  },
  "language_info": {
   "codemirror_mode": {
    "name": "ipython",
    "version": 3
   },
   "file_extension": ".py",
   "mimetype": "text/x-python",
   "name": "python",
   "nbconvert_exporter": "python",
   "pygments_lexer": "ipython3",
   "version": "3.13.1"
  }
 },
 "nbformat": 4,
 "nbformat_minor": 5
}
