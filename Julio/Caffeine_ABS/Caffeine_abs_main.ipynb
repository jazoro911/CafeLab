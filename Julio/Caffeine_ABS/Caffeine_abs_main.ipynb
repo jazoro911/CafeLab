{
 "cells": [
  {
   "cell_type": "code",
   "execution_count": 14,
   "id": "c2ecd54e",
   "metadata": {},
   "outputs": [],
   "source": [
    "import pandas as pd"
   ]
  },
  {
   "cell_type": "code",
   "execution_count": 15,
   "id": "43dfe90d",
   "metadata": {},
   "outputs": [],
   "source": [
    "datos=pd.read_csv(\"Caffeine_abs_2.csv\")"
   ]
  },
  {
   "cell_type": "code",
   "execution_count": 16,
   "id": "46ffa10d",
   "metadata": {},
   "outputs": [
    {
     "data": {
      "text/html": [
       "<div>\n",
       "<style scoped>\n",
       "    .dataframe tbody tr th:only-of-type {\n",
       "        vertical-align: middle;\n",
       "    }\n",
       "\n",
       "    .dataframe tbody tr th {\n",
       "        vertical-align: top;\n",
       "    }\n",
       "\n",
       "    .dataframe thead th {\n",
       "        text-align: right;\n",
       "    }\n",
       "</style>\n",
       "<table border=\"1\" class=\"dataframe\">\n",
       "  <thead>\n",
       "    <tr style=\"text-align: right;\">\n",
       "      <th></th>\n",
       "      <th>nm</th>\n",
       "      <th>A</th>\n",
       "    </tr>\n",
       "  </thead>\n",
       "  <tbody>\n",
       "    <tr>\n",
       "      <th>0</th>\n",
       "      <td>190.0</td>\n",
       "      <td>NaN</td>\n",
       "    </tr>\n",
       "    <tr>\n",
       "      <th>1</th>\n",
       "      <td>190.5</td>\n",
       "      <td>NaN</td>\n",
       "    </tr>\n",
       "    <tr>\n",
       "      <th>2</th>\n",
       "      <td>191.0</td>\n",
       "      <td>NaN</td>\n",
       "    </tr>\n",
       "    <tr>\n",
       "      <th>3</th>\n",
       "      <td>191.5</td>\n",
       "      <td>NaN</td>\n",
       "    </tr>\n",
       "    <tr>\n",
       "      <th>4</th>\n",
       "      <td>192.0</td>\n",
       "      <td>NaN</td>\n",
       "    </tr>\n",
       "    <tr>\n",
       "      <th>5</th>\n",
       "      <td>192.5</td>\n",
       "      <td>NaN</td>\n",
       "    </tr>\n",
       "    <tr>\n",
       "      <th>6</th>\n",
       "      <td>193.0</td>\n",
       "      <td>NaN</td>\n",
       "    </tr>\n",
       "    <tr>\n",
       "      <th>7</th>\n",
       "      <td>193.5</td>\n",
       "      <td>NaN</td>\n",
       "    </tr>\n",
       "    <tr>\n",
       "      <th>8</th>\n",
       "      <td>194.0</td>\n",
       "      <td>NaN</td>\n",
       "    </tr>\n",
       "    <tr>\n",
       "      <th>9</th>\n",
       "      <td>194.5</td>\n",
       "      <td>NaN</td>\n",
       "    </tr>\n",
       "    <tr>\n",
       "      <th>10</th>\n",
       "      <td>195.0</td>\n",
       "      <td>NaN</td>\n",
       "    </tr>\n",
       "    <tr>\n",
       "      <th>11</th>\n",
       "      <td>195.5</td>\n",
       "      <td>NaN</td>\n",
       "    </tr>\n",
       "    <tr>\n",
       "      <th>12</th>\n",
       "      <td>196.0</td>\n",
       "      <td>NaN</td>\n",
       "    </tr>\n",
       "    <tr>\n",
       "      <th>13</th>\n",
       "      <td>196.5</td>\n",
       "      <td>NaN</td>\n",
       "    </tr>\n",
       "    <tr>\n",
       "      <th>14</th>\n",
       "      <td>197.0</td>\n",
       "      <td>NaN</td>\n",
       "    </tr>\n",
       "    <tr>\n",
       "      <th>15</th>\n",
       "      <td>197.5</td>\n",
       "      <td>NaN</td>\n",
       "    </tr>\n",
       "    <tr>\n",
       "      <th>16</th>\n",
       "      <td>198.0</td>\n",
       "      <td>NaN</td>\n",
       "    </tr>\n",
       "    <tr>\n",
       "      <th>17</th>\n",
       "      <td>198.5</td>\n",
       "      <td>NaN</td>\n",
       "    </tr>\n",
       "    <tr>\n",
       "      <th>18</th>\n",
       "      <td>199.0</td>\n",
       "      <td>NaN</td>\n",
       "    </tr>\n",
       "    <tr>\n",
       "      <th>19</th>\n",
       "      <td>199.5</td>\n",
       "      <td>NaN</td>\n",
       "    </tr>\n",
       "  </tbody>\n",
       "</table>\n",
       "</div>"
      ],
      "text/plain": [
       "       nm   A\n",
       "0   190.0 NaN\n",
       "1   190.5 NaN\n",
       "2   191.0 NaN\n",
       "3   191.5 NaN\n",
       "4   192.0 NaN\n",
       "5   192.5 NaN\n",
       "6   193.0 NaN\n",
       "7   193.5 NaN\n",
       "8   194.0 NaN\n",
       "9   194.5 NaN\n",
       "10  195.0 NaN\n",
       "11  195.5 NaN\n",
       "12  196.0 NaN\n",
       "13  196.5 NaN\n",
       "14  197.0 NaN\n",
       "15  197.5 NaN\n",
       "16  198.0 NaN\n",
       "17  198.5 NaN\n",
       "18  199.0 NaN\n",
       "19  199.5 NaN"
      ]
     },
     "execution_count": 16,
     "metadata": {},
     "output_type": "execute_result"
    }
   ],
   "source": [
    "datos.head(20)"
   ]
  },
  {
   "cell_type": "code",
   "execution_count": 17,
   "id": "56fbbcf5",
   "metadata": {},
   "outputs": [],
   "source": [
    "x=datos[\"nm\"]\n",
    "y=datos[\"A\"]"
   ]
  },
  {
   "cell_type": "markdown",
   "id": "2e8bc2fd",
   "metadata": {},
   "source": [
    "#### contamos los valores de cada columna del archivo \"Caffeine_abs_2.csv\""
   ]
  },
  {
   "cell_type": "code",
   "execution_count": 18,
   "id": "f9562faf",
   "metadata": {},
   "outputs": [
    {
     "data": {
      "text/plain": [
       "nm\n",
       "190.0    1\n",
       "335.0    1\n",
       "340.5    1\n",
       "340.0    1\n",
       "339.5    1\n",
       "        ..\n",
       "262.0    1\n",
       "261.5    1\n",
       "261.0    1\n",
       "260.5    1\n",
       "410.0    1\n",
       "Name: count, Length: 441, dtype: int64"
      ]
     },
     "execution_count": 18,
     "metadata": {},
     "output_type": "execute_result"
    }
   ],
   "source": [
    "datos[\"nm\"].value_counts()"
   ]
  },
  {
   "cell_type": "code",
   "execution_count": 19,
   "id": "1f4d8bfb",
   "metadata": {},
   "outputs": [
    {
     "data": {
      "text/plain": [
       "A\n",
       "0.004    21\n",
       "0.003    21\n",
       "0.002    16\n",
       "0.005    14\n",
       "0.006    12\n",
       "         ..\n",
       "0.388     1\n",
       "0.418     1\n",
       "0.433     1\n",
       "0.449     1\n",
       "0.042     1\n",
       "Name: count, Length: 195, dtype: int64"
      ]
     },
     "execution_count": 19,
     "metadata": {},
     "output_type": "execute_result"
    }
   ],
   "source": [
    "datos[\"A\"].value_counts()"
   ]
  },
  {
   "cell_type": "markdown",
   "id": "aebb4b02",
   "metadata": {},
   "source": [
    "### Hacemos una primer gráfica usando seaborn"
   ]
  },
  {
   "cell_type": "code",
   "execution_count": 22,
   "id": "f094b9b5",
   "metadata": {},
   "outputs": [
    {
     "data": {
      "image/png": "[encoded data removed]",
      "text/plain": [
       "<Figure size 640x480 with 1 Axes>"
      ]
     },
     "metadata": {},
     "output_type": "display_data"
    }
   ],
   "source": [
    "import seaborn as sb\n",
    "import matplotlib.pyplot as plt\n",
    "\n",
    "sb.scatterplot(x=\"nm\", y=\"A\", data=datos, hue=\"A\", palette=\"coolwarm\")\n",
    "plt.title(\"Gráfica de absorbancia vs longitud de onda de muestra de cafeína - (270 mg/40mL)\")\n",
    "plt.xlabel(\"Longitud de onda (nm)\")\n",
    "plt.ylabel(\"A\")\n",
    "plt.show()"
   ]
  },
  {
   "cell_type": "code",
   "execution_count": 23,
   "id": "7427f739",
   "metadata": {},
   "outputs": [
    {
     "data": {
      "text/plain": [
       "array([[<Axes: title={'center': 'nm'}>, <Axes: title={'center': 'A'}>]],\n",
       "      dtype=object)"
      ]
     },
     "execution_count": 23,
     "metadata": {},
     "output_type": "execute_result"
    },
    {
     "data": {
      "image/png": "[encoded data removed]",
      "text/plain": [
       "<Figure size 500x500 with 2 Axes>"
      ]
     },
     "metadata": {},
     "output_type": "display_data"
    }
   ],
   "source": [
    "datos.hist(figsize=(5,5), bins=20, edgecolor=\"black\", grid=False)"
   ]
  },
  {
   "cell_type": "code",
   "execution_count": 24,
   "id": "25df6fd0",
   "metadata": {},
   "outputs": [
    {
     "data": {
      "image/png": "[encoded data removed]",
      "text/plain": [
       "<Figure size 1000x600 with 1 Axes>"
      ]
     },
     "metadata": {},
     "output_type": "display_data"
    }
   ],
   "source": [
    "from scipy.signal import savgol_filter\n",
    "import matplotlib.pyplot as plt\n",
    "import seaborn as sb\n",
    "\n",
    "# creamos columna suavizada\n",
    "\n",
    "datos[\"A_suave\"]=savgol_filter(datos[\"A\"], window_length=19, polyorder=3)\n",
    "\n",
    "#graficamos el scatterplot con suavizado y gradiente de color\n",
    "\n",
    "plt.figure(figsize=(10,6))\n",
    "sb.scatterplot(x=\"nm\", y=\"A_suave\", data =datos, hue=\"A_suave\", palette=\"coolwarm\", s=20, edgecolor=None)\n",
    "plt.title(\"Absorbancia - Cafeína (Muestra 270 mg, duiluida en 40 ml de agua)\", fontsize=14)\n",
    "plt.xlabel(\"Longitud de onda (nm)\")\n",
    "plt.ylabel(\"Absorbancia\")\n",
    "plt.legend(title='Absorbancia', loc='best')\n",
    "plt.grid(True)\n",
    "plt.tight_layout()\n",
    "plt.show()"
   ]
  },
  {
   "cell_type": "code",
   "execution_count": 3,
   "id": "e820747f",
   "metadata": {},
   "outputs": [
    {
     "name": "stdout",
     "output_type": "stream",
     "text": [
      "Reporte guardado en: /home/jabg20/Desktop/CAFELAB/Caffeine_ABS/Reporte_Cafeina_UVVis.html\n"
     ]
    },
    {
     "data": {
      "application/vnd.plotly.v1+json": {
       "config": {
        "plotlyServerURL": "https://plot.ly"
       },
       "data": [
        {
         "line": {
          "color": "#1f77b4"
         },
         "mode": "lines",
         "name": "Cafeína",
         "type": "scatter",
         "x": {
          "bdata": "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",
          "dtype": "f8"
         },
         "xaxis": "x",
         "y": {
          "bdata": "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",
          "dtype": "f8"
         },
         "yaxis": "y"
        }
       ],
       "layout": {
        "annotations": [
         {
          "font": {
           "size": 16
          },
          "showarrow": false,
          "text": "Curva de absorbancia - Cafeína",
          "x": 0.5,
          "xanchor": "center",
          "xref": "paper",
          "y": 1,
          "yanchor": "bottom",
          "yref": "paper"
         }
        ],
        "font": {
         "color": "black",
         "family": "Arial",
         "size": 14
        },
        "height": 650,
        "margin": {
         "b": 60,
         "l": 80,
         "r": 50,
         "t": 80
        },
        "paper_bgcolor": "white",
        "plot_bgcolor": "white",
        "template": {
         "data": {
          "bar": [
           {
            "error_x": {
             "color": "#2a3f5f"
            },
            "error_y": {
             "color": "#2a3f5f"
            },
            "marker": {
             "line": {
              "color": "#E5ECF6",
              "width": 0.5
             },
             "pattern": {
              "fillmode": "overlay",
              "size": 10,
              "solidity": 0.2
             }
            },
            "type": "bar"
           }
          ],
          "barpolar": [
           {
            "marker": {
             "line": {
              "color": "#E5ECF6",
              "width": 0.5
             },
             "pattern": {
              "fillmode": "overlay",
              "size": 10,
              "solidity": 0.2
             }
            },
            "type": "barpolar"
           }
          ],
          "carpet": [
           {
            "aaxis": {
             "endlinecolor": "#2a3f5f",
             "gridcolor": "white",
             "linecolor": "white",
             "minorgridcolor": "white",
             "startlinecolor": "#2a3f5f"
            },
            "baxis": {
             "endlinecolor": "#2a3f5f",
             "gridcolor": "white",
             "linecolor": "white",
             "minorgridcolor": "white",
             "startlinecolor": "#2a3f5f"
            },
            "type": "carpet"
           }
          ],
          "choropleth": [
           {
            "colorbar": {
             "outlinewidth": 0,
             "ticks": ""
            },
            "type": "choropleth"
           }
          ],
          "contour": [
           {
            "colorbar": {
             "outlinewidth": 0,
             "ticks": ""
            },
            "colorscale": [
             [
              0,
              "#0d0887"
             ],
             [
              0.1111111111111111,
              "#46039f"
             ],
             [
              0.2222222222222222,
              "#7201a8"
             ],
             [
              0.3333333333333333,
              "#9c179e"
             ],
             [
              0.4444444444444444,
              "#bd3786"
             ],
             [
              0.5555555555555556,
              "#d8576b"
             ],
             [
              0.6666666666666666,
              "#ed7953"
             ],
             [
              0.7777777777777778,
              "#fb9f3a"
             ],
             [
              0.8888888888888888,
              "#fdca26"
             ],
             [
              1,
              "#f0f921"
             ]
            ],
            "type": "contour"
           }
          ],
          "contourcarpet": [
           {
            "colorbar": {
             "outlinewidth": 0,
             "ticks": ""
            },
            "type": "contourcarpet"
           }
          ],
          "heatmap": [
           {
            "colorbar": {
             "outlinewidth": 0,
             "ticks": ""
            },
            "colorscale": [
             [
              0,
              "#0d0887"
             ],
             [
              0.1111111111111111,
              "#46039f"
             ],
             [
              0.2222222222222222,
              "#7201a8"
             ],
             [
              0.3333333333333333,
              "#9c179e"
             ],
             [
              0.4444444444444444,
              "#bd3786"
             ],
             [
              0.5555555555555556,
              "#d8576b"
             ],
             [
              0.6666666666666666,
              "#ed7953"
             ],
             [
              0.7777777777777778,
              "#fb9f3a"
             ],
             [
              0.8888888888888888,
              "#fdca26"
             ],
             [
              1,
              "#f0f921"
             ]
            ],
            "type": "heatmap"
           }
          ],
          "histogram": [
           {
            "marker": {
             "pattern": {
              "fillmode": "overlay",
              "size": 10,
              "solidity": 0.2
             }
            },
            "type": "histogram"
           }
          ],
          "histogram2d": [
           {
            "colorbar": {
             "outlinewidth": 0,
             "ticks": ""
            },
            "colorscale": [
             [
              0,
              "#0d0887"
             ],
             [
              0.1111111111111111,
              "#46039f"
             ],
             [
              0.2222222222222222,
              "#7201a8"
             ],
             [
              0.3333333333333333,
              "#9c179e"
             ],
             [
              0.4444444444444444,
              "#bd3786"
             ],
             [
              0.5555555555555556,
              "#d8576b"
             ],
             [
              0.6666666666666666,
              "#ed7953"
             ],
             [
              0.7777777777777778,
              "#fb9f3a"
             ],
             [
              0.8888888888888888,
              "#fdca26"
             ],
             [
              1,
              "#f0f921"
             ]
            ],
            "type": "histogram2d"
           }
          ],
          "histogram2dcontour": [
           {
            "colorbar": {
             "outlinewidth": 0,
             "ticks": ""
            },
            "colorscale": [
             [
              0,
              "#0d0887"
             ],
             [
              0.1111111111111111,
              "#46039f"
             ],
             [
              0.2222222222222222,
              "#7201a8"
             ],
             [
              0.3333333333333333,
              "#9c179e"
             ],
             [
              0.4444444444444444,
              "#bd3786"
             ],
             [
              0.5555555555555556,
              "#d8576b"
             ],
             [
              0.6666666666666666,
              "#ed7953"
             ],
             [
              0.7777777777777778,
              "#fb9f3a"
             ],
             [
              0.8888888888888888,
              "#fdca26"
             ],
             [
              1,
              "#f0f921"
             ]
            ],
            "type": "histogram2dcontour"
           }
          ],
          "mesh3d": [
           {
            "colorbar": {
             "outlinewidth": 0,
             "ticks": ""
            },
            "type": "mesh3d"
           }
          ],
          "parcoords": [
           {
            "line": {
             "colorbar": {
              "outlinewidth": 0,
              "ticks": ""
             }
            },
            "type": "parcoords"
           }
          ],
          "pie": [
           {
            "automargin": true,
            "type": "pie"
           }
          ],
          "scatter": [
           {
            "fillpattern": {
             "fillmode": "overlay",
             "size": 10,
             "solidity": 0.2
            },
            "type": "scatter"
           }
          ],
          "scatter3d": [
           {
            "line": {
             "colorbar": {
              "outlinewidth": 0,
              "ticks": ""
             }
            },
            "marker": {
             "colorbar": {
              "outlinewidth": 0,
              "ticks": ""
             }
            },
            "type": "scatter3d"
           }
          ],
          "scattercarpet": [
           {
            "marker": {
             "colorbar": {
              "outlinewidth": 0,
              "ticks": ""
             }
            },
            "type": "scattercarpet"
           }
          ],
          "scattergeo": [
           {
            "marker": {
             "colorbar": {
              "outlinewidth": 0,
              "ticks": ""
             }
            },
            "type": "scattergeo"
           }
          ],
          "scattergl": [
           {
            "marker": {
             "colorbar": {
              "outlinewidth": 0,
              "ticks": ""
             }
            },
            "type": "scattergl"
           }
          ],
          "scattermap": [
           {
            "marker": {
             "colorbar": {
              "outlinewidth": 0,
              "ticks": ""
             }
            },
            "type": "scattermap"
           }
          ],
          "scattermapbox": [
           {
            "marker": {
             "colorbar": {
              "outlinewidth": 0,
              "ticks": ""
             }
            },
            "type": "scattermapbox"
           }
          ],
          "scatterpolar": [
           {
            "marker": {
             "colorbar": {
              "outlinewidth": 0,
              "ticks": ""
             }
            },
            "type": "scatterpolar"
           }
          ],
          "scatterpolargl": [
           {
            "marker": {
             "colorbar": {
              "outlinewidth": 0,
              "ticks": ""
             }
            },
            "type": "scatterpolargl"
           }
          ],
          "scatterternary": [
           {
            "marker": {
             "colorbar": {
              "outlinewidth": 0,
              "ticks": ""
             }
            },
            "type": "scatterternary"
           }
          ],
          "surface": [
           {
            "colorbar": {
             "outlinewidth": 0,
             "ticks": ""
            },
            "colorscale": [
             [
              0,
              "#0d0887"
             ],
             [
              0.1111111111111111,
              "#46039f"
             ],
             [
              0.2222222222222222,
              "#7201a8"
             ],
             [
              0.3333333333333333,
              "#9c179e"
             ],
             [
              0.4444444444444444,
              "#bd3786"
             ],
             [
              0.5555555555555556,
              "#d8576b"
             ],
             [
              0.6666666666666666,
              "#ed7953"
             ],
             [
              0.7777777777777778,
              "#fb9f3a"
             ],
             [
              0.8888888888888888,
              "#fdca26"
             ],
             [
              1,
              "#f0f921"
             ]
            ],
            "type": "surface"
           }
          ],
          "table": [
           {
            "cells": {
             "fill": {
              "color": "#EBF0F8"
             },
             "line": {
              "color": "white"
             }
            },
            "header": {
             "fill": {
              "color": "#C8D4E3"
             },
             "line": {
              "color": "white"
             }
            },
            "type": "table"
           }
          ]
         },
         "layout": {
          "annotationdefaults": {
           "arrowcolor": "#2a3f5f",
           "arrowhead": 0,
           "arrowwidth": 1
          },
          "autotypenumbers": "strict",
          "coloraxis": {
           "colorbar": {
            "outlinewidth": 0,
            "ticks": ""
           }
          },
          "colorscale": {
           "diverging": [
            [
             0,
             "#8e0152"
            ],
            [
             0.1,
             "#c51b7d"
            ],
            [
             0.2,
             "#de77ae"
            ],
            [
             0.3,
             "#f1b6da"
            ],
            [
             0.4,
             "#fde0ef"
            ],
            [
             0.5,
             "#f7f7f7"
            ],
            [
             0.6,
             "#e6f5d0"
            ],
            [
             0.7,
             "#b8e186"
            ],
            [
             0.8,
             "#7fbc41"
            ],
            [
             0.9,
             "#4d9221"
            ],
            [
             1,
             "#276419"
            ]
           ],
           "sequential": [
            [
             0,
             "#0d0887"
            ],
            [
             0.1111111111111111,
             "#46039f"
            ],
            [
             0.2222222222222222,
             "#7201a8"
            ],
            [
             0.3333333333333333,
             "#9c179e"
            ],
            [
             0.4444444444444444,
             "#bd3786"
            ],
            [
             0.5555555555555556,
             "#d8576b"
            ],
            [
             0.6666666666666666,
             "#ed7953"
            ],
            [
             0.7777777777777778,
             "#fb9f3a"
            ],
            [
             0.8888888888888888,
             "#fdca26"
            ],
            [
             1,
             "#f0f921"
            ]
           ],
           "sequentialminus": [
            [
             0,
             "#0d0887"
            ],
            [
             0.1111111111111111,
             "#46039f"
            ],
            [
             0.2222222222222222,
             "#7201a8"
            ],
            [
             0.3333333333333333,
             "#9c179e"
            ],
            [
             0.4444444444444444,
             "#bd3786"
            ],
            [
             0.5555555555555556,
             "#d8576b"
            ],
            [
             0.6666666666666666,
             "#ed7953"
            ],
            [
             0.7777777777777778,
             "#fb9f3a"
            ],
            [
             0.8888888888888888,
             "#fdca26"
            ],
            [
             1,
             "#f0f921"
            ]
           ]
          },
          "colorway": [
           "#636efa",
           "#EF553B",
           "#00cc96",
           "#ab63fa",
           "#FFA15A",
           "#19d3f3",
           "#FF6692",
           "#B6E880",
           "#FF97FF",
           "#FECB52"
          ],
          "font": {
           "color": "#2a3f5f"
          },
          "geo": {
           "bgcolor": "white",
           "lakecolor": "white",
           "landcolor": "#E5ECF6",
           "showlakes": true,
           "showland": true,
           "subunitcolor": "white"
          },
          "hoverlabel": {
           "align": "left"
          },
          "hovermode": "closest",
          "mapbox": {
           "style": "light"
          },
          "paper_bgcolor": "white",
          "plot_bgcolor": "#E5ECF6",
          "polar": {
           "angularaxis": {
            "gridcolor": "white",
            "linecolor": "white",
            "ticks": ""
           },
           "bgcolor": "#E5ECF6",
           "radialaxis": {
            "gridcolor": "white",
            "linecolor": "white",
            "ticks": ""
           }
          },
          "scene": {
           "xaxis": {
            "backgroundcolor": "#E5ECF6",
            "gridcolor": "white",
            "gridwidth": 2,
            "linecolor": "white",
            "showbackground": true,
            "ticks": "",
            "zerolinecolor": "white"
           },
           "yaxis": {
            "backgroundcolor": "#E5ECF6",
            "gridcolor": "white",
            "gridwidth": 2,
            "linecolor": "white",
            "showbackground": true,
            "ticks": "",
            "zerolinecolor": "white"
           },
           "zaxis": {
            "backgroundcolor": "#E5ECF6",
            "gridcolor": "white",
            "gridwidth": 2,
            "linecolor": "white",
            "showbackground": true,
            "ticks": "",
            "zerolinecolor": "white"
           }
          },
          "shapedefaults": {
           "line": {
            "color": "#2a3f5f"
           }
          },
          "ternary": {
           "aaxis": {
            "gridcolor": "white",
            "linecolor": "white",
            "ticks": ""
           },
           "baxis": {
            "gridcolor": "white",
            "linecolor": "white",
            "ticks": ""
           },
           "bgcolor": "#E5ECF6",
           "caxis": {
            "gridcolor": "white",
            "linecolor": "white",
            "ticks": ""
           }
          },
          "title": {
           "x": 0.05
          },
          "xaxis": {
           "automargin": true,
           "gridcolor": "white",
           "linecolor": "white",
           "ticks": "",
           "title": {
            "standoff": 15
           },
           "zerolinecolor": "white",
           "zerolinewidth": 2
          },
          "yaxis": {
           "automargin": true,
           "gridcolor": "white",
           "linecolor": "white",
           "ticks": "",
           "title": {
            "standoff": 15
           },
           "zerolinecolor": "white",
           "zerolinewidth": 2
          }
         }
        },
        "title": {
         "font": {
          "size": 24
         },
         "text": "Curva de absorbancia - Cafeína",
         "x": 0.05
        },
        "xaxis": {
         "anchor": "y",
         "domain": [
          0,
          1
         ],
         "gridcolor": "lightgray",
         "linecolor": "black",
         "mirror": true,
         "showgrid": true,
         "showline": true,
         "tickfont": {
          "size": 12
         },
         "title": {
          "font": {
           "size": 16
          },
          "text": "Longitud de onda (nm)"
         }
        },
        "yaxis": {
         "anchor": "x",
         "domain": [
          0,
          1
         ],
         "gridcolor": "lightgray",
         "linecolor": "black",
         "mirror": true,
         "showgrid": true,
         "showline": true,
         "tickfont": {
          "size": 12
         },
         "title": {
          "font": {
           "size": 16
          },
          "text": "Absorbancia"
         }
        }
       }
      }
     },
     "metadata": {},
     "output_type": "display_data"
    }
   ],
   "source": [
    "import pandas as pd\n",
    "import numpy as np\n",
    "import plotly.graph_objects as go\n",
    "from plotly.subplots import make_subplots\n",
    "from datetime import datetime\n",
    "import os\n",
    "\n",
    "# === Archivo absorbancia cafeína ===\n",
    "archivo_abs = 'Caffeine_abs_2.csv'  # Ruta al CSV\n",
    "\n",
    "# === Regiones espectrales cafeína (190-410 nm) ===\n",
    "regiones = {\n",
    "    '220–250 nm': (220, 250),\n",
    "    '250–300 nm': (250, 300),\n",
    "    '300–350 nm': (300, 350)\n",
    "}\n",
    "\n",
    "# === Ruta base relativa\n",
    "ruta_base = os.path.dirname(os.path.abspath(archivo_abs))\n",
    "\n",
    "# === Función para leer datos y limpiar ===\n",
    "def leer_csv(filepath):\n",
    "    df = pd.read_csv(filepath)\n",
    "    df.columns = [c.strip().lower() for c in df.columns]\n",
    "    if not set(['nm', 'a']).issubset(df.columns):\n",
    "        raise ValueError(\"El CSV debe tener columnas 'nm' y 'a'.\")\n",
    "    df['nm'] = pd.to_numeric(df['nm'], errors='coerce')\n",
    "    df['a'] = pd.to_numeric(df['a'], errors='coerce')\n",
    "    return df.dropna()\n",
    "\n",
    "# === Cargar datos ===\n",
    "datos_abs = {'Cafeína': leer_csv(archivo_abs)}\n",
    "\n",
    "# === Colores (hex) para las curvas ===\n",
    "colores_plotly = [\n",
    "    '#1f77b4', '#ff7f0e', '#2ca02c', '#d62728',\n",
    "    '#9467bd', '#8c564b', '#e377c2', '#7f7f7f',\n",
    "    '#bcbd22', '#17becf'\n",
    "]\n",
    "\n",
    "# === Figura principal (solo absorbancia) ===\n",
    "fig = make_subplots(\n",
    "    rows=1, cols=1,\n",
    "    subplot_titles=(\"Curva de absorbancia - Cafeína\",),\n",
    "    shared_xaxes=False,\n",
    "    shared_yaxes=False\n",
    ")\n",
    "\n",
    "metricas = []\n",
    "\n",
    "# === Absorbancia ===\n",
    "for i, (nombre, df) in enumerate(datos_abs.items()):\n",
    "    df = df[(df['nm'] >= 220) & (df['nm'] <= 350)].reset_index(drop=True)\n",
    "    datos = df[['nm', 'a']].dropna().rename(columns={'a': 'valor'})\n",
    "    fig.add_trace(go.Scatter(\n",
    "        x=datos['nm'],\n",
    "        y=datos['valor'],\n",
    "        mode='lines',\n",
    "        name=nombre,\n",
    "        line=dict(color=colores_plotly[i % len(colores_plotly)])\n",
    "    ), row=1, col=1)\n",
    "\n",
    "    # === Métricas\n",
    "    max_val = datos['valor'].max()\n",
    "    min_val = datos['valor'].min()\n",
    "    avg = datos['valor'].mean()\n",
    "    std = datos['valor'].std()\n",
    "    auc = np.trapezoid(datos['valor'], datos['nm'])  # Integración con trapz\n",
    "    lambda_max = datos['nm'][datos['valor'].idxmax()]\n",
    "    lambda_min = datos['nm'][datos['valor'].idxmin()]\n",
    "\n",
    "    proms_reg = {}\n",
    "    for region, (a, b) in regiones.items():\n",
    "        reg_vals = datos.loc[(datos['nm'] >= a) & (datos['nm'] <= b), 'valor']\n",
    "        proms_reg[region] = f\"{reg_vals.mean():.3f}\" if not reg_vals.empty else \"—\"\n",
    "\n",
    "    metricas.append({\n",
    "        'Tipo': 'Absorbancia',\n",
    "        'Color de curva': colores_plotly[i % len(colores_plotly)],\n",
    "        'Curva': nombre,\n",
    "        'Máx': round(max_val, 3),\n",
    "        'Mín': round(min_val, 3),\n",
    "        'Promedio': round(avg, 3),\n",
    "        'Desv. Std': round(std, 3),\n",
    "        'AUC': round(auc, 3),\n",
    "        'λ máx (nm)': round(lambda_max, 2),\n",
    "        'λ mín (nm)': round(lambda_min, 2),\n",
    "        **proms_reg\n",
    "    })\n",
    "\n",
    "# === Tabla HTML ===\n",
    "df_metricas = pd.DataFrame(metricas)\n",
    "tabla_html = \"<table class='styled-table'><thead><tr>\"\n",
    "for col in df_metricas.columns:\n",
    "    tabla_html += f\"<th>{col}</th>\"\n",
    "tabla_html += \"</tr></thead><tbody>\"\n",
    "for _, row in df_metricas.iterrows():\n",
    "    tabla_html += \"<tr>\"\n",
    "    for col in df_metricas.columns:\n",
    "        if col == \"Color de curva\":\n",
    "            tabla_html += f\"<td style='background-color:{row[col]};'></td>\"\n",
    "        else:\n",
    "            tabla_html += f\"<td>{row[col]}</td>\"\n",
    "    tabla_html += \"</tr>\"\n",
    "tabla_html += \"</tbody></table>\"\n",
    "\n",
    "# === Estética gráfica ===\n",
    "fig.update_layout(\n",
    "    title=\"Curva de absorbancia - Cafeína\",\n",
    "    title_font_size=24,\n",
    "    title_x=0.05,\n",
    "    plot_bgcolor=\"white\",\n",
    "    paper_bgcolor=\"white\",\n",
    "    font=dict(family=\"Arial\", size=14, color=\"black\"),\n",
    "    margin=dict(l=80, r=50, t=80, b=60),\n",
    "    height=650,\n",
    ")\n",
    "\n",
    "fig.update_xaxes(\n",
    "    title_text=\"Longitud de onda (nm)\",\n",
    "    title_font=dict(size=16),\n",
    "    tickfont=dict(size=12),\n",
    "    showline=True,\n",
    "    linecolor='black',\n",
    "    mirror=True,\n",
    "    showgrid=True,\n",
    "    gridcolor='lightgray'\n",
    ")\n",
    "\n",
    "fig.update_yaxes(\n",
    "    title_text=\"Absorbancia\",\n",
    "    title_font=dict(size=16),\n",
    "    tickfont=dict(size=12),\n",
    "    showline=True,\n",
    "    linecolor='black',\n",
    "    mirror=True,\n",
    "    showgrid=True,\n",
    "    gridcolor='lightgray'\n",
    ")\n",
    "\n",
    "# === HTML Final ===\n",
    "fecha = datetime.now().strftime('%d-%m-%Y %H:%M:%S')\n",
    "grafica_html = fig.to_html(full_html=False, include_plotlyjs='cdn')\n",
    "\n",
    "html_final = f\"\"\"\n",
    "<!DOCTYPE html>\n",
    "<html lang=\"es\">\n",
    "<head>\n",
    "  <meta charset=\"UTF-8\">\n",
    "  <title>Reporte UV-Vis - Cafeína</title>\n",
    "  <meta name=\"viewport\" content=\"width=device-width, initial-scale=1.0\">\n",
    "  <style>\n",
    "    body {{\n",
    "      font-family: 'Segoe UI', Tahoma, sans-serif;\n",
    "      margin: 40px;\n",
    "      background-color: #fdfdfd;\n",
    "      color: #222;\n",
    "    }}\n",
    "    h1 {{\n",
    "      color: #111;\n",
    "    }}\n",
    "    h2 {{\n",
    "      margin-top: 40px;\n",
    "    }}\n",
    "    .info {{\n",
    "      margin-bottom: 20px;\n",
    "    }}\n",
    "    .lab {{\n",
    "      margin-top: 40px;\n",
    "      font-size: 0.95em;\n",
    "      background-color: #f0f8ff;\n",
    "      padding: 15px;\n",
    "      border-left: 6px solid #009879;\n",
    "    }}\n",
    "    .styled-table {{\n",
    "      border-collapse: collapse;\n",
    "      margin-top: 20px;\n",
    "      font-size: 1em;\n",
    "      width: 100%;\n",
    "      box-shadow: 0 0 10px rgba(0, 0, 0, 0.05);\n",
    "    }}\n",
    "    .styled-table thead tr {{\n",
    "      background-color: #009879;\n",
    "      color: #ffffff;\n",
    "      text-align: left;\n",
    "    }}\n",
    "    .styled-table th, .styled-table td {{\n",
    "      padding: 12px 15px;\n",
    "      border: 1px solid #ddd;\n",
    "      text-align: center;\n",
    "    }}\n",
    "    .styled-table tbody tr:nth-child(even) {{\n",
    "      background-color: #f3f3f3;\n",
    "    }}\n",
    "    .plotly-graph-div {{\n",
    "      width: 100% !important;\n",
    "      height: auto !important;\n",
    "    }}\n",
    "  </style>\n",
    "</head>\n",
    "<body>\n",
    "\n",
    "  <h1>Curva de absorbancia - Cafeína</h1> \n",
    "\n",
    "  <div class=\"info\">\n",
    "    <p><strong>Fecha:</strong> {fecha}</p>\n",
    "  </div>\n",
    "\n",
    "  {grafica_html}\n",
    "\n",
    "  <h2>Métricas espectrales</h2>\n",
    "  {tabla_html}\n",
    "\n",
    "  <div>\n",
    "    <p>La curva muestra el comportamiento espectral de la cafeína en el rango UV-Vis, resaltando las regiones de máxima y mínima absorbancia y su distribución promedio en subrangos definidos.</p>\n",
    "  </div>\n",
    "\n",
    "  <div class=\"lab\">\n",
    "    <strong>Nombre del proyecto: Cafeína UV-Vis</strong><br><br>\n",
    "    <strong>Colaboradores:</strong><br>\n",
    "    Martín Rodolfo Palomino Merino – Profesor investigador, jefe responsable del laboratorio de caracterización de materiales (FCFM-BUAP).<br>\n",
    "    Lizeth Jazmín Orozco García – Colaboradora principal.<br>\n",
    "    Julio Alfredo Ballinas García – Colaborador del proyecto.\n",
    "  </div>\n",
    "\n",
    "</body>\n",
    "</html>\n",
    "\"\"\"\n",
    "\n",
    "# === Guardar archivo ===\n",
    "ruta_salida = os.path.join(ruta_base, \"Reporte_Cafeina_UVVis.html\")\n",
    "with open(ruta_salida, \"w\", encoding=\"utf-8\") as f:\n",
    "    f.write(html_final)\n",
    "\n",
    "print(f\"Reporte guardado en: {ruta_salida}\")\n",
    "fig.show()\n"
   ]
  }
 ],
 "metadata": {
  "kernelspec": {
   "display_name": "3.11.8",
   "language": "python",
   "name": "python3"
  },
  "language_info": {
   "codemirror_mode": {
    "name": "ipython",
    "version": 3
   },
   "file_extension": ".py",
   "mimetype": "text/x-python",
   "name": "python",
   "nbconvert_exporter": "python",
   "pygments_lexer": "ipython3",
   "version": "3.11.8"
  }
 },
 "nbformat": 4,
 "nbformat_minor": 5
}
