{
 "cells": [
  {
   "cell_type": "code",
   "execution_count": 2,
   "metadata": {},
   "outputs": [],
   "source": [
    "import pandas as pd"
   ]
  },
  {
   "cell_type": "code",
   "execution_count": 3,
   "metadata": {},
   "outputs": [],
   "source": [
    "datos= pd.read_csv(\"ACh.csv\")"
   ]
  },
  {
   "cell_type": "code",
   "execution_count": 4,
   "metadata": {},
   "outputs": [
    {
     "data": {
      "text/html": [
       "<div>\n",
       "<style scoped>\n",
       "    .dataframe tbody tr th:only-of-type {\n",
       "        vertical-align: middle;\n",
       "    }\n",
       "\n",
       "    .dataframe tbody tr th {\n",
       "        vertical-align: top;\n",
       "    }\n",
       "\n",
       "    .dataframe thead th {\n",
       "        text-align: right;\n",
       "    }\n",
       "</style>\n",
       "<table border=\"1\" class=\"dataframe\">\n",
       "  <thead>\n",
       "    <tr style=\"text-align: right;\">\n",
       "      <th></th>\n",
       "      <th>nm</th>\n",
       "      <th>A</th>\n",
       "      <th>A05</th>\n",
       "      <th>A20</th>\n",
       "      <th>A50</th>\n",
       "    </tr>\n",
       "  </thead>\n",
       "  <tbody>\n",
       "    <tr>\n",
       "      <th>0</th>\n",
       "      <td>200.0</td>\n",
       "      <td>200.0</td>\n",
       "      <td>0.0</td>\n",
       "      <td>0.0</td>\n",
       "      <td>0.0</td>\n",
       "    </tr>\n",
       "    <tr>\n",
       "      <th>1</th>\n",
       "      <td>200.5</td>\n",
       "      <td>200.5</td>\n",
       "      <td>0.0</td>\n",
       "      <td>0.0</td>\n",
       "      <td>0.0</td>\n",
       "    </tr>\n",
       "    <tr>\n",
       "      <th>2</th>\n",
       "      <td>201.0</td>\n",
       "      <td>201.0</td>\n",
       "      <td>0.0</td>\n",
       "      <td>0.0</td>\n",
       "      <td>0.0</td>\n",
       "    </tr>\n",
       "    <tr>\n",
       "      <th>3</th>\n",
       "      <td>201.5</td>\n",
       "      <td>201.5</td>\n",
       "      <td>0.0</td>\n",
       "      <td>0.0</td>\n",
       "      <td>0.0</td>\n",
       "    </tr>\n",
       "    <tr>\n",
       "      <th>4</th>\n",
       "      <td>202.0</td>\n",
       "      <td>202.0</td>\n",
       "      <td>0.0</td>\n",
       "      <td>0.0</td>\n",
       "      <td>0.0</td>\n",
       "    </tr>\n",
       "  </tbody>\n",
       "</table>\n",
       "</div>"
      ],
      "text/plain": [
       "      nm      A  A05  A20  A50\n",
       "0  200.0  200.0  0.0  0.0  0.0\n",
       "1  200.5  200.5  0.0  0.0  0.0\n",
       "2  201.0  201.0  0.0  0.0  0.0\n",
       "3  201.5  201.5  0.0  0.0  0.0\n",
       "4  202.0  202.0  0.0  0.0  0.0"
      ]
     },
     "execution_count": 4,
     "metadata": {},
     "output_type": "execute_result"
    }
   ],
   "source": [
    "datos.head()"
   ]
  },
  {
   "cell_type": "code",
   "execution_count": 5,
   "metadata": {},
   "outputs": [
    {
     "name": "stdout",
     "output_type": "stream",
     "text": [
      "<class 'pandas.core.frame.DataFrame'>\n",
      "RangeIndex: 421 entries, 0 to 420\n",
      "Data columns (total 5 columns):\n",
      " #   Column  Non-Null Count  Dtype  \n",
      "---  ------  --------------  -----  \n",
      " 0   nm      421 non-null    float64\n",
      " 1   A       421 non-null    float64\n",
      " 2   A05     421 non-null    float64\n",
      " 3   A20     421 non-null    float64\n",
      " 4   A50     421 non-null    float64\n",
      "dtypes: float64(5)\n",
      "memory usage: 16.6 KB\n"
     ]
    }
   ],
   "source": [
    "datos.info()"
   ]
  },
  {
   "cell_type": "code",
   "execution_count": 1,
   "metadata": {},
   "outputs": [
    {
     "name": "stdout",
     "output_type": "stream",
     "text": [
      "Directorio actual: /home/jabg20/Escritorio/CafeLab_Manjaro/Data\n"
     ]
    },
    {
     "ename": "FileNotFoundError",
     "evalue": "[Errno 2] No such file or directory: 'Data'",
     "output_type": "error",
     "traceback": [
      "\u001b[31m---------------------------------------------------------------------------\u001b[39m",
      "\u001b[31mFileNotFoundError\u001b[39m                         Traceback (most recent call last)",
      "\u001b[36mCell\u001b[39m\u001b[36m \u001b[39m\u001b[32mIn[1]\u001b[39m\u001b[32m, line 4\u001b[39m\n\u001b[32m      1\u001b[39m \u001b[38;5;28;01mimport\u001b[39;00m\u001b[38;5;250m \u001b[39m\u001b[34;01mos\u001b[39;00m\n\u001b[32m      3\u001b[39m \u001b[38;5;28mprint\u001b[39m(\u001b[33m\"\u001b[39m\u001b[33mDirectorio actual:\u001b[39m\u001b[33m\"\u001b[39m, os.getcwd())\n\u001b[32m----> \u001b[39m\u001b[32m4\u001b[39m \u001b[38;5;28mprint\u001b[39m(\u001b[33m\"\u001b[39m\u001b[33mArchivos en Data/:\u001b[39m\u001b[33m\"\u001b[39m, \u001b[43mos\u001b[49m\u001b[43m.\u001b[49m\u001b[43mlistdir\u001b[49m\u001b[43m(\u001b[49m\u001b[33;43m\"\u001b[39;49m\u001b[33;43mData\u001b[39;49m\u001b[33;43m\"\u001b[39;49m\u001b[43m)\u001b[49m)\n",
      "\u001b[31mFileNotFoundError\u001b[39m: [Errno 2] No such file or directory: 'Data'"
     ]
    }
   ],
   "source": [
    "import os\n",
    "\n",
    "print(\"Directorio actual:\", os.getcwd())\n",
    "print(\"Archivos en Data/:\", os.listdir(\"Data\"))\n",
    "\n"
   ]
  },
  {
   "cell_type": "code",
   "execution_count": 2,
   "metadata": {},
   "outputs": [
    {
     "data": {
      "text/plain": [
       "['TChMN50.txt',\n",
       " 'TMiMG20.txt',\n",
       " 'AChMG20.txt',\n",
       " 'AIlly.csv',\n",
       " 'AMiMG.txt',\n",
       " 'TChMG20.txt',\n",
       " 'AMiMG20.txt',\n",
       " 'TOxMM20.txt',\n",
       " 'AChMG05.txt',\n",
       " 'TMiMG50.txt',\n",
       " 'AOxMM05.txt',\n",
       " 'TChMG05.txt',\n",
       " 'TGoMG20.txt',\n",
       " 'AChMG.txt',\n",
       " 'AGo.csv',\n",
       " 'TOxMM05.txt',\n",
       " 'AChMN.txt',\n",
       " 'TChMN05.txt',\n",
       " 'AMiMG05.txt',\n",
       " 'ACh.ipynb',\n",
       " 'AGoMG50.txt',\n",
       " 'TMiMG.txt',\n",
       " 'AChMG50.txt',\n",
       " 'AMiMGMh.txt',\n",
       " 'TGoMG05.txt',\n",
       " 'TOxMM50.txt',\n",
       " 'TChMN20.txt',\n",
       " 'AMiMG50.txt',\n",
       " 'TMiMGMh.txt',\n",
       " 'AIlly.txt',\n",
       " 'AMi.csv',\n",
       " 'AChMN05.txt',\n",
       " 'TChMG50.txt',\n",
       " 'AGoMG20.txt',\n",
       " 'TGoMG.txt',\n",
       " 'TChMG.txt',\n",
       " 'TMiMG05.txt',\n",
       " 'TOxMM.txt',\n",
       " 'TChMN.txt',\n",
       " 'ACh.csv',\n",
       " 'AChMN20.txt',\n",
       " 'AGoMG.txt',\n",
       " 'AOxMM.txt',\n",
       " 'AGoMG05.txt',\n",
       " 'AOxMM50.txt',\n",
       " 'TGoMG50.txt',\n",
       " 'TIlly.txt',\n",
       " 'AChMN50.txt',\n",
       " 'AOx.csv',\n",
       " 'AOxMM20.txt']"
      ]
     },
     "execution_count": 2,
     "metadata": {},
     "output_type": "execute_result"
    }
   ],
   "source": [
    "os.listdir(\".\")  # El punto representa el directorio actual\n",
    "\n"
   ]
  },
  {
   "cell_type": "code",
   "execution_count": null,
   "metadata": {},
   "outputs": [],
   "source": []
  }
 ],
 "metadata": {
  "kernelspec": {
   "display_name": "Python 3",
   "language": "python",
   "name": "python3"
  },
  "language_info": {
   "codemirror_mode": {
    "name": "ipython",
    "version": 3
   },
   "file_extension": ".py",
   "mimetype": "text/x-python",
   "name": "python",
   "nbconvert_exporter": "python",
   "pygments_lexer": "ipython3",
   "version": "3.13.3"
  }
 },
 "nbformat": 4,
 "nbformat_minor": 2
}
