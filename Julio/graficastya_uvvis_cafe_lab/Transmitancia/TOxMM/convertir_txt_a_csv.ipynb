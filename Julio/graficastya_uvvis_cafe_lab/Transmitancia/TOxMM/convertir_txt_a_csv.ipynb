{
 "cells": [
  {
   "cell_type": "code",
   "execution_count": 1,
   "metadata": {},
   "outputs": [
    {
     "name": "stdout",
     "output_type": "stream",
     "text": [
      "✅ TOxMM20.txt convertido exitosamente a TOxMM20.csv\n",
      "✅ TOxMM05.txt convertido exitosamente a TOxMM05.csv\n",
      "✅ TOxMM50.txt convertido exitosamente a TOxMM50.csv\n",
      "✅ TOxMM.txt convertido exitosamente a TOxMM.csv\n"
     ]
    }
   ],
   "source": [
    "import pandas as pd\n",
    "import os\n",
    "\n",
    "# Iteramos sobre todos los archivos .txt en el directorio actual\n",
    "for archivo in os.listdir():\n",
    "    if archivo.endswith('.txt'):\n",
    "        try:\n",
    "            nombre_csv = archivo.replace('.txt', '.csv')\n",
    "            df = pd.read_csv(archivo, sep='\\t', engine='python')\n",
    "            df.to_csv(nombre_csv, index=False)\n",
    "            print(f\"✅ {archivo} convertido exitosamente a {nombre_csv}\")\n",
    "        except Exception as e:\n",
    "            print(f\"❌ Error al convertir {archivo}: {e}\")"
   ]
  },
  {
   "cell_type": "code",
   "execution_count": null,
   "metadata": {},
   "outputs": [],
   "source": []
  }
 ],
 "metadata": {
  "kernelspec": {
   "display_name": "Python 3",
   "language": "python",
   "name": "python3"
  },
  "language_info": {
   "codemirror_mode": {
    "name": "ipython",
    "version": 3
   },
   "file_extension": ".py",
   "mimetype": "text/x-python",
   "name": "python",
   "nbconvert_exporter": "python",
   "pygments_lexer": "ipython3",
   "version": "3.13.3"
  }
 },
 "nbformat": 4,
 "nbformat_minor": 2
}
