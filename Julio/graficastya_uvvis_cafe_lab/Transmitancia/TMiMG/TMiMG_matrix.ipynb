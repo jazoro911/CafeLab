{
 "cells": [
  {
   "cell_type": "code",
   "execution_count": 1,
   "metadata": {},
   "outputs": [
    {
     "name": "stdout",
     "output_type": "stream",
     "text": [
      "Archivo 'TMiMG_matrix.csv' creado con éxito\n"
     ]
    }
   ],
   "source": [
    "import pandas as pd\n",
    "import os\n",
    "import re\n",
    "\n",
    "# Detectamos los archivos .txt válidos (los que tienen datos de absorbancia)\n",
    "archivos_txt = [f for f in os.listdir() if f.endswith('.txt') and f != 'AOxMM.csv']\n",
    "\n",
    "# Función para extraer gramaje del nombre del archivo\n",
    "def extraer_gramos(nombre):\n",
    "    match = re.search(r'(\\d+_?\\d*)g', nombre)\n",
    "    if match:\n",
    "        return float(match.group(1).replace('_', '.'))\n",
    "    return float('inf')\n",
    "\n",
    "# Ordenamos los archivos por gramaje (más limpio para visualizar después)\n",
    "archivos_ordenados = sorted(archivos_txt, key=extraer_gramos)\n",
    "\n",
    "# Leemos y procesamos los archivos\n",
    "dataframes = []\n",
    "for archivo in archivos_ordenados:\n",
    "    df = pd.read_csv(archivo, sep=None, engine='python')  # autodetecta separador\n",
    "    df = df[pd.to_numeric(df.iloc[:, 0], errors='coerce').notna()]\n",
    "    \n",
    "    nombre_columna = os.path.splitext(archivo)[0]\n",
    "    df.columns = ['nm', nombre_columna]\n",
    "    df[nombre_columna] = pd.to_numeric(df[nombre_columna], errors='coerce')\n",
    "    dataframes.append(df)\n",
    "\n",
    "# Unimos los datos por la columna de longitud de onda\n",
    "df_consolidado = dataframes[0]\n",
    "for df in dataframes[1:]:\n",
    "    df_consolidado = pd.merge(df_consolidado, df, on='nm', how='outer')\n",
    "\n",
    "# Guardamos el archivo final\n",
    "df_consolidado.to_csv('TMiMG_matrix.csv', index=False)\n",
    "\n",
    "print(\"Archivo 'TMiMG_matrix.csv' creado con éxito\")"
   ]
  },
  {
   "cell_type": "code",
   "execution_count": 3,
   "metadata": {},
   "outputs": [],
   "source": [
    "import pandas as pd\n",
    "datos=pd.read_csv(\"TMiMG_matrix.csv\")"
   ]
  },
  {
   "cell_type": "code",
   "execution_count": 4,
   "metadata": {},
   "outputs": [
    {
     "data": {
      "text/html": [
       "<div>\n",
       "<style scoped>\n",
       "    .dataframe tbody tr th:only-of-type {\n",
       "        vertical-align: middle;\n",
       "    }\n",
       "\n",
       "    .dataframe tbody tr th {\n",
       "        vertical-align: top;\n",
       "    }\n",
       "\n",
       "    .dataframe thead th {\n",
       "        text-align: right;\n",
       "    }\n",
       "</style>\n",
       "<table border=\"1\" class=\"dataframe\">\n",
       "  <thead>\n",
       "    <tr style=\"text-align: right;\">\n",
       "      <th></th>\n",
       "      <th>nm</th>\n",
       "      <th>TMiMG20</th>\n",
       "      <th>TMiMG50</th>\n",
       "      <th>TMiMG</th>\n",
       "      <th>TMiMG05</th>\n",
       "    </tr>\n",
       "  </thead>\n",
       "  <tbody>\n",
       "    <tr>\n",
       "      <th>0</th>\n",
       "      <td>390.0</td>\n",
       "      <td>NaN</td>\n",
       "      <td>NaN</td>\n",
       "      <td>NaN</td>\n",
       "      <td>NaN</td>\n",
       "    </tr>\n",
       "    <tr>\n",
       "      <th>1</th>\n",
       "      <td>391.0</td>\n",
       "      <td>NaN</td>\n",
       "      <td>NaN</td>\n",
       "      <td>NaN</td>\n",
       "      <td>NaN</td>\n",
       "    </tr>\n",
       "    <tr>\n",
       "      <th>2</th>\n",
       "      <td>392.0</td>\n",
       "      <td>NaN</td>\n",
       "      <td>NaN</td>\n",
       "      <td>NaN</td>\n",
       "      <td>NaN</td>\n",
       "    </tr>\n",
       "    <tr>\n",
       "      <th>3</th>\n",
       "      <td>393.0</td>\n",
       "      <td>NaN</td>\n",
       "      <td>NaN</td>\n",
       "      <td>NaN</td>\n",
       "      <td>NaN</td>\n",
       "    </tr>\n",
       "    <tr>\n",
       "      <th>4</th>\n",
       "      <td>394.0</td>\n",
       "      <td>61.142</td>\n",
       "      <td>54.249</td>\n",
       "      <td>75.654</td>\n",
       "      <td>70.454</td>\n",
       "    </tr>\n",
       "    <tr>\n",
       "      <th>5</th>\n",
       "      <td>395.0</td>\n",
       "      <td>61.882</td>\n",
       "      <td>55.521</td>\n",
       "      <td>75.661</td>\n",
       "      <td>74.328</td>\n",
       "    </tr>\n",
       "    <tr>\n",
       "      <th>6</th>\n",
       "      <td>396.0</td>\n",
       "      <td>61.594</td>\n",
       "      <td>57.036</td>\n",
       "      <td>76.301</td>\n",
       "      <td>74.831</td>\n",
       "    </tr>\n",
       "    <tr>\n",
       "      <th>7</th>\n",
       "      <td>397.0</td>\n",
       "      <td>59.760</td>\n",
       "      <td>56.346</td>\n",
       "      <td>76.991</td>\n",
       "      <td>72.808</td>\n",
       "    </tr>\n",
       "    <tr>\n",
       "      <th>8</th>\n",
       "      <td>398.0</td>\n",
       "      <td>58.960</td>\n",
       "      <td>55.012</td>\n",
       "      <td>76.758</td>\n",
       "      <td>72.763</td>\n",
       "    </tr>\n",
       "    <tr>\n",
       "      <th>9</th>\n",
       "      <td>399.0</td>\n",
       "      <td>59.890</td>\n",
       "      <td>56.318</td>\n",
       "      <td>77.756</td>\n",
       "      <td>74.194</td>\n",
       "    </tr>\n",
       "  </tbody>\n",
       "</table>\n",
       "</div>"
      ],
      "text/plain": [
       "      nm  TMiMG20  TMiMG50   TMiMG  TMiMG05\n",
       "0  390.0      NaN      NaN     NaN      NaN\n",
       "1  391.0      NaN      NaN     NaN      NaN\n",
       "2  392.0      NaN      NaN     NaN      NaN\n",
       "3  393.0      NaN      NaN     NaN      NaN\n",
       "4  394.0   61.142   54.249  75.654   70.454\n",
       "5  395.0   61.882   55.521  75.661   74.328\n",
       "6  396.0   61.594   57.036  76.301   74.831\n",
       "7  397.0   59.760   56.346  76.991   72.808\n",
       "8  398.0   58.960   55.012  76.758   72.763\n",
       "9  399.0   59.890   56.318  77.756   74.194"
      ]
     },
     "execution_count": 4,
     "metadata": {},
     "output_type": "execute_result"
    }
   ],
   "source": [
    "datos.head(10)"
   ]
  },
  {
   "cell_type": "code",
   "execution_count": 5,
   "metadata": {},
   "outputs": [
    {
     "name": "stdout",
     "output_type": "stream",
     "text": [
      "<class 'pandas.core.frame.DataFrame'>\n",
      "RangeIndex: 361 entries, 0 to 360\n",
      "Data columns (total 5 columns):\n",
      " #   Column   Non-Null Count  Dtype  \n",
      "---  ------   --------------  -----  \n",
      " 0   nm       361 non-null    float64\n",
      " 1   TMiMG20  353 non-null    float64\n",
      " 2   TMiMG50  353 non-null    float64\n",
      " 3   TMiMG    353 non-null    float64\n",
      " 4   TMiMG05  353 non-null    float64\n",
      "dtypes: float64(5)\n",
      "memory usage: 14.2 KB\n"
     ]
    }
   ],
   "source": [
    "datos.info()"
   ]
  },
  {
   "cell_type": "code",
   "execution_count": 6,
   "metadata": {},
   "outputs": [
    {
     "data": {
      "text/html": [
       "<div>\n",
       "<style scoped>\n",
       "    .dataframe tbody tr th:only-of-type {\n",
       "        vertical-align: middle;\n",
       "    }\n",
       "\n",
       "    .dataframe tbody tr th {\n",
       "        vertical-align: top;\n",
       "    }\n",
       "\n",
       "    .dataframe thead th {\n",
       "        text-align: right;\n",
       "    }\n",
       "</style>\n",
       "<table border=\"1\" class=\"dataframe\">\n",
       "  <thead>\n",
       "    <tr style=\"text-align: right;\">\n",
       "      <th></th>\n",
       "      <th>nm</th>\n",
       "      <th>TMiMG20</th>\n",
       "      <th>TMiMG50</th>\n",
       "      <th>TMiMG</th>\n",
       "      <th>TMiMG05</th>\n",
       "    </tr>\n",
       "  </thead>\n",
       "  <tbody>\n",
       "    <tr>\n",
       "      <th>count</th>\n",
       "      <td>361.000000</td>\n",
       "      <td>353.000000</td>\n",
       "      <td>353.000000</td>\n",
       "      <td>353.000000</td>\n",
       "      <td>353.000000</td>\n",
       "    </tr>\n",
       "    <tr>\n",
       "      <th>mean</th>\n",
       "      <td>570.000000</td>\n",
       "      <td>86.966255</td>\n",
       "      <td>85.640657</td>\n",
       "      <td>84.599479</td>\n",
       "      <td>91.953467</td>\n",
       "    </tr>\n",
       "    <tr>\n",
       "      <th>std</th>\n",
       "      <td>104.355961</td>\n",
       "      <td>8.356701</td>\n",
       "      <td>9.837681</td>\n",
       "      <td>5.952722</td>\n",
       "      <td>5.442414</td>\n",
       "    </tr>\n",
       "    <tr>\n",
       "      <th>min</th>\n",
       "      <td>390.000000</td>\n",
       "      <td>58.960000</td>\n",
       "      <td>54.249000</td>\n",
       "      <td>69.890000</td>\n",
       "      <td>70.454000</td>\n",
       "    </tr>\n",
       "    <tr>\n",
       "      <th>25%</th>\n",
       "      <td>480.000000</td>\n",
       "      <td>83.724000</td>\n",
       "      <td>81.495000</td>\n",
       "      <td>79.434000</td>\n",
       "      <td>90.385000</td>\n",
       "    </tr>\n",
       "    <tr>\n",
       "      <th>50%</th>\n",
       "      <td>570.000000</td>\n",
       "      <td>90.808000</td>\n",
       "      <td>90.273000</td>\n",
       "      <td>87.368000</td>\n",
       "      <td>94.656000</td>\n",
       "    </tr>\n",
       "    <tr>\n",
       "      <th>75%</th>\n",
       "      <td>660.000000</td>\n",
       "      <td>92.731000</td>\n",
       "      <td>92.639000</td>\n",
       "      <td>89.594000</td>\n",
       "      <td>95.476000</td>\n",
       "    </tr>\n",
       "    <tr>\n",
       "      <th>max</th>\n",
       "      <td>750.000000</td>\n",
       "      <td>94.009000</td>\n",
       "      <td>93.736000</td>\n",
       "      <td>90.993000</td>\n",
       "      <td>96.359000</td>\n",
       "    </tr>\n",
       "  </tbody>\n",
       "</table>\n",
       "</div>"
      ],
      "text/plain": [
       "               nm     TMiMG20     TMiMG50       TMiMG     TMiMG05\n",
       "count  361.000000  353.000000  353.000000  353.000000  353.000000\n",
       "mean   570.000000   86.966255   85.640657   84.599479   91.953467\n",
       "std    104.355961    8.356701    9.837681    5.952722    5.442414\n",
       "min    390.000000   58.960000   54.249000   69.890000   70.454000\n",
       "25%    480.000000   83.724000   81.495000   79.434000   90.385000\n",
       "50%    570.000000   90.808000   90.273000   87.368000   94.656000\n",
       "75%    660.000000   92.731000   92.639000   89.594000   95.476000\n",
       "max    750.000000   94.009000   93.736000   90.993000   96.359000"
      ]
     },
     "execution_count": 6,
     "metadata": {},
     "output_type": "execute_result"
    }
   ],
   "source": [
    "datos.describe()"
   ]
  },
  {
   "cell_type": "code",
   "execution_count": 7,
   "metadata": {},
   "outputs": [
    {
     "data": {
      "text/plain": [
       "nm     TMiMG20  TMiMG50  TMiMG   TMiMG05\n",
       "746.0  93.670   93.204   89.921  95.791     1\n",
       "730.0  93.120   93.163   90.514  95.603     1\n",
       "729.0  93.199   93.290   90.457  95.693     1\n",
       "728.0  93.496   93.736   90.424  95.464     1\n",
       "727.0  93.698   93.488   90.689  95.571     1\n",
       "                                           ..\n",
       "399.0  59.890   56.318   77.756  74.194     1\n",
       "398.0  58.960   55.012   76.758  72.763     1\n",
       "397.0  59.760   56.346   76.991  72.808     1\n",
       "396.0  61.594   57.036   76.301  74.831     1\n",
       "395.0  61.882   55.521   75.661  74.328     1\n",
       "Name: count, Length: 353, dtype: int64"
      ]
     },
     "execution_count": 7,
     "metadata": {},
     "output_type": "execute_result"
    }
   ],
   "source": [
    "datos.value_counts()"
   ]
  },
  {
   "cell_type": "code",
   "execution_count": 8,
   "metadata": {},
   "outputs": [
    {
     "data": {
      "image/png": "[encoded data removed]",
      "text/plain": [
       "<Figure size 1200x600 with 1 Axes>"
      ]
     },
     "metadata": {},
     "output_type": "display_data"
    }
   ],
   "source": [
    "import pandas as pd\n",
    "import matplotlib.pyplot as plt\n",
    "import numpy as np\n",
    "\n",
    "# Cargamos el archivo con las mediciones de transmitancia almacenados en una matriz de datos\n",
    "df = pd.read_csv(\"TMiMG_matrix.csv\")\n",
    "\n",
    "# Limpiamos datos fuera del rango de %T [0, 100]\n",
    "for columna in df.columns[1:]:\n",
    "    df[columna] = pd.to_numeric(df[columna], errors='coerce')\n",
    "    df.loc[(df[columna] < 0) | (df[columna] > 100), columna] = None\n",
    "\n",
    "# Copiamos el DataFrame limpio\n",
    "df_clean = df.copy()\n",
    "\n",
    "# Obtenemos los valores máximos de cada curva\n",
    "maximos = {\n",
    "    columna: df_clean[columna].max(skipna=True)\n",
    "    for columna in df_clean.columns[1:]\n",
    "}\n",
    "\n",
    "# Ordenamos de mayor a menor para que la leyenda coincida con las curvas\n",
    "columnas_ordenadas = sorted(maximos, key=maximos.get, reverse=True)\n",
    "\n",
    "# Creamos figura\n",
    "plt.figure(figsize=(12, 6))\n",
    "\n",
    "# Dibujamos las curvas solo con valores válidos (sin NaNs)\n",
    "for columna in columnas_ordenadas:\n",
    "    datos_validos = df_clean[['nm', columna]].dropna()\n",
    "    plt.plot(datos_validos['nm'], datos_validos[columna], label=columna)\n",
    "\n",
    "# Etiquetas y estilo (estética de los ejes)\n",
    "plt.xlabel('Longitud de onda (nm)', fontsize=12)\n",
    "plt.ylabel('Transmitancia (%T)', fontsize=12)\n",
    "plt.title('Curvas de transmitancia - Café de Mixteca Alta Oaxaqueña MG (Molienda grande)', fontsize=14)\n",
    "plt.legend(title='Muestras (gramos)', fontsize=10)\n",
    "plt.xticks(df['nm'][::50], rotation=45)\n",
    "plt.grid(True, linestyle='--', alpha=0.6)\n",
    "plt.tight_layout()\n",
    "plt.show()"
   ]
  },
  {
   "cell_type": "code",
   "execution_count": 10,
   "metadata": {},
   "outputs": [
    {
     "name": "stdout",
     "output_type": "stream",
     "text": [
      "✅ HTML generado: Comparativa_muestras_transmitancia.html\n",
      "Rango de longitudes de onda: 390.0 a 750.0\n"
     ]
    },
    {
     "data": {
      "application/vnd.plotly.v1+json": {
       "config": {
        "plotlyServerURL": "https://plot.ly"
       },
       "data": [
        {
         "line": {
          "color": "#1f77b4"
         },
         "mode": "lines",
         "name": "TMiMG20",
         "type": "scatter",
         "x": {
          "bdata": "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",
          "dtype": "f8"
         },
         "y": {
          "bdata": "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",
          "dtype": "f8"
         }
        },
        {
         "line": {
          "color": "#d62728"
         },
         "mode": "lines",
         "name": "TMiMG50",
         "type": "scatter",
         "x": {
          "bdata": "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",
          "dtype": "f8"
         },
         "y": {
          "bdata": "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",
          "dtype": "f8"
         }
        },
        {
         "line": {
          "color": "#e377c2"
         },
         "mode": "lines",
         "name": "TMiMG",
         "type": "scatter",
         "x": {
          "bdata": "AAAAAACgeEAAAAAAALB4QAAAAAAAwHhAAAAAAADQeEAAAAAAAOB4QAAAAAAA8HhAAAAAAAAAeUAAAAAAABB5QAAAAAAAIHlAAAAAAAAweUAAAAAAAEB5QAAAAAAAUHlAAAAAAABgeUAAAAAAAHB5QAAAAAAAgHlAAAAAAACQeUAAAAAAAKB5QAAAAAAAsHlAAAAAAADAeUAAAAAAANB5QAAAAAAA4HlAAAAAAADweUAAAAAAAAB6QAAAAAAAEHpAAAAAAAAgekAAAAAAADB6QAAAAAAAQHpAAAAAAABQekAAAAAAAGB6QAAAAAAAcHpAAAAAAACAekAAAAAAAJB6QAAAAAAAoHpAAAAAAACwekAAAAAAAMB6QAAAAAAA0HpAAAAAAADgekAAAAAAAPB6QAAAAAAAAHtAAAAAAAAQe0AAAAAAACB7QAAAAAAAMHtAAAAAAABAe0AAAAAAAFB7QAAAAAAAYHtAAAAAAABwe0AAAAAAAIB7QAAAAAAAkHtAAAAAAACge0AAAAAAALB7QAAAAAAAwHtAAAAAAADQe0AAAAAAAOB7QAAAAAAA8HtAAAAAAAAAfEAAAAAAABB8QAAAAAAAIHxAAAAAAAAwfEAAAAAAAEB8QAAAAAAAUHxAAAAAAABgfEAAAAAAAHB8QAAAAAAAgHxAAAAAAACQfEAAAAAAAKB8QAAAAAAAsHxAAAAAAADAfEAAAAAAANB8QAAAAAAA4HxAAAAAAADwfEAAAAAAAAB9QAAAAAAAEH1AAAAAAAAgfUAAAAAAADB9QAAAAAAAQH1AAAAAAABQfUAAAAAAAGB9QAAAAAAAcH1AAAAAAACAfUAAAAAAAJB9QAAAAAAAoH1AAAAAAACwfUAAAAAAAMB9QAAAAAAA0H1AAAAAAADgfUAAAAAAAPB9QAAAAAAAAH5AAAAAAAAQfkAAAAAAACB+QAAAAAAAMH5AAAAAAABAfkAAAAAAAFB+QAAAAAAAYH5AAAAAAABwfkAAAAAAAIB+QAAAAAAAkH5AAAAAAACgfkAAAAAAALB+QAAAAAAAwH5AAAAAAADQfkAAAAAAAOB+QAAAAAAA8H5AAAAAAAAAf0AAAAAAABB/QAAAAAAAIH9AAAAAAAAwf0AAAAAAAEB/QAAAAAAAUH9AAAAAAABgf0AAAAAAAHB/QAAAAAAAgH9AAAAAAACQf0AAAAAAAKB/QAAAAAAAsH9AAAAAAADAf0AAAAAAANB/QAAAAAAA4H9AAAAAAADwf0AAAAAAAACAQAAAAAAACIBAAAAAAAAQgEAAAAAAABiAQAAAAAAAIIBAAAAAAAAogEAAAAAAADCAQAAAAAAAOIBAAAAAAABAgEAAAAAAAEiAQAAAAAAAUIBAAAAAAABYgEAAAAAAAGCAQAAAAAAAaIBAAAAAAABwgEAAAAAAAHiAQAAAAAAAgIBAAAAAAACIgEAAAAAAAJCAQAAAAAAAmIBAAAAAAACggEAAAAAAAKiAQAAAAAAAsIBAAAAAAAC4gEAAAAAAAMCAQAAAAAAAyIBAAAAAAADQgEAAAAAAANiAQAAAAAAA4IBAAAAAAADogEAAAAAAAPCAQAAAAAAA+IBAAAAAAAAAgUAAAAAAAAiBQAAAAAAAEIFAAAAAAAAYgUAAAAAAACCBQAAAAAAAKIFAAAAAAAAwgUAAAAAAADiBQAAAAAAAQIFAAAAAAABIgUAAAAAAAFCBQAAAAAAAWIFAAAAAAABggUAAAAAAAGiBQAAAAAAAcIFAAAAAAAB4gUAAAAAAAICBQAAAAAAAiIFAAAAAAACQgUAAAAAAAJiBQAAAAAAAoIFAAAAAAACogUAAAAAAALCBQAAAAAAAuIFAAAAAAADAgUAAAAAAAMiBQAAAAAAA0IFAAAAAAADYgUAAAAAAAOCBQAAAAAAA6IFAAAAAAADwgUAAAAAAAPiBQAAAAAAAAIJAAAAAAAAIgkAAAAAAABCCQAAAAAAAGIJAAAAAAAAggkAAAAAAACiCQAAAAAAAMIJAAAAAAAA4gkAAAAAAAECCQAAAAAAASIJAAAAAAABQgkAAAAAAAFiCQAAAAAAAYIJAAAAAAABogkAAAAAAAHCCQAAAAAAAeIJAAAAAAACAgkAAAAAAAIiCQAAAAAAAkIJAAAAAAACYgkAAAAAAAKCCQAAAAAAAqIJAAAAAAACwgkAAAAAAALiCQAAAAAAAwIJAAAAAAADIgkAAAAAAANCCQAAAAAAA2IJAAAAAAADggkAAAAAAAOiCQAAAAAAA8IJAAAAAAAD4gkAAAAAAAACDQAAAAAAACINAAAAAAAAQg0AAAAAAABiDQAAAAAAAIINAAAAAAAAog0AAAAAAADCDQAAAAAAAOINAAAAAAABAg0AAAAAAAEiDQAAAAAAAUINAAAAAAABYg0AAAAAAAGCDQAAAAAAAaINAAAAAAABwg0AAAAAAAHiDQAAAAAAAgINAAAAAAACIg0AAAAAAAJCDQAAAAAAAmINAAAAAAACgg0AAAAAAAKiDQAAAAAAAsINAAAAAAAC4g0AAAAAAAMCDQAAAAAAAyINAAAAAAADQg0AAAAAAANiDQAAAAAAA4INAAAAAAADog0AAAAAAAPCDQAAAAAAA+INAAAAAAAAAhEAAAAAAAAiEQAAAAAAAEIRAAAAAAAAYhEAAAAAAACCEQAAAAAAAKIRAAAAAAAAwhEAAAAAAADiEQAAAAAAAQIRAAAAAAABIhEAAAAAAAFCEQAAAAAAAWIRAAAAAAABghEAAAAAAAGiEQAAAAAAAcIRAAAAAAAB4hEAAAAAAAICEQAAAAAAAiIRAAAAAAACQhEAAAAAAAJiEQAAAAAAAoIRAAAAAAACohEAAAAAAALCEQAAAAAAAuIRAAAAAAADAhEAAAAAAAMiEQAAAAAAA0IRAAAAAAADYhEAAAAAAAOCEQAAAAAAA6IRAAAAAAADwhEAAAAAAAPiEQAAAAAAAAIVAAAAAAAAIhUAAAAAAABCFQAAAAAAAGIVAAAAAAAAghUAAAAAAACiFQAAAAAAAMIVAAAAAAAA4hUAAAAAAAECFQAAAAAAASIVAAAAAAABQhUAAAAAAAFiFQAAAAAAAYIVAAAAAAABohUAAAAAAAHCFQAAAAAAAeIVAAAAAAACAhUAAAAAAAIiFQAAAAAAAkIVAAAAAAACYhUAAAAAAAKCFQAAAAAAAqIVAAAAAAACwhUAAAAAAALiFQAAAAAAAwIVAAAAAAADIhUAAAAAAANCFQAAAAAAA2IVAAAAAAADghUAAAAAAAOiFQAAAAAAA8IVAAAAAAAD4hUAAAAAAAACGQAAAAAAACIZAAAAAAAAQhkAAAAAAABiGQAAAAAAAIIZAAAAAAAAohkAAAAAAADCGQAAAAAAAOIZAAAAAAABAhkAAAAAAAEiGQAAAAAAAUIZAAAAAAABYhkAAAAAAAGCGQAAAAAAAaIZAAAAAAABwhkAAAAAAAHiGQAAAAAAAgIZAAAAAAACIhkAAAAAAAJCGQAAAAAAAmIZAAAAAAACghkAAAAAAAKiGQAAAAAAAsIZAAAAAAAC4hkAAAAAAAMCGQAAAAAAAyIZAAAAAAADQhkAAAAAAANiGQAAAAAAA4IZAAAAAAADohkAAAAAAAPCGQAAAAAAA+IZAAAAAAAAAh0AAAAAAAAiHQAAAAAAAEIdAAAAAAAAYh0AAAAAAACCHQAAAAAAAKIdAAAAAAAAwh0AAAAAAADiHQAAAAAAAQIdAAAAAAABIh0AAAAAAAFCHQA==",
          "dtype": "f8"
         },
         "y": {
          "bdata": "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",
          "dtype": "f8"
         }
        },
        {
         "line": {
          "color": "#17becf"
         },
         "mode": "lines",
         "name": "TMiMG05",
         "type": "scatter",
         "x": {
          "bdata": "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",
          "dtype": "f8"
         },
         "y": {
          "bdata": "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",
          "dtype": "f8"
         }
        }
       ],
       "layout": {
        "legend": {
         "title": {
          "text": "Curva"
         }
        },
        "margin": {
         "b": 40,
         "l": 40,
         "r": 40,
         "t": 80
        },
        "template": {
         "data": {
          "bar": [
           {
            "error_x": {
             "color": "#2a3f5f"
            },
            "error_y": {
             "color": "#2a3f5f"
            },
            "marker": {
             "line": {
              "color": "white",
              "width": 0.5
             },
             "pattern": {
              "fillmode": "overlay",
              "size": 10,
              "solidity": 0.2
             }
            },
            "type": "bar"
           }
          ],
          "barpolar": [
           {
            "marker": {
             "line": {
              "color": "white",
              "width": 0.5
             },
             "pattern": {
              "fillmode": "overlay",
              "size": 10,
              "solidity": 0.2
             }
            },
            "type": "barpolar"
           }
          ],
          "carpet": [
           {
            "aaxis": {
             "endlinecolor": "#2a3f5f",
             "gridcolor": "#C8D4E3",
             "linecolor": "#C8D4E3",
             "minorgridcolor": "#C8D4E3",
             "startlinecolor": "#2a3f5f"
            },
            "baxis": {
             "endlinecolor": "#2a3f5f",
             "gridcolor": "#C8D4E3",
             "linecolor": "#C8D4E3",
             "minorgridcolor": "#C8D4E3",
             "startlinecolor": "#2a3f5f"
            },
            "type": "carpet"
           }
          ],
          "choropleth": [
           {
            "colorbar": {
             "outlinewidth": 0,
             "ticks": ""
            },
            "type": "choropleth"
           }
          ],
          "contour": [
           {
            "colorbar": {
             "outlinewidth": 0,
             "ticks": ""
            },
            "colorscale": [
             [
              0,
              "#0d0887"
             ],
             [
              0.1111111111111111,
              "#46039f"
             ],
             [
              0.2222222222222222,
              "#7201a8"
             ],
             [
              0.3333333333333333,
              "#9c179e"
             ],
             [
              0.4444444444444444,
              "#bd3786"
             ],
             [
              0.5555555555555556,
              "#d8576b"
             ],
             [
              0.6666666666666666,
              "#ed7953"
             ],
             [
              0.7777777777777778,
              "#fb9f3a"
             ],
             [
              0.8888888888888888,
              "#fdca26"
             ],
             [
              1,
              "#f0f921"
             ]
            ],
            "type": "contour"
           }
          ],
          "contourcarpet": [
           {
            "colorbar": {
             "outlinewidth": 0,
             "ticks": ""
            },
            "type": "contourcarpet"
           }
          ],
          "heatmap": [
           {
            "colorbar": {
             "outlinewidth": 0,
             "ticks": ""
            },
            "colorscale": [
             [
              0,
              "#0d0887"
             ],
             [
              0.1111111111111111,
              "#46039f"
             ],
             [
              0.2222222222222222,
              "#7201a8"
             ],
             [
              0.3333333333333333,
              "#9c179e"
             ],
             [
              0.4444444444444444,
              "#bd3786"
             ],
             [
              0.5555555555555556,
              "#d8576b"
             ],
             [
              0.6666666666666666,
              "#ed7953"
             ],
             [
              0.7777777777777778,
              "#fb9f3a"
             ],
             [
              0.8888888888888888,
              "#fdca26"
             ],
             [
              1,
              "#f0f921"
             ]
            ],
            "type": "heatmap"
           }
          ],
          "histogram": [
           {
            "marker": {
             "pattern": {
              "fillmode": "overlay",
              "size": 10,
              "solidity": 0.2
             }
            },
            "type": "histogram"
           }
          ],
          "histogram2d": [
           {
            "colorbar": {
             "outlinewidth": 0,
             "ticks": ""
            },
            "colorscale": [
             [
              0,
              "#0d0887"
             ],
             [
              0.1111111111111111,
              "#46039f"
             ],
             [
              0.2222222222222222,
              "#7201a8"
             ],
             [
              0.3333333333333333,
              "#9c179e"
             ],
             [
              0.4444444444444444,
              "#bd3786"
             ],
             [
              0.5555555555555556,
              "#d8576b"
             ],
             [
              0.6666666666666666,
              "#ed7953"
             ],
             [
              0.7777777777777778,
              "#fb9f3a"
             ],
             [
              0.8888888888888888,
              "#fdca26"
             ],
             [
              1,
              "#f0f921"
             ]
            ],
            "type": "histogram2d"
           }
          ],
          "histogram2dcontour": [
           {
            "colorbar": {
             "outlinewidth": 0,
             "ticks": ""
            },
            "colorscale": [
             [
              0,
              "#0d0887"
             ],
             [
              0.1111111111111111,
              "#46039f"
             ],
             [
              0.2222222222222222,
              "#7201a8"
             ],
             [
              0.3333333333333333,
              "#9c179e"
             ],
             [
              0.4444444444444444,
              "#bd3786"
             ],
             [
              0.5555555555555556,
              "#d8576b"
             ],
             [
              0.6666666666666666,
              "#ed7953"
             ],
             [
              0.7777777777777778,
              "#fb9f3a"
             ],
             [
              0.8888888888888888,
              "#fdca26"
             ],
             [
              1,
              "#f0f921"
             ]
            ],
            "type": "histogram2dcontour"
           }
          ],
          "mesh3d": [
           {
            "colorbar": {
             "outlinewidth": 0,
             "ticks": ""
            },
            "type": "mesh3d"
           }
          ],
          "parcoords": [
           {
            "line": {
             "colorbar": {
              "outlinewidth": 0,
              "ticks": ""
             }
            },
            "type": "parcoords"
           }
          ],
          "pie": [
           {
            "automargin": true,
            "type": "pie"
           }
          ],
          "scatter": [
           {
            "fillpattern": {
             "fillmode": "overlay",
             "size": 10,
             "solidity": 0.2
            },
            "type": "scatter"
           }
          ],
          "scatter3d": [
           {
            "line": {
             "colorbar": {
              "outlinewidth": 0,
              "ticks": ""
             }
            },
            "marker": {
             "colorbar": {
              "outlinewidth": 0,
              "ticks": ""
             }
            },
            "type": "scatter3d"
           }
          ],
          "scattercarpet": [
           {
            "marker": {
             "colorbar": {
              "outlinewidth": 0,
              "ticks": ""
             }
            },
            "type": "scattercarpet"
           }
          ],
          "scattergeo": [
           {
            "marker": {
             "colorbar": {
              "outlinewidth": 0,
              "ticks": ""
             }
            },
            "type": "scattergeo"
           }
          ],
          "scattergl": [
           {
            "marker": {
             "colorbar": {
              "outlinewidth": 0,
              "ticks": ""
             }
            },
            "type": "scattergl"
           }
          ],
          "scattermap": [
           {
            "marker": {
             "colorbar": {
              "outlinewidth": 0,
              "ticks": ""
             }
            },
            "type": "scattermap"
           }
          ],
          "scattermapbox": [
           {
            "marker": {
             "colorbar": {
              "outlinewidth": 0,
              "ticks": ""
             }
            },
            "type": "scattermapbox"
           }
          ],
          "scatterpolar": [
           {
            "marker": {
             "colorbar": {
              "outlinewidth": 0,
              "ticks": ""
             }
            },
            "type": "scatterpolar"
           }
          ],
          "scatterpolargl": [
           {
            "marker": {
             "colorbar": {
              "outlinewidth": 0,
              "ticks": ""
             }
            },
            "type": "scatterpolargl"
           }
          ],
          "scatterternary": [
           {
            "marker": {
             "colorbar": {
              "outlinewidth": 0,
              "ticks": ""
             }
            },
            "type": "scatterternary"
           }
          ],
          "surface": [
           {
            "colorbar": {
             "outlinewidth": 0,
             "ticks": ""
            },
            "colorscale": [
             [
              0,
              "#0d0887"
             ],
             [
              0.1111111111111111,
              "#46039f"
             ],
             [
              0.2222222222222222,
              "#7201a8"
             ],
             [
              0.3333333333333333,
              "#9c179e"
             ],
             [
              0.4444444444444444,
              "#bd3786"
             ],
             [
              0.5555555555555556,
              "#d8576b"
             ],
             [
              0.6666666666666666,
              "#ed7953"
             ],
             [
              0.7777777777777778,
              "#fb9f3a"
             ],
             [
              0.8888888888888888,
              "#fdca26"
             ],
             [
              1,
              "#f0f921"
             ]
            ],
            "type": "surface"
           }
          ],
          "table": [
           {
            "cells": {
             "fill": {
              "color": "#EBF0F8"
             },
             "line": {
              "color": "white"
             }
            },
            "header": {
             "fill": {
              "color": "#C8D4E3"
             },
             "line": {
              "color": "white"
             }
            },
            "type": "table"
           }
          ]
         },
         "layout": {
          "annotationdefaults": {
           "arrowcolor": "#2a3f5f",
           "arrowhead": 0,
           "arrowwidth": 1
          },
          "autotypenumbers": "strict",
          "coloraxis": {
           "colorbar": {
            "outlinewidth": 0,
            "ticks": ""
           }
          },
          "colorscale": {
           "diverging": [
            [
             0,
             "#8e0152"
            ],
            [
             0.1,
             "#c51b7d"
            ],
            [
             0.2,
             "#de77ae"
            ],
            [
             0.3,
             "#f1b6da"
            ],
            [
             0.4,
             "#fde0ef"
            ],
            [
             0.5,
             "#f7f7f7"
            ],
            [
             0.6,
             "#e6f5d0"
            ],
            [
             0.7,
             "#b8e186"
            ],
            [
             0.8,
             "#7fbc41"
            ],
            [
             0.9,
             "#4d9221"
            ],
            [
             1,
             "#276419"
            ]
           ],
           "sequential": [
            [
             0,
             "#0d0887"
            ],
            [
             0.1111111111111111,
             "#46039f"
            ],
            [
             0.2222222222222222,
             "#7201a8"
            ],
            [
             0.3333333333333333,
             "#9c179e"
            ],
            [
             0.4444444444444444,
             "#bd3786"
            ],
            [
             0.5555555555555556,
             "#d8576b"
            ],
            [
             0.6666666666666666,
             "#ed7953"
            ],
            [
             0.7777777777777778,
             "#fb9f3a"
            ],
            [
             0.8888888888888888,
             "#fdca26"
            ],
            [
             1,
             "#f0f921"
            ]
           ],
           "sequentialminus": [
            [
             0,
             "#0d0887"
            ],
            [
             0.1111111111111111,
             "#46039f"
            ],
            [
             0.2222222222222222,
             "#7201a8"
            ],
            [
             0.3333333333333333,
             "#9c179e"
            ],
            [
             0.4444444444444444,
             "#bd3786"
            ],
            [
             0.5555555555555556,
             "#d8576b"
            ],
            [
             0.6666666666666666,
             "#ed7953"
            ],
            [
             0.7777777777777778,
             "#fb9f3a"
            ],
            [
             0.8888888888888888,
             "#fdca26"
            ],
            [
             1,
             "#f0f921"
            ]
           ]
          },
          "colorway": [
           "#636efa",
           "#EF553B",
           "#00cc96",
           "#ab63fa",
           "#FFA15A",
           "#19d3f3",
           "#FF6692",
           "#B6E880",
           "#FF97FF",
           "#FECB52"
          ],
          "font": {
           "color": "#2a3f5f"
          },
          "geo": {
           "bgcolor": "white",
           "lakecolor": "white",
           "landcolor": "white",
           "showlakes": true,
           "showland": true,
           "subunitcolor": "#C8D4E3"
          },
          "hoverlabel": {
           "align": "left"
          },
          "hovermode": "closest",
          "mapbox": {
           "style": "light"
          },
          "paper_bgcolor": "white",
          "plot_bgcolor": "white",
          "polar": {
           "angularaxis": {
            "gridcolor": "#EBF0F8",
            "linecolor": "#EBF0F8",
            "ticks": ""
           },
           "bgcolor": "white",
           "radialaxis": {
            "gridcolor": "#EBF0F8",
            "linecolor": "#EBF0F8",
            "ticks": ""
           }
          },
          "scene": {
           "xaxis": {
            "backgroundcolor": "white",
            "gridcolor": "#DFE8F3",
            "gridwidth": 2,
            "linecolor": "#EBF0F8",
            "showbackground": true,
            "ticks": "",
            "zerolinecolor": "#EBF0F8"
           },
           "yaxis": {
            "backgroundcolor": "white",
            "gridcolor": "#DFE8F3",
            "gridwidth": 2,
            "linecolor": "#EBF0F8",
            "showbackground": true,
            "ticks": "",
            "zerolinecolor": "#EBF0F8"
           },
           "zaxis": {
            "backgroundcolor": "white",
            "gridcolor": "#DFE8F3",
            "gridwidth": 2,
            "linecolor": "#EBF0F8",
            "showbackground": true,
            "ticks": "",
            "zerolinecolor": "#EBF0F8"
           }
          },
          "shapedefaults": {
           "line": {
            "color": "#2a3f5f"
           }
          },
          "ternary": {
           "aaxis": {
            "gridcolor": "#DFE8F3",
            "linecolor": "#A2B1C6",
            "ticks": ""
           },
           "baxis": {
            "gridcolor": "#DFE8F3",
            "linecolor": "#A2B1C6",
            "ticks": ""
           },
           "bgcolor": "white",
           "caxis": {
            "gridcolor": "#DFE8F3",
            "linecolor": "#A2B1C6",
            "ticks": ""
           }
          },
          "title": {
           "x": 0.05
          },
          "xaxis": {
           "automargin": true,
           "gridcolor": "#EBF0F8",
           "linecolor": "#EBF0F8",
           "ticks": "",
           "title": {
            "standoff": 15
           },
           "zerolinecolor": "#EBF0F8",
           "zerolinewidth": 2
          },
          "yaxis": {
           "automargin": true,
           "gridcolor": "#EBF0F8",
           "linecolor": "#EBF0F8",
           "ticks": "",
           "title": {
            "standoff": 15
           },
           "zerolinecolor": "#EBF0F8",
           "zerolinewidth": 2
          }
         }
        },
        "title": {
         "text": "Curvas de transmitancia - Café de Mixteca Alta Oaxaqueña MG (Molienda grande)"
        },
        "xaxis": {
         "title": {
          "text": "Longitud de onda (nm)"
         }
        },
        "yaxis": {
         "title": {
          "text": "Transmitancia (%)"
         }
        }
       }
      }
     },
     "metadata": {},
     "output_type": "display_data"
    }
   ],
   "source": [
    "import pandas as pd\n",
    "import numpy as np\n",
    "import plotly.graph_objects as go\n",
    "from datetime import datetime\n",
    "import matplotlib.pyplot as plt\n",
    "import matplotlib.colors as mcolors\n",
    "\n",
    "# === Cargar archivo de transmitancia ===\n",
    "ruta = \"TMiMG_matrix.csv\"\n",
    "df = pd.read_csv(ruta)\n",
    "\n",
    "# === Columnas\n",
    "col_nm = [c for c in df.columns if 'nm' in c.lower()][0]\n",
    "col_transmitancia = [c for c in df.columns if c != col_nm]\n",
    "\n",
    "# === Regiones espectrales\n",
    "regiones = {\n",
    "    '100–200 nm': (100, 200),\n",
    "    '200–300 nm': (200, 300),\n",
    "    '300–400 nm': (300, 400),\n",
    "    '400–500 nm': (400, 500),\n",
    "    '500–600 nm': (500, 600),\n",
    "    '600–700 nm': (600, 700),\n",
    "    '700–800 nm': (700, 800)\n",
    "}\n",
    "\n",
    "# === Colores\n",
    "colormap_base = plt.get_cmap('tab10')\n",
    "colormap = colormap_base(np.linspace(0, 1, len(col_transmitancia)))\n",
    "colores_hex = [mcolors.to_hex(c) for c in colormap]\n",
    "\n",
    "# === Figura\n",
    "fig = go.Figure()\n",
    "fig.update_layout(\n",
    "    title=\"Curvas de transmitancia - Café de Mixteca Alta Oaxaqueña MG (Molienda grande)\",\n",
    "    xaxis_title=\"Longitud de onda (nm)\",\n",
    "    yaxis_title=\"Transmitancia (%)\",\n",
    "    legend_title=\"Curva\",\n",
    "    template=\"plotly_white\",\n",
    "    margin=dict(l=40, r=40, t=80, b=40),\n",
    ")\n",
    "\n",
    "# === Métricas\n",
    "metricas = []\n",
    "for i, col in enumerate(col_transmitancia):\n",
    "    datos = df[[col_nm, col]].dropna().rename(columns={col_nm: 'nm', col: 'transmitancia'})\n",
    "    datos['transmitancia'] = pd.to_numeric(datos['transmitancia'], errors='coerce')\n",
    "    datos = datos.dropna()\n",
    "    if datos.empty:\n",
    "        continue\n",
    "\n",
    "    fig.add_trace(go.Scatter(\n",
    "        x=datos['nm'],\n",
    "        y=datos['transmitancia'],\n",
    "        mode='lines',\n",
    "        name=col,\n",
    "        line=dict(color=colores_hex[i])\n",
    "    ))\n",
    "\n",
    "    max_val = datos['transmitancia'].max()\n",
    "    min_val = datos['transmitancia'].min()\n",
    "    avg = datos['transmitancia'].mean()\n",
    "    std = datos['transmitancia'].std()\n",
    "    auc = np.trapezoid(datos['transmitancia'], datos['nm'])\n",
    "    lambda_max = datos['nm'][datos['transmitancia'].idxmax()]\n",
    "    lambda_min = datos['nm'][datos['transmitancia'].idxmin()]\n",
    "\n",
    "    proms_reg = {}\n",
    "    for region, (a, b) in regiones.items():\n",
    "        reg_vals = datos.loc[(datos['nm'] >= a) & (datos['nm'] <= b), 'transmitancia']\n",
    "        proms_reg[region] = f\"{reg_vals.mean():.2f}\" if not reg_vals.empty else \"—\"\n",
    "\n",
    "    metricas.append({\n",
    "        'Color de curva': colores_hex[i],\n",
    "        'Curva': col,\n",
    "        'Máx (%T)': round(max_val, 2),\n",
    "        'Mín (%T)': round(min_val, 2),\n",
    "        'Promedio (%)': round(avg, 2),\n",
    "        'Desv. Std': round(std, 2),\n",
    "        'AUC': round(auc, 2),\n",
    "        'λ máx (nm)': round(lambda_max, 2),\n",
    "        'λ mín (nm)': round(lambda_min, 2),\n",
    "        **proms_reg\n",
    "    })\n",
    "\n",
    "# === Tabla HTML\n",
    "df_metricas = pd.DataFrame(metricas)\n",
    "tabla_html = \"<table class='styled-table'><thead><tr>\"\n",
    "for col in df_metricas.columns:\n",
    "    tabla_html += f\"<th>{col}</th>\"\n",
    "tabla_html += \"</tr></thead><tbody>\"\n",
    "for _, row in df_metricas.iterrows():\n",
    "    tabla_html += \"<tr>\"\n",
    "    for col in df_metricas.columns:\n",
    "        if col == \"Color de curva\":\n",
    "            tabla_html += f\"<td style='background-color:{row[col]};'></td>\"\n",
    "        else:\n",
    "            tabla_html += f\"<td>{row[col]}</td>\"\n",
    "    tabla_html += \"</tr>\"\n",
    "tabla_html += \"</tbody></table>\"\n",
    "\n",
    "# === HTML Final\n",
    "fecha = datetime.now().strftime('%d-%m-%Y %H:%M:%S')\n",
    "grafica_html = fig.to_html(full_html=False, include_plotlyjs='cdn')\n",
    "\n",
    "html_final = f\"\"\"\n",
    "<!DOCTYPE html>\n",
    "<html lang=\"es\">\n",
    "<head>\n",
    "  <meta charset=\"UTF-8\">\n",
    "  <title>Reporte de Transmitancia UV-Vis</title>\n",
    "  <meta name=\"viewport\" content=\"width=device-width, initial-scale=1.0\">\n",
    "  <style>\n",
    "    body {{\n",
    "      font-family: 'Segoe UI', Tahoma, sans-serif;\n",
    "      margin: 40px;\n",
    "      background-color: #fdfdfd;\n",
    "      color: #222;\n",
    "    }}\n",
    "    h1 {{\n",
    "      color: #111;\n",
    "    }}\n",
    "    h2 {{\n",
    "      margin-top: 40px;\n",
    "    }}\n",
    "    .info {{\n",
    "      margin-bottom: 20px;\n",
    "    }}\n",
    "    .lab {{\n",
    "      margin-top: 40px;\n",
    "      font-size: 0.95em;\n",
    "      background-color: #f0f8ff;\n",
    "      padding: 15px;\n",
    "      border-left: 6px solid #009879;\n",
    "    }}\n",
    "    .styled-table {{\n",
    "      border-collapse: collapse;\n",
    "      margin-top: 20px;\n",
    "      font-size: 1em;\n",
    "      width: 100%;\n",
    "      box-shadow: 0 0 10px rgba(0, 0, 0, 0.05);\n",
    "    }}\n",
    "    .styled-table thead tr {{\n",
    "      background-color: #009879;\n",
    "      color: #ffffff;\n",
    "      text-align: left;\n",
    "    }}\n",
    "    .styled-table th, .styled-table td {{\n",
    "      padding: 12px 15px;\n",
    "      border: 1px solid #ddd;\n",
    "      text-align: center;\n",
    "    }}\n",
    "    .styled-table tbody tr:nth-child(even) {{\n",
    "      background-color: #f3f3f3;\n",
    "    }}\n",
    "    .plotly-graph-div {{\n",
    "      width: 100% !important;\n",
    "      height: auto !important;\n",
    "    }}\n",
    "  </style>\n",
    "</head>\n",
    "<body>\n",
    "\n",
    "  <h1>Curvas de transmitancia - Café de Mixteca Alta Oaxaqueña MG (Molienda grande)</h1> \n",
    "\n",
    "  <div class=\"info\">\n",
    "    <p><strong>Fecha:</strong> {fecha}</p>\n",
    "  </div>\n",
    "\n",
    "  {grafica_html}\n",
    "\n",
    "  <h2>Métricas espectrales por curva</h2>\n",
    "  {tabla_html}\n",
    "\n",
    "  <div>\n",
    "    <p>Las curvas de transmitancia permiten identificar la transparencia relativa de la muestra a lo largo del espectro. Una menor transmitancia puede sugerir absorción fuerte en ciertas regiones, lo cual es útil para análisis de compuestos activos presentes en el café.</p>\n",
    "  </div>\n",
    "\n",
    "  <div class=\"lab\">\n",
    "    <strong>Nombre del proyecto: CafeLab</strong><br><br>\n",
    "    <strong>Colaboradores:</strong><br>\n",
    "    Martín Rodolfo Palomino Merino – Profesor investigador, jefe responsable del laboratorio de caracterización de materiales (FCFM-BUAP).<br>\n",
    "    Lizeth Jazmín Orozco García – Colaborador principal.<br>\n",
    "    Julio Alfredo Ballinas García – Colaborador del proyecto.\n",
    "  </div>\n",
    "\n",
    "</body>\n",
    "</html>\n",
    "\"\"\"\n",
    "\n",
    "# === Guardar archivo\n",
    "with open(\"Comparativa_muestras_transmitancia.html\", \"w\", encoding=\"utf-8\") as f:\n",
    "    f.write(html_final)\n",
    "\n",
    "print(\"✅ HTML generado: Comparativa_muestras_transmitancia.html\")\n",
    "print(\"Rango de longitudes de onda:\", df['nm'].min(), \"a\", df['nm'].max())\n",
    "fig.show()"
   ]
  }
 ],
 "metadata": {
  "kernelspec": {
   "display_name": "ydata-env",
   "language": "python",
   "name": "python3"
  },
  "language_info": {
   "codemirror_mode": {
    "name": "ipython",
    "version": 3
   },
   "file_extension": ".py",
   "mimetype": "text/x-python",
   "name": "python",
   "nbconvert_exporter": "python",
   "pygments_lexer": "ipython3",
   "version": "3.11.8"
  }
 },
 "nbformat": 4,
 "nbformat_minor": 2
}
