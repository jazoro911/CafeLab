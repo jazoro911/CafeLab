{
 "cells": [
  {
   "cell_type": "code",
   "execution_count": 1,
   "metadata": {},
   "outputs": [
    {
     "name": "stdout",
     "output_type": "stream",
     "text": [
      "✅ TChMG20.txt convertido exitosamente a TChMG20.csv\n",
      "✅ TChMG05.txt convertido exitosamente a TChMG05.csv\n",
      "✅ TChMG50.txt convertido exitosamente a TChMG50.csv\n",
      "✅ TChMG.txt convertido exitosamente a TChMG.csv\n"
     ]
    }
   ],
   "source": [
    "import pandas as pd\n",
    "import os\n",
    "\n",
    "# Iteramos sobre todos los archivos .txt en el directorio actual\n",
    "for archivo in os.listdir():\n",
    "    if archivo.endswith('.txt'):\n",
    "        try:\n",
    "            nombre_csv = archivo.replace('.txt', '.csv')\n",
    "            df = pd.read_csv(archivo, sep='\\t', engine='python')\n",
    "            df.to_csv(nombre_csv, index=False)\n",
    "            print(f\"✅ {archivo} convertido exitosamente a {nombre_csv}\")\n",
    "        except Exception as e:\n",
    "            print(f\"❌ Error al convertir {archivo}: {e}\")"
   ]
  }
 ],
 "metadata": {
  "kernelspec": {
   "display_name": "ydata-env",
   "language": "python",
   "name": "python3"
  },
  "language_info": {
   "codemirror_mode": {
    "name": "ipython",
    "version": 3
   },
   "file_extension": ".py",
   "mimetype": "text/x-python",
   "name": "python",
   "nbconvert_exporter": "python",
   "pygments_lexer": "ipython3",
   "version": "3.11.8"
  }
 },
 "nbformat": 4,
 "nbformat_minor": 2
}
