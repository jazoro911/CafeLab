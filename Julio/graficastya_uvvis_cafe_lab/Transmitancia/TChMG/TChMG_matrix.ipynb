{
 "cells": [
  {
   "cell_type": "code",
   "execution_count": 1,
   "metadata": {},
   "outputs": [
    {
     "name": "stdout",
     "output_type": "stream",
     "text": [
      "Archivo 'TChMG_matrix.csv' creado con éxito\n"
     ]
    }
   ],
   "source": [
    "import pandas as pd\n",
    "import os\n",
    "import re\n",
    "\n",
    "# Detectamos los archivos .txt válidos (los que tienen datos de absorbancia)\n",
    "archivos_txt = [f for f in os.listdir() if f.endswith('.txt') and f != 'AOxMM.csv']\n",
    "\n",
    "# Función para extraer gramaje del nombre del archivo\n",
    "def extraer_gramos(nombre):\n",
    "    match = re.search(r'(\\d+_?\\d*)g', nombre)\n",
    "    if match:\n",
    "        return float(match.group(1).replace('_', '.'))\n",
    "    return float('inf')\n",
    "\n",
    "# Ordenamos los archivos por gramaje (más limpio para visualizar después)\n",
    "archivos_ordenados = sorted(archivos_txt, key=extraer_gramos)\n",
    "\n",
    "# Leemos y procesamos los archivos\n",
    "dataframes = []\n",
    "for archivo in archivos_ordenados:\n",
    "    df = pd.read_csv(archivo, sep=None, engine='python')  # autodetecta separador\n",
    "    df = df[pd.to_numeric(df.iloc[:, 0], errors='coerce').notna()]\n",
    "    \n",
    "    nombre_columna = os.path.splitext(archivo)[0]\n",
    "    df.columns = ['nm', nombre_columna]\n",
    "    df[nombre_columna] = pd.to_numeric(df[nombre_columna], errors='coerce')\n",
    "    dataframes.append(df)\n",
    "\n",
    "# Unimos los datos por la columna de longitud de onda\n",
    "df_consolidado = dataframes[0]\n",
    "for df in dataframes[1:]:\n",
    "    df_consolidado = pd.merge(df_consolidado, df, on='nm', how='outer')\n",
    "\n",
    "# Guardamos el archivo final\n",
    "df_consolidado.to_csv('TChMG_matrix.csv', index=False)\n",
    "\n",
    "print(\"Archivo 'TChMG_matrix.csv' creado con éxito\")"
   ]
  },
  {
   "cell_type": "code",
   "execution_count": 3,
   "metadata": {},
   "outputs": [],
   "source": [
    "import pandas as pd\n",
    "datos= pd.read_csv(\"TChMG_matrix.csv\")"
   ]
  },
  {
   "cell_type": "code",
   "execution_count": 4,
   "metadata": {},
   "outputs": [
    {
     "data": {
      "text/html": [
       "<div>\n",
       "<style scoped>\n",
       "    .dataframe tbody tr th:only-of-type {\n",
       "        vertical-align: middle;\n",
       "    }\n",
       "\n",
       "    .dataframe tbody tr th {\n",
       "        vertical-align: top;\n",
       "    }\n",
       "\n",
       "    .dataframe thead th {\n",
       "        text-align: right;\n",
       "    }\n",
       "</style>\n",
       "<table border=\"1\" class=\"dataframe\">\n",
       "  <thead>\n",
       "    <tr style=\"text-align: right;\">\n",
       "      <th></th>\n",
       "      <th>nm</th>\n",
       "      <th>TChMG20</th>\n",
       "      <th>TChMG05</th>\n",
       "      <th>TChMG50</th>\n",
       "      <th>TChMG</th>\n",
       "    </tr>\n",
       "  </thead>\n",
       "  <tbody>\n",
       "    <tr>\n",
       "      <th>0</th>\n",
       "      <td>390.0</td>\n",
       "      <td>NaN</td>\n",
       "      <td>NaN</td>\n",
       "      <td>NaN</td>\n",
       "      <td>NaN</td>\n",
       "    </tr>\n",
       "    <tr>\n",
       "      <th>1</th>\n",
       "      <td>391.0</td>\n",
       "      <td>NaN</td>\n",
       "      <td>NaN</td>\n",
       "      <td>NaN</td>\n",
       "      <td>NaN</td>\n",
       "    </tr>\n",
       "    <tr>\n",
       "      <th>2</th>\n",
       "      <td>392.0</td>\n",
       "      <td>NaN</td>\n",
       "      <td>NaN</td>\n",
       "      <td>NaN</td>\n",
       "      <td>NaN</td>\n",
       "    </tr>\n",
       "    <tr>\n",
       "      <th>3</th>\n",
       "      <td>393.0</td>\n",
       "      <td>NaN</td>\n",
       "      <td>NaN</td>\n",
       "      <td>NaN</td>\n",
       "      <td>NaN</td>\n",
       "    </tr>\n",
       "    <tr>\n",
       "      <th>4</th>\n",
       "      <td>394.0</td>\n",
       "      <td>43.391</td>\n",
       "      <td>67.500</td>\n",
       "      <td>50.758</td>\n",
       "      <td>50.229</td>\n",
       "    </tr>\n",
       "    <tr>\n",
       "      <th>5</th>\n",
       "      <td>395.0</td>\n",
       "      <td>45.328</td>\n",
       "      <td>69.901</td>\n",
       "      <td>50.904</td>\n",
       "      <td>50.547</td>\n",
       "    </tr>\n",
       "    <tr>\n",
       "      <th>6</th>\n",
       "      <td>396.0</td>\n",
       "      <td>46.000</td>\n",
       "      <td>74.487</td>\n",
       "      <td>51.008</td>\n",
       "      <td>50.026</td>\n",
       "    </tr>\n",
       "    <tr>\n",
       "      <th>7</th>\n",
       "      <td>397.0</td>\n",
       "      <td>46.883</td>\n",
       "      <td>75.195</td>\n",
       "      <td>51.622</td>\n",
       "      <td>50.368</td>\n",
       "    </tr>\n",
       "    <tr>\n",
       "      <th>8</th>\n",
       "      <td>398.0</td>\n",
       "      <td>47.246</td>\n",
       "      <td>72.614</td>\n",
       "      <td>51.614</td>\n",
       "      <td>51.373</td>\n",
       "    </tr>\n",
       "    <tr>\n",
       "      <th>9</th>\n",
       "      <td>399.0</td>\n",
       "      <td>47.684</td>\n",
       "      <td>73.524</td>\n",
       "      <td>52.313</td>\n",
       "      <td>51.265</td>\n",
       "    </tr>\n",
       "    <tr>\n",
       "      <th>10</th>\n",
       "      <td>400.0</td>\n",
       "      <td>49.419</td>\n",
       "      <td>75.578</td>\n",
       "      <td>53.612</td>\n",
       "      <td>51.045</td>\n",
       "    </tr>\n",
       "    <tr>\n",
       "      <th>11</th>\n",
       "      <td>401.0</td>\n",
       "      <td>49.642</td>\n",
       "      <td>75.615</td>\n",
       "      <td>53.134</td>\n",
       "      <td>53.127</td>\n",
       "    </tr>\n",
       "    <tr>\n",
       "      <th>12</th>\n",
       "      <td>402.0</td>\n",
       "      <td>48.467</td>\n",
       "      <td>75.242</td>\n",
       "      <td>52.830</td>\n",
       "      <td>55.201</td>\n",
       "    </tr>\n",
       "    <tr>\n",
       "      <th>13</th>\n",
       "      <td>403.0</td>\n",
       "      <td>49.041</td>\n",
       "      <td>75.570</td>\n",
       "      <td>54.546</td>\n",
       "      <td>55.474</td>\n",
       "    </tr>\n",
       "    <tr>\n",
       "      <th>14</th>\n",
       "      <td>404.0</td>\n",
       "      <td>50.470</td>\n",
       "      <td>77.285</td>\n",
       "      <td>55.354</td>\n",
       "      <td>56.227</td>\n",
       "    </tr>\n",
       "  </tbody>\n",
       "</table>\n",
       "</div>"
      ],
      "text/plain": [
       "       nm  TChMG20  TChMG05  TChMG50   TChMG\n",
       "0   390.0      NaN      NaN      NaN     NaN\n",
       "1   391.0      NaN      NaN      NaN     NaN\n",
       "2   392.0      NaN      NaN      NaN     NaN\n",
       "3   393.0      NaN      NaN      NaN     NaN\n",
       "4   394.0   43.391   67.500   50.758  50.229\n",
       "5   395.0   45.328   69.901   50.904  50.547\n",
       "6   396.0   46.000   74.487   51.008  50.026\n",
       "7   397.0   46.883   75.195   51.622  50.368\n",
       "8   398.0   47.246   72.614   51.614  51.373\n",
       "9   399.0   47.684   73.524   52.313  51.265\n",
       "10  400.0   49.419   75.578   53.612  51.045\n",
       "11  401.0   49.642   75.615   53.134  53.127\n",
       "12  402.0   48.467   75.242   52.830  55.201\n",
       "13  403.0   49.041   75.570   54.546  55.474\n",
       "14  404.0   50.470   77.285   55.354  56.227"
      ]
     },
     "execution_count": 4,
     "metadata": {},
     "output_type": "execute_result"
    }
   ],
   "source": [
    "datos.head(15)"
   ]
  },
  {
   "cell_type": "code",
   "execution_count": 5,
   "metadata": {},
   "outputs": [
    {
     "name": "stdout",
     "output_type": "stream",
     "text": [
      "<class 'pandas.core.frame.DataFrame'>\n",
      "RangeIndex: 361 entries, 0 to 360\n",
      "Data columns (total 5 columns):\n",
      " #   Column   Non-Null Count  Dtype  \n",
      "---  ------   --------------  -----  \n",
      " 0   nm       361 non-null    float64\n",
      " 1   TChMG20  353 non-null    float64\n",
      " 2   TChMG05  353 non-null    float64\n",
      " 3   TChMG50  353 non-null    float64\n",
      " 4   TChMG    353 non-null    float64\n",
      "dtypes: float64(5)\n",
      "memory usage: 14.2 KB\n"
     ]
    }
   ],
   "source": [
    "datos.info()"
   ]
  },
  {
   "cell_type": "code",
   "execution_count": 6,
   "metadata": {},
   "outputs": [
    {
     "data": {
      "text/html": [
       "<div>\n",
       "<style scoped>\n",
       "    .dataframe tbody tr th:only-of-type {\n",
       "        vertical-align: middle;\n",
       "    }\n",
       "\n",
       "    .dataframe tbody tr th {\n",
       "        vertical-align: top;\n",
       "    }\n",
       "\n",
       "    .dataframe thead th {\n",
       "        text-align: right;\n",
       "    }\n",
       "</style>\n",
       "<table border=\"1\" class=\"dataframe\">\n",
       "  <thead>\n",
       "    <tr style=\"text-align: right;\">\n",
       "      <th></th>\n",
       "      <th>nm</th>\n",
       "      <th>TChMG20</th>\n",
       "      <th>TChMG05</th>\n",
       "      <th>TChMG50</th>\n",
       "      <th>TChMG</th>\n",
       "    </tr>\n",
       "  </thead>\n",
       "  <tbody>\n",
       "    <tr>\n",
       "      <th>count</th>\n",
       "      <td>361.000000</td>\n",
       "      <td>353.000000</td>\n",
       "      <td>353.000000</td>\n",
       "      <td>353.000000</td>\n",
       "      <td>353.000000</td>\n",
       "    </tr>\n",
       "    <tr>\n",
       "      <th>mean</th>\n",
       "      <td>570.000000</td>\n",
       "      <td>80.523456</td>\n",
       "      <td>93.381289</td>\n",
       "      <td>86.356629</td>\n",
       "      <td>83.699320</td>\n",
       "    </tr>\n",
       "    <tr>\n",
       "      <th>std</th>\n",
       "      <td>104.355961</td>\n",
       "      <td>11.525068</td>\n",
       "      <td>6.591872</td>\n",
       "      <td>11.842341</td>\n",
       "      <td>11.049998</td>\n",
       "    </tr>\n",
       "    <tr>\n",
       "      <th>min</th>\n",
       "      <td>390.000000</td>\n",
       "      <td>43.391000</td>\n",
       "      <td>67.500000</td>\n",
       "      <td>50.758000</td>\n",
       "      <td>50.026000</td>\n",
       "    </tr>\n",
       "    <tr>\n",
       "      <th>25%</th>\n",
       "      <td>480.000000</td>\n",
       "      <td>75.438000</td>\n",
       "      <td>90.515000</td>\n",
       "      <td>82.101000</td>\n",
       "      <td>78.739000</td>\n",
       "    </tr>\n",
       "    <tr>\n",
       "      <th>50%</th>\n",
       "      <td>570.000000</td>\n",
       "      <td>85.238000</td>\n",
       "      <td>96.061000</td>\n",
       "      <td>92.232000</td>\n",
       "      <td>88.350000</td>\n",
       "    </tr>\n",
       "    <tr>\n",
       "      <th>75%</th>\n",
       "      <td>660.000000</td>\n",
       "      <td>89.093000</td>\n",
       "      <td>98.205000</td>\n",
       "      <td>94.815000</td>\n",
       "      <td>91.835000</td>\n",
       "    </tr>\n",
       "    <tr>\n",
       "      <th>max</th>\n",
       "      <td>750.000000</td>\n",
       "      <td>90.809000</td>\n",
       "      <td>99.057000</td>\n",
       "      <td>96.075000</td>\n",
       "      <td>93.572000</td>\n",
       "    </tr>\n",
       "  </tbody>\n",
       "</table>\n",
       "</div>"
      ],
      "text/plain": [
       "               nm     TChMG20     TChMG05     TChMG50       TChMG\n",
       "count  361.000000  353.000000  353.000000  353.000000  353.000000\n",
       "mean   570.000000   80.523456   93.381289   86.356629   83.699320\n",
       "std    104.355961   11.525068    6.591872   11.842341   11.049998\n",
       "min    390.000000   43.391000   67.500000   50.758000   50.026000\n",
       "25%    480.000000   75.438000   90.515000   82.101000   78.739000\n",
       "50%    570.000000   85.238000   96.061000   92.232000   88.350000\n",
       "75%    660.000000   89.093000   98.205000   94.815000   91.835000\n",
       "max    750.000000   90.809000   99.057000   96.075000   93.572000"
      ]
     },
     "execution_count": 6,
     "metadata": {},
     "output_type": "execute_result"
    }
   ],
   "source": [
    "datos.describe()"
   ]
  },
  {
   "cell_type": "code",
   "execution_count": 7,
   "metadata": {},
   "outputs": [
    {
     "data": {
      "text/plain": [
       "nm     TChMG20  TChMG05  TChMG50  TChMG \n",
       "746.0  90.809   98.818   95.800   93.318    1\n",
       "730.0  90.311   98.166   95.710   93.105    1\n",
       "729.0  90.167   98.172   95.485   93.150    1\n",
       "728.0  90.192   98.325   95.355   92.931    1\n",
       "727.0  90.308   98.345   95.456   92.587    1\n",
       "                                           ..\n",
       "399.0  47.684   73.524   52.313   51.265    1\n",
       "398.0  47.246   72.614   51.614   51.373    1\n",
       "397.0  46.883   75.195   51.622   50.368    1\n",
       "396.0  46.000   74.487   51.008   50.026    1\n",
       "395.0  45.328   69.901   50.904   50.547    1\n",
       "Name: count, Length: 353, dtype: int64"
      ]
     },
     "execution_count": 7,
     "metadata": {},
     "output_type": "execute_result"
    }
   ],
   "source": [
    "datos.value_counts()"
   ]
  },
  {
   "cell_type": "code",
   "execution_count": 8,
   "metadata": {},
   "outputs": [
    {
     "data": {
      "image/png": "[encoded data removed]",
      "text/plain": [
       "<Figure size 1200x600 with 1 Axes>"
      ]
     },
     "metadata": {},
     "output_type": "display_data"
    }
   ],
   "source": [
    "import pandas as pd\n",
    "import matplotlib.pyplot as plt\n",
    "import numpy as np\n",
    "\n",
    "# Cargamos el archivo con las mediciones de transmitancia almacenados en una matriz de datos\n",
    "df = pd.read_csv(\"TChMG_matrix.csv\")\n",
    "\n",
    "# Limpiamos datos fuera del rango de %T [0, 100]\n",
    "for columna in df.columns[1:]:\n",
    "    df[columna] = pd.to_numeric(df[columna], errors='coerce')\n",
    "    df.loc[(df[columna] < 0) | (df[columna] > 100), columna] = None\n",
    "\n",
    "# Copiamos el DataFrame limpio\n",
    "df_clean = df.copy()\n",
    "\n",
    "# Obtenemos los valores máximos de cada curva\n",
    "maximos = {\n",
    "    columna: df_clean[columna].max(skipna=True)\n",
    "    for columna in df_clean.columns[1:]\n",
    "}\n",
    "\n",
    "# Ordenamos de mayor a menor para que la leyenda coincida con las curvas\n",
    "columnas_ordenadas = sorted(maximos, key=maximos.get, reverse=True)\n",
    "\n",
    "# Creamos figura\n",
    "plt.figure(figsize=(12, 6))\n",
    "\n",
    "# Dibujamos las curvas solo con valores válidos (sin NaNs)\n",
    "for columna in columnas_ordenadas:\n",
    "    datos_validos = df_clean[['nm', columna]].dropna()\n",
    "    plt.plot(datos_validos['nm'], datos_validos[columna], label=columna)\n",
    "\n",
    "# Etiquetas y estilo (estética de los ejes)\n",
    "plt.xlabel('Longitud de onda (nm)', fontsize=12)\n",
    "plt.ylabel('Transmitancia (%T)', fontsize=12)\n",
    "plt.title('Curvas de transmitancia - Café de Chiapas MG (Molienda grande)', fontsize=14)\n",
    "plt.legend(title='Muestras (gramos)', fontsize=10)\n",
    "plt.xticks(df['nm'][::50], rotation=45)\n",
    "plt.grid(True, linestyle='--', alpha=0.6)\n",
    "plt.tight_layout()\n",
    "plt.show()"
   ]
  },
  {
   "cell_type": "code",
   "execution_count": 10,
   "metadata": {},
   "outputs": [
    {
     "name": "stdout",
     "output_type": "stream",
     "text": [
      "✅ HTML generado: Comparativa_muestras_transmitancia.html\n",
      "Rango de longitudes de onda: 390.0 a 750.0\n"
     ]
    },
    {
     "data": {
      "application/vnd.plotly.v1+json": {
       "config": {
        "plotlyServerURL": "https://plot.ly"
       },
       "data": [
        {
         "line": {
          "color": "#1f77b4"
         },
         "mode": "lines",
         "name": "TChMG20",
         "type": "scatter",
         "x": {
          "bdata": "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",
          "dtype": "f8"
         },
         "y": {
          "bdata": "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",
          "dtype": "f8"
         }
        },
        {
         "line": {
          "color": "#d62728"
         },
         "mode": "lines",
         "name": "TChMG05",
         "type": "scatter",
         "x": {
          "bdata": "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",
          "dtype": "f8"
         },
         "y": {
          "bdata": "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",
          "dtype": "f8"
         }
        },
        {
         "line": {
          "color": "#e377c2"
         },
         "mode": "lines",
         "name": "TChMG50",
         "type": "scatter",
         "x": {
          "bdata": "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",
          "dtype": "f8"
         },
         "y": {
          "bdata": "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",
          "dtype": "f8"
         }
        },
        {
         "line": {
          "color": "#17becf"
         },
         "mode": "lines",
         "name": "TChMG",
         "type": "scatter",
         "x": {
          "bdata": "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",
          "dtype": "f8"
         },
         "y": {
          "bdata": "WmQ7308dSUC8dJMYBEZJQBfZzvdTA0lAyXa+nxovSUA5tMh2vq9JQFK4HoXroUlA9ihcj8KFSUDHSzeJQZBKQH0/NV66mUtA6SYxCKy8S0CTGARWDh1MQDeJQWDlsExAMQisHFqkTEDdJAaBlUNMQBsv3SQGkUxA46WbxCCQTUC6SQwCK0dOQI2XbhKDcE5A16NwPQoHTkDdJAaBlZNNQDvfT42Xnk1AhxbZzveTTUAzMzMzM8NNQMl2vp8aX05A4XoUrkeBTkD6fmq8dHNOQEa28/3U+E5A2/l+arxkT0Aj2/l+atxOQOxRuB6Fu05Ac2iR7XyfT0CF61G4HuVPQFK4HoXrKVBAKVyPwvXIUECoxks3ibFQQFyPwvUoLFBABoGVQ4tUUEB7FK5H4apQQBBYObTIplBA9ihcj8KdUEAOLbKd769QQAwCK4cW4VBA/Knx0k0iUUBoke18P0VRQLTIdr6fSlFA+n5qvHQ7UUDwp8ZLNzlRQClcj8L1SFFAUI2XbhIrUUDNzMzMzBRRQJHtfD81XlFAnMQgsHK4UUBWDi2ynbdRQHe+nxovdVFA2c73U+NtUUC8dJMYBMZRQArXo3A9ElJA8tJNYhAQUkDpJjEIrORRQNv5fmq8/FFAeekmMQiEUkAbL90kBrFSQBKDwMqhLVJAtvP91HjxUUDufD81XlJSQG3n+6nxklJAAiuHFtleUkA3iUFg5UBSQCPb+X5qnFJA2/l+arz0UkCTGARWDvVSQDeJQWDl+FJAUrgehesRU0CNl24SgxBTQDeJQWDlIFNACKwcWmQ7U0DdJAaBlTNTQAIrhxbZNlNA7FG4HoVTU0C+nxov3WxTQKRwPQrXa1NAfT81XrpRU0AlBoGVQ0tTQIXrUbgeXVNA3SQGgZWDU0Ce76fGS69TQG8Sg8DKoVNAppvEILB6U0A9CtejcI1TQCPb+X5qxFNAaJHtfD/dU0Av3SQGgeVTQNNNYhBYAVRAaJHtfD/9U0C4HoXrUdhTQI/C9Shc51NA+n5qvHQjVECNl24Sg0hUQHsUrkfhMlRA7nw/NV4SVEBKDAIrhy5UQLgehetRWFRAAAAAAABgVEBmZmZmZmZUQO58PzVeWlRAke18PzU+VEDpJjEIrFRUQMHKoUW2g1RAd76fGi+NVEAX2c73U3tUQDm0yHa+d1RA6SYxCKycVEAdWmQ738dUQFCNl24Sy1RAnMQgsHKwVEBSuB6F66FUQHsUrkfhulRAukkMAivfVEAdWmQ7399UQESLbOf72VRAexSuR+HiVEBg5dAi28lUQFyPwvUotFRAc2iR7XznVEDdJAaBlSNVQAwCK4cWIVVAJzEIrBwaVUCkcD0K1zNVQARWDi2yPVVALbKd76c2VUCoxks3iTFVQIcW2c73M1VAukkMAis/VUDNzMzMzDxVQKjGSzeJQVVACtejcD1iVUA3iUFg5YBVQFpkO99PhVVAXI/C9ShsVUAv3SQGgVVVQBBYObTIZlVADi2yne+HVUCHFtnO94tVQFpkO99PjVVAjZduEoOwVUCLbOf7qcFVQB1aZDvfn1VA9ihcj8KNVUDn+6nx0qVVQJZDi2znq1VACtejcD2iVUCR7Xw/Na5VQLTIdr6fulVAmpmZmZnRVUBMN4lBYO1VQM/3U+Ol41VArBxaZDvXVUAj2/l+atRVQFTjpZvEyFVAYhBYObTYVUCoxks3iflVQMHKoUW2A1ZAWDm0yHb+VUCuR+F6FPZVQNEi2/l++lVAhetRuB4FVkA3iUFg5fhVQIcW2c7381VA+FPjpZsUVkDXo3A9Ci9WQNejcD0KJ1ZAbef7qfESVkDl0CLb+QZWQF66SQwCC1ZAVg4tsp0HVkAj2/l+auRVQJ7vp8ZL31VADAIrhxYZVkCoxks3iTFWQMHKoUW2I1ZAPzVeukksVkCamZmZmSFWQPyp8dJNClZAZmZmZmYWVkBEi2zn+0FWQDeJQWDlcFZAMzMzMzN7VkDwp8ZLN2lWQLpJDAIrZ1ZAf2q8dJNwVkDTTWIQWGlWQGq8dJMYbFZA4XoUrkeBVkBeukkMAoNWQFYOLbKdf1ZAJQaBlUODVkDb+X5qvIRWQBSuR+F6jFZA30+Nl26KVkCYbhKDwIJWQNV46SYxiFZAd76fGi+FVkBOYhBYOXxWQKwcWmQ7h1ZAoBov3SSWVkDFILByaJFWQJ7vp8ZLh1ZAMzMzMzOLVkDLoUW2851WQM/3U+Ols1ZAnu+nxkuvVkBYObTIdpZWQKJFtvP9lFZA7FG4HoWjVkDwp8ZLN6lWQI2XbhKDsFZAdZMYBFa2VkBg5dAi27FWQLKd76fGu1ZAarx0kxjUVkCq8dJNYtBWQJqZmZmZwVZAsHJoke3MVkBvEoPAytFWQLbz/dR4wVZAJQaBlUO7VkCoxks3icFWQEjhehSux1ZARIts5/vRVkBeukkMAttWQNV46SYx0FZAAAAAAADAVkCiRbbz/cxWQMHKoUW241ZAF9nO91PjVkC4HoXrUeBWQMUgsHJo4VZACtejcD3aVkDLoUW289VWQMP1KFyP0lZA/tR46SbRVkAQWDm0yN5WQMHKoUW261ZAmpmZmZnpVkBSuB6F6+FWQFg5tMh23lZALbKd76fWVkBg5dAi28lWQOF6FK5H2VZAUrgehev5VkCwcmiR7fxWQAisHFpk61ZAgZVDi2znVkC+nxov3fRWQNv5fmq89FZAF9nO91PjVkArhxbZzt9WQG8Sg8DK4VZAGQRWDi3qVkAK16NwPQJXQPyp8dJNCldATmIQWDn8VkBWDi2yne9WQLgehetR8FZAPQrXo3D1VkBYObTIdu5WQJHtfD815lZAiUFg5dDqVkA730+Nl/ZWQJ7vp8ZLB1dADAIrhxYRV0Av3SQGgQVXQJZDi2zn+1ZAd76fGi8FV0AIrBxaZAtXQKjGSzeJAVdALbKd76f2VkBvEoPAyvlWQKabxCCw+lZAd76fGi/9VkAv3SQGgRVXQM/3U+OlG1dAJzEIrBwCV0BWDi2yne9WQEJg5dAi61ZAx0s3iUH4VkCJQWDl0ApXQAisHFpkC1dA4XoUrkcRV0AdWmQ73x9XQAwCK4cWIVdArBxaZDsfV0BaZDvfTx1XQN0kBoGVI1dAKVyPwvUwV0BKDAIrhx5XQAIrhxbZBldAWmQ7308VV0Aj2/l+aiRXQMUgsHJoKVdAw/UoXI8yV0BQjZduEitXQMHKoUW2G1dAsHJoke0cV0D4U+OlmyRXQLgehetRIFdAg8DKoUUOV0ASg8DKoQ1XQK5H4XoULldApHA9CtczV0DVeOkmMRBXQHsUrkfhCldA4XoUrkcZV0DhehSuRxlXQF66SQwCI1dA/Knx0k0iV0CwcmiR7RRXQMP1KFyPGldA6SYxCKwkV0DVeOkmMTBXQIXrUbgeRVdA2/l+arxMV0AIrBxaZENXQO58PzVeOldAEFg5tMguV0AK16NwPSJXQClcj8L1KFdATDeJQWA1V0A9CtejcC1XQAisHFpkK1dAlkOLbOc7V0BQjZduEjtXQI/C9ShcJ1dAIbByaJElV0DdJAaBlTtXQJqZmZmZSVdAH4XrUbhGV0B56SYxCERXQLgehetRSFdA6SYxCKxUV0Cq8dJNYmBXQPhT46WbZFdASOF6FK5fV0CWQ4ts50tXQCUGgZVDO1dAGQRWDi06V0CgGi/dJDZXQFYOLbKdN1dAlkOLbOdDV0AIrBxaZENXQN0kBoGVQ1dAke18PzVOV0AxCKwcWlRXQA==",
          "dtype": "f8"
         }
        }
       ],
       "layout": {
        "legend": {
         "title": {
          "text": "Curva"
         }
        },
        "margin": {
         "b": 40,
         "l": 40,
         "r": 40,
         "t": 80
        },
        "template": {
         "data": {
          "bar": [
           {
            "error_x": {
             "color": "#2a3f5f"
            },
            "error_y": {
             "color": "#2a3f5f"
            },
            "marker": {
             "line": {
              "color": "white",
              "width": 0.5
             },
             "pattern": {
              "fillmode": "overlay",
              "size": 10,
              "solidity": 0.2
             }
            },
            "type": "bar"
           }
          ],
          "barpolar": [
           {
            "marker": {
             "line": {
              "color": "white",
              "width": 0.5
             },
             "pattern": {
              "fillmode": "overlay",
              "size": 10,
              "solidity": 0.2
             }
            },
            "type": "barpolar"
           }
          ],
          "carpet": [
           {
            "aaxis": {
             "endlinecolor": "#2a3f5f",
             "gridcolor": "#C8D4E3",
             "linecolor": "#C8D4E3",
             "minorgridcolor": "#C8D4E3",
             "startlinecolor": "#2a3f5f"
            },
            "baxis": {
             "endlinecolor": "#2a3f5f",
             "gridcolor": "#C8D4E3",
             "linecolor": "#C8D4E3",
             "minorgridcolor": "#C8D4E3",
             "startlinecolor": "#2a3f5f"
            },
            "type": "carpet"
           }
          ],
          "choropleth": [
           {
            "colorbar": {
             "outlinewidth": 0,
             "ticks": ""
            },
            "type": "choropleth"
           }
          ],
          "contour": [
           {
            "colorbar": {
             "outlinewidth": 0,
             "ticks": ""
            },
            "colorscale": [
             [
              0,
              "#0d0887"
             ],
             [
              0.1111111111111111,
              "#46039f"
             ],
             [
              0.2222222222222222,
              "#7201a8"
             ],
             [
              0.3333333333333333,
              "#9c179e"
             ],
             [
              0.4444444444444444,
              "#bd3786"
             ],
             [
              0.5555555555555556,
              "#d8576b"
             ],
             [
              0.6666666666666666,
              "#ed7953"
             ],
             [
              0.7777777777777778,
              "#fb9f3a"
             ],
             [
              0.8888888888888888,
              "#fdca26"
             ],
             [
              1,
              "#f0f921"
             ]
            ],
            "type": "contour"
           }
          ],
          "contourcarpet": [
           {
            "colorbar": {
             "outlinewidth": 0,
             "ticks": ""
            },
            "type": "contourcarpet"
           }
          ],
          "heatmap": [
           {
            "colorbar": {
             "outlinewidth": 0,
             "ticks": ""
            },
            "colorscale": [
             [
              0,
              "#0d0887"
             ],
             [
              0.1111111111111111,
              "#46039f"
             ],
             [
              0.2222222222222222,
              "#7201a8"
             ],
             [
              0.3333333333333333,
              "#9c179e"
             ],
             [
              0.4444444444444444,
              "#bd3786"
             ],
             [
              0.5555555555555556,
              "#d8576b"
             ],
             [
              0.6666666666666666,
              "#ed7953"
             ],
             [
              0.7777777777777778,
              "#fb9f3a"
             ],
             [
              0.8888888888888888,
              "#fdca26"
             ],
             [
              1,
              "#f0f921"
             ]
            ],
            "type": "heatmap"
           }
          ],
          "histogram": [
           {
            "marker": {
             "pattern": {
              "fillmode": "overlay",
              "size": 10,
              "solidity": 0.2
             }
            },
            "type": "histogram"
           }
          ],
          "histogram2d": [
           {
            "colorbar": {
             "outlinewidth": 0,
             "ticks": ""
            },
            "colorscale": [
             [
              0,
              "#0d0887"
             ],
             [
              0.1111111111111111,
              "#46039f"
             ],
             [
              0.2222222222222222,
              "#7201a8"
             ],
             [
              0.3333333333333333,
              "#9c179e"
             ],
             [
              0.4444444444444444,
              "#bd3786"
             ],
             [
              0.5555555555555556,
              "#d8576b"
             ],
             [
              0.6666666666666666,
              "#ed7953"
             ],
             [
              0.7777777777777778,
              "#fb9f3a"
             ],
             [
              0.8888888888888888,
              "#fdca26"
             ],
             [
              1,
              "#f0f921"
             ]
            ],
            "type": "histogram2d"
           }
          ],
          "histogram2dcontour": [
           {
            "colorbar": {
             "outlinewidth": 0,
             "ticks": ""
            },
            "colorscale": [
             [
              0,
              "#0d0887"
             ],
             [
              0.1111111111111111,
              "#46039f"
             ],
             [
              0.2222222222222222,
              "#7201a8"
             ],
             [
              0.3333333333333333,
              "#9c179e"
             ],
             [
              0.4444444444444444,
              "#bd3786"
             ],
             [
              0.5555555555555556,
              "#d8576b"
             ],
             [
              0.6666666666666666,
              "#ed7953"
             ],
             [
              0.7777777777777778,
              "#fb9f3a"
             ],
             [
              0.8888888888888888,
              "#fdca26"
             ],
             [
              1,
              "#f0f921"
             ]
            ],
            "type": "histogram2dcontour"
           }
          ],
          "mesh3d": [
           {
            "colorbar": {
             "outlinewidth": 0,
             "ticks": ""
            },
            "type": "mesh3d"
           }
          ],
          "parcoords": [
           {
            "line": {
             "colorbar": {
              "outlinewidth": 0,
              "ticks": ""
             }
            },
            "type": "parcoords"
           }
          ],
          "pie": [
           {
            "automargin": true,
            "type": "pie"
           }
          ],
          "scatter": [
           {
            "fillpattern": {
             "fillmode": "overlay",
             "size": 10,
             "solidity": 0.2
            },
            "type": "scatter"
           }
          ],
          "scatter3d": [
           {
            "line": {
             "colorbar": {
              "outlinewidth": 0,
              "ticks": ""
             }
            },
            "marker": {
             "colorbar": {
              "outlinewidth": 0,
              "ticks": ""
             }
            },
            "type": "scatter3d"
           }
          ],
          "scattercarpet": [
           {
            "marker": {
             "colorbar": {
              "outlinewidth": 0,
              "ticks": ""
             }
            },
            "type": "scattercarpet"
           }
          ],
          "scattergeo": [
           {
            "marker": {
             "colorbar": {
              "outlinewidth": 0,
              "ticks": ""
             }
            },
            "type": "scattergeo"
           }
          ],
          "scattergl": [
           {
            "marker": {
             "colorbar": {
              "outlinewidth": 0,
              "ticks": ""
             }
            },
            "type": "scattergl"
           }
          ],
          "scattermap": [
           {
            "marker": {
             "colorbar": {
              "outlinewidth": 0,
              "ticks": ""
             }
            },
            "type": "scattermap"
           }
          ],
          "scattermapbox": [
           {
            "marker": {
             "colorbar": {
              "outlinewidth": 0,
              "ticks": ""
             }
            },
            "type": "scattermapbox"
           }
          ],
          "scatterpolar": [
           {
            "marker": {
             "colorbar": {
              "outlinewidth": 0,
              "ticks": ""
             }
            },
            "type": "scatterpolar"
           }
          ],
          "scatterpolargl": [
           {
            "marker": {
             "colorbar": {
              "outlinewidth": 0,
              "ticks": ""
             }
            },
            "type": "scatterpolargl"
           }
          ],
          "scatterternary": [
           {
            "marker": {
             "colorbar": {
              "outlinewidth": 0,
              "ticks": ""
             }
            },
            "type": "scatterternary"
           }
          ],
          "surface": [
           {
            "colorbar": {
             "outlinewidth": 0,
             "ticks": ""
            },
            "colorscale": [
             [
              0,
              "#0d0887"
             ],
             [
              0.1111111111111111,
              "#46039f"
             ],
             [
              0.2222222222222222,
              "#7201a8"
             ],
             [
              0.3333333333333333,
              "#9c179e"
             ],
             [
              0.4444444444444444,
              "#bd3786"
             ],
             [
              0.5555555555555556,
              "#d8576b"
             ],
             [
              0.6666666666666666,
              "#ed7953"
             ],
             [
              0.7777777777777778,
              "#fb9f3a"
             ],
             [
              0.8888888888888888,
              "#fdca26"
             ],
             [
              1,
              "#f0f921"
             ]
            ],
            "type": "surface"
           }
          ],
          "table": [
           {
            "cells": {
             "fill": {
              "color": "#EBF0F8"
             },
             "line": {
              "color": "white"
             }
            },
            "header": {
             "fill": {
              "color": "#C8D4E3"
             },
             "line": {
              "color": "white"
             }
            },
            "type": "table"
           }
          ]
         },
         "layout": {
          "annotationdefaults": {
           "arrowcolor": "#2a3f5f",
           "arrowhead": 0,
           "arrowwidth": 1
          },
          "autotypenumbers": "strict",
          "coloraxis": {
           "colorbar": {
            "outlinewidth": 0,
            "ticks": ""
           }
          },
          "colorscale": {
           "diverging": [
            [
             0,
             "#8e0152"
            ],
            [
             0.1,
             "#c51b7d"
            ],
            [
             0.2,
             "#de77ae"
            ],
            [
             0.3,
             "#f1b6da"
            ],
            [
             0.4,
             "#fde0ef"
            ],
            [
             0.5,
             "#f7f7f7"
            ],
            [
             0.6,
             "#e6f5d0"
            ],
            [
             0.7,
             "#b8e186"
            ],
            [
             0.8,
             "#7fbc41"
            ],
            [
             0.9,
             "#4d9221"
            ],
            [
             1,
             "#276419"
            ]
           ],
           "sequential": [
            [
             0,
             "#0d0887"
            ],
            [
             0.1111111111111111,
             "#46039f"
            ],
            [
             0.2222222222222222,
             "#7201a8"
            ],
            [
             0.3333333333333333,
             "#9c179e"
            ],
            [
             0.4444444444444444,
             "#bd3786"
            ],
            [
             0.5555555555555556,
             "#d8576b"
            ],
            [
             0.6666666666666666,
             "#ed7953"
            ],
            [
             0.7777777777777778,
             "#fb9f3a"
            ],
            [
             0.8888888888888888,
             "#fdca26"
            ],
            [
             1,
             "#f0f921"
            ]
           ],
           "sequentialminus": [
            [
             0,
             "#0d0887"
            ],
            [
             0.1111111111111111,
             "#46039f"
            ],
            [
             0.2222222222222222,
             "#7201a8"
            ],
            [
             0.3333333333333333,
             "#9c179e"
            ],
            [
             0.4444444444444444,
             "#bd3786"
            ],
            [
             0.5555555555555556,
             "#d8576b"
            ],
            [
             0.6666666666666666,
             "#ed7953"
            ],
            [
             0.7777777777777778,
             "#fb9f3a"
            ],
            [
             0.8888888888888888,
             "#fdca26"
            ],
            [
             1,
             "#f0f921"
            ]
           ]
          },
          "colorway": [
           "#636efa",
           "#EF553B",
           "#00cc96",
           "#ab63fa",
           "#FFA15A",
           "#19d3f3",
           "#FF6692",
           "#B6E880",
           "#FF97FF",
           "#FECB52"
          ],
          "font": {
           "color": "#2a3f5f"
          },
          "geo": {
           "bgcolor": "white",
           "lakecolor": "white",
           "landcolor": "white",
           "showlakes": true,
           "showland": true,
           "subunitcolor": "#C8D4E3"
          },
          "hoverlabel": {
           "align": "left"
          },
          "hovermode": "closest",
          "mapbox": {
           "style": "light"
          },
          "paper_bgcolor": "white",
          "plot_bgcolor": "white",
          "polar": {
           "angularaxis": {
            "gridcolor": "#EBF0F8",
            "linecolor": "#EBF0F8",
            "ticks": ""
           },
           "bgcolor": "white",
           "radialaxis": {
            "gridcolor": "#EBF0F8",
            "linecolor": "#EBF0F8",
            "ticks": ""
           }
          },
          "scene": {
           "xaxis": {
            "backgroundcolor": "white",
            "gridcolor": "#DFE8F3",
            "gridwidth": 2,
            "linecolor": "#EBF0F8",
            "showbackground": true,
            "ticks": "",
            "zerolinecolor": "#EBF0F8"
           },
           "yaxis": {
            "backgroundcolor": "white",
            "gridcolor": "#DFE8F3",
            "gridwidth": 2,
            "linecolor": "#EBF0F8",
            "showbackground": true,
            "ticks": "",
            "zerolinecolor": "#EBF0F8"
           },
           "zaxis": {
            "backgroundcolor": "white",
            "gridcolor": "#DFE8F3",
            "gridwidth": 2,
            "linecolor": "#EBF0F8",
            "showbackground": true,
            "ticks": "",
            "zerolinecolor": "#EBF0F8"
           }
          },
          "shapedefaults": {
           "line": {
            "color": "#2a3f5f"
           }
          },
          "ternary": {
           "aaxis": {
            "gridcolor": "#DFE8F3",
            "linecolor": "#A2B1C6",
            "ticks": ""
           },
           "baxis": {
            "gridcolor": "#DFE8F3",
            "linecolor": "#A2B1C6",
            "ticks": ""
           },
           "bgcolor": "white",
           "caxis": {
            "gridcolor": "#DFE8F3",
            "linecolor": "#A2B1C6",
            "ticks": ""
           }
          },
          "title": {
           "x": 0.05
          },
          "xaxis": {
           "automargin": true,
           "gridcolor": "#EBF0F8",
           "linecolor": "#EBF0F8",
           "ticks": "",
           "title": {
            "standoff": 15
           },
           "zerolinecolor": "#EBF0F8",
           "zerolinewidth": 2
          },
          "yaxis": {
           "automargin": true,
           "gridcolor": "#EBF0F8",
           "linecolor": "#EBF0F8",
           "ticks": "",
           "title": {
            "standoff": 15
           },
           "zerolinecolor": "#EBF0F8",
           "zerolinewidth": 2
          }
         }
        },
        "title": {
         "text": "Curvas de transmitancia - Café de Chiapas MG (Molienda grande)"
        },
        "xaxis": {
         "title": {
          "text": "Longitud de onda (nm)"
         }
        },
        "yaxis": {
         "title": {
          "text": "Transmitancia (%T)"
         }
        }
       }
      }
     },
     "metadata": {},
     "output_type": "display_data"
    }
   ],
   "source": [
    "import pandas as pd\n",
    "import numpy as np\n",
    "import plotly.graph_objects as go\n",
    "from datetime import datetime\n",
    "import matplotlib.pyplot as plt\n",
    "import matplotlib.colors as mcolors\n",
    "\n",
    "# === Cargar archivo de transmitancia ===\n",
    "ruta = \"TChMG_matrix.csv\"\n",
    "df = pd.read_csv(ruta)\n",
    "\n",
    "# === Columnas\n",
    "col_nm = [c for c in df.columns if 'nm' in c.lower()][0]\n",
    "col_transmitancia = [c for c in df.columns if c != col_nm]\n",
    "\n",
    "# === Regiones espectrales\n",
    "regiones = {\n",
    "    '100–200 nm': (100, 200),\n",
    "    '200–300 nm': (200, 300),\n",
    "    '300–400 nm': (300, 400),\n",
    "    '400–500 nm': (400, 500),\n",
    "    '500–600 nm': (500, 600),\n",
    "    '600–700 nm': (600, 700),\n",
    "    '700–800 nm': (700, 800)\n",
    "}\n",
    "\n",
    "# === Colores\n",
    "colormap_base = plt.get_cmap('tab10')\n",
    "colormap = colormap_base(np.linspace(0, 1, len(col_transmitancia)))\n",
    "colores_hex = [mcolors.to_hex(c) for c in colormap]\n",
    "\n",
    "# === Figura\n",
    "fig = go.Figure()\n",
    "fig.update_layout(\n",
    "    title=\"Curvas de transmitancia - Café de Chiapas MG (Molienda grande)\",\n",
    "    xaxis_title=\"Longitud de onda (nm)\",\n",
    "    yaxis_title=\"Transmitancia (%T)\",\n",
    "    legend_title=\"Curva\",\n",
    "    template=\"plotly_white\",\n",
    "    margin=dict(l=40, r=40, t=80, b=40),\n",
    ")\n",
    "\n",
    "# === Métricas\n",
    "metricas = []\n",
    "for i, col in enumerate(col_transmitancia):\n",
    "    datos = df[[col_nm, col]].dropna().rename(columns={col_nm: 'nm', col: 'transmitancia'})\n",
    "    datos['transmitancia'] = pd.to_numeric(datos['transmitancia'], errors='coerce')\n",
    "    datos = datos.dropna()\n",
    "    if datos.empty:\n",
    "        continue\n",
    "\n",
    "    fig.add_trace(go.Scatter(\n",
    "        x=datos['nm'],\n",
    "        y=datos['transmitancia'],\n",
    "        mode='lines',\n",
    "        name=col,\n",
    "        line=dict(color=colores_hex[i])\n",
    "    ))\n",
    "\n",
    "    max_val = datos['transmitancia'].max()\n",
    "    min_val = datos['transmitancia'].min()\n",
    "    avg = datos['transmitancia'].mean()\n",
    "    std = datos['transmitancia'].std()\n",
    "    auc = np.trapezoid(datos['transmitancia'], datos['nm'])\n",
    "    lambda_max = datos['nm'][datos['transmitancia'].idxmax()]\n",
    "    lambda_min = datos['nm'][datos['transmitancia'].idxmin()]\n",
    "\n",
    "    proms_reg = {}\n",
    "    for region, (a, b) in regiones.items():\n",
    "        reg_vals = datos.loc[(datos['nm'] >= a) & (datos['nm'] <= b), 'transmitancia']\n",
    "        proms_reg[region] = f\"{reg_vals.mean():.2f}\" if not reg_vals.empty else \"—\"\n",
    "\n",
    "    metricas.append({\n",
    "        'Color de curva': colores_hex[i],\n",
    "        'Curva': col,\n",
    "        'Máx (%T)': round(max_val, 2),\n",
    "        'Mín (%T)': round(min_val, 2),\n",
    "        'Promedio (%)': round(avg, 2),\n",
    "        'Desv. Std': round(std, 2),\n",
    "        'AUC': round(auc, 2),\n",
    "        'λ máx (nm)': round(lambda_max, 2),\n",
    "        'λ mín (nm)': round(lambda_min, 2),\n",
    "        **proms_reg\n",
    "    })\n",
    "\n",
    "# === Tabla HTML\n",
    "df_metricas = pd.DataFrame(metricas)\n",
    "tabla_html = \"<table class='styled-table'><thead><tr>\"\n",
    "for col in df_metricas.columns:\n",
    "    tabla_html += f\"<th>{col}</th>\"\n",
    "tabla_html += \"</tr></thead><tbody>\"\n",
    "for _, row in df_metricas.iterrows():\n",
    "    tabla_html += \"<tr>\"\n",
    "    for col in df_metricas.columns:\n",
    "        if col == \"Color de curva\":\n",
    "            tabla_html += f\"<td style='background-color:{row[col]};'></td>\"\n",
    "        else:\n",
    "            tabla_html += f\"<td>{row[col]}</td>\"\n",
    "    tabla_html += \"</tr>\"\n",
    "tabla_html += \"</tbody></table>\"\n",
    "\n",
    "# === HTML Final\n",
    "fecha = datetime.now().strftime('%d-%m-%Y %H:%M:%S')\n",
    "grafica_html = fig.to_html(full_html=False, include_plotlyjs='cdn')\n",
    "\n",
    "html_final = f\"\"\"\n",
    "<!DOCTYPE html>\n",
    "<html lang=\"es\">\n",
    "<head>\n",
    "  <meta charset=\"UTF-8\">\n",
    "  <title>Reporte de Transmitancia UV-Vis</title>\n",
    "  <meta name=\"viewport\" content=\"width=device-width, initial-scale=1.0\">\n",
    "  <style>\n",
    "    body {{\n",
    "      font-family: 'Segoe UI', Tahoma, sans-serif;\n",
    "      margin: 40px;\n",
    "      background-color: #fdfdfd;\n",
    "      color: #222;\n",
    "    }}\n",
    "    h1 {{\n",
    "      color: #111;\n",
    "    }}\n",
    "    h2 {{\n",
    "      margin-top: 40px;\n",
    "    }}\n",
    "    .info {{\n",
    "      margin-bottom: 20px;\n",
    "    }}\n",
    "    .lab {{\n",
    "      margin-top: 40px;\n",
    "      font-size: 0.95em;\n",
    "      background-color: #f0f8ff;\n",
    "      padding: 15px;\n",
    "      border-left: 6px solid #009879;\n",
    "    }}\n",
    "    .styled-table {{\n",
    "      border-collapse: collapse;\n",
    "      margin-top: 20px;\n",
    "      font-size: 1em;\n",
    "      width: 100%;\n",
    "      box-shadow: 0 0 10px rgba(0, 0, 0, 0.05);\n",
    "    }}\n",
    "    .styled-table thead tr {{\n",
    "      background-color: #009879;\n",
    "      color: #ffffff;\n",
    "      text-align: left;\n",
    "    }}\n",
    "    .styled-table th, .styled-table td {{\n",
    "      padding: 12px 15px;\n",
    "      border: 1px solid #ddd;\n",
    "      text-align: center;\n",
    "    }}\n",
    "    .styled-table tbody tr:nth-child(even) {{\n",
    "      background-color: #f3f3f3;\n",
    "    }}\n",
    "    .plotly-graph-div {{\n",
    "      width: 100% !important;\n",
    "      height: auto !important;\n",
    "    }}\n",
    "  </style>\n",
    "</head>\n",
    "<body>\n",
    "\n",
    "  <h1>Curvas de transmitancia - Café de Chiapas MG (Molienda grande)</h1> \n",
    "\n",
    "  <div class=\"info\">\n",
    "    <p><strong>Fecha:</strong> {fecha}</p>\n",
    "  </div>\n",
    "\n",
    "  {grafica_html}\n",
    "\n",
    "  <h2>Métricas espectrales por curva</h2>\n",
    "  {tabla_html}\n",
    "\n",
    "  <div>\n",
    "    <p>Las curvas de transmitancia permiten identificar la transparencia relativa de la muestra a lo largo del espectro. Una menor transmitancia puede sugerir absorción fuerte en ciertas regiones, lo cual es útil para análisis de compuestos activos presentes en el café.</p>\n",
    "  </div>\n",
    "\n",
    "  <div class=\"lab\">\n",
    "    <strong>Nombre del proyecto: CafeLab</strong><br><br>\n",
    "    <strong>Colaboradores:</strong><br>\n",
    "    Martín Rodolfo Palomino Merino – Profesor investigador, jefe responsable del laboratorio de caracterización de materiales (FCFM-BUAP).<br>\n",
    "    Lizeth Jazmín Orozco García – Colaborador principal.<br>\n",
    "    Julio Alfredo Ballinas García – Colaborador del proyecto.\n",
    "  </div>\n",
    "\n",
    "</body>\n",
    "</html>\n",
    "\"\"\"\n",
    "\n",
    "# === Guardar archivo\n",
    "with open(\"Comparativa_muestras_transmitancia.html\", \"w\", encoding=\"utf-8\") as f:\n",
    "    f.write(html_final)\n",
    "\n",
    "print(\"✅ HTML generado: Comparativa_muestras_transmitancia.html\")\n",
    "print(\"Rango de longitudes de onda:\", df['nm'].min(), \"a\", df['nm'].max())\n",
    "fig.show()"
   ]
  }
 ],
 "metadata": {
  "kernelspec": {
   "display_name": "ydata-env",
   "language": "python",
   "name": "python3"
  },
  "language_info": {
   "codemirror_mode": {
    "name": "ipython",
    "version": 3
   },
   "file_extension": ".py",
   "mimetype": "text/x-python",
   "name": "python",
   "nbconvert_exporter": "python",
   "pygments_lexer": "ipython3",
   "version": "3.11.8"
  }
 },
 "nbformat": 4,
 "nbformat_minor": 2
}
