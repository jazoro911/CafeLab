{
 "cells": [
  {
   "cell_type": "code",
   "execution_count": 1,
   "metadata": {},
   "outputs": [
    {
     "name": "stdout",
     "output_type": "stream",
     "text": [
      "Archivo 'TChMN_matrix.csv' creado con éxito\n"
     ]
    }
   ],
   "source": [
    "import pandas as pd\n",
    "import os\n",
    "import re\n",
    "\n",
    "# Detectamos los archivos .txt válidos (los que tienen datos de absorbancia)\n",
    "archivos_txt = [f for f in os.listdir() if f.endswith('.txt') and f != 'AOxMM.csv']\n",
    "\n",
    "# Función para extraer gramaje del nombre del archivo\n",
    "def extraer_gramos(nombre):\n",
    "    match = re.search(r'(\\d+_?\\d*)g', nombre)\n",
    "    if match:\n",
    "        return float(match.group(1).replace('_', '.'))\n",
    "    return float('inf')\n",
    "\n",
    "# Ordenamos los archivos por gramaje (más limpio para visualizar después)\n",
    "archivos_ordenados = sorted(archivos_txt, key=extraer_gramos)\n",
    "\n",
    "# Leemos y procesamos los archivos\n",
    "dataframes = []\n",
    "for archivo in archivos_ordenados:\n",
    "    df = pd.read_csv(archivo, sep=None, engine='python')  # autodetecta separador\n",
    "    df = df[pd.to_numeric(df.iloc[:, 0], errors='coerce').notna()]\n",
    "    \n",
    "    nombre_columna = os.path.splitext(archivo)[0]\n",
    "    df.columns = ['nm', nombre_columna]\n",
    "    df[nombre_columna] = pd.to_numeric(df[nombre_columna], errors='coerce')\n",
    "    dataframes.append(df)\n",
    "\n",
    "# Unimos los datos por la columna de longitud de onda\n",
    "df_consolidado = dataframes[0]\n",
    "for df in dataframes[1:]:\n",
    "    df_consolidado = pd.merge(df_consolidado, df, on='nm', how='outer')\n",
    "\n",
    "# Guardamos el archivo final\n",
    "df_consolidado.to_csv('TChMN_matrix.csv', index=False)\n",
    "\n",
    "print(\"Archivo 'TChMN_matrix.csv' creado con éxito\")"
   ]
  },
  {
   "cell_type": "code",
   "execution_count": 3,
   "metadata": {},
   "outputs": [],
   "source": [
    "import pandas as pd\n",
    "datos= pd.read_csv(\"TChMN_matrix.csv\")"
   ]
  },
  {
   "cell_type": "code",
   "execution_count": 4,
   "metadata": {},
   "outputs": [
    {
     "data": {
      "text/html": [
       "<div>\n",
       "<style scoped>\n",
       "    .dataframe tbody tr th:only-of-type {\n",
       "        vertical-align: middle;\n",
       "    }\n",
       "\n",
       "    .dataframe tbody tr th {\n",
       "        vertical-align: top;\n",
       "    }\n",
       "\n",
       "    .dataframe thead th {\n",
       "        text-align: right;\n",
       "    }\n",
       "</style>\n",
       "<table border=\"1\" class=\"dataframe\">\n",
       "  <thead>\n",
       "    <tr style=\"text-align: right;\">\n",
       "      <th></th>\n",
       "      <th>nm</th>\n",
       "      <th>TChMN50</th>\n",
       "      <th>TChMN05</th>\n",
       "      <th>TChMN20</th>\n",
       "      <th>TChMN</th>\n",
       "    </tr>\n",
       "  </thead>\n",
       "  <tbody>\n",
       "    <tr>\n",
       "      <th>0</th>\n",
       "      <td>390.0</td>\n",
       "      <td>NaN</td>\n",
       "      <td>NaN</td>\n",
       "      <td>NaN</td>\n",
       "      <td>NaN</td>\n",
       "    </tr>\n",
       "    <tr>\n",
       "      <th>1</th>\n",
       "      <td>391.0</td>\n",
       "      <td>NaN</td>\n",
       "      <td>NaN</td>\n",
       "      <td>NaN</td>\n",
       "      <td>NaN</td>\n",
       "    </tr>\n",
       "    <tr>\n",
       "      <th>2</th>\n",
       "      <td>392.0</td>\n",
       "      <td>NaN</td>\n",
       "      <td>NaN</td>\n",
       "      <td>NaN</td>\n",
       "      <td>NaN</td>\n",
       "    </tr>\n",
       "    <tr>\n",
       "      <th>3</th>\n",
       "      <td>393.0</td>\n",
       "      <td>NaN</td>\n",
       "      <td>NaN</td>\n",
       "      <td>NaN</td>\n",
       "      <td>NaN</td>\n",
       "    </tr>\n",
       "    <tr>\n",
       "      <th>4</th>\n",
       "      <td>394.0</td>\n",
       "      <td>21.408</td>\n",
       "      <td>60.219</td>\n",
       "      <td>38.505</td>\n",
       "      <td>45.814</td>\n",
       "    </tr>\n",
       "    <tr>\n",
       "      <th>5</th>\n",
       "      <td>395.0</td>\n",
       "      <td>22.361</td>\n",
       "      <td>59.325</td>\n",
       "      <td>38.619</td>\n",
       "      <td>46.919</td>\n",
       "    </tr>\n",
       "    <tr>\n",
       "      <th>6</th>\n",
       "      <td>396.0</td>\n",
       "      <td>23.057</td>\n",
       "      <td>56.186</td>\n",
       "      <td>40.756</td>\n",
       "      <td>50.278</td>\n",
       "    </tr>\n",
       "    <tr>\n",
       "      <th>7</th>\n",
       "      <td>397.0</td>\n",
       "      <td>22.907</td>\n",
       "      <td>58.286</td>\n",
       "      <td>41.574</td>\n",
       "      <td>51.182</td>\n",
       "    </tr>\n",
       "    <tr>\n",
       "      <th>8</th>\n",
       "      <td>398.0</td>\n",
       "      <td>23.500</td>\n",
       "      <td>62.474</td>\n",
       "      <td>42.041</td>\n",
       "      <td>51.130</td>\n",
       "    </tr>\n",
       "    <tr>\n",
       "      <th>9</th>\n",
       "      <td>399.0</td>\n",
       "      <td>24.949</td>\n",
       "      <td>61.490</td>\n",
       "      <td>42.844</td>\n",
       "      <td>50.128</td>\n",
       "    </tr>\n",
       "    <tr>\n",
       "      <th>10</th>\n",
       "      <td>400.0</td>\n",
       "      <td>25.625</td>\n",
       "      <td>59.725</td>\n",
       "      <td>43.300</td>\n",
       "      <td>49.525</td>\n",
       "    </tr>\n",
       "    <tr>\n",
       "      <th>11</th>\n",
       "      <td>401.0</td>\n",
       "      <td>25.647</td>\n",
       "      <td>61.704</td>\n",
       "      <td>44.047</td>\n",
       "      <td>51.151</td>\n",
       "    </tr>\n",
       "    <tr>\n",
       "      <th>12</th>\n",
       "      <td>402.0</td>\n",
       "      <td>26.568</td>\n",
       "      <td>64.339</td>\n",
       "      <td>43.706</td>\n",
       "      <td>52.369</td>\n",
       "    </tr>\n",
       "    <tr>\n",
       "      <th>13</th>\n",
       "      <td>403.0</td>\n",
       "      <td>28.001</td>\n",
       "      <td>64.730</td>\n",
       "      <td>42.191</td>\n",
       "      <td>53.150</td>\n",
       "    </tr>\n",
       "    <tr>\n",
       "      <th>14</th>\n",
       "      <td>404.0</td>\n",
       "      <td>29.109</td>\n",
       "      <td>63.526</td>\n",
       "      <td>42.229</td>\n",
       "      <td>55.149</td>\n",
       "    </tr>\n",
       "  </tbody>\n",
       "</table>\n",
       "</div>"
      ],
      "text/plain": [
       "       nm  TChMN50  TChMN05  TChMN20   TChMN\n",
       "0   390.0      NaN      NaN      NaN     NaN\n",
       "1   391.0      NaN      NaN      NaN     NaN\n",
       "2   392.0      NaN      NaN      NaN     NaN\n",
       "3   393.0      NaN      NaN      NaN     NaN\n",
       "4   394.0   21.408   60.219   38.505  45.814\n",
       "5   395.0   22.361   59.325   38.619  46.919\n",
       "6   396.0   23.057   56.186   40.756  50.278\n",
       "7   397.0   22.907   58.286   41.574  51.182\n",
       "8   398.0   23.500   62.474   42.041  51.130\n",
       "9   399.0   24.949   61.490   42.844  50.128\n",
       "10  400.0   25.625   59.725   43.300  49.525\n",
       "11  401.0   25.647   61.704   44.047  51.151\n",
       "12  402.0   26.568   64.339   43.706  52.369\n",
       "13  403.0   28.001   64.730   42.191  53.150\n",
       "14  404.0   29.109   63.526   42.229  55.149"
      ]
     },
     "execution_count": 4,
     "metadata": {},
     "output_type": "execute_result"
    }
   ],
   "source": [
    "datos.head(15)"
   ]
  },
  {
   "cell_type": "code",
   "execution_count": 5,
   "metadata": {},
   "outputs": [
    {
     "name": "stdout",
     "output_type": "stream",
     "text": [
      "<class 'pandas.core.frame.DataFrame'>\n",
      "RangeIndex: 361 entries, 0 to 360\n",
      "Data columns (total 5 columns):\n",
      " #   Column   Non-Null Count  Dtype  \n",
      "---  ------   --------------  -----  \n",
      " 0   nm       361 non-null    float64\n",
      " 1   TChMN50  353 non-null    float64\n",
      " 2   TChMN05  353 non-null    float64\n",
      " 3   TChMN20  353 non-null    float64\n",
      " 4   TChMN    353 non-null    float64\n",
      "dtypes: float64(5)\n",
      "memory usage: 14.2 KB\n"
     ]
    }
   ],
   "source": [
    "datos.info()"
   ]
  },
  {
   "cell_type": "code",
   "execution_count": 6,
   "metadata": {},
   "outputs": [
    {
     "data": {
      "text/html": [
       "<div>\n",
       "<style scoped>\n",
       "    .dataframe tbody tr th:only-of-type {\n",
       "        vertical-align: middle;\n",
       "    }\n",
       "\n",
       "    .dataframe tbody tr th {\n",
       "        vertical-align: top;\n",
       "    }\n",
       "\n",
       "    .dataframe thead th {\n",
       "        text-align: right;\n",
       "    }\n",
       "</style>\n",
       "<table border=\"1\" class=\"dataframe\">\n",
       "  <thead>\n",
       "    <tr style=\"text-align: right;\">\n",
       "      <th></th>\n",
       "      <th>nm</th>\n",
       "      <th>TChMN50</th>\n",
       "      <th>TChMN05</th>\n",
       "      <th>TChMN20</th>\n",
       "      <th>TChMN</th>\n",
       "    </tr>\n",
       "  </thead>\n",
       "  <tbody>\n",
       "    <tr>\n",
       "      <th>count</th>\n",
       "      <td>361.000000</td>\n",
       "      <td>353.000000</td>\n",
       "      <td>353.000000</td>\n",
       "      <td>353.000000</td>\n",
       "      <td>353.000000</td>\n",
       "    </tr>\n",
       "    <tr>\n",
       "      <th>mean</th>\n",
       "      <td>570.000000</td>\n",
       "      <td>75.912246</td>\n",
       "      <td>89.965368</td>\n",
       "      <td>82.043949</td>\n",
       "      <td>85.304714</td>\n",
       "    </tr>\n",
       "    <tr>\n",
       "      <th>std</th>\n",
       "      <td>104.355961</td>\n",
       "      <td>18.253002</td>\n",
       "      <td>9.865556</td>\n",
       "      <td>14.667684</td>\n",
       "      <td>12.467260</td>\n",
       "    </tr>\n",
       "    <tr>\n",
       "      <th>min</th>\n",
       "      <td>390.000000</td>\n",
       "      <td>21.408000</td>\n",
       "      <td>56.186000</td>\n",
       "      <td>38.505000</td>\n",
       "      <td>45.814000</td>\n",
       "    </tr>\n",
       "    <tr>\n",
       "      <th>25%</th>\n",
       "      <td>480.000000</td>\n",
       "      <td>67.357000</td>\n",
       "      <td>85.979000</td>\n",
       "      <td>75.297000</td>\n",
       "      <td>79.041000</td>\n",
       "    </tr>\n",
       "    <tr>\n",
       "      <th>50%</th>\n",
       "      <td>570.000000</td>\n",
       "      <td>83.498000</td>\n",
       "      <td>93.813000</td>\n",
       "      <td>88.566000</td>\n",
       "      <td>90.797000</td>\n",
       "    </tr>\n",
       "    <tr>\n",
       "      <th>75%</th>\n",
       "      <td>660.000000</td>\n",
       "      <td>90.000000</td>\n",
       "      <td>97.205000</td>\n",
       "      <td>93.066000</td>\n",
       "      <td>94.633000</td>\n",
       "    </tr>\n",
       "    <tr>\n",
       "      <th>max</th>\n",
       "      <td>750.000000</td>\n",
       "      <td>92.304000</td>\n",
       "      <td>98.790000</td>\n",
       "      <td>95.347000</td>\n",
       "      <td>96.291000</td>\n",
       "    </tr>\n",
       "  </tbody>\n",
       "</table>\n",
       "</div>"
      ],
      "text/plain": [
       "               nm     TChMN50     TChMN05     TChMN20       TChMN\n",
       "count  361.000000  353.000000  353.000000  353.000000  353.000000\n",
       "mean   570.000000   75.912246   89.965368   82.043949   85.304714\n",
       "std    104.355961   18.253002    9.865556   14.667684   12.467260\n",
       "min    390.000000   21.408000   56.186000   38.505000   45.814000\n",
       "25%    480.000000   67.357000   85.979000   75.297000   79.041000\n",
       "50%    570.000000   83.498000   93.813000   88.566000   90.797000\n",
       "75%    660.000000   90.000000   97.205000   93.066000   94.633000\n",
       "max    750.000000   92.304000   98.790000   95.347000   96.291000"
      ]
     },
     "execution_count": 6,
     "metadata": {},
     "output_type": "execute_result"
    }
   ],
   "source": [
    "datos.describe()"
   ]
  },
  {
   "cell_type": "code",
   "execution_count": 7,
   "metadata": {},
   "outputs": [
    {
     "data": {
      "text/plain": [
       "nm     TChMN50  TChMN05  TChMN20  TChMN \n",
       "746.0  92.040   98.051   95.338   95.964    1\n",
       "730.0  91.673   98.325   95.197   95.227    1\n",
       "729.0  91.664   98.125   95.021   94.970    1\n",
       "728.0  91.602   98.098   94.928   95.182    1\n",
       "727.0  91.350   98.396   94.560   95.338    1\n",
       "                                           ..\n",
       "399.0  24.949   61.490   42.844   50.128    1\n",
       "398.0  23.500   62.474   42.041   51.130    1\n",
       "397.0  22.907   58.286   41.574   51.182    1\n",
       "396.0  23.057   56.186   40.756   50.278    1\n",
       "395.0  22.361   59.325   38.619   46.919    1\n",
       "Name: count, Length: 353, dtype: int64"
      ]
     },
     "execution_count": 7,
     "metadata": {},
     "output_type": "execute_result"
    }
   ],
   "source": [
    "datos.value_counts()"
   ]
  },
  {
   "cell_type": "code",
   "execution_count": 8,
   "metadata": {},
   "outputs": [
    {
     "data": {
      "image/png": "[encoded data removed]",
      "text/plain": [
       "<Figure size 1200x600 with 1 Axes>"
      ]
     },
     "metadata": {},
     "output_type": "display_data"
    }
   ],
   "source": [
    "import pandas as pd\n",
    "import matplotlib.pyplot as plt\n",
    "import numpy as np\n",
    "\n",
    "# Cargamos el archivo con las mediciones de transmitancia almacenados en una matriz de datos\n",
    "df = pd.read_csv(\"TChMN_matrix.csv\")\n",
    "\n",
    "# Limpiamos datos fuera del rango de %T [0, 100]\n",
    "for columna in df.columns[1:]:\n",
    "    df[columna] = pd.to_numeric(df[columna], errors='coerce')\n",
    "    df.loc[(df[columna] < 0) | (df[columna] > 100), columna] = None\n",
    "\n",
    "# Copiamos el DataFrame limpio\n",
    "df_clean = df.copy()\n",
    "\n",
    "# Obtenemos los valores máximos de cada curva\n",
    "maximos = {\n",
    "    columna: df_clean[columna].max(skipna=True)\n",
    "    for columna in df_clean.columns[1:]\n",
    "}\n",
    "\n",
    "# Ordenamos de mayor a menor para que la leyenda coincida con las curvas\n",
    "columnas_ordenadas = sorted(maximos, key=maximos.get, reverse=True)\n",
    "\n",
    "# Creamos figura\n",
    "plt.figure(figsize=(12, 6))\n",
    "\n",
    "# Dibujamos las curvas solo con valores válidos (sin NaNs)\n",
    "for columna in columnas_ordenadas:\n",
    "    datos_validos = df_clean[['nm', columna]].dropna()\n",
    "    plt.plot(datos_validos['nm'], datos_validos[columna], label=columna)\n",
    "\n",
    "# Etiquetas y estilo (estética de los ejes)\n",
    "plt.xlabel('Longitud de onda (nm)', fontsize=12)\n",
    "plt.ylabel('Transmitancia (%T)', fontsize=12)\n",
    "plt.title('Curvas de transmitancia - Café de Chiapas MN (Molienda normal)', fontsize=14)\n",
    "plt.legend(title='Muestras (gramos)', fontsize=10)\n",
    "plt.xticks(df['nm'][::50], rotation=45)\n",
    "plt.grid(True, linestyle='--', alpha=0.6)\n",
    "plt.tight_layout()\n",
    "plt.show()"
   ]
  },
  {
   "cell_type": "code",
   "execution_count": 10,
   "metadata": {},
   "outputs": [
    {
     "name": "stdout",
     "output_type": "stream",
     "text": [
      "✅ HTML generado: Comparativa_muestras_transmitancia.html\n",
      "Rango de longitudes de onda: 390.0 a 750.0\n"
     ]
    },
    {
     "data": {
      "application/vnd.plotly.v1+json": {
       "config": {
        "plotlyServerURL": "https://plot.ly"
       },
       "data": [
        {
         "line": {
          "color": "#1f77b4"
         },
         "mode": "lines",
         "name": "TChMN50",
         "type": "scatter",
         "x": {
          "bdata": "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",
          "dtype": "f8"
         },
         "y": {
          "bdata": "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",
          "dtype": "f8"
         }
        },
        {
         "line": {
          "color": "#d62728"
         },
         "mode": "lines",
         "name": "TChMN05",
         "type": "scatter",
         "x": {
          "bdata": "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",
          "dtype": "f8"
         },
         "y": {
          "bdata": "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",
          "dtype": "f8"
         }
        },
        {
         "line": {
          "color": "#e377c2"
         },
         "mode": "lines",
         "name": "TChMN20",
         "type": "scatter",
         "x": {
          "bdata": "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",
          "dtype": "f8"
         },
         "y": {
          "bdata": "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",
          "dtype": "f8"
         }
        },
        {
         "line": {
          "color": "#17becf"
         },
         "mode": "lines",
         "name": "TChMN",
         "type": "scatter",
         "x": {
          "bdata": "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",
          "dtype": "f8"
         },
         "y": {
          "bdata": "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",
          "dtype": "f8"
         }
        }
       ],
       "layout": {
        "legend": {
         "title": {
          "text": "Curva"
         }
        },
        "margin": {
         "b": 40,
         "l": 40,
         "r": 40,
         "t": 80
        },
        "template": {
         "data": {
          "bar": [
           {
            "error_x": {
             "color": "#2a3f5f"
            },
            "error_y": {
             "color": "#2a3f5f"
            },
            "marker": {
             "line": {
              "color": "white",
              "width": 0.5
             },
             "pattern": {
              "fillmode": "overlay",
              "size": 10,
              "solidity": 0.2
             }
            },
            "type": "bar"
           }
          ],
          "barpolar": [
           {
            "marker": {
             "line": {
              "color": "white",
              "width": 0.5
             },
             "pattern": {
              "fillmode": "overlay",
              "size": 10,
              "solidity": 0.2
             }
            },
            "type": "barpolar"
           }
          ],
          "carpet": [
           {
            "aaxis": {
             "endlinecolor": "#2a3f5f",
             "gridcolor": "#C8D4E3",
             "linecolor": "#C8D4E3",
             "minorgridcolor": "#C8D4E3",
             "startlinecolor": "#2a3f5f"
            },
            "baxis": {
             "endlinecolor": "#2a3f5f",
             "gridcolor": "#C8D4E3",
             "linecolor": "#C8D4E3",
             "minorgridcolor": "#C8D4E3",
             "startlinecolor": "#2a3f5f"
            },
            "type": "carpet"
           }
          ],
          "choropleth": [
           {
            "colorbar": {
             "outlinewidth": 0,
             "ticks": ""
            },
            "type": "choropleth"
           }
          ],
          "contour": [
           {
            "colorbar": {
             "outlinewidth": 0,
             "ticks": ""
            },
            "colorscale": [
             [
              0,
              "#0d0887"
             ],
             [
              0.1111111111111111,
              "#46039f"
             ],
             [
              0.2222222222222222,
              "#7201a8"
             ],
             [
              0.3333333333333333,
              "#9c179e"
             ],
             [
              0.4444444444444444,
              "#bd3786"
             ],
             [
              0.5555555555555556,
              "#d8576b"
             ],
             [
              0.6666666666666666,
              "#ed7953"
             ],
             [
              0.7777777777777778,
              "#fb9f3a"
             ],
             [
              0.8888888888888888,
              "#fdca26"
             ],
             [
              1,
              "#f0f921"
             ]
            ],
            "type": "contour"
           }
          ],
          "contourcarpet": [
           {
            "colorbar": {
             "outlinewidth": 0,
             "ticks": ""
            },
            "type": "contourcarpet"
           }
          ],
          "heatmap": [
           {
            "colorbar": {
             "outlinewidth": 0,
             "ticks": ""
            },
            "colorscale": [
             [
              0,
              "#0d0887"
             ],
             [
              0.1111111111111111,
              "#46039f"
             ],
             [
              0.2222222222222222,
              "#7201a8"
             ],
             [
              0.3333333333333333,
              "#9c179e"
             ],
             [
              0.4444444444444444,
              "#bd3786"
             ],
             [
              0.5555555555555556,
              "#d8576b"
             ],
             [
              0.6666666666666666,
              "#ed7953"
             ],
             [
              0.7777777777777778,
              "#fb9f3a"
             ],
             [
              0.8888888888888888,
              "#fdca26"
             ],
             [
              1,
              "#f0f921"
             ]
            ],
            "type": "heatmap"
           }
          ],
          "histogram": [
           {
            "marker": {
             "pattern": {
              "fillmode": "overlay",
              "size": 10,
              "solidity": 0.2
             }
            },
            "type": "histogram"
           }
          ],
          "histogram2d": [
           {
            "colorbar": {
             "outlinewidth": 0,
             "ticks": ""
            },
            "colorscale": [
             [
              0,
              "#0d0887"
             ],
             [
              0.1111111111111111,
              "#46039f"
             ],
             [
              0.2222222222222222,
              "#7201a8"
             ],
             [
              0.3333333333333333,
              "#9c179e"
             ],
             [
              0.4444444444444444,
              "#bd3786"
             ],
             [
              0.5555555555555556,
              "#d8576b"
             ],
             [
              0.6666666666666666,
              "#ed7953"
             ],
             [
              0.7777777777777778,
              "#fb9f3a"
             ],
             [
              0.8888888888888888,
              "#fdca26"
             ],
             [
              1,
              "#f0f921"
             ]
            ],
            "type": "histogram2d"
           }
          ],
          "histogram2dcontour": [
           {
            "colorbar": {
             "outlinewidth": 0,
             "ticks": ""
            },
            "colorscale": [
             [
              0,
              "#0d0887"
             ],
             [
              0.1111111111111111,
              "#46039f"
             ],
             [
              0.2222222222222222,
              "#7201a8"
             ],
             [
              0.3333333333333333,
              "#9c179e"
             ],
             [
              0.4444444444444444,
              "#bd3786"
             ],
             [
              0.5555555555555556,
              "#d8576b"
             ],
             [
              0.6666666666666666,
              "#ed7953"
             ],
             [
              0.7777777777777778,
              "#fb9f3a"
             ],
             [
              0.8888888888888888,
              "#fdca26"
             ],
             [
              1,
              "#f0f921"
             ]
            ],
            "type": "histogram2dcontour"
           }
          ],
          "mesh3d": [
           {
            "colorbar": {
             "outlinewidth": 0,
             "ticks": ""
            },
            "type": "mesh3d"
           }
          ],
          "parcoords": [
           {
            "line": {
             "colorbar": {
              "outlinewidth": 0,
              "ticks": ""
             }
            },
            "type": "parcoords"
           }
          ],
          "pie": [
           {
            "automargin": true,
            "type": "pie"
           }
          ],
          "scatter": [
           {
            "fillpattern": {
             "fillmode": "overlay",
             "size": 10,
             "solidity": 0.2
            },
            "type": "scatter"
           }
          ],
          "scatter3d": [
           {
            "line": {
             "colorbar": {
              "outlinewidth": 0,
              "ticks": ""
             }
            },
            "marker": {
             "colorbar": {
              "outlinewidth": 0,
              "ticks": ""
             }
            },
            "type": "scatter3d"
           }
          ],
          "scattercarpet": [
           {
            "marker": {
             "colorbar": {
              "outlinewidth": 0,
              "ticks": ""
             }
            },
            "type": "scattercarpet"
           }
          ],
          "scattergeo": [
           {
            "marker": {
             "colorbar": {
              "outlinewidth": 0,
              "ticks": ""
             }
            },
            "type": "scattergeo"
           }
          ],
          "scattergl": [
           {
            "marker": {
             "colorbar": {
              "outlinewidth": 0,
              "ticks": ""
             }
            },
            "type": "scattergl"
           }
          ],
          "scattermap": [
           {
            "marker": {
             "colorbar": {
              "outlinewidth": 0,
              "ticks": ""
             }
            },
            "type": "scattermap"
           }
          ],
          "scattermapbox": [
           {
            "marker": {
             "colorbar": {
              "outlinewidth": 0,
              "ticks": ""
             }
            },
            "type": "scattermapbox"
           }
          ],
          "scatterpolar": [
           {
            "marker": {
             "colorbar": {
              "outlinewidth": 0,
              "ticks": ""
             }
            },
            "type": "scatterpolar"
           }
          ],
          "scatterpolargl": [
           {
            "marker": {
             "colorbar": {
              "outlinewidth": 0,
              "ticks": ""
             }
            },
            "type": "scatterpolargl"
           }
          ],
          "scatterternary": [
           {
            "marker": {
             "colorbar": {
              "outlinewidth": 0,
              "ticks": ""
             }
            },
            "type": "scatterternary"
           }
          ],
          "surface": [
           {
            "colorbar": {
             "outlinewidth": 0,
             "ticks": ""
            },
            "colorscale": [
             [
              0,
              "#0d0887"
             ],
             [
              0.1111111111111111,
              "#46039f"
             ],
             [
              0.2222222222222222,
              "#7201a8"
             ],
             [
              0.3333333333333333,
              "#9c179e"
             ],
             [
              0.4444444444444444,
              "#bd3786"
             ],
             [
              0.5555555555555556,
              "#d8576b"
             ],
             [
              0.6666666666666666,
              "#ed7953"
             ],
             [
              0.7777777777777778,
              "#fb9f3a"
             ],
             [
              0.8888888888888888,
              "#fdca26"
             ],
             [
              1,
              "#f0f921"
             ]
            ],
            "type": "surface"
           }
          ],
          "table": [
           {
            "cells": {
             "fill": {
              "color": "#EBF0F8"
             },
             "line": {
              "color": "white"
             }
            },
            "header": {
             "fill": {
              "color": "#C8D4E3"
             },
             "line": {
              "color": "white"
             }
            },
            "type": "table"
           }
          ]
         },
         "layout": {
          "annotationdefaults": {
           "arrowcolor": "#2a3f5f",
           "arrowhead": 0,
           "arrowwidth": 1
          },
          "autotypenumbers": "strict",
          "coloraxis": {
           "colorbar": {
            "outlinewidth": 0,
            "ticks": ""
           }
          },
          "colorscale": {
           "diverging": [
            [
             0,
             "#8e0152"
            ],
            [
             0.1,
             "#c51b7d"
            ],
            [
             0.2,
             "#de77ae"
            ],
            [
             0.3,
             "#f1b6da"
            ],
            [
             0.4,
             "#fde0ef"
            ],
            [
             0.5,
             "#f7f7f7"
            ],
            [
             0.6,
             "#e6f5d0"
            ],
            [
             0.7,
             "#b8e186"
            ],
            [
             0.8,
             "#7fbc41"
            ],
            [
             0.9,
             "#4d9221"
            ],
            [
             1,
             "#276419"
            ]
           ],
           "sequential": [
            [
             0,
             "#0d0887"
            ],
            [
             0.1111111111111111,
             "#46039f"
            ],
            [
             0.2222222222222222,
             "#7201a8"
            ],
            [
             0.3333333333333333,
             "#9c179e"
            ],
            [
             0.4444444444444444,
             "#bd3786"
            ],
            [
             0.5555555555555556,
             "#d8576b"
            ],
            [
             0.6666666666666666,
             "#ed7953"
            ],
            [
             0.7777777777777778,
             "#fb9f3a"
            ],
            [
             0.8888888888888888,
             "#fdca26"
            ],
            [
             1,
             "#f0f921"
            ]
           ],
           "sequentialminus": [
            [
             0,
             "#0d0887"
            ],
            [
             0.1111111111111111,
             "#46039f"
            ],
            [
             0.2222222222222222,
             "#7201a8"
            ],
            [
             0.3333333333333333,
             "#9c179e"
            ],
            [
             0.4444444444444444,
             "#bd3786"
            ],
            [
             0.5555555555555556,
             "#d8576b"
            ],
            [
             0.6666666666666666,
             "#ed7953"
            ],
            [
             0.7777777777777778,
             "#fb9f3a"
            ],
            [
             0.8888888888888888,
             "#fdca26"
            ],
            [
             1,
             "#f0f921"
            ]
           ]
          },
          "colorway": [
           "#636efa",
           "#EF553B",
           "#00cc96",
           "#ab63fa",
           "#FFA15A",
           "#19d3f3",
           "#FF6692",
           "#B6E880",
           "#FF97FF",
           "#FECB52"
          ],
          "font": {
           "color": "#2a3f5f"
          },
          "geo": {
           "bgcolor": "white",
           "lakecolor": "white",
           "landcolor": "white",
           "showlakes": true,
           "showland": true,
           "subunitcolor": "#C8D4E3"
          },
          "hoverlabel": {
           "align": "left"
          },
          "hovermode": "closest",
          "mapbox": {
           "style": "light"
          },
          "paper_bgcolor": "white",
          "plot_bgcolor": "white",
          "polar": {
           "angularaxis": {
            "gridcolor": "#EBF0F8",
            "linecolor": "#EBF0F8",
            "ticks": ""
           },
           "bgcolor": "white",
           "radialaxis": {
            "gridcolor": "#EBF0F8",
            "linecolor": "#EBF0F8",
            "ticks": ""
           }
          },
          "scene": {
           "xaxis": {
            "backgroundcolor": "white",
            "gridcolor": "#DFE8F3",
            "gridwidth": 2,
            "linecolor": "#EBF0F8",
            "showbackground": true,
            "ticks": "",
            "zerolinecolor": "#EBF0F8"
           },
           "yaxis": {
            "backgroundcolor": "white",
            "gridcolor": "#DFE8F3",
            "gridwidth": 2,
            "linecolor": "#EBF0F8",
            "showbackground": true,
            "ticks": "",
            "zerolinecolor": "#EBF0F8"
           },
           "zaxis": {
            "backgroundcolor": "white",
            "gridcolor": "#DFE8F3",
            "gridwidth": 2,
            "linecolor": "#EBF0F8",
            "showbackground": true,
            "ticks": "",
            "zerolinecolor": "#EBF0F8"
           }
          },
          "shapedefaults": {
           "line": {
            "color": "#2a3f5f"
           }
          },
          "ternary": {
           "aaxis": {
            "gridcolor": "#DFE8F3",
            "linecolor": "#A2B1C6",
            "ticks": ""
           },
           "baxis": {
            "gridcolor": "#DFE8F3",
            "linecolor": "#A2B1C6",
            "ticks": ""
           },
           "bgcolor": "white",
           "caxis": {
            "gridcolor": "#DFE8F3",
            "linecolor": "#A2B1C6",
            "ticks": ""
           }
          },
          "title": {
           "x": 0.05
          },
          "xaxis": {
           "automargin": true,
           "gridcolor": "#EBF0F8",
           "linecolor": "#EBF0F8",
           "ticks": "",
           "title": {
            "standoff": 15
           },
           "zerolinecolor": "#EBF0F8",
           "zerolinewidth": 2
          },
          "yaxis": {
           "automargin": true,
           "gridcolor": "#EBF0F8",
           "linecolor": "#EBF0F8",
           "ticks": "",
           "title": {
            "standoff": 15
           },
           "zerolinecolor": "#EBF0F8",
           "zerolinewidth": 2
          }
         }
        },
        "title": {
         "text": "Curvas de transmitancia - Café de Chiapas MN (Molienda normal)"
        },
        "xaxis": {
         "title": {
          "text": "Longitud de onda (nm)"
         }
        },
        "yaxis": {
         "title": {
          "text": "Transmitancia (%T)"
         }
        }
       }
      }
     },
     "metadata": {},
     "output_type": "display_data"
    }
   ],
   "source": [
    "import pandas as pd\n",
    "import numpy as np\n",
    "import plotly.graph_objects as go\n",
    "from datetime import datetime\n",
    "import matplotlib.pyplot as plt\n",
    "import matplotlib.colors as mcolors\n",
    "\n",
    "# === Cargar archivo de transmitancia ===\n",
    "ruta = \"TChMN_matrix.csv\"\n",
    "df = pd.read_csv(ruta)\n",
    "\n",
    "# === Columnas\n",
    "col_nm = [c for c in df.columns if 'nm' in c.lower()][0]\n",
    "col_transmitancia = [c for c in df.columns if c != col_nm]\n",
    "\n",
    "# === Regiones espectrales\n",
    "regiones = {\n",
    "    '100–200 nm': (100, 200),\n",
    "    '200–300 nm': (200, 300),\n",
    "    '300–400 nm': (300, 400),\n",
    "    '400–500 nm': (400, 500),\n",
    "    '500–600 nm': (500, 600),\n",
    "    '600–700 nm': (600, 700),\n",
    "    '700–800 nm': (700, 800)\n",
    "}\n",
    "\n",
    "# === Colores\n",
    "colormap_base = plt.get_cmap('tab10')\n",
    "colormap = colormap_base(np.linspace(0, 1, len(col_transmitancia)))\n",
    "colores_hex = [mcolors.to_hex(c) for c in colormap]\n",
    "\n",
    "# === Figura\n",
    "fig = go.Figure()\n",
    "fig.update_layout(\n",
    "    title=\"Curvas de transmitancia - Café de Chiapas MN (Molienda normal)\",\n",
    "    xaxis_title=\"Longitud de onda (nm)\",\n",
    "    yaxis_title=\"Transmitancia (%T)\",\n",
    "    legend_title=\"Curva\",\n",
    "    template=\"plotly_white\",\n",
    "    margin=dict(l=40, r=40, t=80, b=40),\n",
    ")\n",
    "\n",
    "# === Métricas\n",
    "metricas = []\n",
    "for i, col in enumerate(col_transmitancia):\n",
    "    datos = df[[col_nm, col]].dropna().rename(columns={col_nm: 'nm', col: 'transmitancia'})\n",
    "    datos['transmitancia'] = pd.to_numeric(datos['transmitancia'], errors='coerce')\n",
    "    datos = datos.dropna()\n",
    "    if datos.empty:\n",
    "        continue\n",
    "\n",
    "    fig.add_trace(go.Scatter(\n",
    "        x=datos['nm'],\n",
    "        y=datos['transmitancia'],\n",
    "        mode='lines',\n",
    "        name=col,\n",
    "        line=dict(color=colores_hex[i])\n",
    "    ))\n",
    "\n",
    "    max_val = datos['transmitancia'].max()\n",
    "    min_val = datos['transmitancia'].min()\n",
    "    avg = datos['transmitancia'].mean()\n",
    "    std = datos['transmitancia'].std()\n",
    "    auc = np.trapezoid(datos['transmitancia'], datos['nm'])\n",
    "    lambda_max = datos['nm'][datos['transmitancia'].idxmax()]\n",
    "    lambda_min = datos['nm'][datos['transmitancia'].idxmin()]\n",
    "\n",
    "    proms_reg = {}\n",
    "    for region, (a, b) in regiones.items():\n",
    "        reg_vals = datos.loc[(datos['nm'] >= a) & (datos['nm'] <= b), 'transmitancia']\n",
    "        proms_reg[region] = f\"{reg_vals.mean():.2f}\" if not reg_vals.empty else \"—\"\n",
    "\n",
    "    metricas.append({\n",
    "        'Color de curva': colores_hex[i],\n",
    "        'Curva': col,\n",
    "        'Máx (%T)': round(max_val, 2),\n",
    "        'Mín (%T)': round(min_val, 2),\n",
    "        'Promedio (%)': round(avg, 2),\n",
    "        'Desv. Std': round(std, 2),\n",
    "        'AUC': round(auc, 2),\n",
    "        'λ máx (nm)': round(lambda_max, 2),\n",
    "        'λ mín (nm)': round(lambda_min, 2),\n",
    "        **proms_reg\n",
    "    })\n",
    "\n",
    "# === Tabla HTML\n",
    "df_metricas = pd.DataFrame(metricas)\n",
    "tabla_html = \"<table class='styled-table'><thead><tr>\"\n",
    "for col in df_metricas.columns:\n",
    "    tabla_html += f\"<th>{col}</th>\"\n",
    "tabla_html += \"</tr></thead><tbody>\"\n",
    "for _, row in df_metricas.iterrows():\n",
    "    tabla_html += \"<tr>\"\n",
    "    for col in df_metricas.columns:\n",
    "        if col == \"Color de curva\":\n",
    "            tabla_html += f\"<td style='background-color:{row[col]};'></td>\"\n",
    "        else:\n",
    "            tabla_html += f\"<td>{row[col]}</td>\"\n",
    "    tabla_html += \"</tr>\"\n",
    "tabla_html += \"</tbody></table>\"\n",
    "\n",
    "# === HTML Final\n",
    "fecha = datetime.now().strftime('%d-%m-%Y %H:%M:%S')\n",
    "grafica_html = fig.to_html(full_html=False, include_plotlyjs='cdn')\n",
    "\n",
    "html_final = f\"\"\"\n",
    "<!DOCTYPE html>\n",
    "<html lang=\"es\">\n",
    "<head>\n",
    "  <meta charset=\"UTF-8\">\n",
    "  <title>Reporte de Transmitancia UV-Vis</title>\n",
    "  <meta name=\"viewport\" content=\"width=device-width, initial-scale=1.0\">\n",
    "  <style>\n",
    "    body {{\n",
    "      font-family: 'Segoe UI', Tahoma, sans-serif;\n",
    "      margin: 40px;\n",
    "      background-color: #fdfdfd;\n",
    "      color: #222;\n",
    "    }}\n",
    "    h1 {{\n",
    "      color: #111;\n",
    "    }}\n",
    "    h2 {{\n",
    "      margin-top: 40px;\n",
    "    }}\n",
    "    .info {{\n",
    "      margin-bottom: 20px;\n",
    "    }}\n",
    "    .lab {{\n",
    "      margin-top: 40px;\n",
    "      font-size: 0.95em;\n",
    "      background-color: #f0f8ff;\n",
    "      padding: 15px;\n",
    "      border-left: 6px solid #009879;\n",
    "    }}\n",
    "    .styled-table {{\n",
    "      border-collapse: collapse;\n",
    "      margin-top: 20px;\n",
    "      font-size: 1em;\n",
    "      width: 100%;\n",
    "      box-shadow: 0 0 10px rgba(0, 0, 0, 0.05);\n",
    "    }}\n",
    "    .styled-table thead tr {{\n",
    "      background-color: #009879;\n",
    "      color: #ffffff;\n",
    "      text-align: left;\n",
    "    }}\n",
    "    .styled-table th, .styled-table td {{\n",
    "      padding: 12px 15px;\n",
    "      border: 1px solid #ddd;\n",
    "      text-align: center;\n",
    "    }}\n",
    "    .styled-table tbody tr:nth-child(even) {{\n",
    "      background-color: #f3f3f3;\n",
    "    }}\n",
    "    .plotly-graph-div {{\n",
    "      width: 100% !important;\n",
    "      height: auto !important;\n",
    "    }}\n",
    "  </style>\n",
    "</head>\n",
    "<body>\n",
    "\n",
    "  <h1>Curvas de transmitancia - Café de Chiapas MN (Molienda normal)</h1> \n",
    "\n",
    "  <div class=\"info\">\n",
    "    <p><strong>Fecha:</strong> {fecha}</p>\n",
    "  </div>\n",
    "\n",
    "  {grafica_html}\n",
    "\n",
    "  <h2>Métricas espectrales por curva</h2>\n",
    "  {tabla_html}\n",
    "\n",
    "  <div>\n",
    "    <p>Las curvas de transmitancia permiten identificar la transparencia relativa de la muestra a lo largo del espectro. Una menor transmitancia puede sugerir absorción fuerte en ciertas regiones, lo cual es útil para análisis de compuestos activos presentes en el café.</p>\n",
    "  </div>\n",
    "\n",
    "  <div class=\"lab\">\n",
    "    <strong>Nombre del proyecto: CafeLab</strong><br><br>\n",
    "    <strong>Colaboradores:</strong><br>\n",
    "    Martín Rodolfo Palomino Merino – Profesor investigador, jefe responsable del laboratorio de caracterización de materiales (FCFM-BUAP).<br>\n",
    "    Lizeth Jazmín Orozco García – Colaborador principal.<br>\n",
    "    Julio Alfredo Ballinas García – Colaborador del proyecto.\n",
    "  </div>\n",
    "\n",
    "</body>\n",
    "</html>\n",
    "\"\"\"\n",
    "\n",
    "# === Guardar archivo\n",
    "with open(\"Comparativa_muestras_transmitancia.html\", \"w\", encoding=\"utf-8\") as f:\n",
    "    f.write(html_final)\n",
    "\n",
    "print(\"✅ HTML generado: Comparativa_muestras_transmitancia.html\")\n",
    "print(\"Rango de longitudes de onda:\", df['nm'].min(), \"a\", df['nm'].max())\n",
    "fig.show()"
   ]
  }
 ],
 "metadata": {
  "kernelspec": {
   "display_name": "ydata-env",
   "language": "python",
   "name": "python3"
  },
  "language_info": {
   "codemirror_mode": {
    "name": "ipython",
    "version": 3
   },
   "file_extension": ".py",
   "mimetype": "text/x-python",
   "name": "python",
   "nbconvert_exporter": "python",
   "pygments_lexer": "ipython3",
   "version": "3.11.8"
  }
 },
 "nbformat": 4,
 "nbformat_minor": 2
}
