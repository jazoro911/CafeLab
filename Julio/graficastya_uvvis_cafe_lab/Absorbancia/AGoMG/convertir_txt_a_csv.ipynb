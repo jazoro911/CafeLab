{
 "cells": [
  {
   "cell_type": "markdown",
   "metadata": {},
   "source": [
    "# Conversión de AGoMG.txt a .csv\n",
    "Este notebook convierte los archivos originales de absorbancia de Guerrero - AGoMG (molienda grande) de `.txt` a `.csv` sin pérdida de información"
   ]
  },
  {
   "cell_type": "code",
   "execution_count": 1,
   "metadata": {},
   "outputs": [
    {
     "name": "stdout",
     "output_type": "stream",
     "text": [
      "✅ AGoMG50.txt convertido exitosamente a AGoMG50.csv\n",
      "✅ AGoMG20.txt convertido exitosamente a AGoMG20.csv\n",
      "✅ AGoMG.txt convertido exitosamente a AGoMG.csv\n",
      "✅ AGoMG05.txt convertido exitosamente a AGoMG05.csv\n"
     ]
    }
   ],
   "source": [
    "import pandas as pd\n",
    "import os\n",
    "\n",
    "# Iteramos sobre todos los archivos .txt en el directorio actual\n",
    "for archivo in os.listdir():\n",
    "    if archivo.endswith('.txt'):\n",
    "        try:\n",
    "            nombre_csv = archivo.replace('.txt', '.csv')\n",
    "            df = pd.read_csv(archivo, sep='\\t', engine='python')\n",
    "            df.to_csv(nombre_csv, index=False)\n",
    "            print(f\"✅ {archivo} convertido exitosamente a {nombre_csv}\")\n",
    "        except Exception as e:\n",
    "            print(f\"❌ Error al convertir {archivo}: {e}\")"
   ]
  },
  {
   "cell_type": "markdown",
   "metadata": {},
   "source": []
  }
 ],
 "metadata": {
  "kernelspec": {
   "display_name": "Python 3",
   "language": "python",
   "name": "python3"
  },
  "language_info": {
   "codemirror_mode": {
    "name": "ipython",
    "version": 3
   },
   "file_extension": ".py",
   "mimetype": "text/x-python",
   "name": "python",
   "nbconvert_exporter": "python",
   "pygments_lexer": "ipython3",
   "version": "3.13.3"
  }
 },
 "nbformat": 4,
 "nbformat_minor": 2
}
