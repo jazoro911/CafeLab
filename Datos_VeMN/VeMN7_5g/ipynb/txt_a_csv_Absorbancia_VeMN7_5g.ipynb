{
 "cells": [
  {
   "cell_type": "code",
   "execution_count": 2,
   "id": "5eb81d88",
   "metadata": {},
   "outputs": [
    {
     "name": "stdout",
     "output_type": "stream",
     "text": [
      "Archivo convertido exitosamente a: Absorbancia_VeMN7_5g_limpio.csv\n"
     ]
    }
   ],
   "source": [
    "import pandas as pd\n",
    "\n",
    "ruta_txt = \"Absorbancia_VeMN7_5g.txt\"   # ajustar el nombre si el archivo se llama distinto\n",
    "ruta_csv = \"Absorbancia_VeMN7_5g_limpio.csv\"  # nombre del archivo CSV de salida\n",
    "\n",
    "# Leer el archivo .txt completo\n",
    "with open(ruta_txt, 'r') as f:\n",
    "    lineas = f.readlines()\n",
    "\n",
    "# Buscar el inicio de los datos (donde aparece 'nm A')\n",
    "for i, linea in enumerate(lineas):\n",
    "    if 'nm' in linea and 'A' in linea:\n",
    "        inicio_datos = i + 1\n",
    "        break\n",
    "\n",
    "# Extraer solo los datos\n",
    "datos = [linea.strip().split() for linea in lineas[inicio_datos:] if linea.strip()]\n",
    "\n",
    "# Convertir a DataFrame\n",
    "df = pd.DataFrame(datos, columns=['nm', 'A'])\n",
    "\n",
    "# Convertir a tipo numérico (XXX.XXX se convertirá en NaN automáticamente)\n",
    "df['nm'] = pd.to_numeric(df['nm'], errors='coerce')\n",
    "df['A'] = pd.to_numeric(df['A'], errors='coerce')\n",
    "\n",
    "# Guardar como CSV\n",
    "df.to_csv(ruta_csv, index=False)\n",
    "print(f'Archivo convertido exitosamente a: {ruta_csv}')"
   ]
  },
  {
   "cell_type": "code",
   "execution_count": null,
   "id": "5e82e4c4",
   "metadata": {},
   "outputs": [],
   "source": []
  }
 ],
 "metadata": {
  "kernelspec": {
   "display_name": "Python 3",
   "language": "python",
   "name": "python3"
  },
  "language_info": {
   "codemirror_mode": {
    "name": "ipython",
    "version": 3
   },
   "file_extension": ".py",
   "mimetype": "text/x-python",
   "name": "python",
   "nbconvert_exporter": "python",
   "pygments_lexer": "ipython3",
   "version": "3.13.1"
  }
 },
 "nbformat": 4,
 "nbformat_minor": 5
}
